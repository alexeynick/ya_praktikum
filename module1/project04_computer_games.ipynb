{
 "cells": [
  {
   "cell_type": "markdown",
   "metadata": {
    "toc": true
   },
   "source": [
    "<h1>Содержание<span class=\"tocSkip\"></span></h1>\n",
    "<div class=\"toc\"><ul class=\"toc-item\"><li><span><a href=\"#Общая-информация-о-данных\" data-toc-modified-id=\"Общая-информация-о-данных-1\"><span class=\"toc-item-num\">1&nbsp;&nbsp;</span>Общая информация о данных</a></span><ul class=\"toc-item\"><li><span><a href=\"#Состав-атрибутов\" data-toc-modified-id=\"Состав-атрибутов-1.1\"><span class=\"toc-item-num\">1.1&nbsp;&nbsp;</span>Состав атрибутов</a></span></li><li><span><a href=\"#Значения-атрибутов\" data-toc-modified-id=\"Значения-атрибутов-1.2\"><span class=\"toc-item-num\">1.2&nbsp;&nbsp;</span>Значения атрибутов</a></span></li><li><span><a href=\"#Выводы\" data-toc-modified-id=\"Выводы-1.3\"><span class=\"toc-item-num\">1.3&nbsp;&nbsp;</span>Выводы</a></span></li></ul></li><li><span><a href=\"#Предобработка-данных\" data-toc-modified-id=\"Предобработка-данных-2\"><span class=\"toc-item-num\">2&nbsp;&nbsp;</span>Предобработка данных</a></span><ul class=\"toc-item\"><li><span><a href=\"#Приведение-названий-столбцов-к-нижнему-регистру\" data-toc-modified-id=\"Приведение-названий-столбцов-к-нижнему-регистру-2.1\"><span class=\"toc-item-num\">2.1&nbsp;&nbsp;</span>Приведение названий столбцов к нижнему регистру</a></span></li><li><span><a href=\"#name---название-игры\" data-toc-modified-id=\"name---название-игры-2.2\"><span class=\"toc-item-num\">2.2&nbsp;&nbsp;</span><code>name</code> - название игры</a></span></li><li><span><a href=\"#platform---платформа\" data-toc-modified-id=\"platform---платформа-2.3\"><span class=\"toc-item-num\">2.3&nbsp;&nbsp;</span><code>platform</code> - платформа</a></span></li><li><span><a href=\"#year_of_release---год-выпуска\" data-toc-modified-id=\"year_of_release---год-выпуска-2.4\"><span class=\"toc-item-num\">2.4&nbsp;&nbsp;</span><code>year_of_release</code> - год выпуска</a></span></li><li><span><a href=\"#genre---жанр\" data-toc-modified-id=\"genre---жанр-2.5\"><span class=\"toc-item-num\">2.5&nbsp;&nbsp;</span><code>genre</code> - жанр</a></span><ul class=\"toc-item\"><li><span><a href=\"#Рассчет-суммарных-продаж\" data-toc-modified-id=\"Рассчет-суммарных-продаж-2.5.1\"><span class=\"toc-item-num\">2.5.1&nbsp;&nbsp;</span>Рассчет суммарных продаж</a></span></li></ul></li><li><span><a href=\"#Общая-оценка-рейтинговых-характеристик\" data-toc-modified-id=\"Общая-оценка-рейтинговых-характеристик-2.6\"><span class=\"toc-item-num\">2.6&nbsp;&nbsp;</span>Общая оценка рейтинговых характеристик</a></span></li><li><span><a href=\"#rating---рейтинг-от-организации-ESRB-(возрастной-рейтинг)\" data-toc-modified-id=\"rating---рейтинг-от-организации-ESRB-(возрастной-рейтинг)-2.7\"><span class=\"toc-item-num\">2.7&nbsp;&nbsp;</span><code>rating</code> - рейтинг от организации ESRB (возрастной рейтинг)</a></span></li><li><span><a href=\"#user_score---оценка-пользователей-и-critic_score---оценка-критиков\" data-toc-modified-id=\"user_score---оценка-пользователей-и-critic_score---оценка-критиков-2.8\"><span class=\"toc-item-num\">2.8&nbsp;&nbsp;</span><code>user_score</code> - оценка пользователей и <code>critic_score</code> - оценка критиков</a></span></li><li><span><a href=\"#Выводы\" data-toc-modified-id=\"Выводы-2.9\"><span class=\"toc-item-num\">2.9&nbsp;&nbsp;</span>Выводы</a></span></li></ul></li><li><span><a href=\"#Анализ-данных-о-продажах\" data-toc-modified-id=\"Анализ-данных-о-продажах-3\"><span class=\"toc-item-num\">3&nbsp;&nbsp;</span>Анализ данных о продажах</a></span><ul class=\"toc-item\"><li><span><a href=\"#Распределение-игр-по-году-выпуска\" data-toc-modified-id=\"Распределение-игр-по-году-выпуска-3.1\"><span class=\"toc-item-num\">3.1&nbsp;&nbsp;</span>Распределение игр по году выпуска</a></span></li><li><span><a href=\"#Распределение-игр-по-платформам\" data-toc-modified-id=\"Распределение-игр-по-платформам-3.2\"><span class=\"toc-item-num\">3.2&nbsp;&nbsp;</span>Распределение игр по платформам</a></span></li><li><span><a href=\"#Распределение-игр-по-жанрам\" data-toc-modified-id=\"Распределение-игр-по-жанрам-3.3\"><span class=\"toc-item-num\">3.3&nbsp;&nbsp;</span>Распределение игр по жанрам</a></span></li><li><span><a href=\"#Влияние-рейтингов-на-продажи\" data-toc-modified-id=\"Влияние-рейтингов-на-продажи-3.4\"><span class=\"toc-item-num\">3.4&nbsp;&nbsp;</span>Влияние рейтингов на продажи</a></span><ul class=\"toc-item\"><li><span><a href=\"#PS3\" data-toc-modified-id=\"PS3-3.4.1\"><span class=\"toc-item-num\">3.4.1&nbsp;&nbsp;</span>PS3</a></span></li><li><span><a href=\"#PS4\" data-toc-modified-id=\"PS4-3.4.2\"><span class=\"toc-item-num\">3.4.2&nbsp;&nbsp;</span>PS4</a></span></li><li><span><a href=\"#Все-платформы\" data-toc-modified-id=\"Все-платформы-3.4.3\"><span class=\"toc-item-num\">3.4.3&nbsp;&nbsp;</span>Все платформы</a></span></li></ul></li><li><span><a href=\"#Выводы\" data-toc-modified-id=\"Выводы-3.5\"><span class=\"toc-item-num\">3.5&nbsp;&nbsp;</span>Выводы</a></span></li></ul></li><li><span><a href=\"#Составление-портрета-пользователя\" data-toc-modified-id=\"Составление-портрета-пользователя-4\"><span class=\"toc-item-num\">4&nbsp;&nbsp;</span>Составление портрета пользователя</a></span><ul class=\"toc-item\"><li><span><a href=\"#Различия-в-популярности-платформ-по-регионам\" data-toc-modified-id=\"Различия-в-популярности-платформ-по-регионам-4.1\"><span class=\"toc-item-num\">4.1&nbsp;&nbsp;</span>Различия в популярности платформ по регионам</a></span></li><li><span><a href=\"#Различия-в-популярности-жанров-по-регионам\" data-toc-modified-id=\"Различия-в-популярности-жанров-по-регионам-4.2\"><span class=\"toc-item-num\">4.2&nbsp;&nbsp;</span>Различия в популярности жанров по регионам</a></span></li><li><span><a href=\"#Доли-продаж-игр-различных-возрастных-рейтингов-по-регионам\" data-toc-modified-id=\"Доли-продаж-игр-различных-возрастных-рейтингов-по-регионам-4.3\"><span class=\"toc-item-num\">4.3&nbsp;&nbsp;</span>Доли продаж игр различных возрастных рейтингов по регионам</a></span></li><li><span><a href=\"#Выводы\" data-toc-modified-id=\"Выводы-4.4\"><span class=\"toc-item-num\">4.4&nbsp;&nbsp;</span>Выводы</a></span></li></ul></li><li><span><a href=\"#Проверка-статистических-гипотез\" data-toc-modified-id=\"Проверка-статистических-гипотез-5\"><span class=\"toc-item-num\">5&nbsp;&nbsp;</span>Проверка статистических гипотез</a></span><ul class=\"toc-item\"><li><span><a href=\"#Гипотеза-о-средних-пользовательских-рейтингах-платформ-Xbox-One-и-PC\" data-toc-modified-id=\"Гипотеза-о-средних-пользовательских-рейтингах-платформ-Xbox-One-и-PC-5.1\"><span class=\"toc-item-num\">5.1&nbsp;&nbsp;</span>Гипотеза о средних пользовательских рейтингах платформ Xbox One и PC</a></span></li><li><span><a href=\"#Гипотеза-о-средних-пользовательских-рейтингах-жанров-Action-и-Sports\" data-toc-modified-id=\"Гипотеза-о-средних-пользовательских-рейтингах-жанров-Action-и-Sports-5.2\"><span class=\"toc-item-num\">5.2&nbsp;&nbsp;</span>Гипотеза о средних пользовательских рейтингах жанров Action и Sports</a></span></li><li><span><a href=\"#Выводы\" data-toc-modified-id=\"Выводы-5.3\"><span class=\"toc-item-num\">5.3&nbsp;&nbsp;</span>Выводы</a></span></li></ul></li><li><span><a href=\"#Выводы\" data-toc-modified-id=\"Выводы-6\"><span class=\"toc-item-num\">6&nbsp;&nbsp;</span>Выводы</a></span></li></ul></div>"
   ]
  },
  {
   "cell_type": "markdown",
   "metadata": {},
   "source": [
    "# Выявление факторов, определяющих успешность компьютерных игр, и прогнозирование продаж на 2017 год\n",
    "\n",
    "**«Стримчик» — интернет-магазин по worldwide продаже компьютерных игр**\n",
    "\n",
    "Исследование проводится на основе исторических данных из открытых источников о продажах игр, оценках пользователей и экспертов, жанрах и платформах (например, Xbox или PlayStation). Данные представлены за период до 2016 года (за 2016 год - данные неполные). \n",
    "\n",
    "Цель исследования - выявить определяющие успешность игры закономерности, что позволит сделать ставку на потенциально популярный продукт и спланировать рекламные кампании на 2017 год.\n",
    "\n",
    "**Задачи исследования:**\n",
    "\n",
    "- анализ представленных данных о продажах, выявление закономерностей в продажах в зависимости от платформы и игрового жанра\n",
    "- определение актуального временного периода для прогнозирования продаж на 2017 год\n",
    "- оценка корреляции рейтингов пользователей и экспертов и коммерческого успеха игры\n",
    "- выявление особенностей региональных рынков (Европа, Северная Америка, Япония)\n",
    "- сравнительная оценка пользовательских рейтингов платформ Xbox One и PC\n",
    "- сравнительная оценка пользовательских рейтингов жанров Action и Sports \n",
    "\n"
   ]
  },
  {
   "cell_type": "markdown",
   "metadata": {},
   "source": [
    "## Общая информация о данных"
   ]
  },
  {
   "cell_type": "code",
   "execution_count": null,
   "metadata": {},
   "outputs": [],
   "source": [
    "import pandas as pd\n",
    "import plotly.express as px\n",
    "import plotly.graph_objects as go\n",
    "from plotly.graph_objs import *\n",
    "import matplotlib.pyplot as plt \n",
    "from plotly.subplots import make_subplots\n",
    "import re\n",
    "import numpy as np\n",
    "from scipy import stats as st\n",
    "\n",
    "from pymystem3 import Mystem\n",
    "from collections import Counter"
   ]
  },
  {
   "cell_type": "code",
   "execution_count": null,
   "metadata": {
    "scrolled": true
   },
   "outputs": [],
   "source": [
    "df_games = pd.read_csv('datasets/games.csv', sep=',')\n",
    "\n",
    "df_games.head(10)"
   ]
  },
  {
   "cell_type": "markdown",
   "metadata": {},
   "source": [
    "### Состав атрибутов\n",
    "\n",
    "По имеющейся от источника информации в таблице содержатся значения в следующих атрибутах:\n",
    "- Name — название игры\n",
    "- Platform — платформа\n",
    "- Year_of_Release — год выпуска\n",
    "- Genre — жанр игры\n",
    "- NA_sales — продажи в Северной Америке (миллионы проданных копий)\n",
    "- EU_sales — продажи в Европе (миллионы проданных копий)\n",
    "- JP_sales — продажи в Японии (миллионы проданных копий)\n",
    "- Other_sales — продажи в других странах (миллионы проданных копий)\n",
    "- Critic_Score — оценка критиков (максимум 100)\n",
    "- User_Score — оценка пользователей (максимум 10)\n",
    "- Rating — рейтинг от организации ESRB (англ. Entertainment Software Rating Board). Эта ассоциация определяет рейтинг компьютерных игр и присваивает им подходящую возрастную категорию (например, «Для взрослых», «Для детей младшего возраста» или «Для подростков»)\n",
    "\n",
    "Данные за 2016 год могут быть неполными.\n",
    "\n",
    "Подробнее посмотрим общую информацию об атрибутах таблицы:"
   ]
  },
  {
   "cell_type": "code",
   "execution_count": null,
   "metadata": {},
   "outputs": [],
   "source": [
    "df_games.info()"
   ]
  },
  {
   "cell_type": "markdown",
   "metadata": {},
   "source": [
    "Состав атрибутов совпадает с полученным описанием. Для удобства работы следует сделать приведение названий атрибутов к нижнему регистру.\n",
    "\n",
    "В таблице представлено 16715 записей об играх, их продажах и рейтингах.\n",
    "\n",
    "В таблице 5 вещественных и 5 строковых атрибутов.\n",
    "\n",
    "В атрибутах есть пропуски значений - в основном это рейтинговые атрибуты. Есть небольшое число пропусков в значениях жанра, года выпуска и названия игры - их общая доля ~1.5%, необходимо провести оценку их примененимости в рамках исследования. \n",
    "\n",
    "Требуется приведение типов отдельных атрибутов: из вещественного в целочисленный (например, `Year_of_Release` - год выпуска), из строкового в вещественный (например, `User_Score` — оценка пользователей), а также выделение категорий данных (`Platform` — платформа, `Genre` - жанр).\n",
    "\n",
    "Возможно также потребуется приведение к единой шкале рейтинговых атрибутов: `Critic_Score` — оценка критиков (максимум 100) и\n",
    "`User_Score` — оценка пользователей (максимум 10)."
   ]
  },
  {
   "cell_type": "markdown",
   "metadata": {},
   "source": [
    "### Значения атрибутов\n",
    "\n",
    "Подробнее посмотрим общую информацию о значениях атрибутов."
   ]
  },
  {
   "cell_type": "code",
   "execution_count": null,
   "metadata": {},
   "outputs": [],
   "source": [
    "df_games.describe()"
   ]
  },
  {
   "cell_type": "markdown",
   "metadata": {},
   "source": [
    "По годам данные представлены за период с 1980 по 2016. \n",
    "\n",
    "В атрибутах числа продаж по регионам аномалий не обнаружено. Вместе с тем, очевидно наличие достаточно большого количества записей с 0 в качестве значения числа продаж. В дальнейшем следует оценить долю записей с 0 в значениях продаж по всем регионам и, возможно, исключить их из рассмотрения.\n",
    "\n",
    "В рейтинге критиков значения представлены в диапазоне от 13 до 98. Значения пользовательского рейтинга будут рассмотрены ниже, при выполнении соответствующей операции приведения типов данных."
   ]
  },
  {
   "cell_type": "markdown",
   "metadata": {},
   "source": [
    "<a id=\"step-1-result\"></a>\n",
    "### Выводы\n",
    "\n",
    "В таблице представлено 16715 записей об играх, их продажах и рейтингах.\n",
    "\n",
    "В таблице представлены вещественные и строковые атрибуты, часть атрибутов требует приведения типов данных.\n",
    "\n",
    "В атрибутах есть пропуски значений - в основном это рейтинговые атрибуты. Есть небольшое число пропусков в значениях жанра, года выпуска и названия игры - их общая доля ~1.5%, необходимо провести оценку их примененимости в рамках исследования.\n",
    "\n",
    "Аномальные значения атрибутов отсуствуют, но вместе с тем требуется приведение рейтинговых атрибутов к единой шкале оценки.\n",
    "\n",
    "Пропуски в рейтинговых атрибутах могут быть связаны как с периодом выпуска игр (поскольку данные представлены начиная с 1980 года - для многих игр на тот период систем рейтинговых оценок могло не существовать), так и, например, с небольшим тиражом игр (игры, не получившие широкого распространения, имеют бОльшую вероятность остаться без оценок/рейтингов)\n",
    "    \n",
    "Пропуски в атрибуте года выспуска вероятно связаны с ошибками при получении данных (ошибками в исходных данных). Возможно для части игр точные данные о годе выпуска просто неизвестны. "
   ]
  },
  {
   "cell_type": "markdown",
   "metadata": {},
   "source": [
    "## Предобработка данных"
   ]
  },
  {
   "cell_type": "markdown",
   "metadata": {},
   "source": [
    "### Приведение названий столбцов к нижнему регистру\n",
    "\n",
    "Выполним приведение названий столбцов таблицы `games` к нижнему регистру."
   ]
  },
  {
   "cell_type": "code",
   "execution_count": null,
   "metadata": {},
   "outputs": [],
   "source": [
    "df_games.columns = df_games.columns.str.lower()\n",
    "df_games.columns"
   ]
  },
  {
   "cell_type": "markdown",
   "metadata": {},
   "source": [
    "**Последовательно рассмотрим атрибуты таблицы `games`.**"
   ]
  },
  {
   "cell_type": "markdown",
   "metadata": {},
   "source": [
    "### `name` - название игры\n",
    "\n",
    "Рассмотрим записи с пропусками в атрибуте `name`"
   ]
  },
  {
   "cell_type": "code",
   "execution_count": null,
   "metadata": {},
   "outputs": [],
   "source": [
    "df_games[df_games['name'].isnull()]"
   ]
  },
  {
   "cell_type": "markdown",
   "metadata": {},
   "source": [
    "Указанные записи можно исключить из рассмотрения, поскольку в них помимо названия не указаны и прочие значимые атрибуты - жанр, рейтинги."
   ]
  },
  {
   "cell_type": "code",
   "execution_count": null,
   "metadata": {},
   "outputs": [],
   "source": [
    "df_games = df_games[df_games['name'].notnull()]"
   ]
  },
  {
   "cell_type": "markdown",
   "metadata": {},
   "source": [
    "Удалим лишние пробелы в названиях игр."
   ]
  },
  {
   "cell_type": "code",
   "execution_count": null,
   "metadata": {},
   "outputs": [],
   "source": [
    "df_games['name'] = df_games['name'].str.strip()"
   ]
  },
  {
   "cell_type": "markdown",
   "metadata": {},
   "source": [
    "### `platform` - платформа\n",
    "\n",
    "Рассмотрим значения атрибута `platform`"
   ]
  },
  {
   "cell_type": "code",
   "execution_count": null,
   "metadata": {},
   "outputs": [],
   "source": [
    "df_games_platform = df_games['platform'].value_counts().to_frame().reset_index()\n",
    "df_games_platform.columns = ['platform', 'count']\n",
    "df_games_platform.head(5)"
   ]
  },
  {
   "cell_type": "markdown",
   "metadata": {},
   "source": [
    "Построим график распространенности представленных игровых платформ."
   ]
  },
  {
   "cell_type": "code",
   "execution_count": null,
   "metadata": {},
   "outputs": [],
   "source": [
    "fig = px.bar(\n",
    "    df_games_platform, \n",
    "    x = 'platform', \n",
    "    y = 'count',\n",
    "    title='Игровые платформы по убыванию количества игр',\n",
    "    labels={\n",
    "        \"platform\": \"Игровая платформа\",\n",
    "        \"count\": \"Количество игр\"\n",
    "    }\n",
    ")\n",
    "fig.show()"
   ]
  },
  {
   "cell_type": "markdown",
   "metadata": {},
   "source": [
    "Наибольшее количество игр представлено для игровых следующих платформ: PS2, DS, PS3, WII, X360, PSP, PS.\n",
    "В конце графика представлены платформы, общее количество выпущенных игр на которых менее 1% от представленного объема данных. \n",
    "Рассмотрим эти данные."
   ]
  },
  {
   "cell_type": "code",
   "execution_count": null,
   "metadata": {
    "scrolled": true
   },
   "outputs": [],
   "source": [
    "df_platfrom_tail = df_games_platform['platform'].tail(8)\n",
    "df_games.query('platform in @df_platfrom_tail')"
   ]
  },
  {
   "cell_type": "markdown",
   "metadata": {},
   "source": [
    "В основном на этих непопулярных платформах игры выпуска до 2000 года, бОльшая часть из которых продавалась на японском рынке. Рейтинговых данных по указанным играм нет. Можем исключить эти игры из дальнейшего рассмотрения."
   ]
  },
  {
   "cell_type": "code",
   "execution_count": null,
   "metadata": {},
   "outputs": [],
   "source": [
    "df_games = df_games.query('platform not in @df_platfrom_tail')"
   ]
  },
  {
   "cell_type": "markdown",
   "metadata": {},
   "source": [
    "Теперь выполним преобразование атрибута `platform` в категориальный тип данных."
   ]
  },
  {
   "cell_type": "code",
   "execution_count": null,
   "metadata": {
    "scrolled": true
   },
   "outputs": [],
   "source": [
    "df_games.loc[:, 'platform'] = df_games['platform'].astype('category')\n",
    "df_games['platform'].value_counts().head(5)"
   ]
  },
  {
   "cell_type": "markdown",
   "metadata": {},
   "source": [
    "### `year_of_release` - год выпуска\n",
    "\n",
    "Рассмотрим значения атрибута `year_of_release`"
   ]
  },
  {
   "cell_type": "code",
   "execution_count": null,
   "metadata": {
    "scrolled": true
   },
   "outputs": [],
   "source": [
    "df_games['year_of_release'].describe()"
   ]
  },
  {
   "cell_type": "markdown",
   "metadata": {},
   "source": [
    "Значения года выпуска лежат в диапазоне 1980-2016. Рассмотрим записи об играх, для которых год выпуска не указан."
   ]
  },
  {
   "cell_type": "code",
   "execution_count": null,
   "metadata": {},
   "outputs": [],
   "source": [
    "df_games[df_games['year_of_release'].isnull()]"
   ]
  },
  {
   "cell_type": "markdown",
   "metadata": {},
   "source": [
    "Среди указанных игр можно выделить группу, для которых в названии указан год (обычно в этом случае игра выпускается в этот или предыдущий год). Выделим эти игры."
   ]
  },
  {
   "cell_type": "code",
   "execution_count": null,
   "metadata": {},
   "outputs": [],
   "source": [
    "game_names = df_games[df_games['year_of_release'].isnull()]['name'].unique()\n",
    "game_names[:50]"
   ]
  },
  {
   "cell_type": "markdown",
   "metadata": {},
   "source": [
    "Выделим из указанных названий леммы, соответствующие возможным шаблонам написания года: \n",
    "- 20хх (например, 'Sega Rally 2006')\n",
    "- 2Kx (например, 'Major League Baseball 2K8')\n",
    "- хх (например, 'Madden NFL 06')"
   ]
  },
  {
   "cell_type": "code",
   "execution_count": null,
   "metadata": {},
   "outputs": [],
   "source": [
    "mys = Mystem()"
   ]
  },
  {
   "cell_type": "code",
   "execution_count": null,
   "metadata": {},
   "outputs": [],
   "source": [
    "lemmas = mys.lemmatize(' '.join(game_names))\n",
    "\n",
    "dict_years = {}\n",
    "\n",
    "for lemma in Counter(lemmas).most_common():\n",
    "    if (re.match('20\\d{2}', lemma[0])):\n",
    "        dict_years[lemma[0]] = int(lemma[0])\n",
    "    elif (re.match('2K\\d', lemma[0])):\n",
    "        dict_years[lemma[0]] = 2000 + int(lemma[0][2])\n",
    "    elif (re.match('\\d{2}', lemma[0])):\n",
    "        dict_years[lemma[0]] = 2000 + int(lemma[0])\n",
    "\n",
    "dict_years"
   ]
  },
  {
   "cell_type": "code",
   "execution_count": null,
   "metadata": {},
   "outputs": [],
   "source": [
    "dict_years.pop('20', None)\n",
    "dict_years.pop('48', None)\n",
    "dict_years.pop('64', None)\n",
    "dict_years.pop('500', None)\n",
    "dict_years['99'] = 1999\n",
    "\n",
    "dict_years"
   ]
  },
  {
   "cell_type": "code",
   "execution_count": null,
   "metadata": {},
   "outputs": [],
   "source": [
    "# функция возвращает целочисленное значение выпуска по строке с названием игры на основе выделения лемм в названии\n",
    "# game_name - название игры\n",
    "# при отсутствии в словаре - возврат значения NaN (для последующего заполнения)\n",
    "\n",
    "def find_year_by_name(game_name)->int:\n",
    "    for lemma in mys.lemmatize(game_name):\n",
    "        if (lemma in dict_years):\n",
    "            return dict_years[lemma]\n",
    "        \n",
    "    return np.nan        "
   ]
  },
  {
   "cell_type": "markdown",
   "metadata": {},
   "source": [
    "Выполним вставку года выпуска на основе полученных из названий игр сведений."
   ]
  },
  {
   "cell_type": "code",
   "execution_count": null,
   "metadata": {},
   "outputs": [],
   "source": [
    "df_games.loc[df_games['year_of_release'].isnull(), 'year_of_release'] = \\\n",
    "    df_games[df_games['year_of_release'].isnull()].apply(\n",
    "        lambda row: find_year_by_name(row['name']),\n",
    "        axis=1\n",
    "    )"
   ]
  },
  {
   "cell_type": "markdown",
   "metadata": {},
   "source": [
    "Для оставшихся записей об играх, для которых не указан год выпуска, сделаем замену на основе медианного значения года выпуска для указанной платформы (из всех представленных характеристик платформа в наибольшей степени отражает временной период, когда игра могла быть выпущена)."
   ]
  },
  {
   "cell_type": "code",
   "execution_count": null,
   "metadata": {},
   "outputs": [],
   "source": [
    "df_platform_year = df_games.groupby('platform')['year_of_release'].median().reset_index()\n",
    "df_platform_year"
   ]
  },
  {
   "cell_type": "code",
   "execution_count": null,
   "metadata": {},
   "outputs": [],
   "source": [
    "# функция возвращает целочисленное значение выпуска по строке с названием игры на основе выделения лемм в названии\n",
    "# game_name - название игры\n",
    "# при отсутствии в словаре - возврат значения NaN (для последующего заполнения)\n",
    "\n",
    "def find_year_by_platfrom(platform)->float:\n",
    "    median_group = df_platform_year.query('platform == @platform')['year_of_release']\n",
    "    \n",
    "    if median_group.empty:\n",
    "        return np.nan\n",
    "    else:\n",
    "        return median_group.values[0]      "
   ]
  },
  {
   "cell_type": "code",
   "execution_count": null,
   "metadata": {},
   "outputs": [],
   "source": [
    "df_games.loc[df_games['year_of_release'].isnull(), 'year_of_release'] = \\\n",
    "    df_games[df_games['year_of_release'].isnull()].apply(\n",
    "        lambda row: find_year_by_platfrom(row['platform']),\n",
    "        axis=1\n",
    "    )"
   ]
  },
  {
   "cell_type": "markdown",
   "metadata": {},
   "source": [
    "Проверим, что пропусков в значениях года выпуска не осталось."
   ]
  },
  {
   "cell_type": "code",
   "execution_count": null,
   "metadata": {},
   "outputs": [],
   "source": [
    "df_games[df_games['year_of_release'].isnull()]['year_of_release'].count()"
   ]
  },
  {
   "cell_type": "markdown",
   "metadata": {},
   "source": [
    "Приведем тип данных атрибута `year_of_release` к целочисленному."
   ]
  },
  {
   "cell_type": "code",
   "execution_count": null,
   "metadata": {},
   "outputs": [],
   "source": [
    "df_games.loc[:, 'year_of_release'] = df_games['year_of_release'].astype('int')"
   ]
  },
  {
   "cell_type": "markdown",
   "metadata": {},
   "source": [
    "Отобразим на гистограмме количество выпущенных игр в зависимости от года"
   ]
  },
  {
   "cell_type": "code",
   "execution_count": null,
   "metadata": {},
   "outputs": [],
   "source": [
    "fig = px.histogram(\n",
    "    df_games, \n",
    "    x = 'year_of_release', \n",
    "    marginal = 'box', \n",
    "    title = 'Распределение игр по году выпуска'\n",
    ")\n",
    "\n",
    "fig.update_layout(xaxis_title=\"Год\", yaxis_title=\"Число игр\")\n",
    "fig.show()"
   ]
  },
  {
   "cell_type": "markdown",
   "metadata": {},
   "source": [
    "В представленном наборе данных игры с годом выпуска ранее 1993 можно отнести к зоне \"выбросов\" и сразу исключить из рассмотрения. Медианным годом является 2007, правая граница межквартильного размаха - 2010 год, пик по количеству выпущенных игр - 2008-2009 годы."
   ]
  },
  {
   "cell_type": "code",
   "execution_count": null,
   "metadata": {},
   "outputs": [],
   "source": [
    "df_games = df_games.query('year_of_release >= 1993')"
   ]
  },
  {
   "cell_type": "markdown",
   "metadata": {},
   "source": [
    "### `genre` - жанр\n",
    "\n",
    "Рассмотрим значения атрибута `genre`"
   ]
  },
  {
   "cell_type": "code",
   "execution_count": null,
   "metadata": {},
   "outputs": [],
   "source": [
    "df_games_genre = df_games['genre'].value_counts().to_frame().reset_index()\n",
    "df_games_genre.columns = ['genre', 'count']\n",
    "df_games_genre.head(5)"
   ]
  },
  {
   "cell_type": "markdown",
   "metadata": {},
   "source": [
    "Построим график распространенности представленных игровых жанров."
   ]
  },
  {
   "cell_type": "code",
   "execution_count": null,
   "metadata": {},
   "outputs": [],
   "source": [
    "fig = px.bar(\n",
    "    df_games_genre, \n",
    "    x = 'genre', \n",
    "    y = 'count',\n",
    "    title='Игровые жанры по убыванию количества игр',\n",
    "    labels={\n",
    "        \"genre\": \"Жанр\",\n",
    "        \"count\": \"Количество игр\"\n",
    "    }\n",
    ")\n",
    "fig.show()"
   ]
  },
  {
   "cell_type": "markdown",
   "metadata": {},
   "source": [
    "Наиболее распространенными являются следующие жанры:\n",
    "- Action - Экшен: жанр, в которых успех игрока в большой степени зависит от его скорости реакции и способности быстро принимать тактические решения. Действие таких игр развивается очень динамично и требует напряжения внимания и быстрой реакции на происходящие в игре события.\n",
    "- Sports - Спортивные симуляторы: жанр, основная задача которого заключается в имитации какой-либо спортивной игры.\n",
    "- Misc (Miscellaneous game) - Смешанный класс: без возможности отнесения к одному из остальных классов.\n",
    "- Role-Playing - Ролевая игра, РПГ: жанр, основанный на элементах игрового процесса традиционных настольных ролевых игр. Одним из характерных элементов игрового процесса является повышение возможностей персонажей за счёт улучшения их параметров и изучения новых способностей.\n",
    "- Adventure - Приключение: игра-повествование в которой управляемый игроком герой продвигается по сюжету и взаимодействует с игровым миром посредством применения предметов, общения с другими персонажами и решения логических задач.\n",
    "- Shooter - Шутер, \"стрелялка\": жанр, в котором игровой процесс основывается на сражениях с использованием огнестрельного и метательного оружия с видом от первого лица: игрок воспринимает происходящее глазами главного героя.\n",
    "\n",
    "Целесообразно провести преобразование атрибута `genre` в категориальный тип данных."
   ]
  },
  {
   "cell_type": "code",
   "execution_count": null,
   "metadata": {},
   "outputs": [],
   "source": [
    "df_games.loc[:, 'genre'] = df_games['genre'].astype('category')\n",
    "df_games['genre'].value_counts().head(5)"
   ]
  },
  {
   "cell_type": "markdown",
   "metadata": {},
   "source": [
    "<a id=\"step-2-total-sales\"></a>\n",
    "#### Рассчет суммарных продаж\n",
    "\n",
    "Рассчитаем атрибут суммарных продаж по регионам и оценим распределение этого параметра."
   ]
  },
  {
   "cell_type": "code",
   "execution_count": null,
   "metadata": {},
   "outputs": [],
   "source": [
    "df_games['total_sales'] = df_games['na_sales'] + df_games['eu_sales'] + df_games['jp_sales'] + df_games['other_sales']"
   ]
  },
  {
   "cell_type": "code",
   "execution_count": null,
   "metadata": {
    "scrolled": true
   },
   "outputs": [],
   "source": [
    "df_games['total_sales'].describe()"
   ]
  },
  {
   "cell_type": "markdown",
   "metadata": {},
   "source": [
    "Проверим, есть ли в представленных данных игры с нулевым значением продаж."
   ]
  },
  {
   "cell_type": "code",
   "execution_count": null,
   "metadata": {
    "scrolled": true
   },
   "outputs": [],
   "source": [
    "df_games.query('total_sales < 0.01')"
   ]
  },
  {
   "cell_type": "markdown",
   "metadata": {},
   "source": [
    "Да, такие записи есть - нули могут быть следствием округления при экспорте данных. В любом случае можно считать, что доля продаж таких игр пренебрежимо мала, удаляем их из рассмотрения."
   ]
  },
  {
   "cell_type": "code",
   "execution_count": null,
   "metadata": {},
   "outputs": [],
   "source": [
    "df_games.query('total_sales > 0.00')"
   ]
  },
  {
   "cell_type": "code",
   "execution_count": null,
   "metadata": {},
   "outputs": [],
   "source": [
    "fig = px.histogram(\n",
    "    df_games,\n",
    "    x = 'total_sales', \n",
    "    marginal = 'box', \n",
    "    title = 'Распределение объема продаж'\n",
    ")\n",
    "\n",
    "fig.update_layout(xaxis_title=\"Объем продаж (млн копий)\", yaxis_title=\"Количество игр\")\n",
    "fig.show()"
   ]
  },
  {
   "cell_type": "markdown",
   "metadata": {},
   "source": [
    "На графике видно, что основная часть игр продается объемом менее 1.5 млн копий по всем регионам. К категории игр-бестселлеров можно отнести игры с объемом продаж более 10 млн - из всей выборки их доля составляет менее 0.5%."
   ]
  },
  {
   "cell_type": "code",
   "execution_count": null,
   "metadata": {
    "scrolled": true
   },
   "outputs": [],
   "source": [
    "df_games.query('total_sales > 10').sort_values(by='total_sales', ascending=False)"
   ]
  },
  {
   "cell_type": "code",
   "execution_count": null,
   "metadata": {},
   "outputs": [],
   "source": [
    "fig = px.histogram(\n",
    "    df_games.query('total_sales < 2'), \n",
    "    x = 'total_sales', \n",
    "    marginal = 'box', \n",
    "    title = 'Распределение объема продаж (игры с продажами менее 2 млн копий)'\n",
    ")\n",
    "\n",
    "fig.update_layout(xaxis_title=\"Объем продаж (млн копий)\", yaxis_title=\"Количество игр\")\n",
    "fig.show()"
   ]
  },
  {
   "cell_type": "markdown",
   "metadata": {},
   "source": [
    "Распределение объема продаж близко к распределению Пуассона с пиком в районе 20-50 тыс. копий. К сожалению, в исходных данных отсутствуют сведения о себестоимости или окупаемости игр. В грубой оценке к коммерчески успешным можно отнести игры с продажами более 400 тыс копий (верхняя четверть от всего объема)."
   ]
  },
  {
   "cell_type": "markdown",
   "metadata": {},
   "source": [
    "### Общая оценка рейтинговых характеристик\n",
    "\n",
    "В исходных данных представлены 3 рейтинговых атрибута:\n",
    "- critic_score — оценка критиков (максимум 100)\n",
    "- user_score — оценка пользователей (максимум 10)\n",
    "- rating — рейтинг от организации ESRB (Entertainment Software Rating Board). Эта ассоциация определяет рейтинг компьютерных игр и присваивает им подходящую возрастную категорию (например, «Для взрослых», «Для детей младшего возраста» или «Для подростков»)\n",
    "\n",
    "В значениях указанных атрибутов имеются пропуски. Оценим записи с пропусками во всех трех атрибутах."
   ]
  },
  {
   "cell_type": "code",
   "execution_count": null,
   "metadata": {},
   "outputs": [],
   "source": [
    "df_games['rated'] = ~ (df_games['user_score'].isnull() & df_games['critic_score'].isnull() & df_games['rating'].isnull())"
   ]
  },
  {
   "cell_type": "code",
   "execution_count": null,
   "metadata": {},
   "outputs": [],
   "source": [
    "df_games[df_games['rated'] == False]"
   ]
  },
  {
   "cell_type": "markdown",
   "metadata": {},
   "source": [
    "Доля записей с пропусками во всех рейтинговых атрибутах ~ 37%. Оценим распределение этих игр (без рейтинга) относительно всего объема данных."
   ]
  },
  {
   "cell_type": "code",
   "execution_count": null,
   "metadata": {},
   "outputs": [],
   "source": [
    "fig = px.histogram(\n",
    "    df_games.query('total_sales < 2'), \n",
    "    x = 'total_sales', \n",
    "    marginal = 'box', \n",
    "    color = \"rated\",\n",
    "    title = 'Распределение объема продаж (игры с продажами менее 2 млн копий)',\n",
    "    color_discrete_map={\n",
    "                True: 'Green', False: 'Red'\n",
    "            },\n",
    "    opacity = 0.7\n",
    ")\n",
    "\n",
    "fig.update_layout(xaxis_title=\"Объем продаж (млн копий)\", yaxis_title=\"Количество игр\")\n",
    "fig.show()"
   ]
  },
  {
   "cell_type": "markdown",
   "metadata": {},
   "source": [
    "Распределение игр без рейтинга по объему продаж в целом повторяет общее распределение. Соотношение игр без рейтинга к играм с оценкой по мере увеличения объема продаж уменьшается (что, в целом, логично - игры с объемом продаж до 200 тысяч копий часто выходят только на одном из рынков, не имеют широкого распространения и, как следствие, не попадают в рейтинговые обзоры)."
   ]
  },
  {
   "cell_type": "code",
   "execution_count": null,
   "metadata": {},
   "outputs": [],
   "source": [
    "fig = px.histogram(\n",
    "    df_games, \n",
    "    x = 'year_of_release', \n",
    "    marginal = 'box', \n",
    "    color = \"rated\", \n",
    "    title = 'Распределение игр по году выпуска',\n",
    "    color_discrete_map={\n",
    "                True: 'Green', False: 'Red'\n",
    "            },\n",
    "    opacity = 0.7\n",
    ")\n",
    "\n",
    "fig.update_layout(xaxis_title=\"Год выпуска\", yaxis_title=\"Количество игр\")\n",
    "fig.show()"
   ]
  },
  {
   "cell_type": "markdown",
   "metadata": {},
   "source": [
    "Распределение игр без рейтинга по году выпуска также в целом повторяет общее распределение. При этом можно выделить следующие особенности:\n",
    "- до 2000 года доля игр без рейтинга существенно превышает долю игр с оценкой (критиков, пользователей или рейтингом ESRB)\n",
    "- 2000 год становится переломным, соотношение игр с рейтингом и без - примерно 50/50\n",
    "- после 2000 года доля игр без рейтинга практически постоянна (20-35%), что свидетельствует об определенном состоянии баланса - примерно 1/3 игр, выходящих на рынок не получает широкой оценки и рейтинговых характеристик (возможно, это локальные игры или игры определенных производителей / под определенные платформы)"
   ]
  },
  {
   "cell_type": "code",
   "execution_count": null,
   "metadata": {
    "scrolled": true
   },
   "outputs": [],
   "source": [
    "fig = px.histogram(\n",
    "    df_games.sort_values(by='genre'), \n",
    "    x = 'genre', \n",
    "    color = \"rated\",\n",
    "    title='Игровые жанры',\n",
    "    color_discrete_map={\n",
    "                True: 'Green', False: 'Red'\n",
    "            },\n",
    "    opacity = 0.7\n",
    ")\n",
    "\n",
    "fig.update_layout(xaxis_title=\"Жанр\", yaxis_title=\"Количество игр\")\n",
    "fig.show()"
   ]
  },
  {
   "cell_type": "markdown",
   "metadata": {},
   "source": [
    "По игровым жанрам также доля игр без рейтинга также практически постоянна (около 1/3) за исключением следующих жанров: Adventure (Приключения), Strategy (Стратегия) и Fighting (Файтинг, имитация боя).\n",
    "\n",
    "В целом полученные результаты свидетельствуют о равномерном распределении игр без рейтинга среди всего объема данных: как по объему продаж, так и по годам выпуска и игровым жанрам. Эта оценка пригодится при последующем анализе корреляций рейтинговых характеристик и продаж.\n",
    "\n",
    "Пропуски в указанных атрибутах (для записей об играх без указания какого-либо рейтинга) заполнять нецелесообразно. Для оставшихся записей (изначально задана хотя бы одна рейтинговая характеристика) попробуем дозаполнить часть данных (начиная с 2000 года)."
   ]
  },
  {
   "cell_type": "markdown",
   "metadata": {},
   "source": [
    "### `rating` - рейтинг от организации ESRB (возрастной рейтинг)\n",
    "\n",
    "Рассмотрим значения атрибута `rating`"
   ]
  },
  {
   "cell_type": "code",
   "execution_count": null,
   "metadata": {
    "scrolled": true
   },
   "outputs": [],
   "source": [
    "df_games['rating'].value_counts() "
   ]
  },
  {
   "cell_type": "markdown",
   "metadata": {},
   "source": [
    "По данным из открытых источников рейтинг от организации ESRB (Entertainment Software Rating Board) определяет рейтинг компьютерных игр и присваивает им подходящую возрастную категорию (например, «Для взрослых», «Для детей младшего возраста» или «Для подростков»). Выделяются следующие рейтинги:\n",
    "\n",
    "- RP (Rating Pending, с 1994 по настоящее время) - применяется в промо к играм, свидетельствует о том, что рейтинг ESRB еще окончательно не сформирован, но будет сформирован к выходу игры в продажу.\n",
    "\n",
    "- EC (Early Childhood, с 1994 по 2018) - игры для дошкольников. Применялся до 2018 года, в связи с небольшим числом игр в этой категории был заменен на категорию E.\n",
    "\n",
    "- E (Everyone, с 1994 по настоящее время) - игры для всех, без возрастных ограничений, т.е. не содержащие контента требующего отдельных отметок. До 1998 года указанный рейтинг маркировался K-A (Kids to Adults, для детей и взрослых).\n",
    "\n",
    "- E10+ (Everyone 10+, с 2005 по настоящее время) - игры, предназначенные для детей старше 10 лет. В эту категорию попадают игры, содержащие отдельные сцены, которые не позволяют отнести их к категории E (без возрастных ограничений).\n",
    "\n",
    "- T (Teen, с 1994 по настоящее время) - игры для подростков (13+). В эту категорию попадают игры, содержащие отдельные сцены, которые не позволяют отнести их к категории E10+ (для детей старше 10 лет) - сцены насилия, использования ненормативной лексики, черного юмора и т.д. \n",
    "\n",
    "- M (Mature, с 1994 по настоящее время) - игры для совершеннолетних (17+). В эту категорию попадают игры, содержащие отдельные сцены, которые не позволяют отнести их к категории T (для подростков) - более жесткие сцены насилия, использования ненормативной лексики, черного юмора и т.д. \n",
    "\n",
    "- AO (Adults Only, с 1994 по настоящее время) - игры для взрослых. В эту категорию попадают игры, содержащие отдельные сцены, которые не позволяют отнести их к категории M (для совершеннолетних) - натуралистичные сцены насилия и секса. В основном ESRB выставляет указанный рейтинг играм с порнографическим контентом и редко только за реалистичные сцены насилия.\n",
    "\n",
    "В исходных данных присутсвуют все указанные категории. В соответствии с указанной классификацией и количеством игр в представленных категориях целесообразно выполнить следущее:\n",
    "- заменить категорию 'K-A' на 'E' (фактически это одна категория)\n",
    "- заменить категорию 'EC' на 'E' (несмотря на то, что до 2018 года это были разные категории, из-за малого количества игр имеет смысл отнести их к одной общей категории)\n",
    "- заменить категорию 'AO' на 'M' (в ней представлена только одна игра, можно отнести к ближайшей по возрасту категории)\n",
    "- заменить категорию 'RP' на 'T' (в ней представлены только три игры, можно включить в наиболее широкую категорию)\n",
    "- для игр без указания категории установить значение 'NR' (not rated - без рейтинга ESRB). Поскольку в рамках исследования необходимо, в том числе, оценить влияние рейтинга ESRB на продажи в отдельном регионе - делать замену пропусков данного атрибута (например, рассчитывать возрастную категорию исходя из жанра) нецелесообразно."
   ]
  },
  {
   "cell_type": "code",
   "execution_count": null,
   "metadata": {},
   "outputs": [],
   "source": [
    "df_games.loc[df_games['rating'].isin(['K-A','EC','RP']), 'rating'] = 'E'\n",
    "df_games.loc[df_games['rating'] == 'AO', 'rating'] = 'M'"
   ]
  },
  {
   "cell_type": "code",
   "execution_count": null,
   "metadata": {},
   "outputs": [],
   "source": [
    "df_games.loc[:, 'rating'] = df_games['rating'].astype('category')"
   ]
  },
  {
   "cell_type": "code",
   "execution_count": null,
   "metadata": {},
   "outputs": [],
   "source": [
    "df_games['rating'].value_counts() "
   ]
  },
  {
   "cell_type": "code",
   "execution_count": null,
   "metadata": {},
   "outputs": [],
   "source": [
    "df_games['rating'] = df_games['rating'].cat.set_categories(['E', 'E10+', 'T', 'M'], ordered=True)"
   ]
  },
  {
   "cell_type": "markdown",
   "metadata": {},
   "source": [
    "### `user_score` - оценка пользователей и `critic_score` - оценка критиков\n",
    "\n",
    "Рассмотрим значения атрибута `user_score`"
   ]
  },
  {
   "cell_type": "code",
   "execution_count": null,
   "metadata": {
    "scrolled": true
   },
   "outputs": [],
   "source": [
    "df_games.loc[:, 'user_score'].unique()"
   ]
  },
  {
   "cell_type": "markdown",
   "metadata": {},
   "source": [
    "Рейтинг `user_score` хранится в строковом атрибуте, значения в диапазоне от 0 до 10, а также присутствует значение 'tbd' (to be defined/discussed - что можно перевести как не определен/обсуждается). Данное значение, в отличие от пропусков, говорит о том, что рейтинг для указанных игр был в процессе определения, но по каким-то причинам не был выставлен (возможно не хватило отзывов). "
   ]
  },
  {
   "cell_type": "code",
   "execution_count": null,
   "metadata": {},
   "outputs": [],
   "source": [
    "df_games.loc[df_games['user_score'] == 'tbd']['year_of_release'].value_counts()"
   ]
  },
  {
   "cell_type": "markdown",
   "metadata": {},
   "source": [
    "С учетом результатов общей оценки рейтинговых характеристик предлагается выполнить замену следующим образом:\n",
    "- для игр до 2000 года выпуска заменить значение 'tbd' на NaN\n",
    "- остальные значения 'tbd' временно заменить на -1 и выполнить приведение к типу данных float\n",
    "- привести данные атрибутов `user_score` и `critic_score` к единой шкале (от 0 до 100) и привести к типу данных int\n",
    "- рассчитать средние соотношения `critic_score` к `user_score` и на основе полученных оценок дозаполнить пропуски в указанных аттрибутах"
   ]
  },
  {
   "cell_type": "code",
   "execution_count": null,
   "metadata": {},
   "outputs": [],
   "source": [
    "df_games.loc[((df_games['user_score'] == 'tbd') & (df_games['year_of_release'] < 2000)), 'user_score'] = np.nan\n",
    "df_games.loc[((df_games['user_score'] == 'tbd')), 'user_score'] = -1"
   ]
  },
  {
   "cell_type": "markdown",
   "metadata": {},
   "source": [
    "Выполняем приведение к вещественному типу данных "
   ]
  },
  {
   "cell_type": "code",
   "execution_count": null,
   "metadata": {},
   "outputs": [],
   "source": [
    "df_games.loc[:, 'user_score'] = df_games['user_score'].astype('float')"
   ]
  },
  {
   "cell_type": "markdown",
   "metadata": {},
   "source": [
    "Приводим к единой шкале оценки критиков и пользователей"
   ]
  },
  {
   "cell_type": "code",
   "execution_count": null,
   "metadata": {},
   "outputs": [],
   "source": [
    "df_games['user_score'] = df_games['user_score'] * 10"
   ]
  },
  {
   "cell_type": "code",
   "execution_count": null,
   "metadata": {},
   "outputs": [],
   "source": [
    "df_games.loc[df_games['user_score'] < 0, 'user_score'] = np.nan"
   ]
  },
  {
   "cell_type": "markdown",
   "metadata": {},
   "source": [
    "Приводим оценки к целочисленному типу (допускающий NaN)"
   ]
  },
  {
   "cell_type": "code",
   "execution_count": null,
   "metadata": {},
   "outputs": [],
   "source": [
    "df_games['user_score'] = np.round(df_games['user_score']).astype(pd.Int64Dtype())\n",
    "df_games['critic_score'] = np.round(df_games['critic_score']).astype(pd.Int64Dtype())"
   ]
  },
  {
   "cell_type": "markdown",
   "metadata": {},
   "source": [
    "Оценим значения атриубтов `user_score` и `critic_score`"
   ]
  },
  {
   "cell_type": "code",
   "execution_count": null,
   "metadata": {},
   "outputs": [],
   "source": [
    "df_games[['critic_score', 'user_score']].describe()"
   ]
  },
  {
   "cell_type": "markdown",
   "metadata": {},
   "source": [
    "Рассмотрим распределение оценок пользователей и критиков игр из представленного набора данных"
   ]
  },
  {
   "cell_type": "code",
   "execution_count": null,
   "metadata": {
    "scrolled": true
   },
   "outputs": [],
   "source": [
    "fig = px.histogram(\n",
    "    df_games[df_games['critic_score'].notnull()], \n",
    "    x = 'critic_score', \n",
    "    marginal = 'box', \n",
    "    title = 'Распределение оценок критиков',\n",
    "    opacity = 0.7\n",
    ")\n",
    "\n",
    "fig.update_layout(xaxis_title=\"Оценка\", yaxis_title=\"Количество игр\")\n",
    "fig.show()"
   ]
  },
  {
   "cell_type": "code",
   "execution_count": null,
   "metadata": {},
   "outputs": [],
   "source": [
    "fig = px.histogram(\n",
    "    df_games[df_games['user_score'].notnull()], \n",
    "    x = 'user_score', \n",
    "    marginal = 'box', \n",
    "    title = 'Распределение оценок пользователей',\n",
    "    opacity = 0.7\n",
    ")\n",
    "\n",
    "fig.update_layout(xaxis_title=\"Оценка\", yaxis_title=\"Количество игр\")\n",
    "fig.show()"
   ]
  },
  {
   "cell_type": "markdown",
   "metadata": {},
   "source": [
    "Распределения в целом похожи. Можно отметить, что зона выбросов в обоих распределениях - в районе 30 пунктов (оценки критиков менее 30 из 100 и пользователей менее 35 из 100 можно считать выбросами). Распределение оценок критиков более пологое, в то время как в оценках пользователей - более резкая правая часть относительно пика распределения (резко уменьшается число оценок выше пикового значения)."
   ]
  },
  {
   "cell_type": "code",
   "execution_count": null,
   "metadata": {},
   "outputs": [],
   "source": [
    "df_games[(df_games['rated'] == True) &\\\n",
    "         (df_games['critic_score'].isnull() & df_games['user_score'].isnull())]['rated'].count()"
   ]
  },
  {
   "cell_type": "code",
   "execution_count": null,
   "metadata": {},
   "outputs": [],
   "source": [
    "df_games[(df_games['rated'] == True) &\\\n",
    "         ((df_games['critic_score'].notnull() & df_games['user_score'].isnull())\\\n",
    "          | (df_games['critic_score'].isnull() & df_games['user_score'].notnull()))\\\n",
    "        ]['rated'].count()"
   ]
  },
  {
   "cell_type": "markdown",
   "metadata": {},
   "source": [
    "Оценки теперь находятся в одной шкале: от 0 до 100. Записей, для которых не указаны одновременно оценка критиков и оценка пользователей (из рассматриваемого нами подмножества исходных данных - играх хотя бы с одной рейтинговой оценкой/категорией) - порядка 1400. Для оставшихся (порядка 1700) выполним заполнение пропусков на основе медианных соотношений оценок критиков и пользователей, рассчитанных для пары жанр-платформа.\n",
    "\n",
    "Подготовим соответствующую рассчетную таблицу (отбросим значения оценок менее 30 и 35 соответственно):"
   ]
  },
  {
   "cell_type": "code",
   "execution_count": null,
   "metadata": {},
   "outputs": [],
   "source": [
    "df_games_full_rate = (\n",
    "    df_games[\n",
    "        (df_games['critic_score'] >= 30) & (df_games['user_score'] >= 35)\n",
    "    ]\n",
    "    [['genre', 'platform', 'critic_score', 'user_score']]\n",
    ")\n",
    "df_games_full_rate['rate'] = df_games_full_rate['critic_score'] / df_games_full_rate['user_score']\n",
    "df_games_full_rate"
   ]
  },
  {
   "cell_type": "markdown",
   "metadata": {},
   "source": [
    "Объединим в одной сводной таблице медианный рейтинг по паре жанр-платформа и по жанру."
   ]
  },
  {
   "cell_type": "code",
   "execution_count": null,
   "metadata": {},
   "outputs": [],
   "source": [
    "df_rate_median = df_games_full_rate.pivot_table(\n",
    "    index=['genre', 'platform'], \n",
    "    values='rate', \n",
    "    aggfunc='median'\n",
    ").reset_index().merge(\n",
    "    df_games_full_rate.pivot_table(\n",
    "        index=['genre'], \n",
    "        values='rate', \n",
    "        aggfunc='median'\n",
    "    ).reset_index(), \n",
    "    on='genre'\n",
    ")\n",
    "\n",
    "df_rate_median.columns = ['genre', 'platform', 'rate', 'rate_genre']\n",
    "df_rate_median"
   ]
  },
  {
   "cell_type": "code",
   "execution_count": null,
   "metadata": {},
   "outputs": [],
   "source": [
    "# функция возвращает передаваемую в качестве входного параметра строку таблицы,\n",
    "# выполняя в теле функции замену значений атрибутов 'critic_score' и 'user_score'\n",
    "# На основе жанра и платформы получаем медианное соотношение оценок критиков и пользователей \n",
    "# (либо в случае отсутсвтия такого - медианное соотношение оценок для жанра).\n",
    "# Делаем замену недостающего значения оценки\n",
    "\n",
    "def update_rate_value(row):\n",
    "    genre = row['genre']\n",
    "    platform = row['platform']\n",
    "    \n",
    "    critic_score = row['critic_score']\n",
    "    user_score = row['user_score']\n",
    "\n",
    "    rate = 1\n",
    "    \n",
    "    # определеяем из расчетной таблицы медианное соотношение оценок\n",
    "    # в случае отсутствия значения для пары жанр-рейтинг, берем значение для жанра\n",
    "    median_group = df_rate_median.query('genre == @genre and platform == @platform')\n",
    "    if median_group.empty:\n",
    "        median_group = df_rate_median.query('genre == @genre')\n",
    "        rate = median_group['rate_genre'].values[0]\n",
    "    else:\n",
    "        rate = median_group['rate'].values[0]\n",
    "    \n",
    "    if pd.isna(critic_score):\n",
    "        row['critic_score'] = min(int(user_score * rate), 100)\n",
    "    else:\n",
    "        row['user_score'] = min(int(critic_score / rate), 100)\n",
    "  \n",
    "    return row"
   ]
  },
  {
   "cell_type": "markdown",
   "metadata": {},
   "source": [
    "Выполняем вставку недостающих рейтингов."
   ]
  },
  {
   "cell_type": "code",
   "execution_count": null,
   "metadata": {},
   "outputs": [],
   "source": [
    "df_games[(df_games['rated'] == True) &\\\n",
    "         ((df_games['critic_score'].notnull() & df_games['user_score'].isnull())\\\n",
    "          | (df_games['critic_score'].isnull() & df_games['user_score'].notnull()))\\\n",
    "        ] = \\\n",
    "df_games[(df_games['rated'] == True) &\\\n",
    "         ((df_games['critic_score'].notnull() & df_games['user_score'].isnull())\\\n",
    "          | (df_games['critic_score'].isnull() & df_games['user_score'].notnull()))\\\n",
    "        ].apply(\n",
    "    lambda row: update_rate_value(row),\n",
    "    axis=1\n",
    ")"
   ]
  },
  {
   "cell_type": "code",
   "execution_count": null,
   "metadata": {},
   "outputs": [],
   "source": [
    "df_games[(df_games['rated'] == True) &\\\n",
    "         ((df_games['critic_score'].notnull() & df_games['user_score'].isnull())\\\n",
    "          | (df_games['critic_score'].isnull() & df_games['user_score'].notnull()))\\\n",
    "        ]['rated'].count()"
   ]
  },
  {
   "cell_type": "markdown",
   "metadata": {},
   "source": [
    "Проверяем - теперь для всех игр, для которых была указана хотя бы одна оценка (критиков или пользователей) на основе медианных соотношений оценок проведена вставка пустых значений.\n",
    "\n",
    "Оценим характер распределения после вставки значений."
   ]
  },
  {
   "cell_type": "code",
   "execution_count": null,
   "metadata": {
    "scrolled": true
   },
   "outputs": [],
   "source": [
    "fig = px.histogram(\n",
    "    df_games[df_games['critic_score'].notnull()], \n",
    "    x = 'critic_score', \n",
    "    marginal = 'box', \n",
    "    title = 'Распределение оценок критиков',\n",
    "    opacity = 0.7\n",
    ")\n",
    "\n",
    "fig.update_layout(xaxis_title=\"Оценка\", yaxis_title=\"Количество игр\")\n",
    "fig.show()"
   ]
  },
  {
   "cell_type": "code",
   "execution_count": null,
   "metadata": {},
   "outputs": [],
   "source": [
    "fig = px.histogram(\n",
    "    df_games[df_games['user_score'].notnull()], \n",
    "    x = 'user_score', \n",
    "    marginal = 'box', \n",
    "    title = 'Распределение оценок пользователей',\n",
    "    opacity = 0.7\n",
    ")\n",
    "\n",
    "fig.update_layout(xaxis_title=\"Оценка\", yaxis_title=\"Количество игр\")\n",
    "fig.show()"
   ]
  },
  {
   "cell_type": "markdown",
   "metadata": {},
   "source": [
    "Харакетр распределений в целом практически не изменился. Немного уменьшилась (на 2 пункта) медиана пользовательских оценок."
   ]
  },
  {
   "cell_type": "markdown",
   "metadata": {},
   "source": [
    "<a id=\"step-2-result\"></a>\n",
    "### Выводы\n",
    "\n",
    "На этапе предобработки данных выполнены следующие основные шаги:\n",
    "- названия столбцов приведены к нижнему регистру\n",
    "- проведена предварительная оценка распределения игр по платформам, игры нескольких наименее популярных платформ (единичные игры) исключены из последующего рассмотрения\n",
    "- проведена вставка значений года выпуска на основе названий игр (в случае, когда год содержится в самом названии игры) и медианных значений года выпуска игр соответствующей игровой платформы\n",
    "- проведена оценка распределения игр по годам выпуска, игры ранее 1993 года выпуска исключены из последующего рассмотрения\n",
    "- проведена предварительная оценка распределения игр по жанрам, определены 3 наиболее популярных игровых жанра:\n",
    "  - Action\n",
    "  - Sports\n",
    "  - Role-Playing \n",
    "- проведена оценка рейтинговых харакетристик:\n",
    "  - значения возрастного рейтинга ESRB приведены в соответствие с действующей на момент 2016 года классификацией\n",
    "  - оценки пользователей и критиков приведены к единой шкале (от 0 до 100)\n",
    "- выполнена вставка пустых значений недостающих оценок на основе медианных соотношений оценок критиков и пользователей для соответствующих жанров и платформ\n",
    "- выполнены соответствующие преобразования типов данных: \n",
    "  - год выпуска - в целочисленный\n",
    "  - платформа, жанр, возрастной рейтинг ESRB - в категориальный\n",
    "  - оценка критиков и пользователей - в целочисленный\n",
    "  \n",
    "В целом данные подготовлены для последующего анализа."
   ]
  },
  {
   "cell_type": "markdown",
   "metadata": {},
   "source": [
    "## Анализ данных о продажах"
   ]
  },
  {
   "cell_type": "markdown",
   "metadata": {},
   "source": [
    "### Распределение игр по году выпуска"
   ]
  },
  {
   "cell_type": "markdown",
   "metadata": {},
   "source": [
    "На этапе предварительной обработки данных проведена первичная [оценка](#step-2-year-of-release) распределения игр из представленного набора данных по годам выпуска и исключены из рассмотрения игры, выпущенные ранее 1993 года.\n",
    "\n",
    "Рассмотрим подробнее распределение выпущенных игр по годам."
   ]
  },
  {
   "cell_type": "code",
   "execution_count": null,
   "metadata": {},
   "outputs": [],
   "source": [
    "fig = px.histogram(\n",
    "    df_games, \n",
    "    x = 'year_of_release', \n",
    "    marginal = 'box', \n",
    "    title = 'Распределение игр по году выпуска'\n",
    ")\n",
    "\n",
    "fig.update_layout(xaxis_title=\"Год\", yaxis_title=\"Число игр\")\n",
    "fig.show()"
   ]
  },
  {
   "cell_type": "markdown",
   "metadata": {},
   "source": [
    "Медианным годом является 2008, на этот же период (2008-2009 годы) приходится основной пик выпуска компьютерных игр. В целом на графике можно выделить 4 периода:\n",
    "- период плавного роста (с 1995 по 2000)\n",
    "- период резкого роста (с 2000 по 2009), характеризующийся практически 4-кратным увеличением числа выпущенных игр (в 2009 относительно 2000 года)\n",
    "- период резкого падения (с 2010 по 2012)\n",
    "- период стагнации (с 2012 по 2016), характеризующийся практически неизменным количеством выпускаемых игр в год\n",
    "\n",
    "Половина всех выпущенных игр приходится на период с 2003 по 2010 годы.\n",
    "\n",
    "Спад последних лет возможно связан с замещением части сектора игровой индустрии играми под Android и iOS - их нет в указанном обзоре, только игры под PC и специализированные игровые платформы. "
   ]
  },
  {
   "cell_type": "markdown",
   "metadata": {},
   "source": [
    "### Распределение игр по платформам"
   ]
  },
  {
   "cell_type": "markdown",
   "metadata": {},
   "source": [
    "Сформируем сводную таблицу продаж игр по платформам и годам выпуска за весь рассматриваемый период"
   ]
  },
  {
   "cell_type": "code",
   "execution_count": null,
   "metadata": {},
   "outputs": [],
   "source": [
    "df_platform_sales = df_games.pivot_table(\n",
    "    index = ['platform', 'year_of_release'], \n",
    "    values = 'total_sales', \n",
    "    aggfunc = 'sum'\n",
    ").reset_index()\n",
    "\n",
    "df_platform_sales"
   ]
  },
  {
   "cell_type": "markdown",
   "metadata": {},
   "source": [
    "На основе сформированной сводной таблицы построим таблицу общих продаж по платформам и отобразим ее на графике."
   ]
  },
  {
   "cell_type": "code",
   "execution_count": null,
   "metadata": {},
   "outputs": [],
   "source": [
    "df_platform_total_sales = df_platform_sales.groupby(by='platform')['total_sales'].sum().reset_index()\n",
    "df_platform_total_sales.sort_values(by='total_sales', ascending = False, inplace = True)\n",
    "\n",
    "df_platform_total_sales.head(5)"
   ]
  },
  {
   "cell_type": "code",
   "execution_count": null,
   "metadata": {},
   "outputs": [],
   "source": [
    "fig = px.bar(\n",
    "    df_platform_total_sales, \n",
    "    x = 'platform', \n",
    "    y = 'total_sales',\n",
    "    title='Игровые платформы по убыванию объема продаж (с 1993 по 2016)',\n",
    "    labels={\n",
    "        \"platform\": \"Платформа\",\n",
    "        \"total_sales\": \"Количество продаж (млн копий)\"\n",
    "    }\n",
    ")\n",
    "fig.show()"
   ]
  },
  {
   "cell_type": "markdown",
   "metadata": {},
   "source": [
    "На графике видно, что среди платформ выделяются ТОП-6: PS2, X360, PS3, Wii, DS, PS. \n",
    "\n",
    "Вместе с тем указанный график не дает представления о временном периоде, на который приходятся продажи по указанным платформам. Возможно в \"хвосте\" графика находятся платформы, которые только вышли на рынок (и находятся в стадии роста продаж).\n",
    "\n",
    "Визуализируем на графике продажи всех платформ с разбивкой по годам."
   ]
  },
  {
   "cell_type": "code",
   "execution_count": null,
   "metadata": {},
   "outputs": [],
   "source": [
    "fig = px.box(\n",
    "    df_platform_sales, \n",
    "    y=\"year_of_release\", \n",
    "    x=\"platform\", \n",
    "    color=\"platform\"\n",
    ")\n",
    "\n",
    "fig.layout = Layout(\n",
    "    title='Игровые платформы по объему и периодам продаж (с 1993 по 2016)',\n",
    "    height=900,\n",
    "    boxgap = 0\n",
    ")\n",
    "\n",
    "#for trace in fig.data:\n",
    "#    trace.name = trace.name.split('=')[1]\n",
    "\n",
    "fig.show()"
   ]
  },
  {
   "cell_type": "markdown",
   "metadata": {},
   "source": [
    "На основе рассматриваемой рассчетной таблицы продаж по годам для платформ проведем расчет средней продолжительности жизни игровой платформы. Для начала оценим значения минимальных продаж по годам. "
   ]
  },
  {
   "cell_type": "code",
   "execution_count": null,
   "metadata": {},
   "outputs": [],
   "source": [
    "df_platform_sales['total_sales'].describe()"
   ]
  },
  {
   "cell_type": "code",
   "execution_count": null,
   "metadata": {},
   "outputs": [],
   "source": [
    "ax = (\n",
    "    df_platform_sales.sort_values(by='total_sales')['total_sales'].reset_index().head(30).\n",
    "    plot(y='total_sales', style='-', figsize=(15, 4))\n",
    ")\n",
    "\n",
    "ax.set_title('Минимальные значения годовых продаж (по возрастанию)', fontsize='x-large')\n",
    "ax.set_xlabel('Порядковый номер', fontsize='large')\n",
    "ax.set_ylabel('Объем продаж (млн копий)', fontsize='large')"
   ]
  },
  {
   "cell_type": "markdown",
   "metadata": {},
   "source": [
    "По графику видно, что расчетные значения годовых продаж для некоторых платформ лежат в минимальной области - менее 500 тысяч копий в год. Будем считать эти значения выбросами (не включать в расчет средней продолжительности жизни платформы) в случае, если они не превышают 1% общего объема продаж игр для платформы (за все время жизни)"
   ]
  },
  {
   "cell_type": "code",
   "execution_count": null,
   "metadata": {},
   "outputs": [],
   "source": [
    "# расчет общих продаж за все время по платформе\n",
    "df_platform_total = (\n",
    "    df_platform_sales.groupby('platform')['total_sales']\n",
    "    .sum()\n",
    "    .reset_index()\n",
    "    .query('total_sales > 0 ')\n",
    ")\n",
    "df_platform_total = df_platform_sales.merge(df_platform_total, on='platform')\n",
    "df_platform_total.columns = ['platform', 'year', 'year_sales', 'total_sales']\n",
    "# считаем пороговое значения в 1%, оставляем минимум из 1% и 500 тыс копий\n",
    "df_platform_total['percent_1'] = np.minimum(0.01 * df_platform_total['total_sales'], 0.5)\n",
    "\n",
    "df_platform_total = df_platform_total.query('year_sales >= percent_1')\n",
    "df_platform_total"
   ]
  },
  {
   "cell_type": "markdown",
   "metadata": {},
   "source": [
    "Далее определяем первый и последний годы жизни платформы, делаем расчет времени жизни"
   ]
  },
  {
   "cell_type": "code",
   "execution_count": null,
   "metadata": {},
   "outputs": [],
   "source": [
    "df_platform_pivot = df_platform_total.pivot_table(index='platform', values='year', aggfunc=['min', 'max']).reset_index()\n",
    "df_platform_pivot.columns = ['platform', 'year_min', 'year_max']\n",
    "df_platform_pivot['lifespan'] = df_platform_pivot['year_max'] - df_platform_pivot['year_min']\n",
    "\n",
    "df_platform_pivot.sort_values(by='year_min')"
   ]
  },
  {
   "cell_type": "markdown",
   "metadata": {},
   "source": [
    "По времени жизни есть два однозначных выброса:\n",
    "- платформа PC (персональный компьютер) - видимо вечная)\n",
    "- платформа NES (1 год) - видимо неудачная изначально, ей на замену сразу пришла SNES (существовали параллельно)\n",
    "\n",
    "Эти платформы не учитываем в расчетах. Также исключаем из расчетов современные платформы (год выпуска 2011 и позже)"
   ]
  },
  {
   "cell_type": "code",
   "execution_count": null,
   "metadata": {},
   "outputs": [],
   "source": [
    "df_platform_pivot = df_platform_pivot.query('year_min <= 2010')\n",
    "df_platform_pivot.sort_values(by='year_min')"
   ]
  },
  {
   "cell_type": "markdown",
   "metadata": {},
   "source": [
    "Сделаем расчет средней продолжительности жизни платформ. В качестве первого поколения платформ рассмотрим платормы до 2004 года выпуска (до периода пика игровой индустрии), в качестве второго поколения - платформы 2004 года и старше (за исключением современных)."
   ]
  },
  {
   "cell_type": "code",
   "execution_count": null,
   "metadata": {},
   "outputs": [],
   "source": [
    "df_platform_pivot['generation'] = df_platform_pivot.apply(lambda row: 1 if row['year_min'] < 2004 else 2, axis = 1)\n",
    "df_platform_pivot.groupby('generation')['lifespan'].mean()"
   ]
  },
  {
   "cell_type": "markdown",
   "metadata": {},
   "source": [
    "Расчеты подтверждают, что средняя продолжительность жизни платформ поколения 2004 года и старше увеличилась на 2.5 года относительно платформ до 2004 года"
   ]
  },
  {
   "cell_type": "markdown",
   "metadata": {},
   "source": [
    "Указанные графики и расчеты позволяют сформулировать следующие выводы:\n",
    "- время жизни (период, на который приходится бОльшая часть продаж игр для платформы) первых игровых платформ составляло 7 лет, со временем это период начал увеличиваться и для современных платформ он составляет примерно 10 лет\n",
    "- платформой с наибольшим временм жизни является PC - персональный компьютер. Соответственно для указанной платформы игры актуальны и на текущий момент, но для оценки объема продаж требуется более подробное рассмотрение динамики последних лет\n",
    "- к \"молодым\" (и соответственно наиболее коммерчески перспективным платформам) можно отнести следующие: 3DS, PS4, PSV, WiiU, XOne. При этом платформы XOne и PS4 являются наиболее молодыми и имеют значительные объемы продаж, а платформы PSV и WiiU несмотря на то, что чуть старше - имеют существенное меньшие объемы продаж (в 2-4 раза). Для более подробной оценки объема продаж также требуется подробное рассмотрение динамики последних лет\n",
    "- к \"возрастным\" (относительно 2016 года) можно отнести следующие платформы: PS3, Wii, X360. Все они одного возраста и примерно одинакового объема продаж. Судя по объемам продаж платформы-лидера PS2 - указанные 3 платформы также могут иметь коммерческий потенциал в краткосрочной перспективе.\n",
    "\n",
    "**В качестве актуального периода для построения прогноза будем рассматривать период с 2012 по 2016 годы** - \n",
    "этот период соответствует периоду появления и начала продаж молодых платформ (3DS, PS4, PSV, WiiU, XOne). Также на него приходится чуть менее половины всего объема продаж возрастных платформ (PS3, Wii, X360) и менее четверти продаж игр для персональных компьютеров.\n",
    "\n",
    "Рассмотрим подробнее указанный период относительно динамики продаж указанных групп:\n",
    "- молодые платформы: 3DS, PS4, PSV, WiiU, XOne\n",
    "- возрастные платформы: PS3, Wii, X360, PC"
   ]
  },
  {
   "cell_type": "code",
   "execution_count": null,
   "metadata": {},
   "outputs": [],
   "source": [
    "df_games_actual = df_games.query('year_of_release >= 2012')"
   ]
  },
  {
   "cell_type": "code",
   "execution_count": null,
   "metadata": {},
   "outputs": [],
   "source": [
    "platform_young = ['3DS', 'PS4', 'PSV', 'WiiU', 'XOne']\n",
    "platform_old = {'PS3', 'Wii', 'X360', 'PC'}"
   ]
  },
  {
   "cell_type": "code",
   "execution_count": null,
   "metadata": {},
   "outputs": [],
   "source": [
    "def plot_platfrom_sales(\n",
    "    platforms, \n",
    "    year_from\n",
    "):\n",
    "    fig = px.bar(\n",
    "        df_platform_sales.query('platform in @platforms and year_of_release >= @year_from'), \n",
    "        x = 'year_of_release',\n",
    "        y = 'total_sales',\n",
    "        barmode = 'group',\n",
    "        color = \"platform\",\n",
    "        title = 'Распределение объема продаж ({} - 2016)'.format(year_from),\n",
    "        text = 'platform',\n",
    "        opacity = 0.7\n",
    "    )\n",
    "\n",
    "    #for trace in fig.data:\n",
    "    #    trace.name = trace.name.split('=')[1]\n",
    "\n",
    "    fig.update_layout(xaxis_title=\"Год\", yaxis_title=\"Объем продаж (млн копий)\")\n",
    "    fig.show()"
   ]
  },
  {
   "cell_type": "code",
   "execution_count": null,
   "metadata": {},
   "outputs": [],
   "source": [
    "plot_platfrom_sales(platform_young, 2012)"
   ]
  },
  {
   "cell_type": "markdown",
   "metadata": {},
   "source": [
    "Учитывая то, что данные за 2016 год вероятно неполные, при оценке динамики будем в основном ориентироваться на данные за предыдущие годы.\n",
    "\n",
    "Среди молодых платформ выделяются два лидера, имеющие наибольший объем продаж и положительную динамику: PS4 и XOne. При этом доля продаж игр на XOne относительно PS4 снижается. 2017 год может подтвердить динамику снижения объема продаж XOne, но в целом на текущий момент (2016 год) ее можно отнести к потенциально прибыльным (но следует учитывать, что объем продаж для XOne вероятнее всего будет меньше, чем для PS4).\n",
    "\n",
    "Объем продаж игр для платформы 3DS снижается с 2013 года, платформа уже достаточно \"возрастная\" и вероятнее всего 2017 год станет последним годом продаж игр для указанной платформы. \n",
    "\n",
    "Объем продаж PSV и WiiU продолжают снижаться и намного меньше продаж всех остальных платформ (даже относительно 3DS).\n",
    "\n",
    "Вывод: к потенциально прибыльным в этой группе относим PS4 и XOne (PS4 - лидер рынка). Относительно платформы 3DS - большие объемы игр закупать не стоит, веротяно 2017 год будет последним успешным для этой платформы. PSV и WiiU - негативный прогноз по продажам."
   ]
  },
  {
   "cell_type": "code",
   "execution_count": null,
   "metadata": {
    "scrolled": false
   },
   "outputs": [],
   "source": [
    "plot_platfrom_sales(platform_old, 2008)"
   ]
  },
  {
   "cell_type": "code",
   "execution_count": null,
   "metadata": {},
   "outputs": [],
   "source": [
    "plot_platfrom_sales(platform_old, 2012)"
   ]
  },
  {
   "cell_type": "markdown",
   "metadata": {},
   "source": [
    "По возрастным платформам отмечаем следующее:\n",
    "- негативная динамика для PS3, Wii и X360. С учетом возраста платформ прогноз на 2017 год негативный, продажа игр в этом сегменте нецелесообразна\n",
    "- относительно игр для PC - прогноз скорее нейтральный с учетом того, что игры для настольных компьюетров на рынке уже более 20 лет, и спрос на них скорее волнообразный. Хотя конечно минимум продаж игр для PC - негативный фактор. Возможно уточнение прогноза после получения данных за 2016 год в полном объеме."
   ]
  },
  {
   "cell_type": "markdown",
   "metadata": {},
   "source": [
    "**Итого по прогнозу на 2017 год:**\n",
    "- PS4 - прогноз позитивный, однозначный лидер рынка, имеется потенциал к росту\n",
    "- XOne - прогноз умеренно позитивный, уверенное второе место, но есть риск подтверждения негативной динамики в 2017 году\n",
    "- 3DS и PC - прогноз нейтральный, вероятно снижение объемов, но вместе с тем объемы продаж все равно достаточно большие"
   ]
  },
  {
   "cell_type": "markdown",
   "metadata": {},
   "source": [
    "### Распределение игр по жанрам"
   ]
  },
  {
   "cell_type": "markdown",
   "metadata": {},
   "source": [
    "На этапе предварительной обработки данных проведена первичная [оценка](#step-2-genre) распределения игр из представленного набора данных по жанрам и определены наиболее популярные жанры (по числу выпущенных игр):\n",
    "- Action - Экшен\n",
    "- Sports - Спортивные симуляторы\n",
    "- Role-Playing - Ролевая игра, РПГ\n",
    "- Adventure - Приключение\n",
    "- Shooter - Шутер, \"стрелялка\"\n",
    "\n",
    "Также значительна доля игр в категории Misc - без возможности отнесения к какому-либо жанру\n",
    "\n",
    "Рассмотрим распределние выпущенных игр по жанрам за рассматриваемый актуальный для построения прогноза период (с 2012 по 2016 годы) в сравнении со всем периодом данных.\n",
    "\n",
    "Подготовим сводные таблицу для оценки динамики (до и после 2012 года) объемов продаж и количества выпускаемых игр по жанрам."
   ]
  },
  {
   "cell_type": "code",
   "execution_count": null,
   "metadata": {},
   "outputs": [],
   "source": [
    "def make_dataframe_genre(aggfunc)->pd.DataFrame:\n",
    "    df = (\n",
    "        df_games.query('year_of_release >= 2012')\n",
    "        .pivot_table(index = 'genre', values = 'total_sales', aggfunc=aggfunc)\n",
    "        .reset_index()\n",
    "    ).merge(\n",
    "        df_games.query('year_of_release < 2012')\n",
    "        .pivot_table(index = 'genre', values = 'total_sales', aggfunc=aggfunc)\n",
    "        .reset_index(),\n",
    "        on = 'genre'\n",
    "    )\n",
    "    df.columns = ['genre', '2012_после', '2012_до']\n",
    "\n",
    "    df = df.set_index('genre').stack().reset_index()\n",
    "    df.columns = ['genre', 'period', 'count']\n",
    "\n",
    "    # добавим порядковый номер игрового жанра по убыванию рассчетного значения \n",
    "    # в период до 2012 года (для сравнения с актуальным периодом)\n",
    "    df.sort_values(by=['period', 'count'], ascending = False, inplace = True)\n",
    "    df['index_before'] = np.arange(1, df.shape[0] + 1)\n",
    "    df['index_before'] = df['index_before'] - 12\n",
    "\n",
    "    df.loc[:, 'index_before'] = df['index_before'].astype('object')\n",
    "    df.loc[df['period'] == \"2012_после\", 'index_before'] = ''\n",
    "    \n",
    "    return df"
   ]
  },
  {
   "cell_type": "markdown",
   "metadata": {},
   "source": [
    "Определим функцию для визуализации сводной таблицы."
   ]
  },
  {
   "cell_type": "code",
   "execution_count": null,
   "metadata": {},
   "outputs": [],
   "source": [
    "def plot_bar_game_genre(\n",
    "    df_genre_agg,\n",
    "    title,\n",
    "    y_label\n",
    "):\n",
    "    fig = px.bar(\n",
    "        df_genre_agg, \n",
    "        x = 'genre', \n",
    "        y = 'count',\n",
    "        color = 'period',\n",
    "        text = 'index_before',\n",
    "        title=title,\n",
    "        color_discrete_map={\n",
    "            '2012_после': 'Green', '2012_до': 'Violet'\n",
    "        },\n",
    "        labels={\n",
    "            \"genre\": \"Жанр\",\n",
    "            \"count\": y_label\n",
    "        },\n",
    "        opacity = 0.7\n",
    "    )\n",
    "\n",
    "    for trace in fig.data:\n",
    "        trace.name = trace.name.replace('_', ' ')\n",
    "\n",
    "    fig.show()"
   ]
  },
  {
   "cell_type": "code",
   "execution_count": null,
   "metadata": {},
   "outputs": [],
   "source": [
    "plot_bar_game_genre(\n",
    "    make_dataframe_genre('count'),\n",
    "    'Игровые жанры по убыванию количества игр',\n",
    "    'Количество игр'\n",
    ")"
   ]
  },
  {
   "cell_type": "code",
   "execution_count": null,
   "metadata": {},
   "outputs": [],
   "source": [
    "plot_bar_game_genre(\n",
    "    make_dataframe_genre('sum'),\n",
    "    'Игровые жанры по убыванию объема продаж',\n",
    "    'Объем продаж (млн копий)'\n",
    ")"
   ]
  },
  {
   "cell_type": "markdown",
   "metadata": {},
   "source": [
    "Относительно динамики распространенности (количества выпускаемых игр) и коммерческой успешности жанров компьютерных игр наблюдается следующее:\n",
    "- наименее распространенными (практически без изменений в текущем периоде относительно всего рассматриваемого периода) остаются следующие жанры: Fighting, Platform, Simulation, Strategy, Puzzle, Racing. При этом объем продаж в жанре Platform немного увеличился после 2012 года.\n",
    "- с 2012 года доля игр жанров Sports (Спортивные симуляторы) и Racing (Гонки) уменьшаетя - 4 и 7 места в настоящий момент (по числу игр и объему продаж) относительно 2 и 4 (2 и 6 по объемам продаж) в период до 2012 года\n",
    "- самым успешным жанром является (и являлся) жанр Action (Экшен) - лидер как по числу выпускаемых игр так и по объемам продаж\n",
    "- с 2012 года жанры Role-Playing (Ролевая игра, РПГ) и Adventure (Приключение) наоборот приобретают более широкое распространение - 2 и 3 места в настоящий момент относительно 5 и 7 в период до 2012 года. Вместе с тем жанр Adventure не становится коммерчески успешным и также продолжает занимать 10 место по объемам продаж\n",
    "- доля игр жанра Shooter (Шутер, \"стрелялка\") остается практически неизменной, но при этом объем продаж в указанном жанре существенно увеличился, игры этого жанра занимают 2 место по объемам продаж в период после 2012 года\n",
    "\n",
    "Подробнее посмотрим на динамику продаж игр указанных жанров в период с 2012 года."
   ]
  },
  {
   "cell_type": "code",
   "execution_count": null,
   "metadata": {},
   "outputs": [],
   "source": [
    "genres = ['Action', 'Shooter', 'Role-Playing', 'Sports']\n",
    "\n",
    "df_genres_sales = df_games.query('genre in @genres and year_of_release >= 2012').pivot_table(\n",
    "    index = ['genre', 'year_of_release'], \n",
    "    values = 'total_sales', \n",
    "    aggfunc = 'sum'\n",
    ").reset_index()\n",
    "\n",
    "df_genres_sales.head(5)"
   ]
  },
  {
   "cell_type": "code",
   "execution_count": null,
   "metadata": {
    "scrolled": false
   },
   "outputs": [],
   "source": [
    "fig = px.bar(\n",
    "        df_genres_sales, \n",
    "        x = 'year_of_release',\n",
    "        y = 'total_sales',\n",
    "        barmode = 'group',\n",
    "        color = 'genre',\n",
    "        title = 'Распределение объема продаж ({} - 2016)'.format(2012),\n",
    "        #text = 'genre',\n",
    "        opacity = 0.7\n",
    "    )\n",
    "\n",
    "#for trace in fig.data:\n",
    "#    trace.name = trace.name.split('=')[1]\n",
    "    \n",
    "fig.update_layout(xaxis_title=\"Год\", yaxis_title=\"Объем продаж (млн копий)\")\n",
    "fig.show()"
   ]
  },
  {
   "cell_type": "markdown",
   "metadata": {},
   "source": [
    "За исключением жанра Action игры других жанров демонстрируют нейтральную динамику. По жанру Action возможно намечается начало негативного тренда, тем более что даже по неполным данным за 2016 год объем продаж этого жанра стал меньше продаж в жанре Shooter. \n",
    "\n",
    "**Итого по прогнозу на 2017 год:**\n",
    "\n",
    "В целом по жанрам Shooter и Role-Playing прогноз позитивный, по жанрам Action и Sports чуть более осторожный (риски начала негативного тренда по Action, общее снижение доли продаж Sports относительно других жанров за период с 2012 года)"
   ]
  },
  {
   "cell_type": "markdown",
   "metadata": {},
   "source": [
    "### Влияние рейтингов на продажи  "
   ]
  },
  {
   "cell_type": "markdown",
   "metadata": {},
   "source": [
    "Рассмотрим влияние рейтинговых оценок на продажи игр. Данные о продажах будем рассматривать только за акутальный период - с 2012 года и для первых 7 (по объемам продаж) игровых жанров.\n",
    "\n",
    "На этапе предварительной обработки проведена [оценка](#step-2-score-common) доли игр с рейтингом и без в исходном наборе данных. В целом полученные результаты свидетельствуют о равномерном распределении игр без рейтинга среди всего объема данных: как по объему продаж, так и по годам выпуска и игровым жанрам. Соответственно проводимая оценка корреляций между рейтинговыми оценками и объемами продаж должна дать объективное представление о влиянии оценок на продажи."
   ]
  },
  {
   "cell_type": "code",
   "execution_count": null,
   "metadata": {},
   "outputs": [],
   "source": [
    "genres = ['Action', 'Shooter', 'Role-Playing', 'Sports', 'Platform', 'Racing', 'Misc']\n",
    "\n",
    "df_games_score_all = df_games_actual.query(\n",
    "    'genre in @genres and critic_score.notnull() and user_score.notnull()', engine='python'\n",
    ").copy()\n",
    "\n",
    "df_games_score_all.loc[:, 'critic_score'] = df_games_score_all['critic_score'].astype('int')\n",
    "df_games_score_all.loc[:, 'user_score'] = df_games_score_all['user_score'].astype('int')"
   ]
  },
  {
   "cell_type": "code",
   "execution_count": null,
   "metadata": {},
   "outputs": [],
   "source": [
    "fig = px.histogram(\n",
    "    df_games_score_all, \n",
    "    x = 'total_sales', \n",
    "    marginal = 'box', \n",
    "    title = 'Распределение игр по объему продаж',\n",
    "    opacity = 0.7\n",
    ")\n",
    "\n",
    "fig.update_layout(xaxis_title=\"Год выпуска\", yaxis_title=\"Количество игр\")\n",
    "fig.show()"
   ]
  },
  {
   "cell_type": "markdown",
   "metadata": {},
   "source": [
    "Исключим из рассмотрения игры-бестселлеры. Определим корреляцию между объемом продаж и оценками критиков/пользователей для основной массы игр."
   ]
  },
  {
   "cell_type": "code",
   "execution_count": null,
   "metadata": {},
   "outputs": [],
   "source": [
    "df_games_score_all = df_games_score_all.query('total_sales < 2.5')"
   ]
  },
  {
   "cell_type": "code",
   "execution_count": null,
   "metadata": {},
   "outputs": [],
   "source": [
    "df_games_score_all['platform'].value_counts().head(5)"
   ]
  },
  {
   "cell_type": "markdown",
   "metadata": {},
   "source": [
    "Наибольшее количество рейтинговых оценок выставлено играм на платформах PS3 и PS4. По результатам исследования [распределение игр по платформам](#step-3-platform) определено, что в настоящее время объем продаж игр для PS3 минимальный и сокращается, в то время как PS4 является лидером рынка в стадии роста. \n",
    "\n",
    "Проведем оценку корреляции продаж и рейтинговых оценок на примере этих двух платформ (PS3 - бывший лидер рынка в завершающей стадии жизненного цикла - объемы продаж минимальные, множество игр неизменно; PS4 - действующий лидер рынка с увеличивающимися объемами продаж и новыми играми). А также сравним с данными по продажам для всех платформ за период с 2012 года."
   ]
  },
  {
   "cell_type": "markdown",
   "metadata": {},
   "source": [
    "Рассчитаем коэффициенты корреляции и построим матрицы диаграмм рассеяния."
   ]
  },
  {
   "cell_type": "markdown",
   "metadata": {},
   "source": [
    "#### PS3"
   ]
  },
  {
   "cell_type": "code",
   "execution_count": null,
   "metadata": {},
   "outputs": [],
   "source": [
    "df_games_score_ps3 = df_games_score_all.query('platform == \\'PS3\\'')\n",
    "\n",
    "df_games_score_ps3[['total_sales', 'critic_score', 'user_score']].corr()"
   ]
  },
  {
   "cell_type": "code",
   "execution_count": null,
   "metadata": {},
   "outputs": [],
   "source": [
    "pd.plotting.scatter_matrix(\n",
    "    df_games_score_ps3[['total_sales', 'critic_score', 'user_score']], \n",
    "    figsize=(12, 12)\n",
    ")"
   ]
  },
  {
   "cell_type": "markdown",
   "metadata": {},
   "source": [
    "#### PS4"
   ]
  },
  {
   "cell_type": "code",
   "execution_count": null,
   "metadata": {},
   "outputs": [],
   "source": [
    "df_games_score_ps4 = df_games_score_all.query('platform == \\'PS4\\'')\n",
    "\n",
    "df_games_score_ps4[['total_sales', 'critic_score', 'user_score']].corr()"
   ]
  },
  {
   "cell_type": "code",
   "execution_count": null,
   "metadata": {
    "scrolled": true
   },
   "outputs": [],
   "source": [
    "pd.plotting.scatter_matrix(\n",
    "    df_games_score_ps4[['total_sales', 'critic_score', 'user_score']], \n",
    "    figsize=(12, 12)\n",
    ")"
   ]
  },
  {
   "cell_type": "markdown",
   "metadata": {},
   "source": [
    "#### Все платформы"
   ]
  },
  {
   "cell_type": "code",
   "execution_count": null,
   "metadata": {},
   "outputs": [],
   "source": [
    "df_games_score_all[['total_sales', 'critic_score', 'user_score']].corr()"
   ]
  },
  {
   "cell_type": "code",
   "execution_count": null,
   "metadata": {},
   "outputs": [],
   "source": [
    "pd.plotting.scatter_matrix(\n",
    "    df_games_score_all[['total_sales', 'critic_score', 'user_score']], \n",
    "    figsize=(9, 9)\n",
    ")"
   ]
  },
  {
   "cell_type": "markdown",
   "metadata": {},
   "source": [
    "Можно выделить следующие закономерности:\n",
    "- оценка критиков гораздо большее связана со значением на объем продаж по сравнению с оценкой пользователей (коэффициент корреляции выше)\n",
    "- коэффициент корреляции между объемами продаж и оценкой критиков на платформах PS3 и PS4 практически совпадают, при этом он существенно выше чем по всем платформам\n",
    "- на платформах PS3 и PS4 коммерчески успешные игры, в основном, имеют уровень оценки критиков выше 65\n",
    "- на платформе PS3 корреляция между объемом продаж и оценкой пользователей значительно выше чем для игр PS4 (вероятно это объясняется тем, что новые игры под платформу практически не выходят и пользовательские оценки фактически \"догнали\" значения объемов продаж)\n",
    "\n",
    "**Итого по прогнозу на 2017 год:**\n",
    "\n",
    "Для коммерчески перспективных платформ (PS4, XOne) следует в первую очередь ориентироваться на рейтинг критиков при оценке возможных перспектив продажи игры. Наибольшая вероятность стать коммерчески успешными у игр, получивших от критиков не менее 65 баллов из 100.\n",
    "\n",
    "Указанные оценки можно объяснить следующими факторами:\n",
    "- оценки пользователей скорее идут с запаздыванием (по идее производитель заинтересован в получении оценки критиков до момента выхода игры в широкую продажу), соответственно при планировании продаж необходимо в первую очередь ориентироваться на мнение критиков/независимых экспертов\n",
    "- оценки критиков наверно более сбаллансированы, по идее они независимо оценивают все компоненты игр (сюжет, реалистичность, графика и т.д.), в то время как оценка пользователей более субъективная (один из компонентов может понравиться/не понравиться и перетянуть общую оценку)"
   ]
  },
  {
   "cell_type": "markdown",
   "metadata": {},
   "source": [
    "### Выводы\n",
    "\n",
    "На этапе исследовательского анализа с целью выявления общих закономерностей и построения прогнозных оценок на 2017 год выполнены следующие шаги.\n",
    "\n",
    "1. Проведен анализ распределения игр по годам выпуска и платформам\n",
    "  - определено среднее время жизни коммерчески успешных платформ и отмечен имеющийся тренд на увеличение времени жизни современных игровых платформ\n",
    "  - определен актуальный период данных построения прогнозных оценок на 2017 год - данные с 2012 по 2016 гг\n",
    "  - выделены две условных категории игровых платформ по возрасту (относительно предполагаемого времени жизни):\n",
    "    - \"молодые\": 3DS, PS4, PSV, WiiU, XOne\n",
    "    - \"возрастные\": PS3, Wii, X360. Также к это группе отнесена платформа PC - как платформа с наибольшим временем жизни (отличается от всех остальных платформ)\n",
    "  - на основе оценки динамики продаж игр за рассматриваемый актуальный период подготовлены следующие рекомендации на 2017 год:\n",
    "    - PS4 - прогноз позитивный, однозначный лидер рынка, имеется потенциал к росту\n",
    "    - XOne - прогноз умеренно позитивный, уверенное второе место, но есть риск подтверждения негативной динамики продаж в 2017 году\n",
    "    - 3DS и PC - прогноз нейтральный, вероятно снижение объемов, но вместе с тем объемы продаж все равно достаточно большие\n",
    "\n",
    "\n",
    "2. Проведен анализ распределения игр по жанрам\n",
    "  - проведена оценка динамики распространенности (количества выпускаемых игр) и коммерческой успешности жанров компьютерных игр в актуальном периоде (2012-2016) относительно предшествующего периода:\n",
    "    - самым успешным жанром является (и являлся) жанр Action (Экшен) - лидер как по числу выпускаемых игр так и по объемам продаж\n",
    "    - с 2012 года жанры Role-Playing (Ролевая игра, РПГ) и Adventure (Приключение) приобретают более широкое распространение - 2 и 3 места в настоящий момент относительно 5 и 7 в период до 2012 года; при этом жанр Adventure не становится коммерчески успешным и также продолжает занимать 10 место по объемам продаж\n",
    "    - доля игр жанра Shooter (Шутер, \"стрелялка\") остается практически неизменной, но при этом объем продаж в указанном жанре существенно увеличился, игры этого жанра занимают 2 место по объемам продаж в период после 2012 года\n",
    "    - с 2012 года доля игр жанров Sports (Спортивные симуляторы) и Racing (Гонки) уменьшается - 4 и 7 места в настоящий момент (по числу игр и объему продаж) относительно 2 и 4 (2 и 6 по объемам продаж) в период до 2012 года\n",
    "  - на основе оценки динамики продаж игр за рассматриваемый актуальный период подготовлены следующие рекомендации на 2017 год:\n",
    "    - за исключением жанра Action игры других жанров демонстрируют нейтральную динамику. По жанру Action возможно намечается начало негативного тренда, тем более что даже по неполным данным за 2016 год объем продаж этого жанра стал меньше продаж в жанре Shooter\n",
    "    - в целом по жанрам Shooter и Role-Playing прогноз позитивный \n",
    "    - по жанрам Action и Sports прогноз нейтральный (риски начала негативного тренда по Action, общее снижение доли продаж Sports относительно других жанров за период с 2012 года)\n",
    "\n",
    "\n",
    "3. Проведен анализ влияние рейтингов (оценок пользователей и критиков) на продажи в рассматриваемый актуальный период \n",
    "  - на примере коммерчески успешных платформ PS3 и PS4 проведена оценка корреляции оценок пользователей и критиков и объемов продаж, получены следующие результаты:\n",
    "    - оценка критиков гораздо большее связана со значением на объем продаж по сравнению с оценкой пользователей (коэффициент корреляции выше)\n",
    "    - коэффициент корреляции между объемами продаж и оценкой критиков на платформах PS3 и PS4 практически совпадают, при этом он существенно выше чем по всем платформам\n",
    "    - на платформах PS3 и PS4 коммерчески успешные игры, в основном, имеют уровень оценки критиков выше 65\n",
    "    - на платформе PS3 корреляция между объемом продаж и оценкой пользователей значительно выше чем для игр PS4, что вероятно объясняется разным возрастом указанных платформ (на текущий момент новые игры на PS3 практически не выходят, продажи минимальные)\n",
    "  - на основе оценки корреляций за рассматриваемый актуальный период подготовлены следующие рекомендации на 2017 год:\n",
    "    - для коммерчески перспективных платформ (PS4, XOne) следует в первую очередь ориентироваться на рейтинг критиков при оценке возможных перспектив продажи игры. Наибольшая вероятность стать коммерчески успешными у игр, получивших от критиков не менее 65 баллов из 100."
   ]
  },
  {
   "cell_type": "markdown",
   "metadata": {},
   "source": [
    "## Составление портрета пользователя"
   ]
  },
  {
   "cell_type": "markdown",
   "metadata": {},
   "source": [
    "### Различия в популярности платформ по регионам"
   ]
  },
  {
   "cell_type": "markdown",
   "metadata": {},
   "source": [
    "Рассмотрим, как отличаются платформы по популярности в различных регионах.\n",
    "\n",
    "Сформируем сводную таблиц продаж (с 2012 года) по платфрормам для каждого из представленных регионов: Европа (EU), Северная Америка (NA) и Япония (JP)."
   ]
  },
  {
   "cell_type": "code",
   "execution_count": null,
   "metadata": {},
   "outputs": [],
   "source": [
    "df_platform_region = df_games_actual.pivot_table(\n",
    "    index='platform', \n",
    "    values = ['na_sales', 'eu_sales', 'jp_sales'], \n",
    "    aggfunc='sum'\n",
    ").reset_index().query('(na_sales + eu_sales + jp_sales) > 0')\n",
    "\n",
    "df_platform_region"
   ]
  },
  {
   "cell_type": "markdown",
   "metadata": {},
   "source": [
    "Определим функцию, которая на основе указанной таблицы составит ТОП-5 платформ по продажам и отдельной строкой добавит оставшиеся платформы с их суммарными продажами."
   ]
  },
  {
   "cell_type": "code",
   "execution_count": null,
   "metadata": {},
   "outputs": [],
   "source": [
    "def make_dataframe_region_sales(\n",
    "    df_sales, \n",
    "    agg_column, \n",
    "    region_name,\n",
    "    add_total = True\n",
    ")->pd.DataFrame:\n",
    "    df = df_sales[[agg_column, region_name]].sort_values(by=region_name, ascending = False)\n",
    "    df.columns = [agg_column, 'sales']\n",
    "    \n",
    "    if (add_total == True):\n",
    "        df['percent'] = np.round((df['sales'] / df['sales'].sum()) * 100, 1)\n",
    "\n",
    "        other_sum = df[5:]['sales'].sum()\n",
    "        other_percent = df[5:]['percent'].sum()\n",
    "\n",
    "        df = df.head(5)\n",
    "        df = df.append(\n",
    "            { agg_column : 'Другие', 'sales' : other_sum, 'percent' : other_percent }, \n",
    "            ignore_index=True\n",
    "        )\n",
    "\n",
    "    return df"
   ]
  },
  {
   "cell_type": "code",
   "execution_count": null,
   "metadata": {},
   "outputs": [],
   "source": [
    "df_platfroms = {\n",
    "    'Северная Америка' : make_dataframe_region_sales(df_platform_region, 'platform', 'na_sales'),\n",
    "    'Европа' : make_dataframe_region_sales(df_platform_region, 'platform', 'eu_sales'),\n",
    "    'Япония' : make_dataframe_region_sales(df_platform_region, 'platform', 'jp_sales'),\n",
    "}\n",
    "\n",
    "df_platfroms['Европа']"
   ]
  },
  {
   "cell_type": "markdown",
   "metadata": {},
   "source": [
    "Определим функцию, которая для каждого региона из представленных составит пару графиков: круговая диаграмма - столбчатая диаграмма.\n",
    "\n",
    "На круговой диаграмме отдельно выделим на ТОП-1 платформу и долю, которая приходится на оставшиеся (не ТОП-5) платформы. На столбчатой диаграмме отобразим объемы продаж по убыванию.\n",
    "\n",
    "Масштаб круговых диаграмм также соотносится по общему объему продаж."
   ]
  },
  {
   "cell_type": "code",
   "execution_count": null,
   "metadata": {},
   "outputs": [],
   "source": [
    "def plot_pie_bar(df_dict, agg_column):\n",
    "    # фомируем словарь вида платформа : цвет - для сквозной палитры по всем графикам\n",
    "    i = 0\n",
    "    color_dict = {}\n",
    "    colors = px.colors.qualitative.Safe\n",
    "    \n",
    "    for pl in pd.concat(df_dict.values())[agg_column].unique():\n",
    "        color_dict[pl] = colors[i]\n",
    "        i += 1\n",
    "    \n",
    "    subplot_titles = []\n",
    "    \n",
    "    for reg in df_dict.keys():\n",
    "        subplot_titles.append(reg)\n",
    "        subplot_titles.append('Объем продаж')\n",
    "    \n",
    "    # объявляем матрицу графиков\n",
    "    fig = make_subplots(\n",
    "        rows=3,\n",
    "        cols=2,\n",
    "        subplot_titles=subplot_titles,\n",
    "        specs=[[{'type':'pie'}, {'type':'bar'}], \n",
    "               [{'type':'pie'}, {'type':'bar'}], \n",
    "               [{'type':'pie'}, {'type':'bar'}]],\n",
    "        horizontal_spacing = 0.01,\n",
    "        vertical_spacing = 0.05,\n",
    "    )\n",
    "    \n",
    "    # для каждого датасета по региону рисуем круговую диаграмму с выделением первого и последнего элементов\n",
    "    # и столбчатую диаграмму в той же палитре\n",
    "    row = 0\n",
    "    for key, df in df_dict.items():\n",
    "        row += 1\n",
    "        \n",
    "        colors = []\n",
    "        for pl in df[agg_column]:\n",
    "            colors.append(color_dict[pl])\n",
    "\n",
    "        fig.add_trace(\n",
    "            go.Pie(\n",
    "                labels=df[agg_column], \n",
    "                values=df['sales'], \n",
    "                pull=[0.15, 0, 0, 0, 0, 0.1], \n",
    "                scalegroup='one',\n",
    "                showlegend=True,\n",
    "                marker_colors=colors\n",
    "            ), \n",
    "            row=row, \n",
    "            col=1\n",
    "        )\n",
    "\n",
    "        fig.add_trace(\n",
    "            go.Bar(\n",
    "                x=df[agg_column], \n",
    "                y=df['sales'], \n",
    "                showlegend=False,\n",
    "                marker_color=colors,\n",
    "            ), \n",
    "            row=row, \n",
    "            col=2)   \n",
    "        \n",
    "    fig.update_layout(title_text='Доли и объемы продаж по регионам (2012 - 2016)', height=1200)\n",
    "    fig.show()\n",
    "    "
   ]
  },
  {
   "cell_type": "code",
   "execution_count": null,
   "metadata": {},
   "outputs": [],
   "source": [
    "plot_pie_bar(df_platfroms, 'platform')"
   ]
  },
  {
   "cell_type": "code",
   "execution_count": null,
   "metadata": {},
   "outputs": [],
   "source": [
    "region_platforms = pd.concat(df_platfroms.values())['platform'].unique()\n",
    "region_platforms"
   ]
  },
  {
   "cell_type": "code",
   "execution_count": null,
   "metadata": {
    "scrolled": true
   },
   "outputs": [],
   "source": [
    "df_platform_stack = df_platform_region.query('platform in @region_platforms')\n",
    "df_platform_stack = df_platform_stack.set_index('platform')\n",
    "#df_platform_stack"
   ]
  },
  {
   "cell_type": "code",
   "execution_count": null,
   "metadata": {},
   "outputs": [],
   "source": [
    "df_platform_stack.columns = ['Европа', 'Япония', 'Северная Америка']\n",
    "df_platform_stack = df_platform_stack.stack().reset_index()\n",
    "df_platform_stack.columns = ['platform', 'region', 'sales']\n",
    "df_platform_stack.head(5)"
   ]
  },
  {
   "cell_type": "code",
   "execution_count": null,
   "metadata": {},
   "outputs": [],
   "source": [
    "fig = px.bar(\n",
    "    df_platform_stack,\n",
    "    x = 'platform',\n",
    "    y = 'sales',\n",
    "    color = 'region',\n",
    "    barmode = 'group',\n",
    "    opacity=0.5,\n",
    "    title = 'Объемы продаж по регионам (2012 - 2016)'\n",
    ")\n",
    "\n",
    "fig.update_layout(xaxis_title='Платформа')\n",
    "fig.update_layout(yaxis_title='Объем продаж (млн копий)')\n",
    "\n",
    "#for trace in fig.data:\n",
    "#    trace.name = trace.name.split('=')[1]\n",
    "\n",
    "fig.show()"
   ]
  },
  {
   "cell_type": "markdown",
   "metadata": {},
   "source": [
    "На основе представленной информации можно сформулировать следующие выводы:\n",
    "- рынки Северной Америки и Европы имеют гораздо больше общего друг с другом и сильно отличаются от рынка Японии: для Америки и Европы состав ТОП-5, общий объем продаж, объем и доля продаж платформы-лидера практически одинаковы\n",
    "- вместе с тем ТОП-3 в Европе и Северной Америке несколько различается: X360 в Америке на 1 месте, в Европе - только на 3\n",
    "- рынок в Америке по платформам более сбаллансирован - объем продаж игр для платформы лидера всего на 50% больше по сравнению с 4 местом; в Европе разница между 1 и 4 местом - практически в 3 раза\n",
    "- рынок Японии заметно отличается - лидер платформа 3DS (45% всего рынка), объем продаж для нее практически в 3 разы больше по сравнению со 2 местом (PS3). Платформы XOne и X360 вне ТОП-5 в Японии, вместо них - PSV и WiiU\n",
    "\n",
    "В целом можно отметить похожесть рынков Европы и Северной Америки, а также их существенные структурные отличия от рынка Европы. Указанные отличия говорят о необходимости при построении прогноза на 2017 год в первую очередь определить регион потенциального покупателя - с учетом закрытости рынка Японии (культурных и языковых особенностей) и меньшего объема рынка следует в первую очередь ориентироваться на покупателя из Европы и Северной Америки. "
   ]
  },
  {
   "cell_type": "markdown",
   "metadata": {},
   "source": [
    "### Различия в популярности жанров по регионам"
   ]
  },
  {
   "cell_type": "markdown",
   "metadata": {},
   "source": [
    "Рассмотрим, как отличаются игровые жанры по популярности в различных регионах.\n",
    "\n",
    "Сформируем сводную таблиц продаж (с 2012 года) по платфрормам для каждого из представленных регионов: Европа (EU), Северная Америка (NA) и Япония (JP)."
   ]
  },
  {
   "cell_type": "code",
   "execution_count": null,
   "metadata": {},
   "outputs": [],
   "source": [
    "df_genre_region = df_games_actual.pivot_table(\n",
    "    index='genre', \n",
    "    values = ['na_sales', 'eu_sales', 'jp_sales'], \n",
    "    aggfunc='sum'\n",
    ").reset_index().query('(na_sales + eu_sales + jp_sales) > 0')\n",
    "\n",
    "df_genre_region"
   ]
  },
  {
   "cell_type": "code",
   "execution_count": null,
   "metadata": {},
   "outputs": [],
   "source": [
    "df_genres = {\n",
    "    'Северная Америка' : make_dataframe_region_sales(df_genre_region, 'genre', 'na_sales'),\n",
    "    'Европа' : make_dataframe_region_sales(df_genre_region, 'genre', 'eu_sales'),\n",
    "    'Япония' : make_dataframe_region_sales(df_genre_region, 'genre', 'jp_sales'),\n",
    "}\n",
    "\n",
    "df_genres['Европа']"
   ]
  },
  {
   "cell_type": "code",
   "execution_count": null,
   "metadata": {},
   "outputs": [],
   "source": [
    "plot_pie_bar(df_genres, 'genre')"
   ]
  },
  {
   "cell_type": "markdown",
   "metadata": {},
   "source": [
    "На основе представленной информации можно сформулировать следующие выводы:\n",
    "- также как и по результатам сравнения популярности платформ по регионам отмечаем, что рынки Северной Америки и Европы имеют гораздо больше общего друг с другом и сильно отличаются от рынка Японии: состав и порядок ТОП-4 жанров, объем и доли продаж по жанрам практически совпадают\n",
    "- в Японии другой жанр-лидер - Role-Playing (в отличие от Action в Европе и Северной Америке) с 34% рынка. Вместе с тем доля жанра Action - чуть более 27% - практически такая же, как в Европе и Северной Америке.\n",
    "\n",
    "В целом можно отметить популярность жанра Action по всем регионам (с примерно одной долей рынка), а также похожесть рынков Европы и Северной Америки. \n",
    "\n",
    "Рынок Японии несколько отличается, возможно это связано с тем, что Япония в целом более высокотехнологичная страна, больший уровень проникновения технологий во все сферы жизни и больший уровень вовлеченности в этот процесс всех возрастов - отчасти наверно с этим связано и бОльшая доля игр без возрастных ограничений на рынке. По платформе - вероятно они в первую очередь ориентируются на японских производителей, поэтому изначально у платформ от Nintendo больше шансов на продажи (тут тоже сложно сказать наверняка, но наверно замещение неяпонской платформой маловероятно, даже при смене поколений платформ). "
   ]
  },
  {
   "cell_type": "markdown",
   "metadata": {},
   "source": [
    "Пример интерактивного графика визуализации по странам"
   ]
  },
  {
   "cell_type": "code",
   "execution_count": null,
   "metadata": {},
   "outputs": [],
   "source": [
    "df_geo = pd.DataFrame(columns = ['region', 'code'])\n",
    "\n",
    "eu_codes = { 'AUT', 'BEL', 'BGR', 'CYP', 'CZE', 'DEU', 'DNK', 'ESP', 'EST', 'FIN', 'FRA', 'GRC',\n",
    "            'HRV', 'HUN', 'IRL', 'ITA', 'LTU', 'LUX', 'LVA', 'MLT', 'NLD', 'POL', 'PRT', 'ROU', 'SVK', 'SVN', 'SWE'    \n",
    "}\n",
    "\n",
    "na_codes = { 'AIA', 'ATG', 'BHS', 'BL', 'BLZ', 'BRB', 'CAN', 'CRI', 'CUB', 'CYM', 'DMA', 'DOM', 'GRD',\n",
    "            'GRL', 'GTM', 'HND', 'HTI', 'JAM', 'KNA', 'LCA', 'MAF', 'MEX', 'MSR', 'MTQ', 'NIC', 'PAN', 'PRI', 'SLV',\n",
    "            'SPM', 'TCA', 'UMI', 'USA', 'VCT', 'VIR'\n",
    "}\n",
    "\n",
    "df_geo = df_geo.append(\n",
    "    {'region': 'JP', 'code' : 'JPN'}, \n",
    "    ignore_index=True\n",
    ")\n",
    "    \n",
    "for code in eu_codes:\n",
    "    df_geo = df_geo.append(\n",
    "        {'region': 'EU', 'code' : code}, \n",
    "        ignore_index=True\n",
    "    )\n",
    "    \n",
    "for code in na_codes:\n",
    "    df_geo = df_geo.append(\n",
    "        {'region': 'NA', 'code' : code}, \n",
    "        ignore_index=True\n",
    "    )"
   ]
  },
  {
   "cell_type": "code",
   "execution_count": null,
   "metadata": {},
   "outputs": [],
   "source": [
    "top_genre = ['Action', 'Shooter', 'Sports', 'Role-Playing']\n",
    "\n",
    "df_genre_region = df_games_actual.pivot_table(\n",
    "    index='genre', \n",
    "    values = ['na_sales', 'eu_sales', 'jp_sales'], \n",
    "    aggfunc='sum'\n",
    ").reset_index().query('(na_sales + eu_sales + jp_sales) > 0 and genre in @top_genre')\n",
    "\n",
    "df_genre_region.columns=['region', 'EU', 'JP', 'NA']\n",
    "df_genre_region['region'] = df_genre_region['region'].astype(str)\n",
    "df_genre_region = df_genre_region.set_index('region').transpose().reset_index().rename(columns={'index': 'region'})\n",
    "df_genre_region"
   ]
  },
  {
   "cell_type": "code",
   "execution_count": null,
   "metadata": {},
   "outputs": [],
   "source": [
    "df_geo = df_geo.merge(df_genre_region, on='region')"
   ]
  },
  {
   "cell_type": "code",
   "execution_count": null,
   "metadata": {},
   "outputs": [],
   "source": [
    "fig = go.Figure(data=go.Choropleth(\n",
    "    locations = df_geo['code'],\n",
    "    z = df_geo['Action'],\n",
    "    text = df_geo['region'],\n",
    "    colorscale = 'rdbu',\n",
    "    autocolorscale=False,\n",
    "    reversescale=False,\n",
    "    marker_line_color='lightgray',\n",
    "    marker_line_width=0.0,\n",
    "    marker_opacity=0.7,\n",
    "    colorbar_tickprefix = '',\n",
    "    colorbar_title = 'Объем продаж<br>(млн копий)',\n",
    "))\n",
    "\n",
    "fig.update_layout(\n",
    "    title_text='Объемы продаж по жанрам (2012-2016)',\n",
    "    geo=dict(\n",
    "        showframe=False,\n",
    "        showcoastlines=False,\n",
    "        projection_type='equirectangular'\n",
    "    ),\n",
    ")\n",
    "\n",
    "fig.update_layout(\n",
    "    updatemenus=[\n",
    "        dict(\n",
    "            buttons=list([\n",
    "                dict(\n",
    "                    args=['z', [df_geo['Action']]],\n",
    "                    label=\"Action\",\n",
    "                    method=\"restyle\"\n",
    "                ),\n",
    "                dict(\n",
    "                    args=['z', [df_geo['Shooter']]],\n",
    "                    label=\"Shooter\",\n",
    "                    method=\"restyle\"\n",
    "                ),\n",
    "                dict(\n",
    "                    args=['z', [df_geo['Sports']]],\n",
    "                    label=\"Sports\",\n",
    "                    method=\"restyle\"\n",
    "                ),\n",
    "                dict(\n",
    "                    args=['z', [df_geo['Role-Playing']]],\n",
    "                    label=\"Role-Playing\",\n",
    "                    method=\"restyle\"\n",
    "                )\n",
    "            ]),\n",
    "            direction=\"down\",\n",
    "            pad={\"r\": 10, \"t\": 10},\n",
    "            showactive=True,\n",
    "            x=0.1,\n",
    "            xanchor=\"left\",\n",
    "            y=1.1,\n",
    "            yanchor=\"top\"\n",
    "        ),\n",
    "    ]\n",
    ")\n",
    "\n",
    "fig.show()"
   ]
  },
  {
   "cell_type": "markdown",
   "metadata": {},
   "source": [
    "### Доли продаж игр различных возрастных рейтингов по регионам"
   ]
  },
  {
   "cell_type": "code",
   "execution_count": null,
   "metadata": {},
   "outputs": [],
   "source": [
    "print('Объем рынка (по продажам) с заполненным рейтингом ESRB: {:.0%}'.format(\n",
    "    df_games_actual.query('rating.notnull()', engine='python')\n",
    "    ['total_sales'].sum() / \n",
    "    df_games_actual['total_sales'].sum())\n",
    "     )"
   ]
  },
  {
   "cell_type": "code",
   "execution_count": null,
   "metadata": {},
   "outputs": [],
   "source": [
    "df_games_actual_esrb = df_games_actual.query('rating.notnull()', engine='python')"
   ]
  },
  {
   "cell_type": "markdown",
   "metadata": {},
   "source": [
    "Сгруппируем игры с рейтингом ESRB по названию, определяя минимальный и максимальный рейтинги."
   ]
  },
  {
   "cell_type": "code",
   "execution_count": null,
   "metadata": {},
   "outputs": [],
   "source": [
    "df_games_rating_nn = (\n",
    "    df_games_actual.query('rating.notnull()', engine='python')\n",
    "    [['name', 'rating']]\n",
    "    .pivot_table(index='name', values='rating', aggfunc=['min', 'max'])\n",
    ").reset_index()\n",
    "\n",
    "df_games_rating_nn.columns = ['name', 'rating_min', 'rating_max']\n",
    "df_games_rating_nn.query('rating_max > rating_min', engine='python')"
   ]
  },
  {
   "cell_type": "markdown",
   "metadata": {},
   "source": [
    "Игр, имеющиех различные рейтинги, всего 2 - в основном игра с одним и тем же названием (для разных платформ) имеет один и тот же возрастной рейтинг."
   ]
  },
  {
   "cell_type": "code",
   "execution_count": null,
   "metadata": {},
   "outputs": [],
   "source": [
    "df_games_rating_nn = df_games_rating_nn[['name', 'rating_max']]\n",
    "df_games_rating_nn.sort_values(by='name')"
   ]
  },
  {
   "cell_type": "markdown",
   "metadata": {},
   "source": [
    "Выделим игры без возрастного рейтинга и для них сделаем заполнение рейтинга по совпадению названияю"
   ]
  },
  {
   "cell_type": "code",
   "execution_count": null,
   "metadata": {},
   "outputs": [],
   "source": [
    "df_games_rating_none = df_games_actual.query('rating.isnull()', engine='python')"
   ]
  },
  {
   "cell_type": "code",
   "execution_count": null,
   "metadata": {},
   "outputs": [],
   "source": [
    "df = df_games_rating_none.merge(df_games_rating_nn, on='name').sort_values(by='total_sales', ascending=False)\n",
    "df['rating'] = df['rating_max']\n",
    "df.drop('rating_max', inplace=True, axis=1)\n",
    "df"
   ]
  },
  {
   "cell_type": "markdown",
   "metadata": {},
   "source": [
    "В таблице df_games_actual_esrb соберем все игры с возрастным рейтингом."
   ]
  },
  {
   "cell_type": "code",
   "execution_count": null,
   "metadata": {},
   "outputs": [],
   "source": [
    "df_games_actual_esrb = pd.concat([df_games_actual_esrb, df])\n",
    "df_games_actual_esrb"
   ]
  },
  {
   "cell_type": "code",
   "execution_count": null,
   "metadata": {},
   "outputs": [],
   "source": [
    "print('Объем рынка (по продажам) с заполненным рейтингом ESRB: {:.0%}'.format(\n",
    "    df_games_actual_esrb['total_sales'].sum() / \n",
    "    df_games_actual['total_sales'].sum())\n",
    "     )"
   ]
  },
  {
   "cell_type": "markdown",
   "metadata": {},
   "source": [
    "После заполнения рейтингов по совпадению названия охват рынка увеличился до 80%. \n",
    "\n",
    "Далее дозаполним по совпадению основной части названия (например, в \"Call of Duty: Black Ops 3\" возьмем только \"Call of Duty\" и найдем игры с рейтингом с таким же префиксом)"
   ]
  },
  {
   "cell_type": "code",
   "execution_count": null,
   "metadata": {},
   "outputs": [],
   "source": [
    "df_games_rating_none = df_games_rating_none.query('name not in @df.name')\n",
    "df_games_rating_none"
   ]
  },
  {
   "cell_type": "code",
   "execution_count": null,
   "metadata": {
    "scrolled": true
   },
   "outputs": [],
   "source": [
    "df_games_rating_nn['delim_index'] = df_games_rating_nn['name'].str.find(':')\n",
    "df_games_rating_nn.loc[df_games_rating_nn['delim_index'] == -1, 'delim_index'] = df_games_rating_nn['name'].str.len()\n",
    "df_games_rating_nn['main_name'] = df_games_rating_nn.apply(lambda x: x['name'][0:x['delim_index']],axis=1)\n",
    "\n",
    "df_games_rating_nn = df_games_rating_nn.pivot_table(index='main_name', values='rating_max', aggfunc='max').reset_index()\n",
    "df_games_rating_nn.head(5)"
   ]
  },
  {
   "cell_type": "code",
   "execution_count": null,
   "metadata": {},
   "outputs": [],
   "source": [
    "df_games_rating_none['delim_index'] = df_games_rating_none['name'].str.find(':')\n",
    "df_games_rating_none.loc[df_games_rating_none['delim_index'] == -1, 'delim_index'] = df_games_rating_none['name'].str.len()\n",
    "df_games_rating_none['main_name'] = df_games_rating_none.apply(lambda x: x['name'][0:x['delim_index']],axis=1)\n",
    "\n",
    "df_games_rating_none.head(5)"
   ]
  },
  {
   "cell_type": "code",
   "execution_count": null,
   "metadata": {},
   "outputs": [],
   "source": [
    "df = df_games_rating_none.merge(df_games_rating_nn, on='main_name').sort_values(by='total_sales', ascending=False)\n",
    "df['rating'] = df['rating_max']\n",
    "df.drop(['rating_max', 'main_name'], inplace=True, axis=1)\n",
    "df"
   ]
  },
  {
   "cell_type": "code",
   "execution_count": null,
   "metadata": {},
   "outputs": [],
   "source": [
    "df_games_actual_esrb = pd.concat([df_games_actual_esrb, df], sort=False)\n",
    "df_games_actual_esrb"
   ]
  },
  {
   "cell_type": "code",
   "execution_count": null,
   "metadata": {},
   "outputs": [],
   "source": [
    "print('Объем рынка (по продажам) с заполненным рейтингом ESRB: {:.0%}'.format(\n",
    "    df_games_actual_esrb['total_sales'].sum() / \n",
    "    df_games_actual['total_sales'].sum())\n",
    "     )"
   ]
  },
  {
   "cell_type": "markdown",
   "metadata": {},
   "source": [
    "Оценим, насколько игры каждого жанра широко представлены по возрастным рейтингам."
   ]
  },
  {
   "cell_type": "code",
   "execution_count": null,
   "metadata": {},
   "outputs": [],
   "source": [
    "df_games_actual_esrb.groupby('genre')['rating'].value_counts()"
   ]
  },
  {
   "cell_type": "code",
   "execution_count": null,
   "metadata": {},
   "outputs": [],
   "source": [
    "df_games_rating_none.groupby('genre')['genre'].value_counts()"
   ]
  },
  {
   "cell_type": "markdown",
   "metadata": {},
   "source": [
    "Наибольшая доля незаполненных рейтингов - в популярных жанрах Action, Adventure, Role-Playing. По ним сделать предположения о рейтинге не представляется возможным (в таблице выше видно, что они как раз достаточно равномерно представлены всеми возрастными категориями). Наверно можно было бы сделать замену на основе соотношений, но не знаю насколько это целесообразно, в принципе мы и так имеем более 80% объема рынка после дозаполнения пропусков в рейтинге."
   ]
  },
  {
   "cell_type": "markdown",
   "metadata": {},
   "source": [
    "Рассмотрим, как отличаются доли продаж игр различных возрастных категорий в представленных регионах.\n",
    "\n",
    "Сформируем сводную таблиц продаж (с 2012 года) по возрастным категориям."
   ]
  },
  {
   "cell_type": "code",
   "execution_count": null,
   "metadata": {},
   "outputs": [],
   "source": [
    "df_esrb_region = df_games_actual_esrb.pivot_table(\n",
    "    index='rating', \n",
    "    values = ['na_sales', 'eu_sales', 'jp_sales'], \n",
    "    aggfunc='sum'\n",
    ").reset_index().query('(na_sales + eu_sales + jp_sales) > 0')\n",
    "\n",
    "df_esrb_region.loc[:, 'rating'] = df_esrb_region['rating'].astype('object')\n",
    "df_esrb_region"
   ]
  },
  {
   "cell_type": "code",
   "execution_count": null,
   "metadata": {},
   "outputs": [],
   "source": [
    "df_esrb_rates = {\n",
    "    'Северная Америка' : make_dataframe_region_sales(df_esrb_region, 'rating', 'na_sales', False),\n",
    "    'Европа' : make_dataframe_region_sales(df_esrb_region, 'rating', 'eu_sales', False),\n",
    "    'Япония' : make_dataframe_region_sales(df_esrb_region, 'rating', 'jp_sales', False),\n",
    "}\n",
    "\n",
    "df_esrb_rates['Европа']"
   ]
  },
  {
   "cell_type": "markdown",
   "metadata": {},
   "source": [
    "Аналогично предыдущему визуализируем данные в виде круговых диаграмм. Диаграммы строятся без учета масштаба (общего объема рынка)."
   ]
  },
  {
   "cell_type": "code",
   "execution_count": null,
   "metadata": {},
   "outputs": [],
   "source": [
    "i = 0\n",
    "color_dict = {}\n",
    "colors = px.colors.qualitative.Safe\n",
    "    \n",
    "for pl in pd.concat(df_esrb_rates.values())['rating'].unique():\n",
    "    color_dict[pl] = colors[i]\n",
    "    i += 1\n",
    "    \n",
    "subplot_titles = []\n",
    "    \n",
    "for reg in df_esrb_rates.keys():\n",
    "    subplot_titles.append(reg)\n",
    "    \n",
    "# объявляем матрицу графиков\n",
    "fig = make_subplots(\n",
    "    rows=2,\n",
    "    cols=2,\n",
    "    subplot_titles=subplot_titles,\n",
    "    specs=[[{'type':'pie'}, {'type':'pie'}], \n",
    "           [{'type':'pie', 'colspan' : 2}, {'type':'pie'}]],\n",
    "    horizontal_spacing = 0.01,\n",
    "    vertical_spacing = 0.05,\n",
    ")\n",
    "    \n",
    "# для каждого датасета по региону рисуем круговую диаграмму с выделением первого элемента\n",
    "i = 0\n",
    "for key, df in df_esrb_rates.items():\n",
    "    i += 1    \n",
    "        \n",
    "    colors = []\n",
    "    for pl in df['rating']:\n",
    "        colors.append(color_dict[pl])\n",
    "\n",
    "    fig.add_trace(\n",
    "        go.Pie(\n",
    "            labels=df['rating'], \n",
    "            values=df['sales'], \n",
    "            pull=[0.15, 0, 0, 0, 0], \n",
    "            showlegend=True,\n",
    "            marker_colors=colors\n",
    "        ), \n",
    "        row = int ((i + 1) / 2) , \n",
    "        col = 2 if (i % 2) == 0 else 1\n",
    "    )\n",
    "    \n",
    "fig.update_layout(title_text='Доли продаж по возрастным рейтингам ESRB', height=800)\n",
    "fig.show()"
   ]
  },
  {
   "cell_type": "markdown",
   "metadata": {},
   "source": [
    "По возрастным категориям отмечаем следующие особенности:\n",
    "- также как и по результатам сравнения популярности платформ и игровых жанром отмечаем, что рынки Северной Америки и Европы по возрастным категориям игр практически совпадают - наиболее популярными являются игры категории M (Mature - игры для совершеннолетних 17+), с наиболее строгим возрастным ограничением. На обоих рынках доля таких игр составляет около 50%\n",
    "- в Японии доля игр категории M составляет всего 25% (3 место), наиболее популярными здесь являются игры без возрастных ограничений (E) и игры для подростков (T, 13+)\n",
    "\n",
    "Выявленные особенности указывают на то, что в Японии более широкие по возрасту слои населения вовлечены в игровую индустрию, доля игр для детей и подростков существенно выше чем в Европе и Северной Америке, где половину продаж составляют игры с жестким возрастным ограничением. "
   ]
  },
  {
   "cell_type": "markdown",
   "metadata": {},
   "source": [
    "### Выводы\n",
    "\n",
    "В рамках дальнейшего анализа проведена сравнительна оценка региональных особенностей рынков компьютерных игр и составлен портрет пользователя из Европы, Северной Америки и Японии.\n",
    "\n",
    "В целом отмечаем следующее:\n",
    "  - рынки Европы и Северной Америки имеют много общего друг с другом - практически совпадают не только по наиболее востребованным жанрам (Action, Shooter, Sports, Role-Playing) и возрастным категориям (игры с максимальным возрастным цензом) игр, но также и по распространенности и долям игровых платформ на рынке (ТОП-3 - PS4, PS3, X360). Общие объемы продаж также практически совпадают\n",
    "  - рынок Японии отличается практически по всем параметрам:\n",
    "    - наиболее успешная платформа - 3DS\n",
    "    - популярные жанры - Role-Playing и Action\n",
    "    - возрастная категория - игры без возрастных ограничений и для подростков (13+)\n",
    "\n",
    "Указанные отличия говорят о необходимости при построении прогноза на 2017 год в первую очередь определить регион потенциального покупателя - с учетом закрытости рынка Японии (культурных и языковых особенностей) и меньшего объема рынка следует в первую очередь ориентироваться на покупателя из Европы и Северной Америки. В этом случае различия в долях платформ из ТОП-3 позволит диверсифицировать риски невостребованности игр под отдельные игровые платформы (платформы с нейтральным прогнозом на 2017 год)."
   ]
  },
  {
   "cell_type": "markdown",
   "metadata": {},
   "source": [
    "## Проверка статистических гипотез"
   ]
  },
  {
   "cell_type": "markdown",
   "metadata": {},
   "source": [
    "### Гипотеза о средних пользовательских рейтингах платформ Xbox One и PC"
   ]
  },
  {
   "cell_type": "markdown",
   "metadata": {},
   "source": [
    "**Проверим следующую гипотезу: \"Средний пользовательский рейтинг игр для платформ Xbox One и PC одинаков\"**\n",
    "\n",
    "Приведем проверку указанной гипотезы к задаче сопоставления средних двух генеральных совокупностей:\n",
    "- генеральная сововкупность А - все игры для платформы Xbox One (XOne), имеющие пользовательский рейтинг \n",
    "- генеральная сововкупность В - все игры для платформы PC, имеющие пользовательский рейтинг\n",
    "\n",
    "Подготовим данные. Возьмем последовательности пользовательских рейтингов для указанных платформ. С учетом того, что игровая платформа PC имеет самую большую продолжительность жизни, данные будем брать за весь рассматриваемый период."
   ]
  },
  {
   "cell_type": "code",
   "execution_count": null,
   "metadata": {},
   "outputs": [],
   "source": [
    "xone_series = df_games.query('platform == \\'XOne\\' and user_score.notnull()', engine='python')['user_score']\n",
    "xone_series"
   ]
  },
  {
   "cell_type": "code",
   "execution_count": null,
   "metadata": {},
   "outputs": [],
   "source": [
    "pc_series = df_games.query('platform == \\'PC\\' and user_score.notnull()', engine='python')['user_score']\n",
    "pc_series"
   ]
  },
  {
   "cell_type": "markdown",
   "metadata": {},
   "source": [
    "Сформулируем нулевую гипотезу H₀:\n",
    "\"Средний пользовательский рейтинг игр для платформы Xbox One равен среднему пользовательскому рейтингу игр для платформы PC\"\n",
    "\n",
    "Альтернативная гипотеза H₁:\n",
    "\"Средний пользовательский рейтинг игр для платформы Xbox One отличается от среднего пользовательского рейтинга игр для платформы PC\"\n",
    "\n",
    "Критический уровень статистической значимости установим в 1% (данных в выборках достаточно много).\n",
    "\n",
    "Проведем проверку гипотезы H₀."
   ]
  },
  {
   "cell_type": "markdown",
   "metadata": {},
   "source": [
    "Проведем оценку дисперсий указанных выборок. Поскольку представленные данные - выборка из всей совокупности игр для указанных платформ, то для дисперсии получим ее оценку по выборке (рассчет с параметром ddof=1)."
   ]
  },
  {
   "cell_type": "code",
   "execution_count": null,
   "metadata": {},
   "outputs": [],
   "source": [
    "np.var(xone_series, ddof=1)"
   ]
  },
  {
   "cell_type": "code",
   "execution_count": null,
   "metadata": {},
   "outputs": [],
   "source": [
    "np.var(pc_series, ddof=1)"
   ]
  },
  {
   "cell_type": "code",
   "execution_count": null,
   "metadata": {},
   "outputs": [],
   "source": [
    "import scipy\n",
    "from scipy import stats\n",
    "\n",
    "scipy.stats.shapiro(pc_series)"
   ]
  },
  {
   "cell_type": "code",
   "execution_count": null,
   "metadata": {},
   "outputs": [],
   "source": [
    "alpha = 0.01\n",
    "\n",
    "results = st.ttest_ind(\n",
    "    xone_series, # выборка по платформе XOne\n",
    "    pc_series, # выборка по платформе PC\n",
    "    equal_var = False\n",
    ")\n",
    "\n",
    "print('p-значение:', results.pvalue)\n",
    "\n",
    "if (results.pvalue < alpha):\n",
    "    print(\"Отвергаем нулевую гипотезу\")\n",
    "else:\n",
    "    print(\"Не получилось отвергнуть нулевую гипотезу\")"
   ]
  },
  {
   "cell_type": "markdown",
   "metadata": {},
   "source": [
    "Результат t-теста двух исходных выборок с значениями пользовательских оценок игр на платформах XOne и PC позволяет отвергнуть гипотезу H₀. Т.е. в нашем случае вывод следующий:\n",
    "\n",
    "**Гипотеза \"Средний пользовательский рейтинг игр для платформ Xbox One и PC одинаков\" - неверна**"
   ]
  },
  {
   "cell_type": "markdown",
   "metadata": {},
   "source": [
    "### Гипотеза о средних пользовательских рейтингах жанров Action и Sports"
   ]
  },
  {
   "cell_type": "markdown",
   "metadata": {},
   "source": [
    "**Проверим следующую гипотезу: \"Средний пользовательский рейтинг игр жанров Action и Sports одинаков\"**\n",
    "\n",
    "Аналогично предыдущему приведем проверку указанной гипотезы к задаче сопоставления средних двух генеральных совокупностей:\n",
    "- генеральная сововкупность А - все игры жанра Action, имеющие пользовательский рейтинг  \n",
    "- генеральная сововкупность В - все игры жанра Sports, имеющие пользовательский рейтинг\n",
    "\n",
    "В нашей гипотезе нас не интересует, чей средний рейтинг больше (меньше) в случае отличия. Поэтому аналогично предыдущему сформулируем нулевую гипотезу H₀:\n",
    "\"Средний пользовательский рейтинг игр жанра Action равен среднему пользовательскому рейтингу игр жанра Sports\"\n",
    "\n",
    "Альтернативная гипотеза H₁:\n",
    "\"Средний пользовательский рейтинг игр жанра Action не равен среднему пользовательскому рейтингу игр жанра Sports\"\n",
    "\n",
    "Проведем проверку гипотезы H₀.\n",
    "\n",
    "Подготовим данные. С учетом того, что нас интересует проверка гипотезы относительно актуального периода времени с целью возможного применения при построении прогнозных оценок на 2017 год, возьмем для проверки данные за рассматриваемый актуальный период - с 2012 по 2016 гг."
   ]
  },
  {
   "cell_type": "code",
   "execution_count": null,
   "metadata": {},
   "outputs": [],
   "source": [
    "action_series = df_games_actual.query('genre == \\'Action\\' and user_score.notnull()', engine='python')['user_score']\n",
    "action_series"
   ]
  },
  {
   "cell_type": "code",
   "execution_count": null,
   "metadata": {
    "scrolled": true
   },
   "outputs": [],
   "source": [
    "sports_series = df_games_actual.query('genre == \\'Sports\\' and user_score.notnull()', engine='python')['user_score']\n",
    "sports_series"
   ]
  },
  {
   "cell_type": "markdown",
   "metadata": {},
   "source": [
    "Проведем оценку дисперсий указанных выборок. Поскольку представленные данные - выборка из всей совокупности игр указанных жанров, то для дисперсии получим ее оценку по выборке (рассчет с параметром ddof=1)."
   ]
  },
  {
   "cell_type": "code",
   "execution_count": null,
   "metadata": {},
   "outputs": [],
   "source": [
    "np.var(action_series, ddof=1)"
   ]
  },
  {
   "cell_type": "code",
   "execution_count": null,
   "metadata": {},
   "outputs": [],
   "source": [
    "np.var(sports_series, ddof=1)"
   ]
  },
  {
   "cell_type": "markdown",
   "metadata": {},
   "source": [
    "Критический уровень статистической значимости установим в 0.1% (данных в выборках достаточно много)."
   ]
  },
  {
   "cell_type": "code",
   "execution_count": null,
   "metadata": {},
   "outputs": [],
   "source": [
    "alpha = 0.001\n",
    "\n",
    "results = st.ttest_ind(\n",
    "    action_series, # выборка по жанру Action\n",
    "    sports_series, # выборка по жанру Sports\n",
    "    equal_var = False\n",
    ")\n",
    "\n",
    "print('p-значение:', results.pvalue)\n",
    "\n",
    "if (results.pvalue < alpha):\n",
    "    print(\"Отвергаем нулевую гипотезу\")\n",
    "else:\n",
    "    print(\"Не получилось отвергнуть нулевую гипотезу\")"
   ]
  },
  {
   "cell_type": "markdown",
   "metadata": {},
   "source": [
    "Результат t-теста двух исходных выборок с значениями в рассматриваемый актуальный период пользовательских оценок игр жанров Action и Sports позволяет отвергнуть гипотезу H₀. Т.е. в нашем случае вывод следующий:\n",
    "\n",
    "**Гипотеза \"Средний пользовательский рейтинг игр жанров Action и Sports одинаков\" - неверна**"
   ]
  },
  {
   "cell_type": "markdown",
   "metadata": {},
   "source": [
    "При проверке на всем объеме данных:"
   ]
  },
  {
   "cell_type": "code",
   "execution_count": null,
   "metadata": {},
   "outputs": [],
   "source": [
    "action_series = df_games.query('genre == \\'Action\\' and user_score.notnull()', engine='python')['user_score']\n",
    "sports_series = df_games.query('genre == \\'Sports\\' and user_score.notnull()', engine='python')['user_score']"
   ]
  },
  {
   "cell_type": "code",
   "execution_count": null,
   "metadata": {},
   "outputs": [],
   "source": [
    "np.var(action_series, ddof=1)"
   ]
  },
  {
   "cell_type": "code",
   "execution_count": null,
   "metadata": {},
   "outputs": [],
   "source": [
    "np.var(sports_series, ddof=1)"
   ]
  },
  {
   "cell_type": "code",
   "execution_count": null,
   "metadata": {},
   "outputs": [],
   "source": [
    "alpha = 0.001\n",
    "\n",
    "results = st.ttest_ind(\n",
    "    action_series, # выборка по жанру Action\n",
    "    sports_series, # выборка по жанру Sports\n",
    "    equal_var = False\n",
    ")\n",
    "\n",
    "print('p-значение:', results.pvalue)\n",
    "\n",
    "if (results.pvalue < alpha):\n",
    "    print(\"Отвергаем нулевую гипотезу\")\n",
    "else:\n",
    "    print(\"Не получилось отвергнуть нулевую гипотезу\")"
   ]
  },
  {
   "cell_type": "markdown",
   "metadata": {},
   "source": [
    "При проверке на всем объеме исходных данных (с 1993 года) данные выборки не противоречат гипотезе H₀. \n",
    "\n",
    "С некоторой долей вероятности можно предположить, что средний пользовательский рейтинг игр жанров Action и Sports совпадает на всем рассматриваемом временном интервале."
   ]
  },
  {
   "cell_type": "markdown",
   "metadata": {},
   "source": [
    "### Выводы\n",
    "\n",
    "На основе имеющихся данных о пользовательских оценках компьютерных игр различных платформ и жанров проведена проверка статистических гипотез:\n",
    "- средний пользовательский рейтинг игр для платформ Xbox One и PC одинаков\n",
    "- средний пользовательский рейтинг игр жанров Action и Sports одинаков\n",
    "\n",
    "Проверка проводилась путем приведения к проверке гипотезы о равенстве средних двух генеральных совокупностей. В рамках проверки в каждом случае сформулирована гипотеза H₀: \n",
    "- (1) \"Средний пользовательский рейтинг игр для платформы Xbox One равен среднему пользовательскому рейтингу игр для платформы PC\" \n",
    "- (2) \"Средний пользовательский рейтинг игр жанра Action равен среднему пользовательскому рейтингу игр жанра Sports\"\n",
    "\n",
    "При проверке гипотезы (2) рассматривались данные как за текущий актуальный временной период (2012-2016) с целью возможного применения про составлении прогнозных оценок на 2017 год, так и за весь рассматриваемый период.\n",
    "\n",
    "Результаты проверки указанных гипотез H₀ позволили сделать следующие выводы:\n",
    "- опровергнуть гипотезу (1), и соответственно опровергнуть гипотезу о равенстве средних пользовательских рейтингов игр для платформ XOne и PC\n",
    "- опровергнуть гипотезу (2), и соответственно опровергнуть гипотезу о равенстве средних пользовательских рейтингов игр жанров Action и Sports в актуальном временном интервале (2012-2016)\n",
    "- не опровергнуть гипотезу (2), соответственно сделать предположение о возможном равенстве средних пользовательских рейтингов игр жанров Action и Sports за все время"
   ]
  },
  {
   "cell_type": "markdown",
   "metadata": {},
   "source": [
    "## Выводы\n",
    "\n",
    "В рамках исследования проводился анализ исторических данных из открытых источников о продажах игр, оценках пользователей и экспертов, жанрах и платформах с целью выявления возможных закономерностей, определяющих успешность игр, и составления прогнозных оценок продаж на 2017 год. \n",
    "\n",
    "Задачамии исследования являлись:\n",
    "- анализ представленных данных о продажах, выявление закономерностей в продажах в зависимости от платформы и игрового жанра\n",
    "- определение актуального временного периода для прогнозирования продаж на 2017 год\n",
    "- оценка корреляции рейтингов пользователей и экспертов и коммерческого успеха игры\n",
    "- выявление особенностей региональных рынков (Европа, Северная Америка, Япония)\n",
    "- проверка гипотезы о равенстве пользовательских рейтингов платформ Xbox One и PC\n",
    "- проверка гипотезы о равенстве пользовательских рейтингов жанров Action и Sports\n",
    "\n",
    "\n",
    "\n",
    "1. Исходные данные были представлены в виде одной таблицы со сведениями о  продажах игр различных жанров и платформ за период с 1980 по 2016 гг. На этапе предварительной обработки проведены необходимые операции приведения типов данных, выделения категориальных типов, а также отсечения незначащих данных. По результам из рассмотрения исключены данные об играх выпуска ранее 1993 года и отдельных редких игровых платформ. \n",
    "\n",
    "Данные о возрастном рейтинге игр приведены в соответствие с действующей на момент 2016 года классификацией ESRB. Также приведены к единой шкале оценки пользователей и критиков (от 0 до 100), на основе соотношений оценок пользователей и экспертов проведено заполнение пропусков отдельных значений, без изменения общего характера распределения данных.\n",
    "\n",
    "2. В рамках дальнейшего исследования выявлены общие закономерности, определяющие коммерческую успешность игр, а также определен актуальный период данных построения прогнозных оценок на 2017 год - данные с 2012 по 2016 гг. На основе данных рассматриваемого актуального периода выделены две условных категории игровых платформ по возрасту (относительно предполагаемого времени жизни):\n",
    "  - \"молодые\": 3DS, PS4, PSV, WiiU, XOne\n",
    "  - \"возрастные\": PS3, Wii, X360. Также к это группе отнесена платформа PC - как платформа с наибольшим временем жизни (отличается от всех остальных платформ)\n",
    "И для них на основе оценки динамики продаж игр за рассматриваемый актуальный период подготовлены следующие рекомендации на 2017 год:\n",
    "  - PS4 - прогноз позитивный, однозначный лидер рынка, имеется потенциал к росту\n",
    "  - XOne - прогноз умеренно позитивный, уверенное второе место, но есть риск подтверждения негативной динамики продаж в 2017 году\n",
    "  - 3DS и PC - прогноз нейтральный, вероятно снижение объемов, но вместе с тем объемы продаж все равно достаточно большие\n",
    "\n",
    "3. Проведен анализ распределения игр по жанрам в целом и динамика за рассматриваемый период. Подготовлены следующие рекомендации на 2017 год:\n",
    "  - в целом по жанрам Shooter и Role-Playing прогноз позитивный \n",
    "  - по жанрам Action и Sports прогноз нейтральный (риски начала негативного тренда по Action, общее снижение доли продаж Sports относительно других жанров за период с 2012 года)\n",
    "\n",
    "4. Проведен анализ влияния рейтингов (оценок пользователей и критиков) на продажи в рассматриваемый актуальный период и на основе оценки корреляций рейтингов и продаж игр на платформах PS3 и PS4 подготовлены следующие рекомендации на 2017 год:\n",
    "  - для коммерчески перспективных платформ (PS4, XOne) следует в первую очередь ориентироваться на рейтинг критиков при оценке возможных перспектив продажи игры. Наибольшая вероятность стать коммерчески успешными у игр, получивших от критиков не менее 65 баллов из 100.\n",
    "\n",
    "5. В рамках дальнейшего анализа проведена сравнительна оценка региональных особенностей рынков компьютерных игр и составлен портрет пользователя из Европы, Северной Америки и Японии. Выявлены следующие закономерности:\n",
    "  - рынки Европы и Северной Америки имеют много общего друг с другом - практически совпадают по наиболее востребованным жанрам и возрастным категориям игр, по распространенности и долям игровых платформ на рынке (ТОП-3 - PS4, PS3, X360). \n",
    "  - рынок Японии отличается от Европы и Северной Америки практически по всем параметрам: наиболее успешная платформа, популярные жанры, возрастная категория. \n",
    "\n",
    "Указанные отличия говорят о необходимости при построении прогноза на 2017 год в первую очередь определить регион потенциального покупателя - с учетом закрытости рынка Японии (культурных и языковых особенностей) и меньшего объема рынка следует в первую очередь ориентироваться на покупателя из Европы и Северной Америки. В этом случае различия в долях платформ из ТОП-3 позволит диверсифицировать риски невостребованности игр под отдельные игровые платформы (платформы с нейтральным прогнозом на 2017 год).\n",
    "\n",
    "6. В заключительной части исследования проведена проверка статистических гипотез:\n",
    "  - средний пользовательский рейтинг игр для платформ Xbox One и PC одинаков\n",
    "  - средний пользовательский рейтинг игр жанров Action и Sports одинаков\n",
    "\n",
    "Результаты проверки позволили сделать следующие выводы:\n",
    "  - опровергнуть гипотезу о равенстве средних пользовательских рейтингов игр для платформ XOne и PC\n",
    "  - опровергнуть гипотезу о равенстве средних пользовательских рейтингов игр жанров Action и Sports в актуальном временном интервале (2012-2016)\n",
    "  - не опровергнуть гипотезу и соответственно сделать предположение о возможном равенстве средних пользовательских рейтингов игр жанров Action и Sports за все рассматриваемое время\n",
    "\n",
    "\n",
    "**В качестве общих рекомендаций на 2017 год по результатам исследования следует отметить следующее:**\n",
    "  - рынки Европы и Северной Америки кажутся более предпочтительными с точки зрения коммерческого потенциала\n",
    "  - на этих рынках наиболее востребованными вероятно окажутся платформы PS4 и XOne (приходящая на смену X360 из ТОП-3)\n",
    "  - наиболее востребованными жанрами на этих рынках будут Shooter, Role-Playing, Action и Sports, при этом стоит в основном ориентироваться на игры со строгим возрастным ограничением (17+)\n",
    "  - при выборе отдельных игр для продвижения в первую очередь стоит ориентироваться на оценки критиков, делая ставку на игры с рейтингом не менее 65 баллов из 100.\n"
   ]
  },
  {
   "cell_type": "code",
   "execution_count": null,
   "metadata": {},
   "outputs": [],
   "source": []
  }
 ],
 "metadata": {
  "kernelspec": {
   "display_name": "Python 3",
   "language": "python",
   "name": "python3"
  },
  "language_info": {
   "codemirror_mode": {
    "name": "ipython",
    "version": 3
   },
   "file_extension": ".py",
   "mimetype": "text/x-python",
   "name": "python",
   "nbconvert_exporter": "python",
   "pygments_lexer": "ipython3",
   "version": "3.8.8"
  },
  "toc": {
   "base_numbering": 1,
   "nav_menu": {},
   "number_sections": true,
   "sideBar": true,
   "skip_h1_title": true,
   "title_cell": "Содержание",
   "title_sidebar": "Contents",
   "toc_cell": true,
   "toc_position": {
    "height": "calc(100% - 180px)",
    "left": "10px",
    "top": "150px",
    "width": "384px"
   },
   "toc_section_display": true,
   "toc_window_display": true
  }
 },
 "nbformat": 4,
 "nbformat_minor": 2
}
