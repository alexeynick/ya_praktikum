{
 "cells": [
  {
   "cell_type": "markdown",
   "metadata": {
    "toc": true
   },
   "source": [
    "<h1>Содержание<span class=\"tocSkip\"></span></h1>\n",
    "<div class=\"toc\"><ul class=\"toc-item\"><li><span><a href=\"#Общая-информация-о-данных\" data-toc-modified-id=\"Общая-информация-о-данных-1\"><span class=\"toc-item-num\">1&nbsp;&nbsp;</span>Общая информация о данных</a></span><ul class=\"toc-item\"><li><span><a href=\"#Таблица-users---информация-о-пользователях\" data-toc-modified-id=\"Таблица-users---информация-о-пользователях-1.1\"><span class=\"toc-item-num\">1.1&nbsp;&nbsp;</span>Таблица <code>users</code> - информация о пользователях</a></span><ul class=\"toc-item\"><li><span><a href=\"#Состав-атрибутов\" data-toc-modified-id=\"Состав-атрибутов-1.1.1\"><span class=\"toc-item-num\">1.1.1&nbsp;&nbsp;</span>Состав атрибутов</a></span></li></ul></li><li><span><a href=\"#Таблица-calls---информация-о-звонках\" data-toc-modified-id=\"Таблица-calls---информация-о-звонках-1.2\"><span class=\"toc-item-num\">1.2&nbsp;&nbsp;</span>Таблица <code>calls</code> - информация о звонках</a></span><ul class=\"toc-item\"><li><span><a href=\"#Состав-атрибутов\" data-toc-modified-id=\"Состав-атрибутов-1.2.1\"><span class=\"toc-item-num\">1.2.1&nbsp;&nbsp;</span>Состав атрибутов</a></span></li></ul></li><li><span><a href=\"#Таблица-messages---информация-о-сообщениях\" data-toc-modified-id=\"Таблица-messages---информация-о-сообщениях-1.3\"><span class=\"toc-item-num\">1.3&nbsp;&nbsp;</span>Таблица <code>messages</code> - информация о сообщениях</a></span><ul class=\"toc-item\"><li><span><a href=\"#Состав-атрибутов\" data-toc-modified-id=\"Состав-атрибутов-1.3.1\"><span class=\"toc-item-num\">1.3.1&nbsp;&nbsp;</span>Состав атрибутов</a></span></li></ul></li><li><span><a href=\"#Таблица-internet---информация-об-интернет-сессиях\" data-toc-modified-id=\"Таблица-internet---информация-об-интернет-сессиях-1.4\"><span class=\"toc-item-num\">1.4&nbsp;&nbsp;</span>Таблица <code>internet</code> - информация об интернет-сессиях</a></span><ul class=\"toc-item\"><li><span><a href=\"#Состав-атрибутов\" data-toc-modified-id=\"Состав-атрибутов-1.4.1\"><span class=\"toc-item-num\">1.4.1&nbsp;&nbsp;</span>Состав атрибутов</a></span></li></ul></li><li><span><a href=\"#Таблица-tariffs---информация-о-тарифах\" data-toc-modified-id=\"Таблица-tariffs---информация-о-тарифах-1.5\"><span class=\"toc-item-num\">1.5&nbsp;&nbsp;</span>Таблица <code>tariffs</code> - информация о тарифах</a></span><ul class=\"toc-item\"><li><span><a href=\"#Состав-атрибутов\" data-toc-modified-id=\"Состав-атрибутов-1.5.1\"><span class=\"toc-item-num\">1.5.1&nbsp;&nbsp;</span>Состав атрибутов</a></span></li><li><span><a href=\"#Описание-тарифов\" data-toc-modified-id=\"Описание-тарифов-1.5.2\"><span class=\"toc-item-num\">1.5.2&nbsp;&nbsp;</span>Описание тарифов</a></span></li></ul></li><li><span><a href=\"#Выводы\" data-toc-modified-id=\"Выводы-1.6\"><span class=\"toc-item-num\">1.6&nbsp;&nbsp;</span>Выводы</a></span></li></ul></li><li><span><a href=\"#Предобработка-данных\" data-toc-modified-id=\"Предобработка-данных-2\"><span class=\"toc-item-num\">2&nbsp;&nbsp;</span>Предобработка данных</a></span><ul class=\"toc-item\"><li><span><a href=\"#Таблица-users---информация-о-пользователях\" data-toc-modified-id=\"Таблица-users---информация-о-пользователях-2.1\"><span class=\"toc-item-num\">2.1&nbsp;&nbsp;</span>Таблица <code>users</code> - информация о пользователях</a></span><ul class=\"toc-item\"><li><span><a href=\"#Выводы\" data-toc-modified-id=\"Выводы-2.1.1\"><span class=\"toc-item-num\">2.1.1&nbsp;&nbsp;</span>Выводы</a></span></li></ul></li><li><span><a href=\"#Таблица-calls---информация-о-звонках\" data-toc-modified-id=\"Таблица-calls---информация-о-звонках-2.2\"><span class=\"toc-item-num\">2.2&nbsp;&nbsp;</span>Таблица <code>calls</code> - информация о звонках</a></span><ul class=\"toc-item\"><li><span><a href=\"#Выводы:\" data-toc-modified-id=\"Выводы:-2.2.1\"><span class=\"toc-item-num\">2.2.1&nbsp;&nbsp;</span>Выводы:</a></span></li></ul></li><li><span><a href=\"#Таблица-messages---информация-о-сообщениях\" data-toc-modified-id=\"Таблица-messages---информация-о-сообщениях-2.3\"><span class=\"toc-item-num\">2.3&nbsp;&nbsp;</span>Таблица <code>messages</code> - информация о сообщениях</a></span><ul class=\"toc-item\"><li><span><a href=\"#Выводы:\" data-toc-modified-id=\"Выводы:-2.3.1\"><span class=\"toc-item-num\">2.3.1&nbsp;&nbsp;</span>Выводы:</a></span></li></ul></li><li><span><a href=\"#Таблица-internet---информация-об-интернет-сессиях\" data-toc-modified-id=\"Таблица-internet---информация-об-интернет-сессиях-2.4\"><span class=\"toc-item-num\">2.4&nbsp;&nbsp;</span>Таблица <code>internet</code> - информация об интернет-сессиях</a></span><ul class=\"toc-item\"><li><span><a href=\"#Выводы:\" data-toc-modified-id=\"Выводы:-2.4.1\"><span class=\"toc-item-num\">2.4.1&nbsp;&nbsp;</span>Выводы:</a></span></li></ul></li><li><span><a href=\"#Таблица-tariffs---информация-о-тарифах\" data-toc-modified-id=\"Таблица-tariffs---информация-о-тарифах-2.5\"><span class=\"toc-item-num\">2.5&nbsp;&nbsp;</span>Таблица <code>tariffs</code> - информация о тарифах</a></span></li><li><span><a href=\"#Выводы\" data-toc-modified-id=\"Выводы-2.6\"><span class=\"toc-item-num\">2.6&nbsp;&nbsp;</span>Выводы</a></span></li></ul></li><li><span><a href=\"#Подготовка-сводных-таблиц-объема-и-стоимости-оказанных-услуг-связи\" data-toc-modified-id=\"Подготовка-сводных-таблиц-объема-и-стоимости-оказанных-услуг-связи-3\"><span class=\"toc-item-num\">3&nbsp;&nbsp;</span>Подготовка сводных таблиц объема и стоимости оказанных услуг связи</a></span><ul class=\"toc-item\"><li><span><a href=\"#Расчет-сводных-таблиц-длительности-и-стоимости-звонков\" data-toc-modified-id=\"Расчет-сводных-таблиц-длительности-и-стоимости-звонков-3.1\"><span class=\"toc-item-num\">3.1&nbsp;&nbsp;</span>Расчет сводных таблиц длительности и стоимости звонков</a></span></li><li><span><a href=\"#Расчет-сводных-таблиц-объема-и-стоимости-сообщений\" data-toc-modified-id=\"Расчет-сводных-таблиц-объема-и-стоимости-сообщений-3.2\"><span class=\"toc-item-num\">3.2&nbsp;&nbsp;</span>Расчет сводных таблиц объема и стоимости сообщений</a></span></li><li><span><a href=\"#Расчет-сводных-таблиц-объема-и-стоимости-интернет-трафика\" data-toc-modified-id=\"Расчет-сводных-таблиц-объема-и-стоимости-интернет-трафика-3.3\"><span class=\"toc-item-num\">3.3&nbsp;&nbsp;</span>Расчет сводных таблиц объема и стоимости интернет-трафика</a></span></li><li><span><a href=\"#Расчет-общей-стоимости-оказанных-услуг\" data-toc-modified-id=\"Расчет-общей-стоимости-оказанных-услуг-3.4\"><span class=\"toc-item-num\">3.4&nbsp;&nbsp;</span>Расчет общей стоимости оказанных услуг</a></span></li><li><span><a href=\"#Выводы\" data-toc-modified-id=\"Выводы-3.5\"><span class=\"toc-item-num\">3.5&nbsp;&nbsp;</span>Выводы</a></span></li></ul></li><li><span><a href=\"#Анализ-поведения-абонентов\" data-toc-modified-id=\"Анализ-поведения-абонентов-4\"><span class=\"toc-item-num\">4&nbsp;&nbsp;</span>Анализ поведения абонентов</a></span><ul class=\"toc-item\"><li><span><a href=\"#Общая-оценка-стоимости-оказанных-услуг-связи\" data-toc-modified-id=\"Общая-оценка-стоимости-оказанных-услуг-связи-4.1\"><span class=\"toc-item-num\">4.1&nbsp;&nbsp;</span>Общая оценка стоимости оказанных услуг связи</a></span></li><li><span><a href=\"#Оценка-пользования-услугами-голосовой-связи\" data-toc-modified-id=\"Оценка-пользования-услугами-голосовой-связи-4.2\"><span class=\"toc-item-num\">4.2&nbsp;&nbsp;</span>Оценка пользования услугами голосовой связи</a></span></li><li><span><a href=\"#Оценка-пользования-услугами-отправки-сообщений\" data-toc-modified-id=\"Оценка-пользования-услугами-отправки-сообщений-4.3\"><span class=\"toc-item-num\">4.3&nbsp;&nbsp;</span>Оценка пользования услугами отправки сообщений</a></span></li><li><span><a href=\"#Оценка-пользования-услугами-интернет-трафика\" data-toc-modified-id=\"Оценка-пользования-услугами-интернет-трафика-4.4\"><span class=\"toc-item-num\">4.4&nbsp;&nbsp;</span>Оценка пользования услугами интернет-трафика</a></span></li><li><span><a href=\"#Выводы\" data-toc-modified-id=\"Выводы-4.5\"><span class=\"toc-item-num\">4.5&nbsp;&nbsp;</span>Выводы</a></span></li></ul></li><li><span><a href=\"#Проверка-статистических-гипотез\" data-toc-modified-id=\"Проверка-статистических-гипотез-5\"><span class=\"toc-item-num\">5&nbsp;&nbsp;</span>Проверка статистических гипотез</a></span><ul class=\"toc-item\"><li><span><a href=\"#Гипотеза-о-средней-выручке-абонентов-разных-тарифов\" data-toc-modified-id=\"Гипотеза-о-средней-выручке-абонентов-разных-тарифов-5.1\"><span class=\"toc-item-num\">5.1&nbsp;&nbsp;</span>Гипотеза о средней выручке абонентов разных тарифов</a></span><ul class=\"toc-item\"><li><span><a href=\"#Проверим-следующую-гипотезу:-&quot;Средняя-выручка-пользователей-тарифов-«Ультра»-и-«Смарт»-различается&quot;\" data-toc-modified-id=\"Проверим-следующую-гипотезу:-&quot;Средняя-выручка-пользователей-тарифов-«Ультра»-и-«Смарт»-различается&quot;-5.1.1\"><span class=\"toc-item-num\">5.1.1&nbsp;&nbsp;</span>Проверим следующую гипотезу: \"Средняя выручка пользователей тарифов «Ультра» и «Смарт» различается\"</a></span></li></ul></li><li><span><a href=\"#Гипотеза-о-средней-выручке-абонентов-из-разных-регионов\" data-toc-modified-id=\"Гипотеза-о-средней-выручке-абонентов-из-разных-регионов-5.2\"><span class=\"toc-item-num\">5.2&nbsp;&nbsp;</span>Гипотеза о средней выручке абонентов из разных регионов</a></span><ul class=\"toc-item\"><li><span><a href=\"#Проверим-следующую-гипотезу:-&quot;Средняя-выручка-пользователей-из-Москвы-отличается-от-выручки-пользователей-из-других-регионов&quot;\" data-toc-modified-id=\"Проверим-следующую-гипотезу:-&quot;Средняя-выручка-пользователей-из-Москвы-отличается-от-выручки-пользователей-из-других-регионов&quot;-5.2.1\"><span class=\"toc-item-num\">5.2.1&nbsp;&nbsp;</span>Проверим следующую гипотезу: \"Средняя выручка пользователей из Москвы отличается от выручки пользователей из других регионов\"</a></span></li></ul></li><li><span><a href=\"#Выводы\" data-toc-modified-id=\"Выводы-5.3\"><span class=\"toc-item-num\">5.3&nbsp;&nbsp;</span>Выводы</a></span></li></ul></li><li><span><a href=\"#Выводы\" data-toc-modified-id=\"Выводы-6\"><span class=\"toc-item-num\">6&nbsp;&nbsp;</span>Выводы</a></span></li></ul></div>"
   ]
  },
  {
   "cell_type": "markdown",
   "metadata": {},
   "source": [
    "# Определение перспективного тарифа для телеком компании\n",
    "\n",
    "**«Мегалайн» — федеральный оператор сотовой связи**\n",
    "\n",
    "Исследование проводится с целью оценки прибыльности двух тарифных планов: «Смарт» и «Ультра» - и последующей подготовки рекомендаций коммерческому департаменту по корректировке рекламного бюджета.\n",
    "\n",
    "Исследование проводится на небольшой выборке клиентов - 500 абонентов «Мегалайн» из разных городов РФ. В отношении абонентов предоставлена следующая информация: кто они, откуда, каким тарифом пользуются, сколько звонков и сообщений каждый отправил за 2018 год. Цель - проанализировать поведение клиентов и сделать вывод — какой тариф лучше.\n",
    "\n",
    "**Задачи исследования:**\n",
    "- рассчет объема услуг, предоставяемых абонентам в месяц\n",
    "- рассчет помесячной выручки с абонента\n",
    "- сравнительная оценка средней выручки абонентов тарифов «Ультра» и «Смарт»\n",
    "- сравнительная оценка средней выручки абонентов из Москвы и других регионов"
   ]
  },
  {
   "cell_type": "markdown",
   "metadata": {},
   "source": [
    "## Общая информация о данных"
   ]
  },
  {
   "cell_type": "code",
   "execution_count": null,
   "metadata": {},
   "outputs": [],
   "source": [
    "import pandas as pd\n",
    "import plotly.express as px\n",
    "import numpy as np\n",
    "import matplotlib.pyplot as plt \n",
    "import matplotlib.patches as mpatches\n",
    "from scipy import stats as st"
   ]
  },
  {
   "cell_type": "markdown",
   "metadata": {},
   "source": [
    "### Таблица `users` - информация о пользователях"
   ]
  },
  {
   "cell_type": "code",
   "execution_count": null,
   "metadata": {
    "scrolled": true
   },
   "outputs": [],
   "source": [
    "df_users = pd.read_csv('datasets/users.csv', sep=',')\n",
    "\n",
    "df_users.head(5)"
   ]
  },
  {
   "cell_type": "markdown",
   "metadata": {},
   "source": [
    "#### Состав атрибутов\n",
    "\n",
    "В таблице `users` содержатся значения в следующих атрибутах:\n",
    "- user_id — уникальный идентификатор пользователя\n",
    "- age — возраст пользователя (годы)\n",
    "- churn_date — дата прекращения пользования тарифом (если значение пропущено, то тариф ещё действовал на момент выгрузки данных)\n",
    "- city — город проживания пользователя\n",
    "- first_name — имя пользователя\n",
    "- last_name — фамилия пользователя\n",
    "- reg_date — дата подключения тарифа (день, месяц, год)\n",
    "- tariff — название тарифного плана\n",
    "\n",
    "Подробнее посмотрим общую информацию об атрибутах таблицы:"
   ]
  },
  {
   "cell_type": "code",
   "execution_count": null,
   "metadata": {
    "scrolled": true
   },
   "outputs": [],
   "source": [
    "df_users.info()"
   ]
  },
  {
   "cell_type": "markdown",
   "metadata": {},
   "source": [
    "Состав атрибутов совпадает с полученным описанием. \n",
    "\n",
    "В таблице представлено 500 записей о пользователях «Мегалайн».\n",
    "\n",
    "В таблице 2 целочисленных и 6 строковых атрибута.\n",
    "\n",
    "Есть пропуски значений в атрибуте `churn_date` — дата прекращения пользования тарифом. При этом в описании к данным указано, что если значение пропущено, то тариф ещё действовал на момент выгрузки данных (т.е. значимые пропуски).\n",
    "\n",
    "Требуется приведение типов отдельных атрибутов: \n",
    "- из строкового в дату (`reg_date` — дата подключения тарифа (день, месяц, год)\n",
    "- из строкового в категориальный (`tariff` — название тарифного плана)"
   ]
  },
  {
   "cell_type": "markdown",
   "metadata": {},
   "source": [
    "### Таблица `calls` - информация о звонках"
   ]
  },
  {
   "cell_type": "code",
   "execution_count": null,
   "metadata": {},
   "outputs": [],
   "source": [
    "df_calls = pd.read_csv('datasets/calls.csv', sep=',')\n",
    "\n",
    "df_calls.head(5)"
   ]
  },
  {
   "cell_type": "markdown",
   "metadata": {},
   "source": [
    "#### Состав атрибутов\n",
    "\n",
    "В таблице `calls` содержатся значения в следующих атрибутах:\n",
    "- id — уникальный номер звонка\n",
    "- call_date — дата звонка\n",
    "- duration — длительность звонка в минутах\n",
    "- user_id — идентификатор пользователя, сделавшего звонок\n",
    "\n",
    "Подробнее посмотрим общую информацию об атрибутах таблицы:"
   ]
  },
  {
   "cell_type": "code",
   "execution_count": null,
   "metadata": {
    "scrolled": true
   },
   "outputs": [],
   "source": [
    "df_calls.info()"
   ]
  },
  {
   "cell_type": "markdown",
   "metadata": {},
   "source": [
    "Состав атрибутов совпадает с полученным описанием. \n",
    "\n",
    "В таблице представлено 202607 записей о звонках пользователей.\n",
    "\n",
    "В таблице 1 вещественный, 1 целочисленный и 2 строковых атрибута.\n",
    "\n",
    "Пропуски значений отсутствуют. Требуется приведение типов отдельных атрибутов: \n",
    "- из строкового в дату (`call_date` - дата звонка)"
   ]
  },
  {
   "cell_type": "markdown",
   "metadata": {},
   "source": [
    "### Таблица `messages` - информация о сообщениях"
   ]
  },
  {
   "cell_type": "code",
   "execution_count": null,
   "metadata": {},
   "outputs": [],
   "source": [
    "df_messages = pd.read_csv('datasets/messages.csv', sep=',')\n",
    "\n",
    "df_messages.head(5)"
   ]
  },
  {
   "cell_type": "markdown",
   "metadata": {},
   "source": [
    "#### Состав атрибутов\n",
    "\n",
    "В таблице `messages` содержатся значения в следующих атрибутах:\n",
    "- id — уникальный номер сообщения\n",
    "- message_date — дата сообщения\n",
    "- user_id — идентификатор пользователя, отправившего сообщение\n",
    "\n",
    "Подробнее посмотрим общую информацию об атрибутах таблицы:"
   ]
  },
  {
   "cell_type": "code",
   "execution_count": null,
   "metadata": {
    "scrolled": true
   },
   "outputs": [],
   "source": [
    "df_messages.info()"
   ]
  },
  {
   "cell_type": "markdown",
   "metadata": {},
   "source": [
    "Состав атрибутов совпадает с полученным описанием. \n",
    "\n",
    "В таблице представлено 123036 записей о сообщениях пользователей.\n",
    "\n",
    "В таблице 1 целочисленный и 2 строковых атрибута.\n",
    "\n",
    "Пропуски значений отсутствуют. Требуется приведение типов отдельных атрибутов: \n",
    "- из строкового в дату (`message_date` — дата сообщения)"
   ]
  },
  {
   "cell_type": "markdown",
   "metadata": {},
   "source": [
    "### Таблица `internet` - информация об интернет-сессиях"
   ]
  },
  {
   "cell_type": "code",
   "execution_count": null,
   "metadata": {},
   "outputs": [],
   "source": [
    "df_internet = pd.read_csv('datasets/internet.csv', sep=',')\n",
    "\n",
    "df_internet.head(5)"
   ]
  },
  {
   "cell_type": "markdown",
   "metadata": {},
   "source": [
    "Столбец с индексом 0 в исходном csv-файле очевидно содержит значения индекса (уникального первичного ключа). Повторно считаем данные из файла, указав в качестве параметра порядковый номер индексного столбца."
   ]
  },
  {
   "cell_type": "code",
   "execution_count": null,
   "metadata": {},
   "outputs": [],
   "source": [
    "df_internet = pd.read_csv('datasets/internet.csv', sep=',', index_col=0)\n",
    "\n",
    "df_internet.head(5)"
   ]
  },
  {
   "cell_type": "markdown",
   "metadata": {},
   "source": [
    "#### Состав атрибутов\n",
    "\n",
    "В таблице `internet` содержатся значения в следующих атрибутах:\n",
    "- id — уникальный номер сессии\n",
    "- mb_used — объём потраченного за сессию интернет-трафика (в мегабайтах)\n",
    "- session_date — дата интернет-сессии\n",
    "- user_id — идентификатор пользователя\n",
    "\n",
    "Подробнее посмотрим общую информацию об атрибутах таблицы:"
   ]
  },
  {
   "cell_type": "code",
   "execution_count": null,
   "metadata": {
    "scrolled": true
   },
   "outputs": [],
   "source": [
    "df_internet.info()"
   ]
  },
  {
   "cell_type": "markdown",
   "metadata": {},
   "source": [
    "Состав атрибутов совпадает с полученным описанием. \n",
    "\n",
    "В таблице представлено 149396 записей об интернет-сессиях пользователя.\n",
    "\n",
    "В таблице 1 вещественный, 2 целочисленных и 2 строковых атрибута.\n",
    "\n",
    "Пропуски значений отсутствуют. Требуется приведение типов отдельных атрибутов: \n",
    "- из строкового в дату (`session_date` — дата интернет-сессии)"
   ]
  },
  {
   "cell_type": "markdown",
   "metadata": {},
   "source": [
    "### Таблица `tariffs` - информация о тарифах"
   ]
  },
  {
   "cell_type": "code",
   "execution_count": null,
   "metadata": {},
   "outputs": [],
   "source": [
    "df_tariffs = pd.read_csv('datasets/tariffs.csv', sep=',')\n",
    "\n",
    "df_tariffs.head(5)"
   ]
  },
  {
   "cell_type": "markdown",
   "metadata": {},
   "source": [
    "#### Состав атрибутов\n",
    "\n",
    "В таблице `tariffs` содержатся значения в следующих атрибутах:\n",
    "- messages_included — количество сообщений в месяц, включённых в абонентскую плату\n",
    "- mb_per_month_included — объём интернет-трафика, включённого в абонентскую плату (в мегабайтах)\n",
    "- minutes_included — количество минут разговора в месяц, включённых в абонентскую плату\n",
    "- rub_monthly_fee — ежемесячная абонентская плата в рублях\n",
    "- rub_per_gb — стоимость дополнительного гигабайта интернет-трафика сверх тарифного пакета (1 гигабайт = 1024 мегабайта)\n",
    "- rub_per_message — стоимость отправки сообщения сверх тарифного пакета\n",
    "- rub_per_minute — стоимость минуты разговора сверх тарифного пакета (например, если в тарифе 100 минут разговора в месяц, то со 101 минуты будет взиматься плата)\n",
    "- tariff_name — название тарифа\n",
    "\n",
    "Подробнее посмотрим общую информацию об атрибутах таблицы:"
   ]
  },
  {
   "cell_type": "code",
   "execution_count": null,
   "metadata": {
    "scrolled": true
   },
   "outputs": [],
   "source": [
    "df_tariffs.info()"
   ]
  },
  {
   "cell_type": "markdown",
   "metadata": {},
   "source": [
    "Состав атрибутов совпадает с полученным описанием. \n",
    "\n",
    "В таблице представлено 2 записей о параметрах тарифов «Мегалайн».\n",
    "\n",
    "В таблице 7 целочисленных и 1 строковый атрибут.\n",
    "\n",
    "Пропуски значений отсутствуют. Приведение типов не требуется. Фактические параметры тарифов совпадают с описанием в исходных данных."
   ]
  },
  {
   "cell_type": "markdown",
   "metadata": {},
   "source": [
    "#### Описание тарифов\n",
    "\n",
    "**<span style=\"color:magenta\">Тариф «Ультра»</span>:**\n",
    "- Ежемесячная плата: 1950 рублей\n",
    "- Включено 3000 минут разговора, 1000 сообщений и 30 Гб интернет-трафика\n",
    "- Стоимость услуг сверх тарифного пакета:\n",
    "  - минута разговора: 1 рубль\n",
    "  - сообщение: 1 рубль\n",
    "  - 1 Гб интернет-трафика: 150 рублей\n",
    "\n",
    "**<span style=\"color:green\">Тариф «Смарт»</span>:**\n",
    "- Ежемесячная плата: 550 рублей\n",
    "- Включено 500 минут разговора, 50 сообщений и 15 Гб интернет-трафика\n",
    "- Стоимость услуг сверх тарифного пакета:\n",
    "  - минута разговора: 3 рубля\n",
    "  - сообщение: 3 рубля\n",
    "  - 1 Гб интернет-трафика: 200 рублей\n",
    "\n",
    "\n",
    "**Правила тарификации: **\n",
    "- округление вверх значения длительности звонка (до минут)\n",
    "- округление вверх значения объема трафика интернет-сессии (до мегабайт)\n",
    "- округление вверх значения общего объема трафика (до гигабайт)"
   ]
  },
  {
   "cell_type": "markdown",
   "metadata": {},
   "source": [
    "### Выводы\n",
    "\n",
    "Исходные данные представлены в виде 5 таблиц с информацией об абонентах и тарифных планах «Мегалайн», а также об активности абонентов: совершенных ими звонках, отправленных сообщениях и интернет-сессиях.\n",
    "\n",
    "В таблице представлены вещественные, целочисленные и строковые атрибуты, часть атрибутов требует приведения типов данных (например, из строки в дату).\n",
    "\n",
    "Пропуски значений отсутствуют за исключением атрибута `churn_date` (дата прекращения пользования тарифом в таблице `users`), при этом указанные пропуски являются значащими (свидетельствуют о пользовании тарифом в настоящий момент).\n",
    "\n",
    "Кроме того, в соответствии с параметрами тарифных планов, часть вещественных атрибутов в таблицах активности пользователей можно привести к целочисленным типам (округлить)."
   ]
  },
  {
   "cell_type": "markdown",
   "metadata": {},
   "source": [
    "Вполне вероятно, что исходные данные получены путем выгрузки из билинговой системы оператора «Мегалайн», соответственно конвертация исходного типа данных даты в строку произошел при выгрузке - для исправления подобной ошибки потребуется только обратное приведение типов с указанием нужного формата хранения даты. \n",
    "\n",
    "Данные о длительности звонков и объеме интерент-трафика представлены в исходном виде, без округлений. При последующем анализе необходимо оценить их распределение и проверить на отсутствие выбросов значений."
   ]
  },
  {
   "cell_type": "markdown",
   "metadata": {},
   "source": [
    "## Предобработка данных"
   ]
  },
  {
   "cell_type": "markdown",
   "metadata": {},
   "source": [
    "### Таблица `users` - информация о пользователях"
   ]
  },
  {
   "cell_type": "markdown",
   "metadata": {},
   "source": [
    "Еще раз посмотрим на общую информацию о таблице `users`"
   ]
  },
  {
   "cell_type": "code",
   "execution_count": null,
   "metadata": {
    "scrolled": true
   },
   "outputs": [],
   "source": [
    "df_users.head(5)"
   ]
  },
  {
   "cell_type": "code",
   "execution_count": null,
   "metadata": {
    "scrolled": true
   },
   "outputs": [],
   "source": [
    "df_users.info()"
   ]
  },
  {
   "cell_type": "markdown",
   "metadata": {},
   "source": [
    "Проверим, что в исходных данных представлены только пользователи указанных выше тарифов."
   ]
  },
  {
   "cell_type": "code",
   "execution_count": null,
   "metadata": {},
   "outputs": [],
   "source": [
    "df_users['tariff'].unique()"
   ]
  },
  {
   "cell_type": "markdown",
   "metadata": {},
   "source": [
    "Ошибок нет. Приведем указанный атрибут к категориальному типу данных."
   ]
  },
  {
   "cell_type": "code",
   "execution_count": null,
   "metadata": {},
   "outputs": [],
   "source": [
    "df_users['tariff'] = df_users['tariff'].astype('category')\n",
    "df_users['tariff'].value_counts()"
   ]
  },
  {
   "cell_type": "markdown",
   "metadata": {},
   "source": [
    "Выполним преобразование атрибута `reg_date` к типу данных даты"
   ]
  },
  {
   "cell_type": "code",
   "execution_count": null,
   "metadata": {},
   "outputs": [],
   "source": [
    "df_users['reg_date'] = pd.to_datetime(df_users['reg_date'], format='%Y-%m-%d')"
   ]
  },
  {
   "cell_type": "code",
   "execution_count": null,
   "metadata": {},
   "outputs": [],
   "source": [
    "print(df_users['reg_date'].min(), df_users['reg_date'].max())"
   ]
  },
  {
   "cell_type": "markdown",
   "metadata": {},
   "source": [
    "Абоненты подключались к тарифам в течение всего 2018 года (полное покрытие по датам - с 1 января по 31 декабря). Для последующего анализа по месяцам целесообразно добавить атрибут месяца к набору данных."
   ]
  },
  {
   "cell_type": "code",
   "execution_count": null,
   "metadata": {},
   "outputs": [],
   "source": [
    "df_users['reg_month'] = pd.DatetimeIndex(df_users['reg_date']).month"
   ]
  },
  {
   "cell_type": "markdown",
   "metadata": {},
   "source": [
    "Выполним преобразование атрибута `churn_date` к типу данных даты"
   ]
  },
  {
   "cell_type": "code",
   "execution_count": null,
   "metadata": {},
   "outputs": [],
   "source": [
    "df_users['churn_date'] = pd.to_datetime(df_users['churn_date'], format='%Y-%m-%d')"
   ]
  },
  {
   "cell_type": "markdown",
   "metadata": {},
   "source": [
    "Проверяем отсутствие дубликатов"
   ]
  },
  {
   "cell_type": "code",
   "execution_count": null,
   "metadata": {},
   "outputs": [],
   "source": [
    "df_users[df_users.duplicated()]['user_id'].count()"
   ]
  },
  {
   "cell_type": "markdown",
   "metadata": {},
   "source": [
    "Проверяем отсутствие некорректных записей в атрибутах даты подключения и прекращения пользования тарифом "
   ]
  },
  {
   "cell_type": "code",
   "execution_count": null,
   "metadata": {},
   "outputs": [],
   "source": [
    "df_users[df_users['churn_date'] < df_users['reg_date']]['user_id'].count()"
   ]
  },
  {
   "cell_type": "markdown",
   "metadata": {},
   "source": [
    "Оценим распределение пользователей по городам"
   ]
  },
  {
   "cell_type": "code",
   "execution_count": null,
   "metadata": {},
   "outputs": [],
   "source": [
    "user_cities = df_users['city'].value_counts().reset_index()\n",
    "user_cities.columns=['city', 'count']"
   ]
  },
  {
   "cell_type": "code",
   "execution_count": null,
   "metadata": {},
   "outputs": [],
   "source": [
    "fig = px.bar(\n",
    "    user_cities, \n",
    "    x='city', \n",
    "    y='count', \n",
    "    title = 'Распределение абонентов по городам', \n",
    "    labels={\n",
    "        \"city\": \"\",\n",
    "        \"count\": \"Число абонентов\"\n",
    "    }\n",
    ")\n",
    "\n",
    "fig.show()"
   ]
  },
  {
   "cell_type": "code",
   "execution_count": null,
   "metadata": {},
   "outputs": [],
   "source": [
    "fig = px.bar(\n",
    "    user_cities.head(10), \n",
    "    x='city', \n",
    "    y='count', \n",
    "    text='count',\n",
    "    title='ТОП-10 городов по числу абонентов',\n",
    "    labels={\n",
    "        \"city\": \"\",\n",
    "        \"count\": \"Число абонентов\"\n",
    "    }\n",
    ")\n",
    "fig.show()"
   ]
  },
  {
   "cell_type": "markdown",
   "metadata": {},
   "source": [
    "Большинство абонентов в исходном наборе данных - из Москвы (99), далее следует Санкт-Петербург (39) и Новосибирск (16). Доля абонентов из Москвы в общей выборке - 20%."
   ]
  },
  {
   "cell_type": "markdown",
   "metadata": {},
   "source": [
    "Посмотрим, как распределены абоненты по возрастным группам."
   ]
  },
  {
   "cell_type": "code",
   "execution_count": null,
   "metadata": {},
   "outputs": [],
   "source": [
    "fig = px.histogram(\n",
    "    df_users, \n",
    "    x = 'age', \n",
    "    marginal = 'box', \n",
    "    title = 'Распределение абонентов по возрасту'\n",
    ")\n",
    "\n",
    "fig.update_layout(xaxis_title=\"Возраст (лет)\", yaxis_title=\"Число абонентов\")\n",
    "fig.show()"
   ]
  },
  {
   "cell_type": "markdown",
   "metadata": {},
   "source": [
    "Возраст абонентов - от 15 до 79 лет, медианное значение - 46 лет, межквартильный размах - (32, 62). Возраст менее 18 и более 75 лет можно отнести к зоне выбросов. В целом по возрастным группам абоненты представлены практически равномерно."
   ]
  },
  {
   "cell_type": "markdown",
   "metadata": {},
   "source": [
    "Для удобства работы добавим к таблице `users` булев атрибут `is_active` - признак того, что тариф является действующим на текущий момент времени (т.е. значение атрибута `churn_date` не задано).\n",
    "\n",
    "Кроме того, можно удалить из набора имя и фамилию абонентов, поскольку в рамках задач исследования достаточно обезличенной информации об абонентах - используемом тарифе, городе проживания абонента и т.д."
   ]
  },
  {
   "cell_type": "code",
   "execution_count": null,
   "metadata": {},
   "outputs": [],
   "source": [
    "df_users['is_active'] = df_users['churn_date'].isnull()"
   ]
  },
  {
   "cell_type": "code",
   "execution_count": null,
   "metadata": {},
   "outputs": [],
   "source": [
    "df_users = df_users[['user_id', 'age', 'churn_date', 'city', 'reg_date', 'reg_month', 'tariff', 'is_active']]"
   ]
  },
  {
   "cell_type": "code",
   "execution_count": null,
   "metadata": {
    "scrolled": true
   },
   "outputs": [],
   "source": [
    "df_users.head(5)"
   ]
  },
  {
   "cell_type": "markdown",
   "metadata": {},
   "source": [
    "#### Выводы"
   ]
  },
  {
   "cell_type": "code",
   "execution_count": null,
   "metadata": {
    "scrolled": true
   },
   "outputs": [],
   "source": [
    "df_users.info()"
   ]
  },
  {
   "cell_type": "markdown",
   "metadata": {},
   "source": [
    "Необходимые преобразования типов данных выполнены, данные абонентов обезличены."
   ]
  },
  {
   "cell_type": "markdown",
   "metadata": {},
   "source": [
    "### Таблица `calls` - информация о звонках"
   ]
  },
  {
   "cell_type": "markdown",
   "metadata": {},
   "source": [
    "Еще раз посмотрим на общую информацию о таблице `calls`"
   ]
  },
  {
   "cell_type": "code",
   "execution_count": null,
   "metadata": {
    "scrolled": true
   },
   "outputs": [],
   "source": [
    "df_calls.head(5)"
   ]
  },
  {
   "cell_type": "code",
   "execution_count": null,
   "metadata": {
    "scrolled": false
   },
   "outputs": [],
   "source": [
    "df_calls.info()"
   ]
  },
  {
   "cell_type": "markdown",
   "metadata": {},
   "source": [
    "Выполним преобразование атрибута `call_date` к типу данных даты"
   ]
  },
  {
   "cell_type": "code",
   "execution_count": null,
   "metadata": {},
   "outputs": [],
   "source": [
    "df_calls['call_date'] = pd.to_datetime(df_calls['call_date'], format='%Y-%m-%d')"
   ]
  },
  {
   "cell_type": "code",
   "execution_count": null,
   "metadata": {},
   "outputs": [],
   "source": [
    "print(df_calls['call_date'].min(), df_calls['call_date'].max())"
   ]
  },
  {
   "cell_type": "markdown",
   "metadata": {},
   "source": [
    "Данные о звонках представлены за 2018 год (полное покрытие по датам - с 1 января по 31 декабря). Для последующего анализа по месяцам целесообразно добавить атрибут месяца к набору данных."
   ]
  },
  {
   "cell_type": "code",
   "execution_count": null,
   "metadata": {},
   "outputs": [],
   "source": [
    "df_calls['call_month'] = pd.DatetimeIndex(df_calls['call_date']).month"
   ]
  },
  {
   "cell_type": "markdown",
   "metadata": {},
   "source": [
    "Проверим на наличие дубликатов, а также на соответствие множества идентификаторов пользователей данным в таблице `users`"
   ]
  },
  {
   "cell_type": "code",
   "execution_count": null,
   "metadata": {},
   "outputs": [],
   "source": [
    "df_calls[df_calls.duplicated()]['id'].count()"
   ]
  },
  {
   "cell_type": "code",
   "execution_count": null,
   "metadata": {},
   "outputs": [],
   "source": [
    "df_calls[~df_calls['user_id'].isin(df_users['user_id'])]['id'].count()"
   ]
  },
  {
   "cell_type": "markdown",
   "metadata": {},
   "source": [
    "Проверим, что идентификаторы звонков корректно привязаны к идентификаторам пользователей."
   ]
  },
  {
   "cell_type": "code",
   "execution_count": null,
   "metadata": {},
   "outputs": [],
   "source": [
    "df_calls['user_call_id'] = df_calls['id'].str.split('_').str[0].astype('int')"
   ]
  },
  {
   "cell_type": "code",
   "execution_count": null,
   "metadata": {},
   "outputs": [],
   "source": [
    "df_calls[df_calls['user_call_id'] != df_calls['user_id']]['id'].count()"
   ]
  },
  {
   "cell_type": "markdown",
   "metadata": {},
   "source": [
    "Несовпадающих идентификаторов пользователя в атрибутах `id` и `user_id` нет."
   ]
  },
  {
   "cell_type": "code",
   "execution_count": null,
   "metadata": {},
   "outputs": [],
   "source": [
    "del df_calls['user_call_id']"
   ]
  },
  {
   "cell_type": "markdown",
   "metadata": {},
   "source": [
    "Округлим в бОльшую сторону значения длительности звонков. "
   ]
  },
  {
   "cell_type": "code",
   "execution_count": null,
   "metadata": {},
   "outputs": [],
   "source": [
    "df_calls['duration'] = df_calls['duration'].apply(np.ceil)\n",
    "df_calls['duration']"
   ]
  },
  {
   "cell_type": "markdown",
   "metadata": {},
   "source": [
    "Приведем значения длительности разговора в целочисленный тип."
   ]
  },
  {
   "cell_type": "code",
   "execution_count": null,
   "metadata": {},
   "outputs": [],
   "source": [
    "df_calls['duration'] = df_calls['duration'].astype('int')"
   ]
  },
  {
   "cell_type": "markdown",
   "metadata": {},
   "source": [
    "Кроме того, добавим булев атрибут `is_chargeable` - признак того, что звонок является тарифицируемым (длительность более 0 секунд). Будем считать, что все звонки с длительностью 0 - неотвеченные/отклоненные."
   ]
  },
  {
   "cell_type": "code",
   "execution_count": null,
   "metadata": {},
   "outputs": [],
   "source": [
    "df_calls['is_chargeable'] = df_calls['duration'] > 0"
   ]
  },
  {
   "cell_type": "markdown",
   "metadata": {},
   "source": [
    "Оценим распределение значений длительности звонков."
   ]
  },
  {
   "cell_type": "code",
   "execution_count": null,
   "metadata": {},
   "outputs": [],
   "source": [
    "df_calls['duration'].describe()"
   ]
  },
  {
   "cell_type": "code",
   "execution_count": null,
   "metadata": {},
   "outputs": [],
   "source": [
    "fig = px.histogram(\n",
    "    df_calls, \n",
    "    x = 'duration', \n",
    "    marginal = 'box', \n",
    "    title = 'Распределение длительности звонков'\n",
    ")\n",
    "\n",
    "fig.update_layout(xaxis_title=\"Длительность (сек)\", yaxis_title=\"Число звонков\")\n",
    "fig.show()"
   ]
  },
  {
   "cell_type": "markdown",
   "metadata": {},
   "source": [
    "Нетарифицируемых звонков (длительностью 0 секунд) оказалось достаточно много - 24%. "
   ]
  },
  {
   "cell_type": "code",
   "execution_count": null,
   "metadata": {
    "scrolled": false
   },
   "outputs": [],
   "source": [
    "fig = px.histogram(\n",
    "    df_calls.query('is_chargeable == True'), \n",
    "    x = 'duration', \n",
    "    marginal = 'box', \n",
    "    title = 'Распределение длительности тарифицируемых звонков'\n",
    ")\n",
    "\n",
    "fig.update_layout(xaxis_title=\"Длительность (сек)\", yaxis_title=\"Число звонков\")\n",
    "fig.show()"
   ]
  },
  {
   "cell_type": "markdown",
   "metadata": {},
   "source": [
    "Без учета нетарифицируемых звонков распределение длительности близко к пуассоновскому распределению, медианное значение длительности - 8 секунд, межквартильный размах - (4, 12). Звонки длительностью более 25 секунд относятся к зоне выбросов."
   ]
  },
  {
   "cell_type": "markdown",
   "metadata": {},
   "source": [
    "#### Выводы:"
   ]
  },
  {
   "cell_type": "code",
   "execution_count": null,
   "metadata": {
    "scrolled": false
   },
   "outputs": [],
   "source": [
    "df_calls.info()"
   ]
  },
  {
   "cell_type": "markdown",
   "metadata": {},
   "source": [
    "В целом, для таблицы `calls` выполнены необходимые преобразования типов данных, а также проведено округление длительности звонков в соответствии с правилами тарификации.\n",
    "\n",
    "Добавлены атрибуты для последующего анализа данных:\n",
    "- `call_month` - месяц звонка \n",
    "- `is_chargeable` - признак тарифицируемости"
   ]
  },
  {
   "cell_type": "markdown",
   "metadata": {},
   "source": [
    "### Таблица `messages` - информация о сообщениях"
   ]
  },
  {
   "cell_type": "markdown",
   "metadata": {},
   "source": [
    "Еще раз посмотрим на общую информацию о таблице `messages`"
   ]
  },
  {
   "cell_type": "code",
   "execution_count": null,
   "metadata": {
    "scrolled": true
   },
   "outputs": [],
   "source": [
    "df_messages.head(5)"
   ]
  },
  {
   "cell_type": "code",
   "execution_count": null,
   "metadata": {
    "scrolled": false
   },
   "outputs": [],
   "source": [
    "df_messages.info()"
   ]
  },
  {
   "cell_type": "markdown",
   "metadata": {},
   "source": [
    "Выполним преобразование атрибута `messages_date` к типу данных даты. Далее аналогично предыдущему разделу проверим диапазон значений даты."
   ]
  },
  {
   "cell_type": "code",
   "execution_count": null,
   "metadata": {},
   "outputs": [],
   "source": [
    "df_messages['message_date'] = pd.to_datetime(df_messages['message_date'], format='%Y-%m-%d')"
   ]
  },
  {
   "cell_type": "code",
   "execution_count": null,
   "metadata": {},
   "outputs": [],
   "source": [
    "print(df_messages['message_date'].min(), df_messages['message_date'].max())"
   ]
  },
  {
   "cell_type": "markdown",
   "metadata": {},
   "source": [
    "Данные о сообщениях представлены за 2018 год (практически полное покрытие по датам - со 2 января по 31 декабря). Для последующего анализа по месяцам также целесообразно добавить атрибут месяца к набору данных."
   ]
  },
  {
   "cell_type": "code",
   "execution_count": null,
   "metadata": {},
   "outputs": [],
   "source": [
    "df_messages['message_month'] = pd.DatetimeIndex(df_messages['message_date']).month"
   ]
  },
  {
   "cell_type": "markdown",
   "metadata": {},
   "source": [
    "Проверим на наличие дубликатов, а также на соответствие множества идентификаторов пользователей данным в таблице `users`"
   ]
  },
  {
   "cell_type": "code",
   "execution_count": null,
   "metadata": {},
   "outputs": [],
   "source": [
    "df_messages[df_messages.duplicated()]['id'].count()"
   ]
  },
  {
   "cell_type": "code",
   "execution_count": null,
   "metadata": {},
   "outputs": [],
   "source": [
    "df_messages[~df_messages['user_id'].isin(df_users.index)]['id'].count()"
   ]
  },
  {
   "cell_type": "markdown",
   "metadata": {},
   "source": [
    "Проверим, что идентификаторы сообщений корректно привязаны к идентификаторам пользователей."
   ]
  },
  {
   "cell_type": "code",
   "execution_count": null,
   "metadata": {},
   "outputs": [],
   "source": [
    "df_messages['user_message_id'] = df_messages['id'].str.split('_').str[0].astype('int')"
   ]
  },
  {
   "cell_type": "code",
   "execution_count": null,
   "metadata": {},
   "outputs": [],
   "source": [
    "df_messages[df_messages['user_message_id'] != df_messages['user_id']]['id'].count()"
   ]
  },
  {
   "cell_type": "markdown",
   "metadata": {},
   "source": [
    "Несовпадающих идентификаторов пользователя в атрибутах `id` и `user_id` нет."
   ]
  },
  {
   "cell_type": "code",
   "execution_count": null,
   "metadata": {},
   "outputs": [],
   "source": [
    "del df_messages['user_message_id']"
   ]
  },
  {
   "cell_type": "markdown",
   "metadata": {},
   "source": [
    "#### Выводы:"
   ]
  },
  {
   "cell_type": "code",
   "execution_count": null,
   "metadata": {
    "scrolled": true
   },
   "outputs": [],
   "source": [
    "df_messages.info()"
   ]
  },
  {
   "cell_type": "markdown",
   "metadata": {},
   "source": [
    "В целом, для таблицы `messages` выполнены необходимые преобразования типов данных.\n",
    "\n",
    "Добавлены атрибуты для последующего анализа данных:\n",
    "- `message_month` - месяц звонка "
   ]
  },
  {
   "cell_type": "markdown",
   "metadata": {},
   "source": [
    "### Таблица `internet` - информация об интернет-сессиях"
   ]
  },
  {
   "cell_type": "markdown",
   "metadata": {},
   "source": [
    "Еще раз посмотрим на общую информацию о таблице `internet`"
   ]
  },
  {
   "cell_type": "code",
   "execution_count": null,
   "metadata": {
    "scrolled": true
   },
   "outputs": [],
   "source": [
    "df_internet.head(5)"
   ]
  },
  {
   "cell_type": "code",
   "execution_count": null,
   "metadata": {
    "scrolled": false
   },
   "outputs": [],
   "source": [
    "df_internet.info()"
   ]
  },
  {
   "cell_type": "markdown",
   "metadata": {},
   "source": [
    "Выполним преобразование атрибута `session_date` к типу данных даты"
   ]
  },
  {
   "cell_type": "code",
   "execution_count": null,
   "metadata": {},
   "outputs": [],
   "source": [
    "df_internet['session_date'] = pd.to_datetime(df_internet['session_date'], format='%Y-%m-%d')"
   ]
  },
  {
   "cell_type": "code",
   "execution_count": null,
   "metadata": {},
   "outputs": [],
   "source": [
    "print(df_internet['session_date'].min(), df_internet['session_date'].max())"
   ]
  },
  {
   "cell_type": "markdown",
   "metadata": {},
   "source": [
    "Данные ою интернет-сессиях представлены также за 2018 год (полное покрытие по датам - со 2 января по 31 декабря). Для последующего анализа по месяцам также целесообразно добавить атрибут месяца к набору данных."
   ]
  },
  {
   "cell_type": "code",
   "execution_count": null,
   "metadata": {},
   "outputs": [],
   "source": [
    "df_internet['session_month'] = pd.DatetimeIndex(df_internet['session_date']).month"
   ]
  },
  {
   "cell_type": "markdown",
   "metadata": {},
   "source": [
    "Проверим на наличие дубликатов, а также на соответствие множества идентификаторов пользователей данным в таблице `users`"
   ]
  },
  {
   "cell_type": "code",
   "execution_count": null,
   "metadata": {},
   "outputs": [],
   "source": [
    "df_internet[df_internet.duplicated()]['id'].count()"
   ]
  },
  {
   "cell_type": "code",
   "execution_count": null,
   "metadata": {},
   "outputs": [],
   "source": [
    "df_internet[~df_internet['user_id'].isin(df_users.index)]['id'].count()"
   ]
  },
  {
   "cell_type": "markdown",
   "metadata": {},
   "source": [
    "Проверим, что идентификаторы сессий корректно привязаны к идентификаторам пользователей."
   ]
  },
  {
   "cell_type": "code",
   "execution_count": null,
   "metadata": {},
   "outputs": [],
   "source": [
    "df_internet['user_session_id'] = df_internet['id'].str.split('_').str[0].astype('int')"
   ]
  },
  {
   "cell_type": "code",
   "execution_count": null,
   "metadata": {},
   "outputs": [],
   "source": [
    "df_internet[df_internet['user_session_id'] != df_internet['user_id']]['id'].count()"
   ]
  },
  {
   "cell_type": "markdown",
   "metadata": {},
   "source": [
    "Несовпадающих идентификаторов пользователя в атрибутах `id` и `user_id` нет.\n",
    "\n",
    "Округлим в бОльшую сторону значения использованных мегабайт трафика. "
   ]
  },
  {
   "cell_type": "code",
   "execution_count": null,
   "metadata": {},
   "outputs": [],
   "source": [
    "df_internet['mb_used'] = df_internet['mb_used'].apply(np.ceil)"
   ]
  },
  {
   "cell_type": "markdown",
   "metadata": {},
   "source": [
    "Приведем значения объема трафика в целочисленный тип."
   ]
  },
  {
   "cell_type": "code",
   "execution_count": null,
   "metadata": {},
   "outputs": [],
   "source": [
    "df_internet['mb_used'] = df_internet['mb_used'].astype('int')\n",
    "df_internet['mb_used']"
   ]
  },
  {
   "cell_type": "markdown",
   "metadata": {},
   "source": [
    "Оценим распределение значений объема сессионного трафика."
   ]
  },
  {
   "cell_type": "code",
   "execution_count": null,
   "metadata": {},
   "outputs": [],
   "source": [
    "df_internet['mb_used'].describe()"
   ]
  },
  {
   "cell_type": "code",
   "execution_count": null,
   "metadata": {},
   "outputs": [],
   "source": [
    "fig = px.histogram(\n",
    "    df_internet, \n",
    "    x = 'mb_used', \n",
    "    marginal = 'box', \n",
    "    title = 'Распределение объема трафика интернет-сессий'\n",
    ")\n",
    "\n",
    "fig.update_layout(xaxis_title=\"Объем трафика (мб)\", yaxis_title=\"Число сессий\")\n",
    "fig.show()"
   ]
  },
  {
   "cell_type": "code",
   "execution_count": null,
   "metadata": {},
   "outputs": [],
   "source": [
    "df_internet[df_internet['mb_used'] == 0]['id'].count()"
   ]
  },
  {
   "cell_type": "markdown",
   "metadata": {},
   "source": [
    "Пустых (0 мб израсходовано) интернет-сессий - 13%. С учетом того, что в задачах исследования не требуется проводить оценку количества интернет-сессий (только израсходованный объем трафика), пустые сессии можно удалить из набора данных."
   ]
  },
  {
   "cell_type": "code",
   "execution_count": null,
   "metadata": {},
   "outputs": [],
   "source": [
    "df_internet = df_internet[df_internet['mb_used'] > 0]"
   ]
  },
  {
   "cell_type": "code",
   "execution_count": null,
   "metadata": {
    "scrolled": true
   },
   "outputs": [],
   "source": [
    "fig = px.histogram(\n",
    "    df_internet, \n",
    "    x = 'mb_used', \n",
    "    marginal = 'box',\n",
    "    title = 'Распределение объема трафика интернет-сессий'\n",
    ")\n",
    "\n",
    "fig.update_layout(xaxis_title=\"Объем трафика (мб)\", yaxis_title=\"Число сессий\")\n",
    "fig.show()"
   ]
  },
  {
   "cell_type": "markdown",
   "metadata": {},
   "source": [
    "Теперь распределение объема трафика близко к пуассоновскому распределению, медианное значение - 400 мб, межквартильный размах - (227, 593). Сессии объемом более 1142 мб относятся к зоне выбросов."
   ]
  },
  {
   "cell_type": "markdown",
   "metadata": {},
   "source": [
    "#### Выводы:"
   ]
  },
  {
   "cell_type": "code",
   "execution_count": null,
   "metadata": {
    "scrolled": false
   },
   "outputs": [],
   "source": [
    "df_internet.info()"
   ]
  },
  {
   "cell_type": "markdown",
   "metadata": {},
   "source": [
    "В целом, для таблицы `internet` выполнены необходимые преобразования типов данных, а также проведено округление объема трафика сессии в соответствии с правилами тарификации.\n",
    "\n",
    "Добавлены атрибуты для последующего анализа данных:\n",
    "- `session_month` - месяц сессии "
   ]
  },
  {
   "cell_type": "markdown",
   "metadata": {},
   "source": [
    "### Таблица `tariffs` - информация о тарифах"
   ]
  },
  {
   "cell_type": "markdown",
   "metadata": {},
   "source": [
    "Еще раз посмотрим на общую информацию о таблице `tariffs`"
   ]
  },
  {
   "cell_type": "code",
   "execution_count": null,
   "metadata": {
    "scrolled": true
   },
   "outputs": [],
   "source": [
    "df_tariffs.head(5)"
   ]
  },
  {
   "cell_type": "code",
   "execution_count": null,
   "metadata": {},
   "outputs": [],
   "source": [
    "df_tariffs.info()"
   ]
  },
  {
   "cell_type": "markdown",
   "metadata": {},
   "source": [
    "Переименуем атрибут с названием тарифа для удобства объединения с таблицей абонентов."
   ]
  },
  {
   "cell_type": "code",
   "execution_count": null,
   "metadata": {},
   "outputs": [],
   "source": [
    "df_tariffs.rename(columns = {'tariff_name':'tariff'}, inplace = True) "
   ]
  },
  {
   "cell_type": "markdown",
   "metadata": {},
   "source": [
    "<a id=\"step-2-result\"></a>\n",
    "### Выводы\n",
    "\n",
    "В целом для всех таблиц (абоненты, тарифы, звонки, сообщения, интернет-сессии) выполнены необходимые преобразования типов данных.\n",
    "\n",
    "Проведена оценка территориального и возрастного распределения абонентов:\n",
    "- абонентов из Москвы в общей выборке - 20%\n",
    "- по возрасту абоненты представлены практически раномерно в диапазоне 18-75 лет\n",
    "\n",
    "Для всех таблиц со сведениями об оказанных услугах связи (звонки, сообщения, интернет-сессии) проведена проверка корректности исходных данных:\n",
    "- соответствие целочисленных идентификаторов абонентов в таблицах услуг связи идентификаторам абонентов в таблице `users`\n",
    "- отсутствие несовпадающих идентификаторов абонентов в атрибутах `id` и `user_id` каждой таблицы\n",
    "\n",
    "В соответствии с правилами тарификации проведено округление значений длительности звонков и объема трафика интернет-сессий.\n",
    "\n",
    "Определена доля нетарифицируемых звонков (длительностью 0 секунд) - 24%. Для последующего анализа данных добавлен признак тарифицируемости - `is_chargeable`.\n",
    "\n",
    "Определена доля нетарифицируемых (0 мб израсходовано) интернет-сессий - 13%. С учетом задач исследования указанные интернет-сессии удалены из набора данных и исключены из последующего анализа."
   ]
  },
  {
   "cell_type": "markdown",
   "metadata": {},
   "source": [
    "## Подготовка сводных таблиц объема и стоимости оказанных услуг связи"
   ]
  },
  {
   "cell_type": "markdown",
   "metadata": {},
   "source": [
    "### Расчет сводных таблиц длительности и стоимости звонков"
   ]
  },
  {
   "cell_type": "markdown",
   "metadata": {},
   "source": [
    "Объединим данные таблиц сообщений и пользователей"
   ]
  },
  {
   "cell_type": "code",
   "execution_count": null,
   "metadata": {},
   "outputs": [],
   "source": [
    "df_user_calls = df_users.merge(df_calls, on='user_id')\n",
    "df_user_calls"
   ]
  },
  {
   "cell_type": "markdown",
   "metadata": {},
   "source": [
    "Проверим, что данные о звонках по времени попадают в интервал использования тарифа абонентом."
   ]
  },
  {
   "cell_type": "code",
   "execution_count": null,
   "metadata": {},
   "outputs": [],
   "source": [
    "(\n",
    "    df_user_calls[\n",
    "        (df_user_calls['call_date'] < df_user_calls['reg_date']) \n",
    "        | (df_user_calls['call_date'] > df_user_calls['churn_date'])\n",
    "    ]\n",
    ")['id'].count()"
   ]
  },
  {
   "cell_type": "markdown",
   "metadata": {},
   "source": [
    "Сформируем сводную таблицу количества совершенных звонков по месяцам для каждого абонента."
   ]
  },
  {
   "cell_type": "code",
   "execution_count": null,
   "metadata": {
    "scrolled": true
   },
   "outputs": [],
   "source": [
    "df_user_calls_count = df_user_calls.pivot_table(\n",
    "    index=['user_id', 'tariff'], \n",
    "    columns='call_month', \n",
    "    values='id', \n",
    "    aggfunc=['count']#, \n",
    "    #fill_value=0\n",
    ")\n",
    "\n",
    "# переведем порядковые номера месяцев в строковые названия\n",
    "df_user_calls_count.columns = [pd.to_datetime(col[1], format='%m').month_name() \\\n",
    "                                for col in df_user_calls_count.columns.values]\n",
    "\n",
    "df_user_calls_count = df_user_calls_count.reset_index()\n",
    "df_user_calls_count"
   ]
  },
  {
   "cell_type": "markdown",
   "metadata": {},
   "source": [
    "Также сформируем сводную таблицу длительности (в минутах) совершенных звонков по месяцам для каждого абонента."
   ]
  },
  {
   "cell_type": "code",
   "execution_count": null,
   "metadata": {},
   "outputs": [],
   "source": [
    "df_user_calls_vol = df_user_calls.pivot_table(\n",
    "    index=['user_id', 'tariff'], \n",
    "    columns='call_month', \n",
    "    values='duration', \n",
    "    aggfunc=['sum']#, \n",
    "    #fill_value=0\n",
    ")\n",
    "\n",
    "# переведем порядковые номера месяцев в строковые названия\n",
    "df_user_calls_vol.columns = [pd.to_datetime(col[1], format='%m').month_name() \\\n",
    "                                for col in df_user_calls_vol.columns.values]\n",
    "\n",
    "df_user_calls_vol = df_user_calls_vol.reset_index()\n",
    "df_user_calls_vol"
   ]
  },
  {
   "cell_type": "markdown",
   "metadata": {},
   "source": [
    "Объединим полученную сводную таблицу с параметрами тарифа, относящимися к тарификации звонков (предоплаченный объем, стоимость сообщения сверх объема)."
   ]
  },
  {
   "cell_type": "code",
   "execution_count": null,
   "metadata": {},
   "outputs": [],
   "source": [
    "df_user_calls_charge = df_user_calls_vol.merge(\n",
    "    df_tariffs[['minutes_included', 'rub_per_minute', 'tariff']],\n",
    "    on='tariff'\n",
    ").fillna(0)\n",
    "\n",
    "df_user_calls_charge"
   ]
  },
  {
   "cell_type": "markdown",
   "metadata": {},
   "source": [
    "На основе полученной таблицы рассчитаем стоимость оказанных услуг голосовой связи для каждого пользователя по месяцам:\n",
    "- вычтем из общей длительности звонков объем предоплаченных минут в тарифе\n",
    "- умножим на стоимость одной минуты в рублях"
   ]
  },
  {
   "cell_type": "code",
   "execution_count": null,
   "metadata": {
    "scrolled": true
   },
   "outputs": [],
   "source": [
    "for column in df_user_calls_charge.loc[:,'January': 'December']:\n",
    "    df_user_calls_charge[column] = (\n",
    "        (\n",
    "            (df_user_calls_charge[column] - df_user_calls_charge['minutes_included'])\n",
    "            .clip(lower=0) \n",
    "        )\n",
    "        * df_user_calls_charge['rub_per_minute']\n",
    "    ).astype('int')\n",
    "    \n",
    "del df_user_calls_charge['minutes_included']\n",
    "del df_user_calls_charge['rub_per_minute']\n",
    "\n",
    "df_user_calls_charge"
   ]
  },
  {
   "cell_type": "markdown",
   "metadata": {},
   "source": [
    "### Расчет сводных таблиц объема и стоимости сообщений"
   ]
  },
  {
   "cell_type": "markdown",
   "metadata": {},
   "source": [
    "Объединим данные таблиц сообщений и пользователей"
   ]
  },
  {
   "cell_type": "code",
   "execution_count": null,
   "metadata": {},
   "outputs": [],
   "source": [
    "df_user_messages = df_users.merge(df_messages, on='user_id')\n",
    "df_user_messages"
   ]
  },
  {
   "cell_type": "markdown",
   "metadata": {},
   "source": [
    "Проверим, что данные о сообщениях по времени попадают в интервал использования тарифа абонентом."
   ]
  },
  {
   "cell_type": "code",
   "execution_count": null,
   "metadata": {},
   "outputs": [],
   "source": [
    "(\n",
    "    df_user_messages[\n",
    "        (df_user_messages['message_date'] < df_user_messages['reg_date']) \n",
    "        | (df_user_messages['message_date'] > df_user_messages['churn_date'])\n",
    "    ]\n",
    ")['id'].count()"
   ]
  },
  {
   "cell_type": "markdown",
   "metadata": {},
   "source": [
    "Сформируем сводную таблицу количества отправленных сообщений по месяцам для каждого абонента."
   ]
  },
  {
   "cell_type": "code",
   "execution_count": null,
   "metadata": {},
   "outputs": [],
   "source": [
    "df_user_messages_vol = df_user_messages.pivot_table(\n",
    "    index=['user_id', 'tariff'], \n",
    "    columns='message_month', \n",
    "    values='id', \n",
    "    aggfunc=['count']#, \n",
    "    #fill_value=0\n",
    ")\n",
    "\n",
    "# переведем порядковые номера месяцев в строковые названия\n",
    "df_user_messages_vol.columns = [pd.to_datetime(col[1], format='%m').month_name() \\\n",
    "                                for col in df_user_messages_vol.columns.values]\n",
    "\n",
    "df_user_messages_vol = df_user_messages_vol.reset_index()\n",
    "df_user_messages_vol"
   ]
  },
  {
   "cell_type": "markdown",
   "metadata": {},
   "source": [
    "Объединим полученную сводную таблицу с параметрами тарифа, относящимися к тарификации сообщений (предоплаченный объем, стоимость сообщения сверх объема)."
   ]
  },
  {
   "cell_type": "code",
   "execution_count": null,
   "metadata": {},
   "outputs": [],
   "source": [
    "df_user_messages_charge = df_user_messages_vol.merge(\n",
    "    df_tariffs[['messages_included', 'rub_per_message', 'tariff']],\n",
    "    on='tariff'\n",
    ").fillna(0)\n",
    "\n",
    "df_user_messages_charge"
   ]
  },
  {
   "cell_type": "markdown",
   "metadata": {},
   "source": [
    "На основе полученной таблицы рассчитаем стоимость оказанных услуг отправки сообщений для каждого пользователя по месяцам:\n",
    "- вычтем из числа отправленных сообщений объем предоплаченных в тарифе\n",
    "- умножим на стоимость одного сообщения в рублях"
   ]
  },
  {
   "cell_type": "code",
   "execution_count": null,
   "metadata": {
    "scrolled": true
   },
   "outputs": [],
   "source": [
    "for column in df_user_messages_charge.loc[:,'January': 'December']:\n",
    "    df_user_messages_charge[column] = (\n",
    "        (\n",
    "            (df_user_messages_charge[column] - df_user_messages_charge['messages_included'])\n",
    "            .clip(lower=0) \n",
    "        )\n",
    "        * df_user_messages_charge['rub_per_message']\n",
    "    ).astype('int')\n",
    "    \n",
    "del df_user_messages_charge['messages_included']\n",
    "del df_user_messages_charge['rub_per_message']\n",
    "\n",
    "df_user_messages_charge"
   ]
  },
  {
   "cell_type": "markdown",
   "metadata": {},
   "source": [
    "### Расчет сводных таблиц объема и стоимости интернет-трафика"
   ]
  },
  {
   "cell_type": "markdown",
   "metadata": {},
   "source": [
    "Объединим данные таблиц интернет-сессий и пользователей"
   ]
  },
  {
   "cell_type": "code",
   "execution_count": null,
   "metadata": {},
   "outputs": [],
   "source": [
    "df_user_internet = df_users.merge(df_internet, on='user_id')\n",
    "df_user_internet"
   ]
  },
  {
   "cell_type": "markdown",
   "metadata": {},
   "source": [
    "Проверим, что данные об интернет-сессиях по времени попадают в интервал использования тарифа абонентом."
   ]
  },
  {
   "cell_type": "code",
   "execution_count": null,
   "metadata": {},
   "outputs": [],
   "source": [
    "(\n",
    "    df_user_internet[\n",
    "        (df_user_internet['session_date'] < df_user_internet['reg_date']) \n",
    "        | (df_user_internet['session_date'] > df_user_internet['churn_date'])\n",
    "    ]\n",
    ")['id'].count()"
   ]
  },
  {
   "cell_type": "markdown",
   "metadata": {},
   "source": [
    "Сформируем сводную таблицу трафика интернет-сессий по месяцам для каждого абонента."
   ]
  },
  {
   "cell_type": "code",
   "execution_count": null,
   "metadata": {},
   "outputs": [],
   "source": [
    "df_user_internet_vol = df_user_internet.pivot_table(\n",
    "    index=['user_id', 'tariff'], \n",
    "    columns='session_month', \n",
    "    values='mb_used', \n",
    "    aggfunc=['sum']#, \n",
    "    #fill_value=0\n",
    ")\n",
    "\n",
    "# переведем порядковые номера месяцев в строковые названия\n",
    "df_user_internet_vol.columns = [pd.to_datetime(col[1], format='%m').month_name() \\\n",
    "                                for col in df_user_internet_vol.columns.values]\n",
    "\n",
    "df_user_internet_vol = df_user_internet_vol.reset_index()\n",
    "df_user_internet_vol"
   ]
  },
  {
   "cell_type": "markdown",
   "metadata": {},
   "source": [
    "Объединим полученную сводную таблицу с параметрами тарифа, относящимися к тарификации интернет-трафика (предоплаченный объем, стоимость Гб трафика сверх объема)."
   ]
  },
  {
   "cell_type": "code",
   "execution_count": null,
   "metadata": {},
   "outputs": [],
   "source": [
    "df_user_internet_charge = df_user_internet_vol.merge(\n",
    "    df_tariffs[['mb_per_month_included', 'rub_per_gb', 'tariff']],\n",
    "    on='tariff'\n",
    ").fillna(0)\n",
    "\n",
    "df_user_internet_charge"
   ]
  },
  {
   "cell_type": "markdown",
   "metadata": {},
   "source": [
    "На основе полученной таблицы рассчитаем стоимость оказанных услуг интернет-трафика для каждого пользователя по месяцам:\n",
    "- вычтем из использованного трафика (в Мб) объем предоплаченного трафика\n",
    "- разделим на 1024 и округлим в бОльшую сторону для получения количества Гб трафика сверх предоплаченного объема\n",
    "- умножим на стоимость Гб трафика в рублях"
   ]
  },
  {
   "cell_type": "code",
   "execution_count": null,
   "metadata": {
    "scrolled": true
   },
   "outputs": [],
   "source": [
    "for column in df_user_internet_charge.loc[:,'January': 'December']:\n",
    "    df_user_internet_charge[column] = (\n",
    "        (\n",
    "            (df_user_internet_charge[column] - df_user_internet_charge['mb_per_month_included'])\n",
    "            .clip(lower=0) / 1024\n",
    "        )\n",
    "        .apply(np.ceil) \n",
    "        * df_user_internet_charge['rub_per_gb']\n",
    "    ).astype('int')\n",
    "    \n",
    "del df_user_internet_charge['mb_per_month_included']\n",
    "del df_user_internet_charge['rub_per_gb']\n",
    "\n",
    "df_user_internet_charge"
   ]
  },
  {
   "cell_type": "markdown",
   "metadata": {},
   "source": [
    "Пример альтернативной сводной таблицы"
   ]
  },
  {
   "cell_type": "code",
   "execution_count": null,
   "metadata": {},
   "outputs": [],
   "source": [
    "df_user_calls_vol_2 = df_user_calls.pivot_table(\n",
    "    index=['user_id', 'tariff', 'call_month'], \n",
    "    values='duration', \n",
    "    aggfunc=['sum'] \n",
    ").reset_index()\n",
    "\n",
    "df_user_calls_vol_2.columns = ['user_id', 'tariff', 'month', 'call_duration']\n",
    "\n",
    "df_user_calls_charge_2 = df_user_calls_vol_2.merge(\n",
    "    df_tariffs[['minutes_included', 'rub_per_minute', 'tariff']],\n",
    "    on='tariff'\n",
    ")\n",
    "\n",
    "df_user_calls_charge_2['call_charge'] = (\n",
    "    (\n",
    "        df_user_calls_charge_2['call_duration'] - df_user_calls_charge_2['minutes_included']\n",
    "    )\n",
    "    .clip(lower=0) \n",
    "    *df_user_calls_charge_2['rub_per_minute']\n",
    ")\n",
    "\n",
    "df_user_calls_charge_2"
   ]
  },
  {
   "cell_type": "markdown",
   "metadata": {},
   "source": [
    "### Расчет общей стоимости оказанных услуг"
   ]
  },
  {
   "cell_type": "markdown",
   "metadata": {},
   "source": [
    "У нас сформированы 3 сводные таблицы (по разным видам услуг) одинаковой структуры с указанием стоимости оказанных услуг для абонентов:\n",
    "- `df_user_calls_charge` - стоимость услуг голосовой связи\n",
    "- `df_user_messages_charge` - стоимость услуг отправки сообщений\n",
    "- `df_user_internet_charge` - стоимость услуг интернет-трафика"
   ]
  },
  {
   "cell_type": "markdown",
   "metadata": {},
   "source": [
    "Сформируем таблицу аналогичной структуры с указанием абонентской платы. Учитываем, что абонентская плата начинает начисляться с того месяца, когда абонент подключился к тарифу (не анализируем день подключения - абонентская плата списывается полностью за месяц подключения даже в случае подключения в последний день месяца)."
   ]
  },
  {
   "cell_type": "code",
   "execution_count": null,
   "metadata": {},
   "outputs": [],
   "source": [
    "df_user_monthly_fee = (\n",
    "    df_users[['user_id', 'tariff', 'reg_month']]\n",
    "    .merge(df_tariffs[['tariff', 'rub_monthly_fee']])\n",
    ")\n",
    "\n",
    "# В цикле добавим колонки для каждого месяца со значением абонентской платы в случае, \n",
    "# если текущий месяц больше или равен месяца подключения\n",
    "\n",
    "for i in range(1, 13):\n",
    "    df_user_monthly_fee[pd.to_datetime(i, format='%m').month_name()] = \\\n",
    "        np.where(df_user_monthly_fee['reg_month'] <= i, df_user_monthly_fee['rub_monthly_fee'], np.nan)\n",
    "    \n",
    "# удалим колонки месяца подключения и размера абонентской платы    \n",
    "del df_user_monthly_fee['reg_month']\n",
    "del df_user_monthly_fee['rub_monthly_fee']\n",
    "\n",
    "df_user_monthly_fee"
   ]
  },
  {
   "cell_type": "code",
   "execution_count": null,
   "metadata": {},
   "outputs": [],
   "source": [
    "df_user_charge = pd.concat(\n",
    "    [df_user_monthly_fee, \n",
    "     df_user_calls_charge, \n",
    "     df_user_messages_charge, \n",
    "     df_user_internet_charge]\n",
    ")\n",
    "df_user_charge"
   ]
  },
  {
   "cell_type": "markdown",
   "metadata": {},
   "source": [
    "Путем конкатенации получили таблицу, в которой для каждого абонента есть от 1 до 4 строк: \n",
    "- абонентская плата\n",
    "- плата за услуги голосовой связи\n",
    "- плата за услуги отправки сообщений\n",
    "- плата за интернет-трафик\n",
    "\n",
    "Сгруппируем данные по каждому абоненту и получим таблицу с общей стоимостью оказанных услуг для каждого абонента (по месяцам)."
   ]
  },
  {
   "cell_type": "code",
   "execution_count": null,
   "metadata": {},
   "outputs": [],
   "source": [
    "df_user_charge = df_user_charge.groupby(by=['user_id', 'tariff']).sum()\n",
    "df_user_charge"
   ]
  },
  {
   "cell_type": "markdown",
   "metadata": {},
   "source": [
    "Удалим 0 из полученной таблицы, чтобы в последующем исключить абонентов с нулевыми тратами из расчетов."
   ]
  },
  {
   "cell_type": "code",
   "execution_count": null,
   "metadata": {},
   "outputs": [],
   "source": [
    "for i in range(1, 13):\n",
    "    df_user_charge[pd.to_datetime(i, format='%m').month_name()] = \\\n",
    "        df_user_charge[pd.to_datetime(i, format='%m').month_name()].replace(0, np.nan)\n",
    "    \n",
    "df_user_charge"
   ]
  },
  {
   "cell_type": "markdown",
   "metadata": {},
   "source": [
    "<a id=\"step-3-result\"></a>\n",
    "### Выводы\n",
    "\n",
    "Подготовлены сводные таблицы (по разным видам услуг) с указанием объема оказанных услуг для абонентов:\n",
    "- `df_user_calls_vol` - объем услуг голосовой связи (длительность звонков)\n",
    "- `df_user_messages_vol` - объем услуг отправки сообщений (количество сообщений)\n",
    "- `df_user_internet_vol` - объем услуг интернет-трафика (общий объем трафика интернет-сессий)\n",
    "\n",
    "При формировании указанных таблиц проведена проверка попадания даты тарифицируемой услуги в период пользования тарифом.\n",
    "\n",
    "На основе указанных таблиц произведен расчет стоимости оказанных услуг для абонентов, а также выполнен расчет общей стоимости услуг с учетом абонентской платы по тарифу. В общей сложности сформированы 4 сводные таблицы одинаковой структуры:\n",
    "- `df_user_calls_charge` - стоимость услуг голосовой связи\n",
    "- `df_user_messages_charge` - стоимость услуг отправки сообщений\n",
    "- `df_user_internet_charge` - стоимость услуг интернет-трафика\n",
    "- `df_user_charge` - общая стоимость услуг"
   ]
  },
  {
   "cell_type": "markdown",
   "metadata": {},
   "source": [
    "## Анализ поведения абонентов"
   ]
  },
  {
   "cell_type": "markdown",
   "metadata": {},
   "source": [
    "### Общая оценка стоимости оказанных услуг связи"
   ]
  },
  {
   "cell_type": "markdown",
   "metadata": {},
   "source": [
    "Оценим общую информацию о стоимости предоставленных услуг по месяцам"
   ]
  },
  {
   "cell_type": "code",
   "execution_count": null,
   "metadata": {},
   "outputs": [],
   "source": [
    "df_user_charge.describe()"
   ]
  },
  {
   "cell_type": "markdown",
   "metadata": {},
   "source": [
    "По таблице видно, что среднее значение стоимости оказанных услуг планомерно увеличивается. Значение Q1 (левая граница межквартильного размаха) также постоянно увеличивается. Значение Q3 практически неизменно и равно абонентской плате тарифа \"Ультра\". Это свидетельствует о постоянном увеличении количества подключенных к тарифам абонентам на протяжении всего года, а также о значительной доле абонентов тарифа \"Ультра\" в исходной выборке. \n",
    "\n",
    "Визуализируем на графиках по мясяцам стоимость оказанных услуг."
   ]
  },
  {
   "cell_type": "code",
   "execution_count": null,
   "metadata": {},
   "outputs": [],
   "source": [
    "df_user_charge_ultra = df_user_charge.query('tariff == \\'ultra\\'')\n",
    "df_user_charge_smart = df_user_charge.query('tariff == \\'smart\\'')"
   ]
  },
  {
   "cell_type": "code",
   "execution_count": null,
   "metadata": {},
   "outputs": [],
   "source": [
    "eng_to_ru_months = {'January': 'Январь', 'February': 'Февраль', 'March': 'Март', 'April': 'Апрель',\\\n",
    "                   'May': 'Май', 'June': 'Июнь', 'July': 'Июль', 'August': 'Август',\\\n",
    "                   'September': 'Сентябрь', 'October': 'Октябрь', 'November': 'Ноябрь', 'December': 'Декабрь',}\n",
    "\n",
    "eng_to_ru_tariff = {'ultra': 'УЛЬТРА', 'smart': 'СМАРТ'}"
   ]
  },
  {
   "cell_type": "code",
   "execution_count": null,
   "metadata": {},
   "outputs": [],
   "source": [
    "# функция для совместного отображения распределения двух параметров в виде матрицы гистограмм (4х3) по месяцам\n",
    "# df_param_back - dataframe для отображения на заднем плане\n",
    "# df_param_front - dataframe для отображения на переднем плане\n",
    "# bins - границы корзин\n",
    "# title - общее название графика\n",
    "# x_label - общая подпись оси X\n",
    "# y_label - общая подпись оси Y\n",
    "\n",
    "def plot_hist_param_double(\n",
    "    df_param_back, \n",
    "    df_param_front, \n",
    "    bins,\n",
    "    title,\n",
    "    x_label,\n",
    "    y_label\n",
    "):\n",
    "    fig, axs = plt.subplots(\n",
    "        nrows=4, \n",
    "        ncols=3, \n",
    "        sharex=True,\n",
    "        sharey=True,\n",
    "        figsize=(16,15)\n",
    "    )\n",
    "    #plt.subplots_adjust(left=None, bottom=0.5, right=None, top=None, wspace=None, hspace=None)\n",
    "\n",
    "    plt.subplots_adjust(hspace=0.3)\n",
    "    \n",
    "    # хинт для отображения общих вертикальных и горизонтальных меток - общий невидимых график\n",
    "    fig.add_subplot(111, frameon=False)\n",
    "    # hide tick and tick label of the big axes\n",
    "    plt.tick_params(labelcolor='none', top=False, bottom=False, left=False, right=False)\n",
    "    plt.grid(False)\n",
    "    plt.xlabel(x_label, fontsize='x-large')\n",
    "    plt.ylabel(y_label, fontsize='x-large')\n",
    "    plt.suptitle(title, ha='center', fontsize='xx-large')\n",
    "    \n",
    "    magenta_patch = mpatches.Patch(color='magenta', label='УЛЬТРА')\n",
    "    green_patch = mpatches.Patch(color='green', label='СМАРТ')\n",
    "    \n",
    "    \n",
    "    for i in range(1, 13):\n",
    "        month_name = pd.to_datetime(i, format='%m').month_name()\n",
    "        # получаем данные параметра за месяц\n",
    "        data_back = df_param_back[df_param_back[month_name] > 0][month_name]\n",
    "        data_front = df_param_front[df_param_front[month_name] > 0][month_name]\n",
    "        \n",
    "        # расчет позиции графика в матрице 4х3\n",
    "        ax_i = axs[int((i - 1) / 3), (i - 1) % 3]\n",
    "\n",
    "        data_back.plot(\n",
    "            grid=True, \n",
    "            kind='hist', \n",
    "            bins=bins, \n",
    "            alpha = 0.8,\n",
    "            ax = ax_i,\n",
    "            color='magenta'\n",
    "        )\n",
    "\n",
    "        data_front.plot(\n",
    "            grid=True, \n",
    "            kind='hist', \n",
    "            bins=bins, \n",
    "            alpha = 0.6,\n",
    "            ax = ax_i,\n",
    "            color='green'\n",
    "        )\n",
    "        \n",
    "        ax_i.set_title(eng_to_ru_months[month_name], fontsize='large')\n",
    "        ax_i.set_ylabel('')\n",
    "        \n",
    "        if i % 3 == 0:\n",
    "            ax_i.legend(handles=[magenta_patch, green_patch])"
   ]
  },
  {
   "cell_type": "code",
   "execution_count": null,
   "metadata": {},
   "outputs": [],
   "source": [
    "plot_hist_param_double(\n",
    "    df_user_charge_ultra, \n",
    "    df_user_charge_smart,\n",
    "    [500, 1000, 1500, 2000, 2500, 3000, 3500],\n",
    "    'Общая стоимость услуг',\n",
    "    'Стоимость (руб)',\n",
    "    'Число абонентов'\n",
    ")"
   ]
  },
  {
   "cell_type": "markdown",
   "metadata": {},
   "source": [
    "Графики также демонстрируют рост числа абонентов на обоих тарифах. Можно считать, что стабильным число абонентов и их трат на услуги связи становится с сентября, до этого - рост (видимо тарифы новые в линейке тарифов и на первые месяцы 2018 года приходится период активного привлечения абонентов). \n",
    "\n",
    "С целью последующей оценки поведения абонентов оператора «Мегалайн», в том числе анализа используемых ими минут разговора, сообщений и объёма интернет-трафика в месяц, можно рассматривать только последние 4 месяца года.\n",
    "\n",
    "Для последних 4 месяцев года построим более подробные графики и расчитаем параметры распределения: среднее, медиану, дисперсию и стандартное отклонение. Поскольку представленные данные - выборка из всей совокупности абонентов «Мегалайн» указанных тарифов, то для дисперсии и стандартного отклонения получим их оценку по выборке."
   ]
  },
  {
   "cell_type": "code",
   "execution_count": null,
   "metadata": {},
   "outputs": [],
   "source": [
    "# функция для совместного отображения распределения двух параметров в виде матрицы гистограмм (2х2) по месяцам\n",
    "# дополнительно перед графиками формируется отчет с отображением числовых параметров распределения\n",
    "# df_param_back - dataframe для отображения на заднем плане\n",
    "# df_param_front - dataframe для отображения на переднем плане\n",
    "# bins - границы корзин\n",
    "# title - общее название графика\n",
    "# x_label - общая подпись оси X\n",
    "# y_label - общая подпись оси Y\n",
    "\n",
    "def plot_hist_param_double_report(\n",
    "    df_param_back, \n",
    "    df_param_front, \n",
    "    bins,\n",
    "    title,\n",
    "    x_label,\n",
    "    y_label\n",
    "):\n",
    "    fig, axs = plt.subplots(\n",
    "        nrows=2, \n",
    "        ncols=2, \n",
    "        sharex=True,\n",
    "        sharey=True,\n",
    "        figsize=(16,15)\n",
    "    )\n",
    "    #plt.subplots_adjust(left=None, bottom=0.5, right=None, top=None, wspace=None, hspace=None)\n",
    "\n",
    "    plt.subplots_adjust(hspace=0.3)\n",
    "    \n",
    "    # хинт для отображения общих вертикальных и горизонтальных меток - общий невидимых график\n",
    "    fig.add_subplot(111, frameon=False)\n",
    "    # hide tick and tick label of the big axes\n",
    "    plt.tick_params(labelcolor='none', top=False, bottom=False, left=False, right=False)\n",
    "    plt.grid(False)\n",
    "    plt.xlabel(x_label, fontsize='x-large')\n",
    "    plt.ylabel(y_label, fontsize='x-large')\n",
    "    plt.suptitle(title, ha='center', fontsize='xx-large')\n",
    "    \n",
    "    magenta_patch = mpatches.Patch(color='magenta', label='УЛЬТРА')\n",
    "    green_patch = mpatches.Patch(color='green', label='СМАРТ')\n",
    "    #plt.legend(handles=[green_patch, magenta_patch])\n",
    "\n",
    "    for i in range(9, 13):\n",
    "        month_name = pd.to_datetime(i, format='%m').month_name()\n",
    "        # получаем данные параметра за месяц\n",
    "        data_back = df_param_back[df_param_back[month_name] > 0][month_name]\n",
    "        data_front = df_param_front[df_param_front[month_name] > 0][month_name]\n",
    "        \n",
    "        # расчет позиции графика в матрице 2х2\n",
    "        ax_i = axs[int((i - 9) / 2), (i - 9) % 2]\n",
    "\n",
    "        data_back.plot(\n",
    "            grid=True, \n",
    "            kind='hist', \n",
    "            bins=bins, \n",
    "            alpha = 0.8,\n",
    "            ax = ax_i,\n",
    "            color='magenta'\n",
    "        )\n",
    "\n",
    "        data_front.plot(\n",
    "            grid=True, \n",
    "            kind='hist', \n",
    "            bins=bins, \n",
    "            alpha = 0.4,\n",
    "            ax = ax_i,\n",
    "            color='green'\n",
    "        )\n",
    "        \n",
    "        ax_i.set_title(eng_to_ru_months[month_name], fontsize='xx-large')\n",
    "        ax_i.set_ylabel('')\n",
    "        ax_i.legend(handles=[magenta_patch, green_patch])\n",
    "        \n",
    "        print('Отчет за месяц: {}'.format(eng_to_ru_months[month_name]))\n",
    "        print(\n",
    "            'Тариф Ультра: Среднее: {:.2f}    Медиана: {:.2f}    Дисперсия: {:.2f}    Стандартное отклонение: {:.2f}'\n",
    "            .format(\n",
    "                data_back.mean(), \n",
    "                data_back.median(),\n",
    "                np.var(data_back, ddof=1),\n",
    "                np.std(data_back, ddof=1)\n",
    "            )\n",
    "        )\n",
    "        \n",
    "        print(\n",
    "            'Тариф Смарт:  Среднее: {:.2f}    Медиана: {:.2f}    Дисперсия: {:.2f}    Стандартное отклонение: {:.2f}'\n",
    "            .format(\n",
    "                data_front.mean(), \n",
    "                data_front.median(),\n",
    "                np.var(data_front, ddof=1),\n",
    "                np.std(data_front, ddof=1)\n",
    "            )\n",
    "        )\n",
    "        print('')"
   ]
  },
  {
   "cell_type": "code",
   "execution_count": null,
   "metadata": {},
   "outputs": [],
   "source": [
    "plot_hist_param_double_report(\n",
    "    df_user_charge_ultra, \n",
    "    df_user_charge_smart,\n",
    "    [500, 750, 1000, 1250, 1500, 1750, 2000, 2250, 2500, 2750, 3000],\n",
    "    'Общая стоимость услуг',\n",
    "    'Стоимость (руб)',\n",
    "    'Число абонентов'\n",
    ")"
   ]
  },
  {
   "cell_type": "markdown",
   "metadata": {},
   "source": [
    "Рассчитаем сводную таблицу по месяцам для каждого из тарифов со следующими значениями:\n",
    "- средняя выручка\n",
    "- дисперсия\n",
    "- стандартное отклонение\n",
    "\n",
    "На основе указанной таблицы построим графики рассчитанных параметров за весь период."
   ]
  },
  {
   "cell_type": "code",
   "execution_count": null,
   "metadata": {},
   "outputs": [],
   "source": [
    "df_charge_agg = df_user_charge.loc[:, 'January' : 'December'].pivot_table(\n",
    "    index = 'tariff', \n",
    "    aggfunc = ['mean', 'var', 'std']\n",
    ").stack().reset_index()\n",
    "\n",
    "df_charge_agg.columns = ['tariff', 'month', 'mean', 'var', 'std']\n",
    "\n",
    "# пришлось добавить атрибут month_index для сортировки (pandas - 0.25.1, параметр key в sort_values - только с 1.1.0)\n",
    "df_charge_agg['month_index'] = df_charge_agg['month'].apply(lambda x: pd.to_datetime(x, format='%B').month)\n",
    "df_charge_agg['month'] = df_charge_agg['month'].apply(lambda x: eng_to_ru_months[x])\n",
    "df_charge_agg['tariff'] = df_charge_agg['tariff'].apply(lambda x: eng_to_ru_tariff[x])\n",
    "df_charge_agg.sort_values(by = 'month_index', inplace = True)\n",
    "\n",
    "df_charge_agg.head(5)"
   ]
  },
  {
   "cell_type": "markdown",
   "metadata": {},
   "source": [
    "Построим график динамики средней выручки по тарифам за весь 2018 год"
   ]
  },
  {
   "cell_type": "code",
   "execution_count": null,
   "metadata": {},
   "outputs": [],
   "source": [
    "# функция для отображения агрегированного значения за весь период \n",
    "# df_agg - dataframe с колонкой, содержащей агрегированное значение (среднее, дисперсия и т.д.)\n",
    "# param - агрегированный параметр для отображения\n",
    "# title - общее название графика\n",
    "# y_label - общая подпись оси Y\n",
    "\n",
    "def plot_aggregate_param(\n",
    "    df_agg, \n",
    "    param, \n",
    "    title,\n",
    "    y_label\n",
    "):\n",
    "    fig = px.bar(\n",
    "        df_agg,\n",
    "        x = 'month',\n",
    "        y = param,\n",
    "        color = 'tariff',\n",
    "        barmode = 'group',\n",
    "        color_discrete_map={\n",
    "                    'СМАРТ': 'Green', 'УЛЬТРА': 'Magenta'\n",
    "                },\n",
    "        opacity=0.5,\n",
    "        title = title\n",
    "    )\n",
    "\n",
    "    fig.update_layout(xaxis_title='Месяц')\n",
    "    fig.update_layout(yaxis_title=y_label)\n",
    "\n",
    "    #for trace in fig.data:\n",
    "    #    trace.name = trace.name.split('=')[1]\n",
    "\n",
    "    fig.show()"
   ]
  },
  {
   "cell_type": "code",
   "execution_count": null,
   "metadata": {},
   "outputs": [],
   "source": [
    "df_charge_agg"
   ]
  },
  {
   "cell_type": "code",
   "execution_count": null,
   "metadata": {},
   "outputs": [],
   "source": [
    "plot_aggregate_param(\n",
    "    df_charge_agg,\n",
    "    'mean',\n",
    "    'Средняя выручка за 2018 год',\n",
    "    'Средняя выручка'\n",
    ")"
   ]
  },
  {
   "cell_type": "code",
   "execution_count": null,
   "metadata": {},
   "outputs": [],
   "source": [
    "plot_aggregate_param(\n",
    "    df_charge_agg,\n",
    "    'std',\n",
    "    'Стандартное отклонение средней выручки за 2018 год',\n",
    "    'Стандартное отклонение'\n",
    ")"
   ]
  },
  {
   "cell_type": "markdown",
   "metadata": {},
   "source": [
    "Для тарифа \"Ультра\" (абонентская плата 1950 руб) характерно следующее:\n",
    "- основная часть значений ежемесячных трат сосредоточена возле значения абонентской платы, компактное распределение\n",
    "- медиана равна размеру абонентской платы (доля тех, кто тратит суммарно более чем размер абонентской платы - не превышает 50%)\n",
    "- среднее значение в пределах 10% больше медианы, положительная скошенность относительно идеального нормального распределения\n",
    "\n",
    "Для тарифа \"Смарт\" (абонентская плата 550 руб) характерно следующее:\n",
    "- распределение значений ежемесячных трат близко к нормальному  (убывающая часть графика нормального распределения)\n",
    "- медиана меньше среднего (положительная скошенность, смещена сильнее, чем в тарифе \"Ультра\")\n",
    "- средний размер ежемесячных затрат более чем в 2 раза превышает размер абонентской платы\n",
    "- большее значение стандартного отклонения (в 2-3 раза) относительно распределения затрат на тарифе \"Ультра\"\n",
    "\n",
    "В целом, можно отметить, что распределение значений ежемесячных трат у абонентов тарифа \"Смарт\" характеризуется большим разбросом значений, нередки случаи 4-5-кратного превышения ежемесячных трат размера абонентской платы. Это говорит о том, что в основном абоненты указанного тарифа успевают исчерпать предоплаченные лимиты услуг связи. Абоненты тарифа \"Ультра\" наоборот, в основном, укладываются в отведенный им лимит услуг и им не приходится оплачивать услуги сверх абонентской платы.\n",
    "\n",
    "По динамике за весь год средняя выручка на тарифе \"Смарт\" постоянно увеличивается. Если в начале года средняя выручка на тарифе \"Ультра\" практически в 2 раза превышала выручку на тарифе \"Смарт\", то к концу года эта разница достигает всего 30% (средняя выручка на тарифе \"Ультра\" превышает выручку на тарифе \"Смарта\" примерно на 30%). "
   ]
  },
  {
   "cell_type": "markdown",
   "metadata": {},
   "source": [
    "### Оценка пользования услугами голосовой связи"
   ]
  },
  {
   "cell_type": "markdown",
   "metadata": {},
   "source": [
    "Оценим общую информацию о количестве тарифицируемых минут разговора абонентов рассматриваемых тарифов по месяцам"
   ]
  },
  {
   "cell_type": "code",
   "execution_count": null,
   "metadata": {
    "scrolled": true
   },
   "outputs": [],
   "source": [
    "df_user_calls_vol.describe()"
   ]
  },
  {
   "cell_type": "code",
   "execution_count": null,
   "metadata": {},
   "outputs": [],
   "source": [
    "df_user_calls_vol_ultra = df_user_calls_vol.query('tariff == \\'ultra\\'')\n",
    "df_user_calls_vol_smart = df_user_calls_vol.query('tariff == \\'smart\\'')"
   ]
  },
  {
   "cell_type": "code",
   "execution_count": null,
   "metadata": {
    "scrolled": true
   },
   "outputs": [],
   "source": [
    "plot_hist_param_double(\n",
    "    df_user_calls_vol_ultra, \n",
    "    df_user_calls_vol_smart,\n",
    "    [0, 200, 400, 600, 800, 1000],\n",
    "    'Общая длительность звонков',\n",
    "    'Длительность (мин)',\n",
    "    'Число абонентов'\n",
    ")"
   ]
  },
  {
   "cell_type": "markdown",
   "metadata": {},
   "source": [
    "Графики также демонстрируют рост числа абонентов и увеличение общей длительности звонков по исходной выборке. Аналогично общей выручке, можно считать, что стабильной общая длительность звонков становится с сентября, до этого - рост. Среднее значение длительности звонков постоянно увеличивается. Значения Q1 и Q3 с июля по ноябрь практически неизменны, в декабре наблюдается их увеличение (может быть, в том числе, связано с сезонностью - увеличением числа звонков перед новогодними праздниками). \n",
    "\n",
    "Для последних 4 месяцев года построим более подробные графики и расчитаем параметры распределения: среднее, медиану, дисперсию и стандартное отклонение. Поскольку представленные данные - выборка из всей совокупности абонентов «Мегалайн» указанных тарифов, то для дисперсии и стандартного отклонения получим их оценку по выборке."
   ]
  },
  {
   "cell_type": "code",
   "execution_count": null,
   "metadata": {
    "scrolled": true
   },
   "outputs": [],
   "source": [
    "plot_hist_param_double_report(\n",
    "    df_user_calls_vol_ultra, \n",
    "    df_user_calls_vol_smart,\n",
    "    [0, 100, 200, 300, 400, 500, 600, 700, 800, 900, 1000, 1100],\n",
    "    'Общая длительность звонков',\n",
    "    'Длительность (мин)',\n",
    "    'Число абонентов'\n",
    ")"
   ]
  },
  {
   "cell_type": "markdown",
   "metadata": {},
   "source": [
    "Рассчитаем сводную таблицу по месяцам для каждого из тарифов со следующими значениями:\n",
    "- среднее количество минут разговора\n",
    "- дисперсия\n",
    "- стандартное отклонение"
   ]
  },
  {
   "cell_type": "code",
   "execution_count": null,
   "metadata": {},
   "outputs": [],
   "source": [
    "df_calls_agg = df_user_calls_vol.set_index(['user_id', 'tariff']).loc[:, 'January' : 'December'].pivot_table(\n",
    "    index = 'tariff', \n",
    "    aggfunc = ['mean', 'var', 'std']\n",
    ").stack().reset_index()\n",
    "\n",
    "df_calls_agg.columns = ['tariff', 'month', 'mean', 'var', 'std']\n",
    "\n",
    "# пришлось добавить атрибут month_index для сортировки (pandas - 0.25.1, параметр key в sort_values - только с 1.1.0)\n",
    "df_calls_agg['month_index'] = df_calls_agg['month'].apply(lambda x: pd.to_datetime(x, format='%B').month)\n",
    "df_calls_agg['month'] = df_calls_agg['month'].apply(lambda x: eng_to_ru_months[x])\n",
    "df_calls_agg['tariff'] = df_calls_agg['tariff'].apply(lambda x: eng_to_ru_tariff[x])\n",
    "df_calls_agg.sort_values(by = 'month_index', inplace = True)\n",
    "\n",
    "df_calls_agg.head(5)"
   ]
  },
  {
   "cell_type": "markdown",
   "metadata": {},
   "source": [
    "Построим график динамики среднего количества минут по тарифам за весь 2018 год"
   ]
  },
  {
   "cell_type": "code",
   "execution_count": null,
   "metadata": {},
   "outputs": [],
   "source": [
    "plot_aggregate_param(\n",
    "    df_calls_agg,\n",
    "    'mean',\n",
    "    'Среднее количество минут разговора за 2018 год',\n",
    "    'Среднее количество минут'\n",
    ")"
   ]
  },
  {
   "cell_type": "markdown",
   "metadata": {},
   "source": [
    "Для тарифа \"Ультра\" (включено 3000 мин, далее - 1 руб/мин) характерно следующее:\n",
    "- распределение длительности звонков за месяц близко к нормальному \n",
    "- медиана немного меньше среднего (положительная скошенность)\n",
    "\n",
    "Для тарифа \"Смарт\" (включено 500 минут, далее - 3 руб/мин) характерно следующее:\n",
    "- распределение длительности звонков за месяц близко к нормальному \n",
    "- медиана практически равна среднему (без скошенности, симметричное распределение)\n",
    "- в основном, общая длительность звонков в месяц - менее 800 минут\n",
    "- меньшее значение средней длительности звонков относительно распределения длительности на тарифе \"Ультра\"\n",
    "- меньшее значение стандартного отклонения относительно распределения длительности на тарифе \"Ультра\"\n",
    "\n",
    "В целом, можно отметить, что распределение длительности звонков у абонентов тарифа \"Смарт\" более компактно, бОльшая часть находится в диапазоне от 200 до 600 минут. Распределение длительности звонков среди абонентов тарифа \"Ультра\" гораздо менее компактно, характеризуется бОльшим разбросом значений - доля тех, кто говорит от 200 до 600 минут, составляет около половины;\n",
    "также значительна доля тех, кто разговаривает в месяц более 800 минут.\n",
    "\n",
    "Выявленные особенности можно объяснить параметрами тарифов: на тарифе \"Ультра\" большой объем предоплаченной голосовой связи (3000), что позволяет абонентам пользоваться услугами голосовой связи практически без ограничений. В то же время на тарифе \"Смарт\" объем предоплаченной голосовой связи значительно меньше - 500 минут, стоимость дополнительных минут разговора - достаточно высока - в совокупности это объясняет пик распределения в районе 400 минут: абоненты стараются максимально использовать предоплаченный объем, а при его превышении - снизить количество звонков.\n",
    "\n",
    "В течение года среднее количество минут разговора на обоих тарифах увеличивается. На тарифе \"Смарт\" среднее количество практически достигло значения предоплаченного объема, на тарифе \"Ультра\" - значительно ниже предоплаченного объема."
   ]
  },
  {
   "cell_type": "markdown",
   "metadata": {},
   "source": [
    "### Оценка пользования услугами отправки сообщений"
   ]
  },
  {
   "cell_type": "markdown",
   "metadata": {},
   "source": [
    "Оценим общую информацию о количестве сообщений, отправленных абонентами рассматриваемых тарифов в месяц"
   ]
  },
  {
   "cell_type": "code",
   "execution_count": null,
   "metadata": {
    "scrolled": true
   },
   "outputs": [],
   "source": [
    "df_user_messages_vol.describe()"
   ]
  },
  {
   "cell_type": "code",
   "execution_count": null,
   "metadata": {},
   "outputs": [],
   "source": [
    "df_user_messages_vol_ultra = df_user_messages_vol.query('tariff == \\'ultra\\'')\n",
    "df_user_messages_vol_smart = df_user_messages_vol.query('tariff == \\'smart\\'')"
   ]
  },
  {
   "cell_type": "code",
   "execution_count": null,
   "metadata": {
    "scrolled": true
   },
   "outputs": [],
   "source": [
    "plot_hist_param_double(\n",
    "    df_user_messages_vol_ultra, \n",
    "    df_user_messages_vol_smart,\n",
    "    [0, 20, 40, 60, 80, 100, 125, 150, 200],\n",
    "    'Общее количество сообщений',\n",
    "    'Число сообщений',\n",
    "    'Число абонентов'\n",
    ")"
   ]
  },
  {
   "cell_type": "markdown",
   "metadata": {},
   "source": [
    "Графики также демонстрируют рост числа абонентов и увеличение общего количества отправленных сообщений по исходной выборке. Можно считать, что стабильным количество отправленных сообщений становится с июля, до этого - рост. Среднее значение количества отправленных сообщений постоянно увеличивается. Значения Q1 и Q3 с июля по ноябрь практически неизменны, в декабре наблюдается их небольшое увеличение (также может быть связано с сезонностью).\n",
    "\n",
    "Для последних 4 месяцев года построим более подробные графики и расчитаем параметры распределения: среднее, медиану, дисперсию и стандартное отклонение. Поскольку представленные данные - выборка из всей совокупности абонентов «Мегалайн» указанных тарифов, то для дисперсии и стандартного отклонения получим их оценку по выборке."
   ]
  },
  {
   "cell_type": "code",
   "execution_count": null,
   "metadata": {},
   "outputs": [],
   "source": [
    "plot_hist_param_double_report(\n",
    "    df_user_messages_vol_ultra, \n",
    "    df_user_messages_vol_smart,\n",
    "    #25,\n",
    "    [0, 10, 20, 30, 40, 50, 60, 70, 80, 90, 100, 110, 120, 130, 140, 150, 160, 170],\n",
    "    'Общая длительность звонков',\n",
    "    'Длительность (мин)',\n",
    "    'Число абонентов'\n",
    ")"
   ]
  },
  {
   "cell_type": "markdown",
   "metadata": {},
   "source": [
    "Рассчитаем сводную таблицу по месяцам для каждого из тарифов со следующими значениями:\n",
    "- среднее количество сообщений\n",
    "- дисперсия\n",
    "- стандартное отклонение"
   ]
  },
  {
   "cell_type": "code",
   "execution_count": null,
   "metadata": {},
   "outputs": [],
   "source": [
    "df_messages_agg = df_user_messages_vol.set_index(['user_id', 'tariff']).loc[:, 'January' : 'December'].pivot_table(\n",
    "    index = 'tariff', \n",
    "    aggfunc = ['mean', 'var', 'std']\n",
    ").stack().reset_index()\n",
    "\n",
    "df_messages_agg.columns = ['tariff', 'month', 'mean', 'var', 'std']\n",
    "\n",
    "# пришлось добавить атрибут month_index для сортировки (pandas - 0.25.1, параметр key в sort_values - только с 1.1.0)\n",
    "df_messages_agg['month_index'] = df_messages_agg['month'].apply(lambda x: pd.to_datetime(x, format='%B').month)\n",
    "df_messages_agg['month'] = df_messages_agg['month'].apply(lambda x: eng_to_ru_months[x])\n",
    "df_messages_agg['tariff'] = df_messages_agg['tariff'].apply(lambda x: eng_to_ru_tariff[x])\n",
    "df_messages_agg.sort_values(by = 'month_index', inplace = True)\n",
    "\n",
    "df_messages_agg.head(5)"
   ]
  },
  {
   "cell_type": "markdown",
   "metadata": {},
   "source": [
    "Построим график динамики среднего количества сообщений по тарифам за весь 2018 год"
   ]
  },
  {
   "cell_type": "code",
   "execution_count": null,
   "metadata": {},
   "outputs": [],
   "source": [
    "plot_aggregate_param(\n",
    "    df_messages_agg,\n",
    "    'mean',\n",
    "    'Среднее число сообщений за 2018 год',\n",
    "    'Среднее число сообщений'\n",
    ")"
   ]
  },
  {
   "cell_type": "markdown",
   "metadata": {},
   "source": [
    "Для тарифа \"Ультра\" (1000, 1 руб/сообщение) характерно следующее:\n",
    "- распределение числа отправленных сообщений за месяц близко к нормальному \n",
    "- медиана меньше среднего (положительная скошенность)\n",
    "\n",
    "Для тарифа \"Смарт\" (50, 3 руб/сообщение) характерно следующее:\n",
    "- распределение числа отправленных сообщений за месяц близко к нормальному \n",
    "- медиана меньше среднего (положительная скошенность)\n",
    "- в основном, общее количество отправленных сообщений - менее 100\n",
    "- меньшее значение среднего количество отправленных сообщений относительно распределения числа сообщений на тарифе \"Ультра\"\n",
    "- меньшее значение стандартного отклонения относительно распределения числа сообщений на тарифе \"Ультра\"\n",
    "\n",
    "Также можно отметить, что распределение количество отправленных сообщений у абонентов тарифа \"Смарт\" более компактно, бОльшая часть находится в диапазоне от 10 до 60 сообщений. Распределение количество отправленных сообщений среди абонентов тарифа \"Ультра\" гораздо менее компактно, характеризуется бОльшим разбросом значений - доля тех, кто отправляет от 10 до 50 сообщений, составляет около половины; также значительна доля тех, кто отправляет в месяц более 100 сообщений.\n",
    "\n",
    "Выявленные особенности можно объяснить параметрами тарифов: на тарифе \"Ультра\" большой объем предоплаченных сообщений (1000), что позволяет абонентам пользоваться услугами коротких сообщений практически без ограничений. В то же время на тарифе \"Смарт\" объем предоплаченных сообщений значительно меньше - 50, стоимость сообщения после превышения лимита достаточно высока - в совокупности это объясняет пик распределения в районе 40 сообщений: абоненты стараются максимально использовать предоплаченный объем, а при его превышении - снизить количество отправляемых сообщений.\n",
    "\n",
    "В течение год среднее количество сообщений на тарифе \"Ультра\" постоянно увеличивается, на тарифе \"Смарт\" - увеличивалось до мая, после - практически не изменяется."
   ]
  },
  {
   "cell_type": "markdown",
   "metadata": {},
   "source": [
    "### Оценка пользования услугами интернет-трафика"
   ]
  },
  {
   "cell_type": "markdown",
   "metadata": {},
   "source": [
    "Оценим общую информацию об объеме интернет-трафика, использованного абонентами рассматриваемых тарифов в месяц.\n",
    "\n",
    "Предварительно переведем объем трафика в гигабайты."
   ]
  },
  {
   "cell_type": "code",
   "execution_count": null,
   "metadata": {},
   "outputs": [],
   "source": [
    "for column in df_user_internet_vol.loc[:,'January': 'December']:\n",
    "    df_user_internet_vol[column] = (\n",
    "        (\n",
    "            df_user_internet_vol[column] / 1024\n",
    "        )\n",
    "    )"
   ]
  },
  {
   "cell_type": "code",
   "execution_count": null,
   "metadata": {
    "scrolled": true
   },
   "outputs": [],
   "source": [
    "df_user_internet_vol.describe()"
   ]
  },
  {
   "cell_type": "code",
   "execution_count": null,
   "metadata": {},
   "outputs": [],
   "source": [
    "df_user_internet_vol_ultra = df_user_internet_vol.query('tariff == \\'ultra\\'')\n",
    "df_user_internet_vol_smart = df_user_internet_vol.query('tariff == \\'smart\\'')"
   ]
  },
  {
   "cell_type": "code",
   "execution_count": null,
   "metadata": {
    "scrolled": true
   },
   "outputs": [],
   "source": [
    "plot_hist_param_double(\n",
    "    df_user_internet_vol_ultra, \n",
    "    df_user_internet_vol_smart,\n",
    "    [0, 10, 20, 30, 40, 50],\n",
    "    'Общий объем интернет-трафика',\n",
    "    'Объем трафика (Гб)',\n",
    "    'Число абонентов'\n",
    ")"
   ]
  },
  {
   "cell_type": "markdown",
   "metadata": {},
   "source": [
    "Графики также демонстрируют рост числа абонентов и общего объема интернет-трафика по исходной выборке. Аналогично общей выручке, можно считать, что стабильным объем использованного абонентом трафика становится с июня, до этого - рост. Среднее значение объема трафика постоянно увеличивается. Значения Q1 и Q3 с мая по ноябрь практически неизменны, в декабре наблюдается их небольшое увеличение (также может быть связано с сезонностью).\n",
    "\n",
    "Для последних 4 месяцев года построим более подробные графики и расчитаем параметры распределения: среднее, медиану, дисперсию и стандартное отклонение. Поскольку представленные данные - выборка из всей совокупности абонентов «Мегалайн» указанных тарифов, то для дисперсии и стандартного отклонения получим их оценку по выборке."
   ]
  },
  {
   "cell_type": "code",
   "execution_count": null,
   "metadata": {},
   "outputs": [],
   "source": [
    "plot_hist_param_double_report(\n",
    "    df_user_internet_vol_ultra, \n",
    "    df_user_internet_vol_smart,\n",
    "    [0, 5, 10, 15, 20, 25, 30, 35, 40, 45],\n",
    "    'Общий объем интернет-трафика',\n",
    "    'Объем трафика (Гб)',\n",
    "    'Число абонентов'\n",
    ")"
   ]
  },
  {
   "cell_type": "markdown",
   "metadata": {},
   "source": [
    "Рассчитаем сводную таблицу по месяцам для каждого из тарифов со следующими значениями:\n",
    "- среднее количество минут разговора\n",
    "- дисперсия\n",
    "- стандартное отклонение"
   ]
  },
  {
   "cell_type": "code",
   "execution_count": null,
   "metadata": {},
   "outputs": [],
   "source": [
    "df_internet_agg = df_user_internet_vol.set_index(['user_id', 'tariff']).loc[:, 'January' : 'December'].pivot_table(\n",
    "    index = 'tariff', \n",
    "    aggfunc = ['mean', 'var', 'std']\n",
    ").stack().reset_index()\n",
    "\n",
    "df_internet_agg.columns = ['tariff', 'month', 'mean', 'var', 'std']\n",
    "\n",
    "# пришлось добавить атрибут month_index для сортировки (pandas - 0.25.1, параметр key в sort_values - только с 1.1.0)\n",
    "df_internet_agg['month_index'] = df_internet_agg['month'].apply(lambda x: pd.to_datetime(x, format='%B').month)\n",
    "df_internet_agg['month'] = df_internet_agg['month'].apply(lambda x: eng_to_ru_months[x])\n",
    "df_internet_agg['tariff'] = df_internet_agg['tariff'].apply(lambda x: eng_to_ru_tariff[x])\n",
    "df_internet_agg.sort_values(by = 'month_index', inplace = True)\n",
    "\n",
    "df_internet_agg.head(5)"
   ]
  },
  {
   "cell_type": "markdown",
   "metadata": {},
   "source": [
    "Построим график динамики среднего количества минут по тарифам за весь 2018 год"
   ]
  },
  {
   "cell_type": "code",
   "execution_count": null,
   "metadata": {},
   "outputs": [],
   "source": [
    "plot_aggregate_param(\n",
    "    df_internet_agg,\n",
    "    'mean',\n",
    "    'Среднее количество интернет-трафика (Гб) за 2018 год',\n",
    "    'Среднее количество интернет-трафика'\n",
    ")"
   ]
  },
  {
   "cell_type": "markdown",
   "metadata": {},
   "source": [
    "Для тарифа \"Ультра\" (30 Гб, 150 руб/Гб) характерно следующее:\n",
    "- распределение объема интернет-трафика за месяц близко к нормальному \n",
    "- медиана практически равна среднему (симметричное распределение)\n",
    "\n",
    "Для тарифа \"Смарт\" (15 Гб, 200 руб/Гб) характерно следующее:\n",
    "- распределение объема интернет-трафика за месяц близко к нормальному \n",
    "- медиана практически равна среднему (симметричное распределение)\n",
    "- меньшее значение среднего объема трафика относительно распределения трафика на тарифе \"Ультра\"\n",
    "- существенно меньшее (практически в 2 раза) значение стандартного отклонения относительно распределения трафика на тарифе \"Ультра\"\n",
    "\n",
    "Также можно отметить, что распределение объема трафика у абонентов тарифа \"Смарт\" более компактно, бОльшая часть находится в диапазоне от 10 до 25 Гб. Распределение объема трафика среди абонентов тарифа \"Ультра\" гораздо менее компактно, характеризуется бОльшим разбросом значений; также значительна доля тех, кто использует в месяц более 30 Гб трафика.\n",
    "\n",
    "Выявленные особенности можно объяснить параметрами тарифов: на тарифе \"Ультра\" большой объем предоплаченного трафика (30 Гб), что позволяет абонентам пользоваться интернет-трафиком без ограничений. Вместе с тем, доля тех, кто превышает предоплаченный в тарифе лимит трафика существенно выше тех, кто превышает лимит по минутам или сообщениям.\n",
    "На тарифе \"Смарт\" объем предоплаченного трафика значительно меньше - 15 Гб, стоимость Гб трафика после превышения лимита достаточно высока - в совокупности это объясняет пик распределения в районе 15-20 Гб трафика: абоненты стараются максимально использовать предоплаченный объем, а при его превышении - снизить количество потребляемого интернет-трафика.\n",
    "\n",
    "В течение года средний объем интернет трафика на обоих тарифах увеличивается. На тарифе \"Смарт\" среднее количество превышает значение предоплаченного объема, на тарифе \"Ультра\" - значительно ниже предоплаченного объема."
   ]
  },
  {
   "cell_type": "markdown",
   "metadata": {},
   "source": [
    "### Выводы\n",
    "\n",
    "С начала 2018 года проходило подключение абонентов к тарифам \"Ультра\" и \"Смарт\" (примерно с января по сентябрь наблюдается резкий рост числа абонентов, далее - плавное увеличение).\n",
    "\n",
    "Распределения объема потребляемых услуг на тарифах \"Ультра\" и \"Смарт\" в целом харакетризуются следующим:\n",
    "- у абонентов тарифа \"Смарт\" распределения потребляемых услуг (объем трафика, минуты разговора, количество сообщений) более компактные - в основном среднее приходится на значение, близкое к количеству предоплаченного объема соответствующей услуги\n",
    "- распределения на тарифе \"Ультра\" характеризуется бОльшим разбросом значений, при этом среднее меньше предоплаченного объема соответствующей услуги\n",
    "- примерно с июня по ноябрь объем потребляемых услуг абонентами указанных тарифов стабилизируется (до этого - рост), в декабре также наблюдается незначительный рост, возможно связанный с сезонным увеличением потребления услуг связи (перед новогодними праздниками)\n"
   ]
  },
  {
   "cell_type": "markdown",
   "metadata": {},
   "source": [
    "## Проверка статистических гипотез"
   ]
  },
  {
   "cell_type": "markdown",
   "metadata": {},
   "source": [
    "### Гипотеза о средней выручке абонентов разных тарифов"
   ]
  },
  {
   "cell_type": "markdown",
   "metadata": {},
   "source": [
    "#### Проверим следующую гипотезу: \"Средняя выручка пользователей тарифов «Ультра» и «Смарт» различается\"\n",
    "\n",
    "Приведем проверку указанной гипотезы к задаче сопоставления средних двух генеральных совокупностей:\n",
    "- генеральная сововкупность А - все абоненты тарифа \"Ультра\" оператора \"Мегалайн\"\n",
    "- генеральная сововкупность В - все абоненты тарифа \"Смарт\" оператора \"Мегалайн\"\n",
    "\n",
    "В качестве выборки будем рассматривать имеющиеся в нашем распоряжении данные о ежемесячных затратах абонентов (случайная выборка из генеральной совокупности). При этом предлагается рассматривать период с августа по декабрь, поскольку:\n",
    "- в этот период потребление услуг абонентами было достаточно стаблильно\n",
    "- в указанный период попадают \"сезонные\" месяцы: август и декабрь\n",
    "\n",
    "Подготовим данные. Возьмем траты за весь период из сводной таблицы и преобразуем в плоскую."
   ]
  },
  {
   "cell_type": "code",
   "execution_count": null,
   "metadata": {},
   "outputs": [],
   "source": [
    "df_user_charge_hypo = df_user_charge.loc[:, 'January' : 'December']\n",
    "df_user_charge_hypo = df_user_charge_hypo.stack().reset_index()\n",
    "df_user_charge_hypo.columns = ['user_id', 'tariff', 'month', 'charge']\n",
    "df_user_charge_hypo = df_users[['user_id', 'city']].merge(df_user_charge_hypo, on='user_id')\n",
    "df_user_charge_hypo"
   ]
  },
  {
   "cell_type": "markdown",
   "metadata": {},
   "source": [
    "Определим выборки из генеральных совокупностей (выборка по абонентам тарифов \"Ультра\" и \"Смарт\" соответственно)."
   ]
  },
  {
   "cell_type": "code",
   "execution_count": null,
   "metadata": {},
   "outputs": [],
   "source": [
    "ultra_series = df_user_charge_hypo.query('tariff == \\'ultra\\'')['charge']\n",
    "ultra_series"
   ]
  },
  {
   "cell_type": "code",
   "execution_count": null,
   "metadata": {},
   "outputs": [],
   "source": [
    "smart_series = df_user_charge_hypo.query('tariff == \\'smart\\'')['charge']\n",
    "smart_series"
   ]
  },
  {
   "cell_type": "markdown",
   "metadata": {},
   "source": [
    "Сформулируем нулевую гипотезу H₀:\n",
    "\"Средняя выручка абонентов тарифа «Ультра» равна средней выручке абонентов тарифа «Смарт»\"\n",
    "\n",
    "Альтернативная гипотеза H₁:\n",
    "\"Средняя выручка абонентов тарифа «Ультра» не равна средней выручке абонентов тарифа «Смарт»\"\n",
    "\n",
    "Критический уровень статистической значимости установим в 1% (данных в выборках достаточно много).\n",
    "\n",
    "Проведем проверку гипотезы H₀."
   ]
  },
  {
   "cell_type": "code",
   "execution_count": null,
   "metadata": {},
   "outputs": [],
   "source": [
    "alpha = 0.01\n",
    "\n",
    "results = st.ttest_ind(\n",
    "    ultra_series, # выборка по абонентам тарифа \"Ультра\"\n",
    "    smart_series, # выборка по абонентам тарифа \"Смарт\"\n",
    "    equal_var = False # знаем, что дисперсии выборок различны\n",
    ") \n",
    "\n",
    "print('p-значение:', results.pvalue)\n",
    "\n",
    "if (results.pvalue < alpha):\n",
    "    print(\"Отвергаем нулевую гипотезу\")\n",
    "else:\n",
    "    print(\"Не получилось отвергнуть нулевую гипотезу\")"
   ]
  },
  {
   "cell_type": "markdown",
   "metadata": {},
   "source": [
    "Результат t-теста двух исходных выборок с значениями выручки абонентов тарифных планов \"Ультра\" и \"Смарт\" позволяет отвергнуть гипотезу H₀. Т.е. в нашем случае вывод следующий:\n",
    "\n",
    "Гипотеза \"Средняя выручка абонентов тарифа «Ультра» равна средней выручке абонентов тарифа «Смарт»\" - неверна\n",
    "\n",
    "Соответственно изначально сформулированная гипотеза:\n",
    "\n",
    "**\"Средняя выручка пользователей тарифов «Ультра» и «Смарт» различается\" - верна**"
   ]
  },
  {
   "cell_type": "markdown",
   "metadata": {},
   "source": [
    "### Гипотеза о средней выручке абонентов из разных регионов"
   ]
  },
  {
   "cell_type": "markdown",
   "metadata": {},
   "source": [
    "#### Проверим следующую гипотезу: \"Средняя выручка пользователей из Москвы отличается от выручки пользователей из других регионов\"\n",
    "\n",
    "Аналогично предыдущему приведем проверку указанной гипотезы к задаче сопоставления средних двух генеральных совокупностей:\n",
    "- генеральная сововкупность А - все абоненты \"Мегалайн\" из Москвы  \n",
    "- генеральная сововкупность В - все абоненты \"Мегалайн\" из любых городов, кроме Москвы\n",
    "\n",
    "В нашей гипотезе нас не интересует, чья средняя выручка (меньше) в случае отличия. Поэтому аналогично предыдущему сформулируем нулевую гипотезу H₀:\n",
    "\"Средняя выручка абонентов из Москвы равна средней выручке абонентов из других городов (кроме Москвы)\"\n",
    "\n",
    "Альтернативная гипотеза H₁:\n",
    "\"Средняя выручка абонентов из Москвы не равна средней выручке абонентов из других городов (кроме Москвы)\"\n",
    "\n",
    "Критический уровень статистической значимости установим в 1% (данных в выборках достаточно много).\n",
    "\n",
    "Проведем проверку гипотезы H₀."
   ]
  },
  {
   "cell_type": "markdown",
   "metadata": {},
   "source": [
    "Аналогичным выше образом определим выборки из генеральных совокупностей (выборка по абонентам из Москвы и других городов соответственно)."
   ]
  },
  {
   "cell_type": "code",
   "execution_count": null,
   "metadata": {},
   "outputs": [],
   "source": [
    "moscow_series = df_user_charge_hypo.query('city == \\'Москва\\'')['charge']\n",
    "moscow_series"
   ]
  },
  {
   "cell_type": "code",
   "execution_count": null,
   "metadata": {},
   "outputs": [],
   "source": [
    "russia_series = df_user_charge_hypo.query('city != \\'Москва\\'')['charge']\n",
    "russia_series"
   ]
  },
  {
   "cell_type": "markdown",
   "metadata": {},
   "source": [
    "Проведем оценку дисперсий указанных выборок. Поскольку представленные данные - выборка из всей совокупности абонентов «Мегалайн» указанных тарифов, то для дисперсии получим ее оценку по выборке (рассчет с параметром ddof=1)."
   ]
  },
  {
   "cell_type": "code",
   "execution_count": null,
   "metadata": {},
   "outputs": [],
   "source": [
    "np.var(moscow_series, ddof=1)"
   ]
  },
  {
   "cell_type": "code",
   "execution_count": null,
   "metadata": {},
   "outputs": [],
   "source": [
    "np.var(russia_series, ddof=1)"
   ]
  },
  {
   "cell_type": "markdown",
   "metadata": {},
   "source": [
    "Оценка дисперсий указанных выборок позволяет сделать вывод об их различии, соответственно при проверке гипотезы через T-критерий Стьюдента следует указывать параметр equal_var = False (параметр задает, считать ли равными дисперсии выборок)."
   ]
  },
  {
   "cell_type": "code",
   "execution_count": null,
   "metadata": {},
   "outputs": [],
   "source": [
    "alpha = 0.01\n",
    "\n",
    "results = st.ttest_ind(\n",
    "    moscow_series, # выборка по абонентам из Москвы\n",
    "    russia_series, # выборка по абонентам вне Москвы\n",
    "    equal_var = False\n",
    ")\n",
    "\n",
    "print('p-значение:', results.pvalue)\n",
    "\n",
    "if (results.pvalue < alpha):\n",
    "    print(\"Отвергаем нулевую гипотезу\")\n",
    "else:\n",
    "    print(\"Не получилось отвергнуть нулевую гипотезу\")"
   ]
  },
  {
   "cell_type": "markdown",
   "metadata": {},
   "source": [
    "Данные выборки не противоречат гипотезе H₀. С высокой долей вероятности можно предположить, что средняя выручка абонентов из Москвы совпадает со средней выручкой абонентов из других регионов."
   ]
  },
  {
   "cell_type": "markdown",
   "metadata": {},
   "source": [
    "### Выводы\n",
    "\n",
    "На основе имеющихся данных о стоимости услуг связи для абонентов тарифов \"Смарт\" и \"Ультра\" из Москвы и других регионов проведена проверка статистических гипотез:\n",
    "- средняя выручка пользователей тарифов «Ультра» и «Смарт» различается\n",
    "- средняя выручка пользователей из Москвы отличается от выручки пользователей из других регионов\n",
    "\n",
    "Проверка проводилась путем приведения к проверке гипотезы о равенстве средних двух генеральных совокупностей. В рамках проверки в каждом случае сформулирована гипотеза H₀: \n",
    "- (1) \"Средняя выручка абонентов тарифа «Ультра» равна средней выручке абонентов тарифа «Смарт»\" \n",
    "- (2) \"Средняя выручка абонентов из Москвы равна средней выручке абонентов из других городов (кроме Москвы)\"\n",
    "\n",
    "Результаты проверки указанных гипотез H₀ позволили сделать следующие выводы:\n",
    "- опровергнуть гипотезу (1), и соответственно подтвердить гипотезу о различиях средней выручки пользователей тарифов «Ультра» и «Смарт»\n",
    "- не опровергнуть гипотезу (2), и соответственно с высокой долей вероятности можно предположить, что средняя выручка абонентов из Москвы совпадает со средней выручкой абонентов из других регионов."
   ]
  },
  {
   "cell_type": "markdown",
   "metadata": {},
   "source": [
    "## Выводы\n",
    "\n",
    "В рамках исследования проводилась оценка информации в отношении 500 абонентов оператора «Мегалайн» из разных городов РФ и их действий за период 2018 года: кто они, откуда, каким тарифом пользуются, сколько звонков и сообщений каждый отправил, какой объем интернет-трафика израсходовал.\n",
    "Исследование проводилось с целью оценки поведения абонентов следующих тарифов:\n",
    "\n",
    "###### Тариф «Ультра»:\n",
    "- Ежемесячная плата: 1950 рублей\n",
    "- Включено 3000 минут разговора (далее 1 мин / 1 руб), 1000 сообщений (далее 1 сообщение / 1 руб) и 30 Гб интернет-трафика (далее 1 Гб / 150 руб)\n",
    "\n",
    "###### Тариф «Смарт»:\n",
    "- Ежемесячная плата: 550 рублей\n",
    "- Включено 500 минут разговора (далее 1 мин / 3 руб), 50 сообщений (далее 1 сообщение / 3 руб) и 15 Гб интернет-трафика (далее 1 Гб / 200 руб)\n",
    "  \n",
    "Исходные данные представлены в виде 5 таблиц с информацией о тарифных планах «Мегалайн», абонентах и их действиях. В рамках ииследования проведено обезличивание данных и их корректировка с учетом правил тарификации, а также подготовка сводных таблиц по объему оказанных услуг:\n",
    "- `df_user_calls_vol` - объем услуг голосовой связи (длительность звонков)\n",
    "- `df_user_messages_vol` - объем услуг отправки сообщений (количество сообщений)\n",
    "- `df_user_internet_vol` - объем услуг интернет-трафика (общий объем трафика интернет-сессий)\n",
    "\n",
    "и расчетных таблиц стоимости оказанных услуг:\n",
    "- `df_user_calls_charge` - стоимость услуг голосовой связи\n",
    "- `df_user_messages_charge` - стоимость услуг отправки сообщений\n",
    "- `df_user_internet_charge` - стоимость услуг интернет-трафика\n",
    "- `df_user_charge` - общая стоимость услуг\n",
    "\n",
    "По результатам анализа подготовленных и рассчетных данных определено следующее:\n",
    "- с начала 2018 года проходило подключение абонентов к тарифам \"Ультра\" и \"Смарт\" (примерно с января по сентябрь наблюдается резкий рост числа абонентов, далее - плавное увеличение)\n",
    "- с июня по ноябрь объем потребляемых услуг абонентами указанных тарифов стабилизируется (до этого - рост), в декабре также наблюдается незначительный рост, возможно связанный с сезонным увеличением потребления услуг связи (перед новогодними праздниками)\n",
    "- у абонентов тарифа \"Смарт\" распределения потребляемых услуг (объем трафика, минуты разговора, количество сообщений) более компактные - в основном среднее приходится на значение, близкое к количеству предоплаченного объема соответствующей услуги\n",
    "- распределения на тарифе \"Ультра\" характеризуется бОльшим разбросом значений, при этом среднее меньше предоплаченного объема соответствующей услуги\n",
    "\n",
    "В завершающей стадии исследования проведена проверка статистических двух гипотез:\n",
    "- средняя выручка пользователей тарифов «Ультра» и «Смарт» различается - подтверждена\n",
    "- средняя выручка пользователей из Москвы отличается от выручки пользователей из других регионов - с высокой долей вероятности не подтверждается"
   ]
  }
 ],
 "metadata": {
  "kernelspec": {
   "display_name": "Python 3",
   "language": "python",
   "name": "python3"
  },
  "language_info": {
   "codemirror_mode": {
    "name": "ipython",
    "version": 3
   },
   "file_extension": ".py",
   "mimetype": "text/x-python",
   "name": "python",
   "nbconvert_exporter": "python",
   "pygments_lexer": "ipython3",
   "version": "3.8.8"
  },
  "toc": {
   "base_numbering": 1,
   "nav_menu": {},
   "number_sections": true,
   "sideBar": true,
   "skip_h1_title": true,
   "title_cell": "Содержание",
   "title_sidebar": "Contents",
   "toc_cell": true,
   "toc_position": {},
   "toc_section_display": true,
   "toc_window_display": true
  }
 },
 "nbformat": 4,
 "nbformat_minor": 2
}
