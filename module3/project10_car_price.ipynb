{
 "cells": [
  {
   "cell_type": "markdown",
   "metadata": {
    "toc": true
   },
   "source": [
    "<h1>Содержание<span class=\"tocSkip\"></span></h1>\n",
    "<div class=\"toc\"><ul class=\"toc-item\"><li><span><a href=\"#Подготовка-данных\" data-toc-modified-id=\"Подготовка-данных-1\"><span class=\"toc-item-num\">1&nbsp;&nbsp;</span>Подготовка данных</a></span><ul class=\"toc-item\"><li><span><a href=\"#Загрузка-данных\" data-toc-modified-id=\"Загрузка-данных-1.1\"><span class=\"toc-item-num\">1.1&nbsp;&nbsp;</span>Загрузка данных</a></span></li><li><span><a href=\"#Предобработка-данных\" data-toc-modified-id=\"Предобработка-данных-1.2\"><span class=\"toc-item-num\">1.2&nbsp;&nbsp;</span>Предобработка данных</a></span><ul class=\"toc-item\"><li><span><a href=\"#Оценка-распределения-значений-признаков,-выявление-пропусков-и-аномалий\" data-toc-modified-id=\"Оценка-распределения-значений-признаков,-выявление-пропусков-и-аномалий-1.2.1\"><span class=\"toc-item-num\">1.2.1&nbsp;&nbsp;</span>Оценка распределения значений признаков, выявление пропусков и аномалий</a></span><ul class=\"toc-item\"><li><span><a href=\"#Даты-объявлений-(date_crawled,-date_created)\" data-toc-modified-id=\"Даты-объявлений-(date_crawled,-date_created)-1.2.1.1\"><span class=\"toc-item-num\">1.2.1.1&nbsp;&nbsp;</span>Даты объявлений (<code>date_crawled</code>, <code>date_created</code>)</a></span></li><li><span><a href=\"#Год-регистрации-автомобиля-(registration_year)\" data-toc-modified-id=\"Год-регистрации-автомобиля-(registration_year)-1.2.1.2\"><span class=\"toc-item-num\">1.2.1.2&nbsp;&nbsp;</span>Год регистрации автомобиля (<code>registration_year</code>)</a></span></li><li><span><a href=\"#Месяц-регистрации--(registration_month)\" data-toc-modified-id=\"Месяц-регистрации--(registration_month)-1.2.1.3\"><span class=\"toc-item-num\">1.2.1.3&nbsp;&nbsp;</span>Месяц регистрации  (<code>registration_month</code>)</a></span></li><li><span><a href=\"#Марка-автомобиля-(brand)\" data-toc-modified-id=\"Марка-автомобиля-(brand)-1.2.1.4\"><span class=\"toc-item-num\">1.2.1.4&nbsp;&nbsp;</span>Марка автомобиля (<code>brand</code>)</a></span></li><li><span><a href=\"#Цена-(price)\" data-toc-modified-id=\"Цена-(price)-1.2.1.5\"><span class=\"toc-item-num\">1.2.1.5&nbsp;&nbsp;</span>Цена (<code>price</code>)</a></span></li><li><span><a href=\"#Мощность-(power)\" data-toc-modified-id=\"Мощность-(power)-1.2.1.6\"><span class=\"toc-item-num\">1.2.1.6&nbsp;&nbsp;</span>Мощность (<code>power</code>)</a></span></li><li><span><a href=\"#Пробег-(kilometer)\" data-toc-modified-id=\"Пробег-(kilometer)-1.2.1.7\"><span class=\"toc-item-num\">1.2.1.7&nbsp;&nbsp;</span>Пробег (<code>kilometer</code>)</a></span></li><li><span><a href=\"#Признак-выполнения-ремонта-(not_repaired)\" data-toc-modified-id=\"Признак-выполнения-ремонта-(not_repaired)-1.2.1.8\"><span class=\"toc-item-num\">1.2.1.8&nbsp;&nbsp;</span>Признак выполнения ремонта (<code>not_repaired</code>)</a></span></li><li><span><a href=\"#Тип-топлива-(fuel_type)\" data-toc-modified-id=\"Тип-топлива-(fuel_type)-1.2.1.9\"><span class=\"toc-item-num\">1.2.1.9&nbsp;&nbsp;</span>Тип топлива (<code>fuel_type</code>)</a></span></li><li><span><a href=\"#Модель-(model)\" data-toc-modified-id=\"Модель-(model)-1.2.1.10\"><span class=\"toc-item-num\">1.2.1.10&nbsp;&nbsp;</span>Модель (<code>model</code>)</a></span></li><li><span><a href=\"#Тип-коробки-передач-(gearbox)\" data-toc-modified-id=\"Тип-коробки-передач-(gearbox)-1.2.1.11\"><span class=\"toc-item-num\">1.2.1.11&nbsp;&nbsp;</span>Тип коробки передач (<code>gearbox</code>)</a></span></li><li><span><a href=\"#Тип-кузова-(vehicle_type)\" data-toc-modified-id=\"Тип-кузова-(vehicle_type)-1.2.1.12\"><span class=\"toc-item-num\">1.2.1.12&nbsp;&nbsp;</span>Тип кузова (<code>vehicle_type</code>)</a></span></li><li><span><a href=\"#Выводы\" data-toc-modified-id=\"Выводы-1.2.1.13\"><span class=\"toc-item-num\">1.2.1.13&nbsp;&nbsp;</span>Выводы</a></span></li></ul></li><li><span><a href=\"#Разделение-данных-на-обучающую-и-тестовую-выборку\" data-toc-modified-id=\"Разделение-данных-на-обучающую-и-тестовую-выборку-1.2.2\"><span class=\"toc-item-num\">1.2.2&nbsp;&nbsp;</span>Разделение данных на обучающую и тестовую выборку</a></span></li><li><span><a href=\"#Заполнение-пропусков-на-основе-статистики-в-обучающей-выборке\" data-toc-modified-id=\"Заполнение-пропусков-на-основе-статистики-в-обучающей-выборке-1.2.3\"><span class=\"toc-item-num\">1.2.3&nbsp;&nbsp;</span>Заполнение пропусков на основе статистики в обучающей выборке</a></span><ul class=\"toc-item\"><li><span><a href=\"#Мощность-(power)\" data-toc-modified-id=\"Мощность-(power)-1.2.3.1\"><span class=\"toc-item-num\">1.2.3.1&nbsp;&nbsp;</span>Мощность (<code>power</code>)</a></span></li><li><span><a href=\"#Тип-кузова-(vehicle_type)\" data-toc-modified-id=\"Тип-кузова-(vehicle_type)-1.2.3.2\"><span class=\"toc-item-num\">1.2.3.2&nbsp;&nbsp;</span>Тип кузова (<code>vehicle_type</code>)</a></span></li><li><span><a href=\"#Модель\" data-toc-modified-id=\"Модель-1.2.3.3\"><span class=\"toc-item-num\">1.2.3.3&nbsp;&nbsp;</span>Модель</a></span></li><li><span><a href=\"#Выводы\" data-toc-modified-id=\"Выводы-1.2.3.4\"><span class=\"toc-item-num\">1.2.3.4&nbsp;&nbsp;</span>Выводы</a></span></li></ul></li><li><span><a href=\"#Выводы\" data-toc-modified-id=\"Выводы-1.2.4\"><span class=\"toc-item-num\">1.2.4&nbsp;&nbsp;</span>Выводы</a></span></li></ul></li></ul></li><li><span><a href=\"#Обучение-моделей\" data-toc-modified-id=\"Обучение-моделей-2\"><span class=\"toc-item-num\">2&nbsp;&nbsp;</span>Обучение моделей</a></span><ul class=\"toc-item\"><li><span><a href=\"#Dummy-модель\" data-toc-modified-id=\"Dummy-модель-2.1\"><span class=\"toc-item-num\">2.1&nbsp;&nbsp;</span>Dummy-модель</a></span></li><li><span><a href=\"#Линейная-регрессия\" data-toc-modified-id=\"Линейная-регрессия-2.2\"><span class=\"toc-item-num\">2.2&nbsp;&nbsp;</span>Линейная регрессия</a></span></li><li><span><a href=\"#Случайный-лес\" data-toc-modified-id=\"Случайный-лес-2.3\"><span class=\"toc-item-num\">2.3&nbsp;&nbsp;</span>Случайный лес</a></span></li><li><span><a href=\"#CatBoost\" data-toc-modified-id=\"CatBoost-2.4\"><span class=\"toc-item-num\">2.4&nbsp;&nbsp;</span>CatBoost</a></span></li><li><span><a href=\"#LightGBM\" data-toc-modified-id=\"LightGBM-2.5\"><span class=\"toc-item-num\">2.5&nbsp;&nbsp;</span>LightGBM</a></span></li><li><span><a href=\"#Анализ-моделей\" data-toc-modified-id=\"Анализ-моделей-2.6\"><span class=\"toc-item-num\">2.6&nbsp;&nbsp;</span>Анализ моделей</a></span></li></ul></li><li><span><a href=\"#Выводы\" data-toc-modified-id=\"Выводы-3\"><span class=\"toc-item-num\">3&nbsp;&nbsp;</span>Выводы</a></span></li></ul></div>"
   ]
  },
  {
   "cell_type": "markdown",
   "metadata": {},
   "source": [
    "# Определение стоимости автомобилей"
   ]
  },
  {
   "cell_type": "markdown",
   "metadata": {},
   "source": [
    "Сервис по продаже автомобилей с пробегом «Не бит, не крашен» разрабатывает приложение для привлечения новых клиентов. В нём можно быстро узнать рыночную стоимость своего автомобиля. В нашем распоряжении исторические данные: технические характеристики, комплектации и цены автомобилей. Задача - построить модель для определения стоимости. \n",
    "\n",
    "При этом необходимо провести оценку следующих параметров построенных моделей:\n",
    "- качество предсказания;\n",
    "- скорость предсказания;\n",
    "- время обучения."
   ]
  },
  {
   "cell_type": "markdown",
   "metadata": {},
   "source": [
    "## Подготовка данных"
   ]
  },
  {
   "cell_type": "code",
   "execution_count": null,
   "metadata": {},
   "outputs": [],
   "source": [
    "# ядро юпитера, к сожалению, часто умирает при выводе графиков и долгом обучении моделей \n",
    "# использую переменные для переключения режимов:\n",
    "# - без графиков и с оптимальными значениями гиперпараметров\n",
    "to_plot = False\n",
    "cv_folds = 3\n",
    "simple_param = True\n",
    "\n",
    "# - полный режим:\n",
    "to_plot = True\n",
    "cv_folds = 5\n",
    "simple_param = True"
   ]
  },
  {
   "cell_type": "code",
   "execution_count": null,
   "metadata": {},
   "outputs": [],
   "source": [
    "import pandas as pd\n",
    "import numpy as np\n",
    "import re\n",
    "import datetime\n",
    "\n",
    "import plotly.express as px\n",
    "import plotly.graph_objects as go\n",
    "import matplotlib.pyplot as plt \n",
    "import seaborn as sns\n",
    "\n",
    "# обучение моделей\n",
    "from sklearn.model_selection import train_test_split\n",
    "from sklearn.utils import shuffle\n",
    "from sklearn.model_selection import GridSearchCV\n",
    "from sklearn.model_selection import cross_val_score\n",
    "\n",
    "from sklearn.linear_model import LinearRegression\n",
    "from sklearn.tree import DecisionTreeRegressor\n",
    "from sklearn.ensemble import RandomForestRegressor\n",
    "from sklearn.dummy import DummyRegressor\n",
    "\n",
    "from catboost import Pool, CatBoostClassifier, CatBoostRegressor\n",
    "\n",
    "import lightgbm as lgb\n",
    "\n",
    "# метрики\n",
    "from sklearn.metrics import make_scorer\n",
    "from sklearn.metrics import mean_squared_error\n",
    "\n",
    "# pipeline\n",
    "#from sklearn import preprocessing\n",
    "from sklearn.pipeline import Pipeline\n",
    "from sklearn.compose import ColumnTransformer\n",
    "from sklearn.preprocessing import OneHotEncoder, StandardScaler, MinMaxScaler, RobustScaler, OrdinalEncoder\n",
    "from sklearn.preprocessing import PowerTransformer, QuantileTransformer\n",
    "\n",
    "import warnings\n",
    "warnings.filterwarnings('ignore')"
   ]
  },
  {
   "cell_type": "code",
   "execution_count": null,
   "metadata": {},
   "outputs": [],
   "source": [
    "random_magic = 1024"
   ]
  },
  {
   "cell_type": "markdown",
   "metadata": {},
   "source": [
    "### Загрузка данных\n",
    "\n",
    "По имеющейся информации в таблице содержатся значения в следующих атрибутах:\n",
    "- DateCrawled — дата скачивания анкеты из базы\n",
    "- VehicleType — тип автомобильного кузова\n",
    "- RegistrationYear — год регистрации автомобиля\n",
    "- Gearbox — тип коробки передач\n",
    "- Power — мощность (л. с.)\n",
    "- Model — модель автомобиля\n",
    "- Kilometer — пробег (км)\n",
    "- RegistrationMonth — месяц регистрации автомобиля\n",
    "- FuelType — тип топлива\n",
    "- Brand — марка автомобиля\n",
    "- NotRepaired — была машина в ремонте или нет\n",
    "- DateCreated — дата создания анкеты\n",
    "- NumberOfPictures — количество фотографий автомобиля\n",
    "- PostalCode — почтовый индекс владельца анкеты (пользователя)\n",
    "- LastSeen — дата последней активности пользователя\n",
    "- Price - цена автомобиля (в евро)\n",
    "\n",
    "Целевым признаком является `Price` - цена.\n",
    "\n",
    "Загрузим данные таблицы и проверим общую информацию об атрибутах таблицы."
   ]
  },
  {
   "cell_type": "code",
   "execution_count": null,
   "metadata": {},
   "outputs": [],
   "source": [
    "df_auto = pd.read_csv(\n",
    "    'datasets/autos.csv'#, parse_dates=['DateCrawled', 'DateCreated'], infer_datetime_format=True\n",
    ")"
   ]
  },
  {
   "cell_type": "code",
   "execution_count": null,
   "metadata": {},
   "outputs": [],
   "source": [
    "df_auto"
   ]
  },
  {
   "cell_type": "code",
   "execution_count": null,
   "metadata": {},
   "outputs": [],
   "source": [
    "df_auto.info()"
   ]
  },
  {
   "cell_type": "code",
   "execution_count": null,
   "metadata": {},
   "outputs": [],
   "source": [
    "auto_count = df_auto.shape[0]"
   ]
  },
  {
   "cell_type": "code",
   "execution_count": null,
   "metadata": {},
   "outputs": [],
   "source": [
    "df_auto.describe()"
   ]
  },
  {
   "cell_type": "markdown",
   "metadata": {},
   "source": [
    "В таблице порядка 355 тысяч записей об объявлениях о продаже автомобилей. Целевым признаком является цена автомобиля (Price), указанная в евро.\n",
    "\n",
    "Состав атрибутов совпадает с полученным описанием. Для удобства работы следует сделать приведение названий атрибутов из 'CamelCase' в 'snake_case'.\n",
    "\n",
    "В таблице 9 строковых и 7 целочисленных атрибутов. Имеются пропуски значений в следующих атрибутах:\n",
    "- VehicleType — тип автомобильного кузова\n",
    "- Gearbox — тип коробки передач\n",
    "- Model — модель автомобиля\n",
    "- FuelType — тип топлива\n",
    "- NotRepaired — была машина в ремонте или нет\n",
    "\n",
    "Кроме того, в отдельных атрибутах явно имеются аномальные значения: \n",
    "- '9999' - год регистрации\n",
    "- 0 - месяц регистрации\n",
    "- 0 - цена автомобиля\n",
    "- 20000 - мощность (л. с.)\n",
    "\n",
    "Решение о способе вставки пропусков и замены указанных аномальных значений целесообразно принять на этапе последующего изучения и предобработки данных.\n",
    "\n",
    "Данные объявлений также содержат персональную информацию пользователей - почтовый код и время последней активности (видимо, на ресурсе, где представлены объявления), которые целесообразно сразу исключить из рассмотрения.  \n",
    "\n",
    "Кроме того, в данных содержатся признаки, описывающие само объявление, а не продаваемый автомобиль - количество фотографий, дата создания и выгрузки объявления. При этом признак количества фотографий содержит только одно значение - 0. Этот признак также целесообразно сразу исключить из рассмотрения. "
   ]
  },
  {
   "cell_type": "markdown",
   "metadata": {},
   "source": [
    "### Предобработка данных"
   ]
  },
  {
   "cell_type": "markdown",
   "metadata": {},
   "source": [
    "Проведем преобразование названий признаков из 'CamelCase' в 'snake_case'."
   ]
  },
  {
   "cell_type": "code",
   "execution_count": null,
   "metadata": {},
   "outputs": [],
   "source": [
    "df_auto.rename(columns=lambda x: re.sub('(?!^)([A-Z]+)', r'_\\1',x).lower(), inplace=True)"
   ]
  },
  {
   "cell_type": "markdown",
   "metadata": {},
   "source": [
    "Выполним преобразование в тип данных даты"
   ]
  },
  {
   "cell_type": "code",
   "execution_count": null,
   "metadata": {},
   "outputs": [],
   "source": [
    "df_auto['date_crawled'] = pd.to_datetime(df_auto['date_crawled'])\n",
    "df_auto['date_created'] = pd.to_datetime(df_auto['date_created'])"
   ]
  },
  {
   "cell_type": "code",
   "execution_count": null,
   "metadata": {},
   "outputs": [],
   "source": [
    "df_auto.drop(columns=['number_of_pictures', 'postal_code', 'last_seen'], inplace=True)"
   ]
  },
  {
   "cell_type": "code",
   "execution_count": null,
   "metadata": {},
   "outputs": [],
   "source": [
    "df_auto.head(5)"
   ]
  },
  {
   "cell_type": "code",
   "execution_count": null,
   "metadata": {},
   "outputs": [],
   "source": [
    "df_auto.info()"
   ]
  },
  {
   "cell_type": "markdown",
   "metadata": {},
   "source": [
    "Первая предобработка данных проведена - выполнены необходимые преобразования типов, исключены лишние признаки. Далее перейдем к оценка значений представленных признаков с целью исключения аномалий и последующей замены пропусков данных."
   ]
  },
  {
   "cell_type": "markdown",
   "metadata": {},
   "source": []
  },
  {
   "cell_type": "markdown",
   "metadata": {},
   "source": [
    "#### Оценка распределения значений признаков, выявление пропусков и аномалий"
   ]
  },
  {
   "cell_type": "markdown",
   "metadata": {},
   "source": [
    "Проведем оценку распределения значений рассматриваемых признаков с целью выявления и возможного исключения аномалий в данных.\n",
    "\n",
    "Сперва рассмотрим признаки, содержащие временные характеристики, затем марку автомобиля (как один из основных признаков, неявно определяющий прочие признаки), далее - числовые и категориальные признаки. "
   ]
  },
  {
   "cell_type": "code",
   "execution_count": null,
   "metadata": {},
   "outputs": [],
   "source": [
    "# функция отображения сводной информации о числовом признаке:\n",
    "# выводит в текстовом виде основные параметры распределения значений признака и график (гистограмму и \"ящик с усами\")\n",
    "# распределения по категориям:\n",
    "# действующие и ушедшие клиенты\n",
    "def describe_column_numeric(column, df):\n",
    "    print('Признак', column, ':')\n",
    "\n",
    "    print(df[column].describe())\n",
    "    \n",
    "    if (to_plot):\n",
    "        fig = px.histogram(\n",
    "            df, \n",
    "            x = column, \n",
    "            marginal = 'box', \n",
    "            opacity = 0.7,\n",
    "            title = 'Распределение значений признака {0}'.format(column)\n",
    "        )\n",
    "\n",
    "        fig.update_layout(xaxis_title='Значения признака {0}'.format(column), yaxis_title='Частота встречаемости')\n",
    "        fig.show() "
   ]
  },
  {
   "cell_type": "code",
   "execution_count": null,
   "metadata": {},
   "outputs": [],
   "source": [
    "# функция отображения сводной информации о категориальном признаке:\n",
    "# выводит в текстовом виде униклаьные значения признака и график (гистограмму) распределения по категориям:\n",
    "# действующие и ушедшие клиенты\n",
    "def describe_column_category(column, df, plot=False):\n",
    "    print('Признак', column, ':\\n')\n",
    "    print('Уникальные значения (процент):')\n",
    "    print(df[column].value_counts(normalize=True).mul(100).round(1).astype(str) + '%')\n",
    "        \n",
    "    if (to_plot and plot):    \n",
    "        fig = px.histogram(\n",
    "            df, \n",
    "            x = column,  \n",
    "            opacity = 0.7,\n",
    "            title = 'Распределение значений признака {0}'.format(column)\n",
    "        )\n",
    "\n",
    "        fig.update_layout(xaxis_title='Значения признака {0}'.format(column), yaxis_title='Частота встречаемости')\n",
    "        fig.show() "
   ]
  },
  {
   "cell_type": "markdown",
   "metadata": {},
   "source": [
    "##### Даты объявлений (`date_crawled`, `date_created`) "
   ]
  },
  {
   "cell_type": "markdown",
   "metadata": {},
   "source": [
    "Проверим соотношение между атрибутами дата выгрузки и дата объявления. Для этого добавим атрибут разности дат в днях (между созданием и выгрузкой объявления)."
   ]
  },
  {
   "cell_type": "code",
   "execution_count": null,
   "metadata": {},
   "outputs": [],
   "source": [
    "df_auto['date_diff'] = (df_auto['date_crawled'].dt.date - df_auto['date_created'].dt.date).dt.days"
   ]
  },
  {
   "cell_type": "code",
   "execution_count": null,
   "metadata": {},
   "outputs": [],
   "source": [
    "df_auto['date_diff'].describe()"
   ]
  },
  {
   "cell_type": "markdown",
   "metadata": {},
   "source": [
    "Большинство объявлений выгружено в тот же день, что и было создано (возможно обновлено). Оценим долю тех объявлений, которые были выгружены не менее чем через день после создания."
   ]
  },
  {
   "cell_type": "code",
   "execution_count": null,
   "metadata": {},
   "outputs": [],
   "source": [
    "print('Доля объявлений, выгруженных не менее чем через день после создания: {0:.1%}'\n",
    "      .format(df_auto.query('date_diff > 0')['date_diff'].count() / df_auto.shape[0]))\n",
    "print('Доля объявлений, выгруженных не менее чем через два дня после создания: {0:.1%}'\n",
    "      .format(df_auto.query('date_diff > 1')['date_diff'].count() / df_auto.shape[0]))"
   ]
  },
  {
   "cell_type": "code",
   "execution_count": null,
   "metadata": {},
   "outputs": [],
   "source": [
    "describe_column_numeric('date_diff', df_auto.query('date_diff > 1'))"
   ]
  },
  {
   "cell_type": "markdown",
   "metadata": {},
   "source": [
    "Удалим выбросы - оставим для последующего рассмотрения только те объявления, которые были выгружены не позже, чем через 35 дней с момента создания. Оставшиеся объявления вероятно содержат недостоверные ценовые сведения (у нас нет дополнительной информации, позволяющей считать, что цена была актуализирована с момента первичного размещения) и с точки зрения обучения модели, предсказывающей цену автомобиля, дальнейшее использование этих объявлений нецелесообразно. "
   ]
  },
  {
   "cell_type": "code",
   "execution_count": null,
   "metadata": {},
   "outputs": [],
   "source": [
    "df_auto = df_auto.query('date_diff <= 35')"
   ]
  },
  {
   "cell_type": "markdown",
   "metadata": {},
   "source": [
    "Кроме того очевидно, что даты размещения/выгрузки объявления не является обучающим признаком для исходных данных - все объявления соответствуют компактному временному интервалу, а время размещения объявления не является атрибутом автомобиля. Соответственно из обучающих признаков можно удалить временные признаки."
   ]
  },
  {
   "cell_type": "code",
   "execution_count": null,
   "metadata": {},
   "outputs": [],
   "source": [
    "df_auto.drop(columns=['date_crawled', 'date_created', 'date_diff'], inplace=True)"
   ]
  },
  {
   "cell_type": "code",
   "execution_count": null,
   "metadata": {},
   "outputs": [],
   "source": [
    "df_auto.head(5)"
   ]
  },
  {
   "cell_type": "markdown",
   "metadata": {},
   "source": [
    "##### Год регистрации автомобиля (`registration_year`)"
   ]
  },
  {
   "cell_type": "markdown",
   "metadata": {},
   "source": [
    "Подробнее посмотрим распределение значений признака года регистрации."
   ]
  },
  {
   "cell_type": "code",
   "execution_count": null,
   "metadata": {},
   "outputs": [],
   "source": [
    "df_auto['registration_year'].describe()"
   ]
  },
  {
   "cell_type": "markdown",
   "metadata": {},
   "source": [
    "Пропусков нет, но есть аномальные значения - 1000 и 9999. Рассмотрим их подробнее."
   ]
  },
  {
   "cell_type": "code",
   "execution_count": null,
   "metadata": {},
   "outputs": [],
   "source": [
    "describe_column_numeric('registration_year', df_auto.query('registration_year < 1980'))"
   ]
  },
  {
   "cell_type": "code",
   "execution_count": null,
   "metadata": {},
   "outputs": [],
   "source": [
    "describe_column_numeric('registration_year', df_auto.query('registration_year > 2018'))"
   ]
  },
  {
   "cell_type": "code",
   "execution_count": null,
   "metadata": {},
   "outputs": [],
   "source": [
    "print('Доля объявлений с указанием года регистрации до 1950: {0:.2%}'\n",
    "      .format(df_auto.query('registration_year < 1950')['registration_year'].count() / df_auto.shape[0]))\n",
    "print('Доля объявлений с указанием года регистрации после 2018: {0:.2%}'\n",
    "      .format(df_auto.query('registration_year > 2018')['registration_year'].count() / df_auto.shape[0]))\n",
    "print('Доля объявлений с указанием года регистрации 2017, 2018 или 2019: {0:.2%}'\n",
    "      .format(df_auto.query('registration_year in (2017, 2018, 2019)')['registration_year'].count() \n",
    "              / df_auto.shape[0]))"
   ]
  },
  {
   "cell_type": "markdown",
   "metadata": {},
   "source": [
    "Наличие в базе объявлений с указанием годов регистрации 2017, 2018 и 2019 не относим к категории аномалий (хотя конечно, для выгрузки из базы 2016 года это несколько странно - здесь скорее рекомендация от преподавателя по проектной части, что это ситуация в данном проекте считается нормальной)."
   ]
  },
  {
   "cell_type": "markdown",
   "metadata": {},
   "source": [
    "Подробнее рассмотрим объявления с аномальными значениями года регистрации."
   ]
  },
  {
   "cell_type": "code",
   "execution_count": null,
   "metadata": {},
   "outputs": [],
   "source": [
    "df_auto.query('registration_year < 1950').head(50)"
   ]
  },
  {
   "cell_type": "markdown",
   "metadata": {},
   "source": [
    "Указанные примеры объявлений позволяют выявить в исходных данных объявления с большим количеством пропусков/аномалий в исходном наборе признаков - например, объявления без указания одновременно типа кузова, типа коробки передач, мощности, модели, типа топлива. \n",
    "\n",
    "Кроме того, можно выявить некоторые возможно аномальные значения в прочих атрибутах, которые требует оценки с точки зрения применимости при обучении модели:\n",
    "- значение марки автомобиля `sonstige_autos` (с немецкого - `прочие автомобили`)\n",
    "- совпадение года регистрации и мощности, а также значения мощности, превышающие 1000 (возможно в этих случаях ошибка - указан объем двигателя, а не мощность)\n",
    "- пробег 5000 - для части объявлений может свидетельствовать об указании некоторого минимального значения пробегу (например, выбранного в качестве значения по умолчанию)\n",
    "- значения цены, равные 0 и 1 (возможно и другим значениям в пределах 100 евро)\n",
    "- значение 0 в месяце регистрации\n",
    "\n",
    "Большинство из рассмотренных выше объявлений имеет аномалии сразу в нескольких атрибутах, их общая доля составляет порядка 0.06% исходной выборки - удалим их из последующего рассмотрения."
   ]
  },
  {
   "cell_type": "code",
   "execution_count": null,
   "metadata": {},
   "outputs": [],
   "source": [
    "df_auto = df_auto.query('registration_year >= 1950')"
   ]
  },
  {
   "cell_type": "code",
   "execution_count": null,
   "metadata": {},
   "outputs": [],
   "source": [
    "df_auto.query('registration_year > 2019').head(50)"
   ]
  },
  {
   "cell_type": "markdown",
   "metadata": {},
   "source": [
    "Также обращаем внимание на наличие записей с большим количеством пропусков/аномалий. К новым возможно аномальным значениям также следует отнести:\n",
    "- значения цены, составленные из одной цифры (11111, 5555)\n",
    "\n",
    "Удаляем все объявления с указанием года после 2020 в качестве года регистрации."
   ]
  },
  {
   "cell_type": "code",
   "execution_count": null,
   "metadata": {},
   "outputs": [],
   "source": [
    "df_auto = df_auto.query('registration_year <= 2019')"
   ]
  },
  {
   "cell_type": "code",
   "execution_count": null,
   "metadata": {},
   "outputs": [],
   "source": [
    "describe_column_numeric('registration_year', df_auto)"
   ]
  },
  {
   "cell_type": "markdown",
   "metadata": {},
   "source": [
    "Оставим данные в диапазоне (Q1 - 1.5 * IQR, Q3 + 1.5 * IQR)"
   ]
  },
  {
   "cell_type": "code",
   "execution_count": null,
   "metadata": {},
   "outputs": [],
   "source": [
    "df_auto = df_auto.query('registration_year >= 1985')"
   ]
  },
  {
   "cell_type": "markdown",
   "metadata": {},
   "source": [
    "Кроме того, удалим данные имеющие большое количество пропусков/аномалий."
   ]
  },
  {
   "cell_type": "code",
   "execution_count": null,
   "metadata": {},
   "outputs": [],
   "source": [
    "df_auto.drop(\n",
    "    df_auto.query('vehicle_type.isnull() and gearbox.isnull() and power == 0 \\\n",
    "              and fuel_type.isnull() and brand==\\'sonstige_autos\\' and not_repaired.isnull()', engine='python').index,\n",
    "    inplace=True\n",
    ")"
   ]
  },
  {
   "cell_type": "markdown",
   "metadata": {},
   "source": [
    "##### Месяц регистрации  (`registration_month`)"
   ]
  },
  {
   "cell_type": "markdown",
   "metadata": {},
   "source": [
    "Выше мы увидели, что значение 0 является аномальным значением месяца регистрации. Подробнее посмотрим на данные с указанием 0 в качестве месяца регистрации."
   ]
  },
  {
   "cell_type": "code",
   "execution_count": null,
   "metadata": {},
   "outputs": [],
   "source": [
    "df_auto.query('registration_month == 0')"
   ]
  },
  {
   "cell_type": "code",
   "execution_count": null,
   "metadata": {},
   "outputs": [],
   "source": [
    "describe_column_numeric('registration_month', df_auto)"
   ]
  },
  {
   "cell_type": "markdown",
   "metadata": {},
   "source": [
    "Объявлений с 0 в качестве месяца регистрации порядка 10% от общего числа объявлений. С учетом того, что данные по месяцу регистрации распределены достаточно равномерно, то и замену значения 0 целесообразно сделать таким образом, чтобы не изменить исходное распределение.\n",
    "\n",
    "Предлагается сделать замену случайным образом на числу из диапазона (1, 12) - для этого индекс записи приведем к модулю 12 и добавим 1."
   ]
  },
  {
   "cell_type": "code",
   "execution_count": null,
   "metadata": {},
   "outputs": [],
   "source": [
    "df_auto.loc[df_auto['registration_month'] == 0, 'registration_month'] = (\n",
    "    df_auto.query('registration_month == 0').index % 12 + 1\n",
    ")"
   ]
  },
  {
   "cell_type": "code",
   "execution_count": null,
   "metadata": {},
   "outputs": [],
   "source": [
    "describe_column_numeric('registration_month', df_auto)"
   ]
  },
  {
   "cell_type": "markdown",
   "metadata": {},
   "source": [
    "Характер распределения не изменился, аномаьное значение '0' устранено."
   ]
  },
  {
   "cell_type": "markdown",
   "metadata": {},
   "source": [
    "##### Марка автомобиля (`brand`)"
   ]
  },
  {
   "cell_type": "markdown",
   "metadata": {},
   "source": [
    "Рассмотрим распределение значений в признаке марка автомобилей. Выше было определено, что значение `sonstige_autos` является аномальным (соответствует категории `прочие марки автомобилей`).\n",
    "Очевидно, что марка автомобиля является одним из ключевых признаков - определяет модель, а также неявно определяет многие прочие характеристики (например, в заданный период производитель может выпускать только автомобили определенного типа кузова или определенной мощности). Необходимо оценить долю автомобилей без указания марки в общем объеме объявлений."
   ]
  },
  {
   "cell_type": "code",
   "execution_count": null,
   "metadata": {},
   "outputs": [],
   "source": [
    "df_auto.query('brand == \\'sonstige_autos\\'')"
   ]
  },
  {
   "cell_type": "code",
   "execution_count": null,
   "metadata": {},
   "outputs": [],
   "source": [
    "describe_column_category('brand', df_auto)"
   ]
  },
  {
   "cell_type": "markdown",
   "metadata": {},
   "source": [
    "Среди представленных объявлений более 60% занимают немецкие автопроизводители. Кроме того, значение `sonstige_autos` (сочетание на немецком языке) также свидетельствует о том, что данные получены с ресурса, ориентированного на немецкий авторынок. По независимым оценкам марки, на которые приходится более чем 80 процентов немецкого автомобильного рынка: это Volkswagen, Mercedes, Opel, Ford, Audi, BMW, Renault, Peugeot, Toyota и Fiat - что также соответствует представленным данным.\n",
    "\n",
    "Доля автомобилей без указания марки составляет всего 0.6% (ближе к нижней части списка частот встречаемости). Кроме того, среди указанных автомобилей есть те, для которых не указаны и прочие параметры - мощность, тип кузова, тип коробки передач. Оценим их долю."
   ]
  },
  {
   "cell_type": "code",
   "execution_count": null,
   "metadata": {},
   "outputs": [],
   "source": [
    "df_auto.query('brand==\\'sonstige_autos\\' and (vehicle_type.isnull() or gearbox.isnull() or power == 0 \\\n",
    "              or fuel_type.isnull() or not_repaired.isnull() or price in (0, 1))', engine='python')"
   ]
  },
  {
   "cell_type": "markdown",
   "metadata": {},
   "source": [
    "Полагаем целесообразным удалить все данные об автомобилях без указания марки, поскольку их доля в общем объеме мала и кроме того среди этих данных много пропусков/аномалий в прочих атрибутах. "
   ]
  },
  {
   "cell_type": "code",
   "execution_count": null,
   "metadata": {},
   "outputs": [],
   "source": [
    "df_auto = df_auto.query('brand != \\'sonstige_autos\\'')"
   ]
  },
  {
   "cell_type": "code",
   "execution_count": null,
   "metadata": {},
   "outputs": [],
   "source": [
    "top_models = [\n",
    "    'volkswagen',        \n",
    "    'opel',\n",
    "    'bmw',\n",
    "    'mercedes_benz', \n",
    "    'audi',\n",
    "    'ford',\n",
    "    'renault',\n",
    "    'peugeot',\n",
    "    'fiat',\n",
    "    'seat',\n",
    "    'mazda',\n",
    "    'skoda',\n",
    "    'smart',\n",
    "    'citroen',\n",
    "    'nissan',\n",
    "    'toyota',\n",
    "    'hyundai',\n",
    "]"
   ]
  },
  {
   "cell_type": "markdown",
   "metadata": {},
   "source": [
    "Кроме того, для последующего стратифицированного разделения данных, целесообразно добавить дополнительный атрибут, позволяющий отделить модели, занимающие менее 1% рынка от других."
   ]
  },
  {
   "cell_type": "code",
   "execution_count": null,
   "metadata": {},
   "outputs": [],
   "source": [
    "df_auto['brand_type'] = df_auto.apply(\n",
    "    lambda row: row['brand'] if row['brand'] in top_models else 'other',    \n",
    "    axis=1\n",
    ")"
   ]
  },
  {
   "cell_type": "markdown",
   "metadata": {},
   "source": [
    "##### Цена (`price`)"
   ]
  },
  {
   "cell_type": "markdown",
   "metadata": {},
   "source": [
    "Оценим распределение целевого признака - цены автомобиля."
   ]
  },
  {
   "cell_type": "code",
   "execution_count": null,
   "metadata": {},
   "outputs": [],
   "source": [
    "describe_column_numeric('price', df_auto)"
   ]
  },
  {
   "cell_type": "markdown",
   "metadata": {},
   "source": [
    "В целом распределение цены близко к распределению Пуассона за исключением аномалии в районе минимальных значений цены. Рассмотрим их подробнее."
   ]
  },
  {
   "cell_type": "code",
   "execution_count": null,
   "metadata": {
    "scrolled": false
   },
   "outputs": [],
   "source": [
    "describe_column_numeric('price', df_auto.query('price < 100'))"
   ]
  },
  {
   "cell_type": "markdown",
   "metadata": {},
   "source": [
    "Объявления, для которых указаны 0 и 1 в качестве параметра цены, целесообразно исключить из рассмотрения, поскольку цена является целевым признаком, а значения 0 и 1 свидетельствуют о высокой доли вероятности ошибки в указанных объявлениях (это возможно объявления из раздела \"отдам даром\", либо \"цена по запросу\", либо ошибки при указании/выгрузке данных - в любом случае с точки зрения построения модели эти данные неинформативны)."
   ]
  },
  {
   "cell_type": "code",
   "execution_count": null,
   "metadata": {},
   "outputs": [],
   "source": [
    "df_auto = df_auto.query('price > 1')"
   ]
  },
  {
   "cell_type": "markdown",
   "metadata": {},
   "source": [
    "Явных выбросов, соответствующих значениям \"красивых цифр\" (например, 11111, 5555, 2222) на графике не видно - рассматривать их как аномалии нецелесообразно. "
   ]
  },
  {
   "cell_type": "markdown",
   "metadata": {},
   "source": [
    "##### Мощность (`power`)"
   ]
  },
  {
   "cell_type": "markdown",
   "metadata": {},
   "source": [
    "Оценим распределение мощности двигателя в представленном наборе данных."
   ]
  },
  {
   "cell_type": "code",
   "execution_count": null,
   "metadata": {},
   "outputs": [],
   "source": [
    "describe_column_numeric('power', df_auto)"
   ]
  },
  {
   "cell_type": "markdown",
   "metadata": {},
   "source": [
    "Межкартильный размах - (71, 143). Выбросы присутствуют как слева (значение 0), так и справа. Оценим указанные аномалии."
   ]
  },
  {
   "cell_type": "code",
   "execution_count": null,
   "metadata": {},
   "outputs": [],
   "source": [
    "describe_column_numeric('power', df_auto.query('power < 70'))"
   ]
  },
  {
   "cell_type": "code",
   "execution_count": null,
   "metadata": {},
   "outputs": [],
   "source": [
    "print('Доля объявлений со значением мощности в интервале (0, 45): {0:.2%}'\n",
    "      .format(df_auto.query('power > 0 and power < 45')['power'].count() / df_auto.shape[0]))"
   ]
  },
  {
   "cell_type": "markdown",
   "metadata": {},
   "source": [
    "Левую зону выбросов можно разделить на две подзоны:\n",
    "- 0 - вероятно объявления, в которых значение мощности просто не было указано, их доля относительно всего объема - порядка 10%\n",
    "- от 1 до 45 - доля таких объявлений менее 0.5%\n",
    "\n",
    "Предлагается нулевые значения заменить на основе средних значений по производителям и годам производства. Чтобы не переобучить модель указанную операцию целесообразно выполнить после разделения всей выборки на обучающую и тестовую (на обучающей собрать статистику и использовать ее для замены значений на обучающей и тестовой выборках).\n",
    "\n",
    "Значения в интервале от 1 до 45 целесообразно удалить как выбросы."
   ]
  },
  {
   "cell_type": "code",
   "execution_count": null,
   "metadata": {},
   "outputs": [],
   "source": [
    "df_auto = df_auto.query('power == 0 or power >= 45')"
   ]
  },
  {
   "cell_type": "code",
   "execution_count": null,
   "metadata": {},
   "outputs": [],
   "source": [
    "describe_column_numeric('power', df_auto.query('power > 1000'))"
   ]
  },
  {
   "cell_type": "markdown",
   "metadata": {},
   "source": [
    "В правой зоне выбросов также можно выделить две подзоны:\n",
    "- до 3000 - вероятно объявления с ошибкой - указан объем двигателя, а не мощность в л.с.\n",
    "- свыше 3000 - явные выбросы\n",
    "\n",
    "Объявления с указанием значения мощности свыше 3000 целесообразно удалить, а в интервале 1000-3000 предлагается сделать замену - разделить указанное значение на 20 (некий средний переводной коэффициент из объема в мощность - не совсем справедлив для современных двигателей, но учитывая то, что объявления представлены за достаточно большой временной интервал данное преобразование в целом можно считать справедливым)"
   ]
  },
  {
   "cell_type": "code",
   "execution_count": null,
   "metadata": {},
   "outputs": [],
   "source": [
    "df_auto = df_auto.query('power <= 3000')"
   ]
  },
  {
   "cell_type": "code",
   "execution_count": null,
   "metadata": {},
   "outputs": [],
   "source": [
    "df_auto.loc[df_auto['power'] > 1000, 'power'] = (\n",
    "    np.round(df_auto.query('power > 1000')['power'] / 20).astype('int')\n",
    ")"
   ]
  },
  {
   "cell_type": "code",
   "execution_count": null,
   "metadata": {},
   "outputs": [],
   "source": [
    "describe_column_numeric('power', df_auto.query('power > 0'))"
   ]
  },
  {
   "cell_type": "markdown",
   "metadata": {},
   "source": [
    "В целом распределение по виду похоже на распределение Пуассона. Характерные пики в отдельных значениях объясняются тем, что многие произвоители мощность в л.с. устанавливают с некоторым шагом (например, 140, 150), соответственно непрерывность в данном признаке скорее исключение чем правило.\n",
    "\n",
    "Зона выбросов (значения свыше 300 л.с.) также присутствует, но исключение этих данных нецелесообразно - в них присутствуют как ошибки (например mitsubishi colt мощностью 953 л.с.), так и верные данные (porsche cayenne 450 л.с.)."
   ]
  },
  {
   "cell_type": "code",
   "execution_count": null,
   "metadata": {},
   "outputs": [],
   "source": [
    "df_auto.query('power > 400').head(10)"
   ]
  },
  {
   "cell_type": "markdown",
   "metadata": {},
   "source": [
    "##### Пробег (`kilometer`)"
   ]
  },
  {
   "cell_type": "markdown",
   "metadata": {},
   "source": [
    "Оценим распределение значений пробега."
   ]
  },
  {
   "cell_type": "code",
   "execution_count": null,
   "metadata": {},
   "outputs": [],
   "source": [
    "describe_column_numeric('kilometer', df_auto)"
   ]
  },
  {
   "cell_type": "markdown",
   "metadata": {},
   "source": [
    "Значения распределены в интервале от 5000 до 150000, в основном с шагом 10000. Вероятнее всего на ресурсе, с которого получены указанные объявления, ввод пробега осуществляется путем выбора из некоторого списка (судя по всему с ограничением: минимальное значение - от 0 до 5000, максимальное - свыше 150000). \n",
    "\n",
    "Целесообразно значения пробега привести к км."
   ]
  },
  {
   "cell_type": "code",
   "execution_count": null,
   "metadata": {},
   "outputs": [],
   "source": [
    "df_auto['kilometer'] = (df_auto['kilometer'] / 1000).astype('int')"
   ]
  },
  {
   "cell_type": "markdown",
   "metadata": {},
   "source": [
    "Оценим полученные уникальные значения."
   ]
  },
  {
   "cell_type": "code",
   "execution_count": null,
   "metadata": {},
   "outputs": [],
   "source": [
    "df_auto['kilometer'].value_counts()"
   ]
  },
  {
   "cell_type": "markdown",
   "metadata": {},
   "source": [
    "В целом можно отметить, что признак пробега можно отнести к категориальным - количество уникальных значений ограничено (судя по всему, на указанном ресурсе выбор пробега осуществляется только путем выбора из списка значений)."
   ]
  },
  {
   "cell_type": "markdown",
   "metadata": {},
   "source": [
    "##### Признак выполнения ремонта (`not_repaired`)"
   ]
  },
  {
   "cell_type": "markdown",
   "metadata": {},
   "source": [
    "Оценим распределение значений признака выполнения ремонта."
   ]
  },
  {
   "cell_type": "code",
   "execution_count": null,
   "metadata": {},
   "outputs": [],
   "source": [
    "describe_column_category('not_repaired', df_auto)"
   ]
  },
  {
   "cell_type": "code",
   "execution_count": null,
   "metadata": {},
   "outputs": [],
   "source": [
    "print('Доля объявлений с пропусками в признаке выполнения ремонта: {0:.2%}'\n",
    "      .format(df_auto['not_repaired'].isnull().sum() / df_auto.shape[0]))"
   ]
  },
  {
   "cell_type": "markdown",
   "metadata": {},
   "source": [
    "Учитывая существунную долю объявлений с пропусками в признаке выполнения ремонта и отсутствия дополнительных сведений, из которых указанную информацию можно было бы получить, целесообразно вместо пропусков сделать отдельную категорию - `unknown`. Делать замену на наиболее распространенное значение нецелесообразно (ситуация, когда факт проведения ремонта не указан, все-таки отличается от ситуации, когда указано, что автомобиль не ремонтировался)."
   ]
  },
  {
   "cell_type": "code",
   "execution_count": null,
   "metadata": {},
   "outputs": [],
   "source": [
    "df_auto['not_repaired'] = df_auto['not_repaired'].fillna('unknown')"
   ]
  },
  {
   "cell_type": "code",
   "execution_count": null,
   "metadata": {},
   "outputs": [],
   "source": [
    "describe_column_category('not_repaired', df_auto)"
   ]
  },
  {
   "cell_type": "markdown",
   "metadata": {},
   "source": [
    "##### Тип топлива (`fuel_type`)"
   ]
  },
  {
   "cell_type": "markdown",
   "metadata": {},
   "source": [
    "Оценим распределение значений признака типа топлива."
   ]
  },
  {
   "cell_type": "code",
   "execution_count": null,
   "metadata": {},
   "outputs": [],
   "source": [
    "describe_column_category('fuel_type', df_auto)"
   ]
  },
  {
   "cell_type": "code",
   "execution_count": null,
   "metadata": {},
   "outputs": [],
   "source": [
    "print('Доля объявлений с пропусками в признаке типа топлива: {0:.2%}'\n",
    "      .format(df_auto['fuel_type'].isnull().sum() / df_auto.shape[0]))"
   ]
  },
  {
   "cell_type": "markdown",
   "metadata": {},
   "source": [
    "Распределение по виду топлива крайне неравномерно - 98% приходятся на виды топлива `petrol` и `gasoline`. Учитывая то, что указанные слова являются [синонимами](#https://www.britannica.com/technology/gasoline-fuel), целесообразно:\n",
    "- заменить эти категории на одну\n",
    "- имеющиеся пропуски (учитывая их существенный оъем относительного всех данных) заменить также на наиболее частую категорию - `petrol`\n",
    "- оценить получившееся распределение"
   ]
  },
  {
   "cell_type": "code",
   "execution_count": null,
   "metadata": {},
   "outputs": [],
   "source": [
    "df_auto.loc[df_auto['fuel_type'] == 'gasoline', 'fuel_type'] = 'petrol'"
   ]
  },
  {
   "cell_type": "code",
   "execution_count": null,
   "metadata": {},
   "outputs": [],
   "source": [
    "df_auto['fuel_type'] = df_auto['fuel_type'].fillna('petrol')"
   ]
  },
  {
   "cell_type": "code",
   "execution_count": null,
   "metadata": {},
   "outputs": [],
   "source": [
    "describe_column_category('fuel_type', df_auto)"
   ]
  },
  {
   "cell_type": "markdown",
   "metadata": {},
   "source": [
    "Далее целесообразно категории `lpg` и `cng` объединить в одну, поскольку они относятся к категории газового вида топлива. А оставшиеся категории малого объема предложений (гибридные, электродвигатели) исключить."
   ]
  },
  {
   "cell_type": "code",
   "execution_count": null,
   "metadata": {},
   "outputs": [],
   "source": [
    "df_auto.loc[df_auto['fuel_type'] == 'lpg', 'fuel_type'] = 'gas'\n",
    "df_auto.loc[df_auto['fuel_type'] == 'cng', 'fuel_type'] = 'gas'"
   ]
  },
  {
   "cell_type": "code",
   "execution_count": null,
   "metadata": {},
   "outputs": [],
   "source": [
    "df_auto = df_auto.query('fuel_type in (\\'petrol\\', \\'gas\\')')"
   ]
  },
  {
   "cell_type": "code",
   "execution_count": null,
   "metadata": {},
   "outputs": [],
   "source": [
    "describe_column_category('fuel_type', df_auto)"
   ]
  },
  {
   "cell_type": "markdown",
   "metadata": {},
   "source": [
    "##### Модель (`model`)"
   ]
  },
  {
   "cell_type": "markdown",
   "metadata": {},
   "source": [
    "Оценим распределение значений признака модели."
   ]
  },
  {
   "cell_type": "code",
   "execution_count": null,
   "metadata": {},
   "outputs": [],
   "source": [
    "describe_column_category('model', df_auto)"
   ]
  },
  {
   "cell_type": "code",
   "execution_count": null,
   "metadata": {},
   "outputs": [],
   "source": [
    "print('Доля объявлений с пропусками в признаке модели: {0:.2%}'\n",
    "      .format(df_auto['model'].isnull().sum() / df_auto.shape[0]))"
   ]
  },
  {
   "cell_type": "markdown",
   "metadata": {},
   "source": [
    "Модельный ряд представлен списком из порядка 250 различных наименований. Учитывая то, что помимо пропусков (порядка 4.2%) в данных присутствует значение `other` (прочие модели, порядка 6.6%), целесообразно заменить пропуски указанным значением."
   ]
  },
  {
   "cell_type": "code",
   "execution_count": null,
   "metadata": {},
   "outputs": [],
   "source": [
    "df_auto['model'] = df_auto['model'].fillna('other')"
   ]
  },
  {
   "cell_type": "markdown",
   "metadata": {},
   "source": [
    "Учитывая то, что уникальных значений признака модели достаточно много (около 250), целесообразно для обучения ML-модели создать производный признак, который бы содержал наиболее распространенные модели, а остальные относил бы к категории \"прочие\".\n",
    "\n",
    "Указанную операцию выполним на этапе подготовки обучающей и тестовой выборок (по статистике обучающей выборки)."
   ]
  },
  {
   "cell_type": "markdown",
   "metadata": {},
   "source": [
    "##### Тип коробки передач (`gearbox`)"
   ]
  },
  {
   "cell_type": "markdown",
   "metadata": {},
   "source": [
    "Оценим распределение значений признака типа коробки передач."
   ]
  },
  {
   "cell_type": "code",
   "execution_count": null,
   "metadata": {},
   "outputs": [],
   "source": [
    "describe_column_category('gearbox', df_auto)"
   ]
  },
  {
   "cell_type": "code",
   "execution_count": null,
   "metadata": {},
   "outputs": [],
   "source": [
    "print('Доля объявлений с пропусками в признаке типа коробки передач: {0:.2%}'\n",
    "      .format(df_auto['gearbox'].isnull().sum() / df_auto.shape[0]))"
   ]
  },
  {
   "cell_type": "markdown",
   "metadata": {},
   "source": [
    "Соотношение ручная/автоматическая коробка передач - 4 к 1. Учитывая относительно небольшой объем пропусков данных, нецелесообразно выделять отдельную категорию (например, `unknown`) - имеет смысл заменить на наиболее распространенное значение - `manual`."
   ]
  },
  {
   "cell_type": "code",
   "execution_count": null,
   "metadata": {},
   "outputs": [],
   "source": [
    "df_auto['gearbox'] = df_auto['gearbox'].fillna('manual')"
   ]
  },
  {
   "cell_type": "code",
   "execution_count": null,
   "metadata": {},
   "outputs": [],
   "source": [
    "describe_column_category('gearbox', df_auto)"
   ]
  },
  {
   "cell_type": "markdown",
   "metadata": {},
   "source": [
    "В целом соотношение ручная/автоматическая коробка передач не сильно изменилось."
   ]
  },
  {
   "cell_type": "markdown",
   "metadata": {},
   "source": [
    "##### Тип кузова (`vehicle_type`)"
   ]
  },
  {
   "cell_type": "markdown",
   "metadata": {},
   "source": [
    "Оценим распределение значений признака типа кузова."
   ]
  },
  {
   "cell_type": "code",
   "execution_count": null,
   "metadata": {},
   "outputs": [],
   "source": [
    "describe_column_category('vehicle_type', df_auto)"
   ]
  },
  {
   "cell_type": "code",
   "execution_count": null,
   "metadata": {},
   "outputs": [],
   "source": [
    "print('Доля объявлений с пропусками в признаке типа кузова: {0:.2%}'\n",
    "      .format(df_auto['vehicle_type'].isnull().sum() / df_auto.shape[0]))"
   ]
  },
  {
   "cell_type": "code",
   "execution_count": null,
   "metadata": {},
   "outputs": [],
   "source": [
    "df_auto.query('vehicle_type.isnull()', engine='python')"
   ]
  },
  {
   "cell_type": "markdown",
   "metadata": {},
   "source": [
    "Данных с пропусками в типе кузова достаточно много, при этом для многих подобных объявлений указаны марка и модель, что позволит выполнить замену, например, на наиболее распространенный тип кузова для модели.\n",
    "\n",
    "Аналогично замене 0 признака мощности, чтобы не переобучить модель указанную операцию целесообразно выполнить после разделения всей выборки на обучающую и тестовую (на обучающей собрать статистику и использовать ее для замены значений на обучающей и тестовой выборках)."
   ]
  },
  {
   "cell_type": "markdown",
   "metadata": {},
   "source": [
    "##### Выводы"
   ]
  },
  {
   "cell_type": "markdown",
   "metadata": {},
   "source": [
    "Оценка распределения значений признаков проводилась с целью выявления пропусков/аномалий в данных, которые целесообразно исключить или заменить.\n",
    "\n",
    "По результатам оценки признаков, относящихся к самим объявлениям (дата создания, дата выгрузки), исключены аномалии - объявления с большим периодом экспозиции, которые вероятно содержат недостоверные ценовые характеристики.\n",
    "\n",
    "По результатам оценки распределения года регистрации автомобилей исключены аномальные значения, а также значения-выбросы, не дающие представления о текущем состоянии рынка автомобилей. \n",
    "\n",
    "По результатам оценки числовых и категориальных признаков также устранены отдельные аномалии, а также выполнены замены пропусков значений. При необходимости последующего сопровождения модели указанные операции могут быть автоматизированы и в целом не зависят от представленных данных. Отдельные операции замены - например, замена значения 0 в мощности автомобиля, целесообразно выполнить после разделения данных на обучающую и тестовую выборку и сбора статистики на обучающей выборке."
   ]
  },
  {
   "cell_type": "markdown",
   "metadata": {},
   "source": [
    "#### Разделение данных на обучающую и тестовую выборку"
   ]
  },
  {
   "cell_type": "markdown",
   "metadata": {},
   "source": [
    "Выполним стратифицированное разделение данных на обучающую и тестовую выборку. В качестве разделяющего признака используем добавленный выше признак `brand_type`, позволяющий отделить производителей, занимающих более 1% рынка от производителей с небольшой долей."
   ]
  },
  {
   "cell_type": "code",
   "execution_count": null,
   "metadata": {},
   "outputs": [],
   "source": [
    "df_train, df_test = train_test_split(\n",
    "        df_auto, test_size=0.2, random_state=random_magic, stratify=df_auto['brand_type']\n",
    "    )"
   ]
  },
  {
   "cell_type": "markdown",
   "metadata": {},
   "source": [
    "Подготовим статистические данные для замены пропусков/аномалий в признаках на основе имеющихся в обучающей выборке данных - значениях мощности и типа кузова для конкретных производителей и моделей автомобилей."
   ]
  },
  {
   "cell_type": "markdown",
   "metadata": {},
   "source": [
    "#### Заполнение пропусков на основе статистики в обучающей выборке"
   ]
  },
  {
   "cell_type": "code",
   "execution_count": null,
   "metadata": {},
   "outputs": [],
   "source": [
    "df_train = df_train.copy()\n",
    "df_test = df_test.copy()"
   ]
  },
  {
   "cell_type": "markdown",
   "metadata": {},
   "source": [
    "##### Мощность (`power`)"
   ]
  },
  {
   "cell_type": "markdown",
   "metadata": {},
   "source": [
    "Определим медианные мощности по производителям и маркам автомобилей на основе данных обучающей выборки."
   ]
  },
  {
   "cell_type": "code",
   "execution_count": null,
   "metadata": {},
   "outputs": [],
   "source": [
    "power_median = df_train.query('power > 0 and brand_type == \\'other\\'')['power'].median()\n",
    "power_median"
   ]
  },
  {
   "cell_type": "code",
   "execution_count": null,
   "metadata": {},
   "outputs": [],
   "source": [
    "df_model_power = (\n",
    "    df_train\n",
    "    .query('power > 0')\n",
    "    .groupby(['brand', 'model'])['power']\n",
    "    .median()\n",
    "    .reset_index()\n",
    ")\n",
    "\n",
    "df_model_power"
   ]
  },
  {
   "cell_type": "code",
   "execution_count": null,
   "metadata": {},
   "outputs": [],
   "source": [
    "# функция возвращает медианное значение мощности для входных параметров \n",
    "# brand - марка автомобиля\n",
    "# model - модель автомобиля\n",
    "# при отсутствии в таблице медианных значений указанной модели - возврат медианного значения мощности \n",
    "# по всей таблице (без учета пустых значений)\n",
    "\n",
    "\n",
    "def find_power_median_value(brand, model):\n",
    "    power_group = df_model_power.query('brand == @brand and model == @model')['power']\n",
    "\n",
    "    if power_group.empty:\n",
    "        return power_median\n",
    "    else:\n",
    "        return power_group.values[0]"
   ]
  },
  {
   "cell_type": "markdown",
   "metadata": {},
   "source": [
    "Выполним замену в обучающей и тестовой выборках на основе сформированной статистики."
   ]
  },
  {
   "cell_type": "code",
   "execution_count": null,
   "metadata": {},
   "outputs": [],
   "source": [
    "df_train.loc[df_train['power'] == 0,  'power'] = df_train.query('power == 0').apply(\n",
    "    lambda row: find_power_median_value(row['brand'], row['model']),\n",
    "    axis=1\n",
    ").astype('int')"
   ]
  },
  {
   "cell_type": "code",
   "execution_count": null,
   "metadata": {},
   "outputs": [],
   "source": [
    "df_test.loc[df_test['power'] == 0, 'power'] = df_test.query('power == 0').apply(\n",
    "    lambda row: find_power_median_value(row['brand'], row['model']),\n",
    "    axis=1\n",
    ").astype('int')"
   ]
  },
  {
   "cell_type": "markdown",
   "metadata": {},
   "source": [
    "##### Тип кузова (`vehicle_type`)"
   ]
  },
  {
   "cell_type": "markdown",
   "metadata": {},
   "source": [
    "Определим наиболее часто встречаемые типы кузовов по производителям и моделям."
   ]
  },
  {
   "cell_type": "code",
   "execution_count": null,
   "metadata": {},
   "outputs": [],
   "source": [
    "vehicle_type_top = df_train['vehicle_type'].mode()[0]\n",
    "vehicle_type_top"
   ]
  },
  {
   "cell_type": "code",
   "execution_count": null,
   "metadata": {},
   "outputs": [],
   "source": [
    "df_model_vehicle_type = (\n",
    "    df_train.groupby(['brand', 'model'])['vehicle_type'].\n",
    "    agg(lambda x:x.value_counts().index[0])\n",
    "    .reset_index()\n",
    ")\n",
    "\n",
    "df_model_vehicle_type"
   ]
  },
  {
   "cell_type": "code",
   "execution_count": null,
   "metadata": {},
   "outputs": [],
   "source": [
    "# функция возвращает медианное значение мощности для входных параметров \n",
    "# brand - марка автомобиля\n",
    "# model - модель автомобиля\n",
    "# при отсутствии в таблице медианных значений указанной модели - возврат медианного значения мощности \n",
    "# по всей таблице (без учета пустых значений)\n",
    "\n",
    "\n",
    "def find_vehicle_type_top_value(brand, model):\n",
    "    vehicle_type_group = df_model_vehicle_type.query('brand == @brand and model == @model')['vehicle_type']\n",
    "\n",
    "    if vehicle_type_group.empty:\n",
    "        return vehicle_type_top\n",
    "    else:\n",
    "        return vehicle_type_group.values[0]"
   ]
  },
  {
   "cell_type": "markdown",
   "metadata": {},
   "source": [
    "Аналогичным образом заполняем пропуски в обучающей и тестовой выборках"
   ]
  },
  {
   "cell_type": "code",
   "execution_count": null,
   "metadata": {},
   "outputs": [],
   "source": [
    "df_train.loc[df_train['vehicle_type'].isnull(),  'vehicle_type'] = (\n",
    "    df_train.query('vehicle_type.isnull()', engine='python').apply(\n",
    "    lambda row: find_vehicle_type_top_value(row['brand'], row['model']),\n",
    "    axis=1)\n",
    ")"
   ]
  },
  {
   "cell_type": "code",
   "execution_count": null,
   "metadata": {},
   "outputs": [],
   "source": [
    "df_test.loc[df_test['vehicle_type'].isnull(),  'vehicle_type'] = (\n",
    "    df_test.query('vehicle_type.isnull()', engine='python').apply(\n",
    "    lambda row: find_vehicle_type_top_value(row['brand'], row['model']),\n",
    "    axis=1)\n",
    ")"
   ]
  },
  {
   "cell_type": "markdown",
   "metadata": {},
   "source": [
    "##### Модель"
   ]
  },
  {
   "cell_type": "markdown",
   "metadata": {},
   "source": [
    "Добавим производный обучающий признак с целью выделить наиболее распространенные модели (более 1000 объявлений ~0.35%)"
   ]
  },
  {
   "cell_type": "code",
   "execution_count": null,
   "metadata": {
    "scrolled": false
   },
   "outputs": [],
   "source": [
    "df_model_top = df_train.pivot_table(\n",
    "    index='model', \n",
    "    values='brand', \n",
    "    aggfunc=['count']\n",
    ").reset_index()\n",
    "\n",
    "df_model_top.columns = ['model_top', 'count']\n",
    "df_model_top = df_model_top.query('count > 1000')"
   ]
  },
  {
   "cell_type": "code",
   "execution_count": null,
   "metadata": {},
   "outputs": [],
   "source": [
    "df_train['model_type'] = df_train.merge(\n",
    "    df_model_top, left_on='model', right_on ='model_top', how='left'\n",
    ")['model_top']\n",
    "\n",
    "df_train['model_type'] = df_train['model_type'].fillna('other')"
   ]
  },
  {
   "cell_type": "code",
   "execution_count": null,
   "metadata": {},
   "outputs": [],
   "source": [
    "df_test['model_type'] = df_test.merge(\n",
    "    df_model_top, left_on='model', right_on ='model_top', how='left'\n",
    ")['model_top']\n",
    "\n",
    "df_test['model_type'] = df_test['model_type'].fillna('other')"
   ]
  },
  {
   "cell_type": "markdown",
   "metadata": {},
   "source": [
    "##### Выводы"
   ]
  },
  {
   "cell_type": "markdown",
   "metadata": {},
   "source": [
    "Проверим общую информацию о признаках обучающей и тестовой выборок."
   ]
  },
  {
   "cell_type": "code",
   "execution_count": null,
   "metadata": {},
   "outputs": [],
   "source": [
    "df_train.info()"
   ]
  },
  {
   "cell_type": "code",
   "execution_count": null,
   "metadata": {},
   "outputs": [],
   "source": [
    "df_test.info()"
   ]
  },
  {
   "cell_type": "markdown",
   "metadata": {},
   "source": [
    "Пропуски заполнены, типы данных в обеих выборках совпадают. Можно переходить к этапу построения и обучения моделей."
   ]
  },
  {
   "cell_type": "markdown",
   "metadata": {},
   "source": [
    "#### Выводы"
   ]
  },
  {
   "cell_type": "markdown",
   "metadata": {},
   "source": [
    "В таблице порядка 355 тысяч записей об объявлениях о продаже автомобилей. Целевым признаком является цена автомобиля (Price), указанная в евро.\n",
    "\n",
    "Состав атрибутов совпадает с полученным описанием. Для удобства работы выполнено приведение названий атрибутов из 'CamelCase' в 'snake_case'.\n",
    "\n",
    "Далее проведена оценка распределения значений признаков с целью выявления пропусков/аномалий в данных, которые целесообразно исключить или заменить.\n",
    "\n",
    "По результатам оценки признаков, относящихся к самим объявлениям (дата создания, дата выгрузки), исключены аномалии - объявления с большим периодом экспозиции, которые вероятно содержат недостоверные ценовые характеристики. Также исключены аномальные значения года регистрации автомобилей, а также значения-выбросы, не дающие представления о текущем состоянии рынка автомобилей. \n",
    "\n",
    "По результатам оценки числовых и категориальных признаков также устранены отдельные аномалии и выполнены замены пропусков значений. \n",
    "\n",
    "После выполнения указанных операций в таблице осталось порядка 330 тясяч записей. Указанная выборка разделена на обучающую и тестовую (с пропорциональным разбиением по производителю). На основе статистики обучающей выборки выполнена замена пропусков значений мощности, типа кузова и модели автомобилей.\n",
    "\n",
    "Данные подготовлены для этапа обучения моделей."
   ]
  },
  {
   "cell_type": "markdown",
   "metadata": {},
   "source": [
    "## Обучение моделей"
   ]
  },
  {
   "cell_type": "markdown",
   "metadata": {},
   "source": [
    "Построим различные модели машинного обучения.\n",
    "\n",
    "Определим наборы обучающих и целевого признаков, выделим категориальные и числовые (подлежащие масштабированию) признаки."
   ]
  },
  {
   "cell_type": "code",
   "execution_count": null,
   "metadata": {},
   "outputs": [],
   "source": [
    "features = ['vehicle_type',\n",
    "            'registration_year',\n",
    "            'gearbox',\n",
    "            'power',\n",
    "            'model_type',\n",
    "            'kilometer',\n",
    "            'registration_month',\n",
    "            'fuel_type',\n",
    "            'brand',\n",
    "            'not_repaired']\n",
    "\n",
    "features_category = ['vehicle_type', 'gearbox', 'model_type', 'kilometer', \n",
    "                     'registration_month', 'fuel_type', 'brand', 'not_repaired']\n",
    "\n",
    "features_scale = ['registration_year', 'power']\n",
    "\n",
    "target = ['price']"
   ]
  },
  {
   "cell_type": "code",
   "execution_count": null,
   "metadata": {},
   "outputs": [],
   "source": [
    "X_train = df_train[features]\n",
    "Y_train = df_train[target]\n",
    "\n",
    "X_test = df_test[features]\n",
    "Y_test = df_test[target]"
   ]
  },
  {
   "cell_type": "markdown",
   "metadata": {},
   "source": [
    "Зададим функцию расчета метрики RMSE"
   ]
  },
  {
   "cell_type": "code",
   "execution_count": null,
   "metadata": {},
   "outputs": [],
   "source": [
    "# функция расчета метрики RMSE\n",
    "\n",
    "def rmse(Y_true, Y_predicted):\n",
    "    return mean_squared_error(Y_true, Y_predicted) ** 0.5\n",
    "    \n",
    "# в версии 0.24.1:    \n",
    "#    return mean_squared_error(Y_true, Y_predicted, squared=False)"
   ]
  },
  {
   "cell_type": "code",
   "execution_count": null,
   "metadata": {},
   "outputs": [],
   "source": [
    "# мера, используемая при кросс-валидации - RMSE\n",
    "scoring = make_scorer(rmse, greater_is_better=False)"
   ]
  },
  {
   "cell_type": "markdown",
   "metadata": {},
   "source": [
    "Определим функции вывода значений метрики по результатам обучения и проверки моделей на тестовой выборке."
   ]
  },
  {
   "cell_type": "code",
   "execution_count": null,
   "metadata": {},
   "outputs": [],
   "source": [
    "# функция печати сводной информации о параметрах модели\n",
    "def print_scores(grid_search, params):\n",
    "    print ('Наилучшее значение метрики RMSE: %0.3f' % np.abs(grid_search.best_score_))\n",
    "    print ('Наилучшие параметры:')\n",
    "    best_parameters = grid_search.best_estimator_.get_params()\n",
    "    \n",
    "    for param_name in sorted(params.keys()):\n",
    "        print ('\\t%s: %r' % (param_name, best_parameters[param_name]))"
   ]
  },
  {
   "cell_type": "code",
   "execution_count": null,
   "metadata": {},
   "outputs": [],
   "source": [
    "def print_scores_on_test(grid_search, params, X_test, Y_test):\n",
    "    print ('Параметры модели:')\n",
    "    best_parameters = grid_search.best_estimator_.get_params()\n",
    "    grid_parameters = {}\n",
    "    \n",
    "    for param_name in sorted(params.keys()):\n",
    "        grid_parameters[param_name] = best_parameters[param_name]\n",
    "        print ('\\t%s: %r' % (param_name, best_parameters[param_name]))\n",
    "    \n",
    "    score_value = np.abs(grid_search.score(X_test, Y_test))\n",
    "    print('Значение метрики RMSE на тестовых данных:', score_value)\n",
    "    \n",
    "    return score_value, grid_parameters"
   ]
  },
  {
   "cell_type": "markdown",
   "metadata": {},
   "source": [
    "Для последующего сравнения моделей объявим переменную для хранения статистической информации по качеству и времени обучения моделей."
   ]
  },
  {
   "cell_type": "code",
   "execution_count": null,
   "metadata": {},
   "outputs": [],
   "source": [
    "ml_data = []"
   ]
  },
  {
   "cell_type": "markdown",
   "metadata": {},
   "source": [
    "### Dummy-модель"
   ]
  },
  {
   "cell_type": "markdown",
   "metadata": {},
   "source": [
    "Для последующей оценки полученных результатов проверки моделй на тестовых данных рассмотрим несколько dummy-моделей, выполняющий предсказание по одному из простых принципов:\n",
    "- медианное значение цены\n",
    "- среднее значение по бренду\n",
    "- среднее значение по модели"
   ]
  },
  {
   "cell_type": "code",
   "execution_count": null,
   "metadata": {},
   "outputs": [],
   "source": [
    "dummy = DummyRegressor(strategy=\"median\")\n",
    "dummy.fit(X_train, Y_train)\n",
    "\n",
    "print(\n",
    "    'Значение dummy метрики RMSE на тестовых данных:', \n",
    "    rmse(Y_test.values.ravel(), dummy.predict(X_test)) \n",
    ")"
   ]
  },
  {
   "cell_type": "markdown",
   "metadata": {},
   "source": [
    "Значение метрики первой dummy-модели равно ~4750 евро (т.е. замена на медиану позволяет определить цену автомобиля в среднем с ошибкой +/- 4750 евро)."
   ]
  },
  {
   "cell_type": "code",
   "execution_count": null,
   "metadata": {},
   "outputs": [],
   "source": [
    "df_brand_median_price = df_train.pivot_table(\n",
    "    index='brand', \n",
    "    values='price', \n",
    "    aggfunc=['mean']\n",
    ").reset_index()\n",
    "\n",
    "df_brand_median_price.columns = ['brand', 'price']"
   ]
  },
  {
   "cell_type": "code",
   "execution_count": null,
   "metadata": {},
   "outputs": [],
   "source": [
    "predictions = df_test.merge(\n",
    "    df_brand_median_price, left_on='brand', right_on ='brand', how='inner'\n",
    ")['price_y']\n",
    "\n",
    "print(\n",
    "    'Значение dummy метрики RMSE на тестовых данных:', \n",
    "    rmse(Y_test.values.ravel(), predictions) \n",
    ")"
   ]
  },
  {
   "cell_type": "markdown",
   "metadata": {},
   "source": [
    "Значение метрики второй dummy-модели равно ~4725 евро"
   ]
  },
  {
   "cell_type": "code",
   "execution_count": null,
   "metadata": {},
   "outputs": [],
   "source": [
    "df_model_median_price = df_train.pivot_table(\n",
    "    index='model_type', \n",
    "    values='price', \n",
    "    aggfunc=['mean']\n",
    ").reset_index()\n",
    "\n",
    "df_model_median_price.columns = ['model_type', 'price']"
   ]
  },
  {
   "cell_type": "code",
   "execution_count": null,
   "metadata": {},
   "outputs": [],
   "source": [
    "predictions = df_test.merge(\n",
    "    df_model_median_price, left_on='model_type', right_on ='model_type', how='inner'\n",
    ")['price_y']\n",
    "\n",
    "print(\n",
    "    'Значение dummy метрики RMSE на тестовых данных:', \n",
    "    rmse(Y_test.values.ravel(), predictions) \n",
    ")"
   ]
  },
  {
   "cell_type": "markdown",
   "metadata": {},
   "source": [
    "Значение метрики второй dummy-модели равно ~4470 евро. Базовое значение ошибки для построения моделей машинного обучения получено. "
   ]
  },
  {
   "cell_type": "code",
   "execution_count": null,
   "metadata": {},
   "outputs": [],
   "source": [
    "ml_data.append(['dummy', 0, 0, 4470, {}])"
   ]
  },
  {
   "cell_type": "markdown",
   "metadata": {},
   "source": [
    "### Линейная регрессия"
   ]
  },
  {
   "cell_type": "markdown",
   "metadata": {},
   "source": [
    "В качестве шагов преобразования данных определим масштабирование и кодирование с помощью OrdinalEncoder (целочисленный код категории). Указанный способ кодирования категориальных признаков ближе к применяемым к CatBoost и LightGBM численным способам кодирования."
   ]
  },
  {
   "cell_type": "code",
   "execution_count": null,
   "metadata": {},
   "outputs": [],
   "source": [
    "transform_steps = [\n",
    "    (\n",
    "        'qtl', ColumnTransformer(\n",
    "            remainder='passthrough',\n",
    "            transformers=[  \n",
    "                ('std', StandardScaler(copy=False, with_mean=True, with_std=True), features_scale),\n",
    "                ('cat', OrdinalEncoder(), features_category)\n",
    "            ])\n",
    "    ),\n",
    "]"
   ]
  },
  {
   "cell_type": "code",
   "execution_count": null,
   "metadata": {},
   "outputs": [],
   "source": [
    "model_lr = LinearRegression()\n",
    "\n",
    "params = {\n",
    "    'model__fit_intercept': [True, False],\n",
    "    'model__normalize': [True, False]\n",
    "}"
   ]
  },
  {
   "cell_type": "code",
   "execution_count": null,
   "metadata": {},
   "outputs": [],
   "source": [
    "def get_param_count(params):\n",
    "    return np.prod([len(value) for key, value in params.items()])"
   ]
  },
  {
   "cell_type": "code",
   "execution_count": null,
   "metadata": {},
   "outputs": [],
   "source": [
    "grid_search = GridSearchCV(\n",
    "        Pipeline(transform_steps + [('model', model_lr)]), \n",
    "        param_grid=params, \n",
    "        cv=cv_folds, \n",
    "        scoring=scoring,\n",
    "    ) "
   ]
  },
  {
   "cell_type": "code",
   "execution_count": null,
   "metadata": {},
   "outputs": [],
   "source": [
    "%%time\n",
    "start_time = datetime.datetime.now()\n",
    "\n",
    "grid_search.fit(X_train, Y_train.values.ravel())\n",
    "\n",
    "learning_time = (datetime.datetime.now()-start_time).seconds\n",
    "\n",
    "print_scores(grid_search, params)"
   ]
  },
  {
   "cell_type": "code",
   "execution_count": null,
   "metadata": {},
   "outputs": [],
   "source": [
    "rmse_score, grid_parameters = print_scores_on_test(grid_search, params, X_test, Y_test.values.ravel())\n",
    "\n",
    "ml_data.append(['Линейная регрессия', learning_time, learning_time / get_param_count(params), rmse_score, grid_parameters])"
   ]
  },
  {
   "cell_type": "markdown",
   "metadata": {},
   "source": [
    "С помощью линейной регрессии удалось достичь значения метрики RMSE = 3020, что практически в 1.5 раза лучше, чем dummy-модель"
   ]
  },
  {
   "cell_type": "markdown",
   "metadata": {},
   "source": [
    "### Случайный лес"
   ]
  },
  {
   "cell_type": "markdown",
   "metadata": {},
   "source": [
    "Рассмотрим модель случайного леса. В качестве диапазона перебираемых гиперпараметров укажем глубину дерева и количество деревьев в лесу."
   ]
  },
  {
   "cell_type": "code",
   "execution_count": null,
   "metadata": {},
   "outputs": [],
   "source": [
    "model_rfr = RandomForestRegressor(random_state=random_magic)\n",
    "\n",
    "params = {\n",
    "    'model__n_estimators': [10, 20, 30],\n",
    "    'model__max_depth': [2, 3, 5],\n",
    "}\n",
    "\n",
    "if simple_param:\n",
    "    params = {\n",
    "        'model__n_estimators': [30],\n",
    "        'model__max_depth': [5],\n",
    "    }"
   ]
  },
  {
   "cell_type": "code",
   "execution_count": null,
   "metadata": {},
   "outputs": [],
   "source": [
    "grid_search = GridSearchCV(\n",
    "        Pipeline(transform_steps + [('model', model_rfr)]), \n",
    "        param_grid=params, \n",
    "        cv=cv_folds, \n",
    "        scoring=scoring,\n",
    "    ) "
   ]
  },
  {
   "cell_type": "code",
   "execution_count": null,
   "metadata": {},
   "outputs": [],
   "source": [
    "%%time\n",
    "start_time = datetime.datetime.now()\n",
    "\n",
    "grid_search.fit(X_train, Y_train.values.ravel())\n",
    "\n",
    "learning_time = (datetime.datetime.now()-start_time).seconds\n",
    "\n",
    "print_scores(grid_search, params)"
   ]
  },
  {
   "cell_type": "code",
   "execution_count": null,
   "metadata": {},
   "outputs": [],
   "source": [
    "rmse_score, grid_parameters = print_scores_on_test(grid_search, params, X_test, Y_test.values.ravel())\n",
    "\n",
    "ml_data.append(['Случайный лес', learning_time, learning_time / get_param_count(params), rmse_score, grid_parameters])"
   ]
  },
  {
   "cell_type": "markdown",
   "metadata": {},
   "source": [
    "Модель случайного леса позволила получить значения метрики RMSE = 2320, что более чем на 30% лучше модели линейной регрессии."
   ]
  },
  {
   "cell_type": "markdown",
   "metadata": {},
   "source": [
    "### CatBoost"
   ]
  },
  {
   "cell_type": "markdown",
   "metadata": {},
   "source": [
    "Рассмотрим модель градиентного бустинга CatBoostRegressor. В качестве метрики используем RMSE (здесь оставлен пример реализации RMSE [из документации](#https://catboost.ai/docs/concepts/python-usages-examples.html) - в одном из предыдущих проектов по аналогии делал свою реализации метрики SMAPE, решил оставить такой же вариант (через пользовательский объект) и здесь). "
   ]
  },
  {
   "cell_type": "code",
   "execution_count": null,
   "metadata": {},
   "outputs": [],
   "source": [
    "class RmseMetric(object):\n",
    "    def get_final_error(self, error, weight):\n",
    "        return np.sqrt(error / (weight + 1e-38))\n",
    "\n",
    "    def is_max_optimal(self):\n",
    "        return False\n",
    "\n",
    "    def evaluate(self, approxes, target, weight):\n",
    "        assert len(approxes) == 1\n",
    "        assert len(target) == len(approxes[0])\n",
    "\n",
    "        approx = approxes[0]\n",
    "\n",
    "        error_sum = 0.0\n",
    "        weight_sum = 0.0\n",
    "\n",
    "        for i in range(len(approx)):\n",
    "            w = 1.0 if weight is None else weight[i]\n",
    "            weight_sum += w\n",
    "            error_sum += w * ((approx[i] - target[i])**2)\n",
    "\n",
    "        return error_sum, weight_sum"
   ]
  },
  {
   "cell_type": "code",
   "execution_count": null,
   "metadata": {},
   "outputs": [],
   "source": [
    "model_cbr = CatBoostRegressor(\n",
    "    verbose=50,\n",
    "    #eval_metric='RMSE',\n",
    "    eval_metric=RmseMetric(),\n",
    "    cat_features=features_category,\n",
    "    task_type=\"CPU\",\n",
    "    iterations=1000,  \n",
    ")\n",
    "\n",
    "params = {\n",
    "    'learning_rate': [0.03, 0.05, 0.15],\n",
    "    'depth': [5, 7, 10],\n",
    "}\n",
    "\n",
    "if simple_param:\n",
    "    params = {\n",
    "        'learning_rate': [0.15],\n",
    "        'depth': [7],\n",
    "    }"
   ]
  },
  {
   "cell_type": "code",
   "execution_count": null,
   "metadata": {
    "scrolled": false
   },
   "outputs": [],
   "source": [
    "#%%time\n",
    "#start_time = datetime.datetime.now()\n",
    "\n",
    "#grid_search = model_cbr.grid_search(\n",
    "#        params,\n",
    "#        cv=cv_folds,\n",
    "#        X=df_train[features], \n",
    "#        y=df_train[target], \n",
    "#        plot=True\n",
    "#    )\n",
    "\n",
    "#learning_time = (datetime.datetime.now()-start_time).seconds\n",
    "\n",
    "#print_scores(grid_search, params)"
   ]
  },
  {
   "cell_type": "code",
   "execution_count": null,
   "metadata": {},
   "outputs": [],
   "source": [
    "%%time\n",
    "#обучение без перебора гиперпараметров\n",
    "start_time = datetime.datetime.now()\n",
    "\n",
    "model_cbr.fit(\n",
    "    df_train[features], df_train[target],\n",
    "    plot=True\n",
    ")\n",
    "\n",
    "learning_time = (datetime.datetime.now()-start_time).seconds"
   ]
  },
  {
   "cell_type": "code",
   "execution_count": null,
   "metadata": {},
   "outputs": [],
   "source": [
    "rmse_score = rmse(Y_test.values.ravel(), model_cbr.predict(X_test))\n",
    "\n",
    "print('Значение метрики RMSE на тестовых данных:', rmse_score)\n",
    "\n",
    "ml_data.append(['CatBoost', learning_time, learning_time / get_param_count(params), rmse_score, {}])"
   ]
  },
  {
   "cell_type": "markdown",
   "metadata": {},
   "source": [
    "Модель CatBoostRegressor библиотеки CatBoost позволила получить значение метрики RMSE на тестовых данных ~ 1650, что ниже рассмотренных выше моделей."
   ]
  },
  {
   "cell_type": "markdown",
   "metadata": {},
   "source": [
    "### LightGBM"
   ]
  },
  {
   "cell_type": "markdown",
   "metadata": {},
   "source": [
    "Рассмотрим модель градиентного бустинга LGBMRegressor. \n",
    "\n",
    "Поскольку для модели LGBMRegressor категориальные признаки требуются в формате категориальных типов данных - выполним склейку обучающей и тестовой выборки, преобразование категориальных типов и последующее обратное разделение (по имеющимся индексам)."
   ]
  },
  {
   "cell_type": "code",
   "execution_count": null,
   "metadata": {},
   "outputs": [],
   "source": [
    "df_lgbm = df_train.append(df_test)"
   ]
  },
  {
   "cell_type": "code",
   "execution_count": null,
   "metadata": {},
   "outputs": [],
   "source": [
    "for c in df_lgbm.columns:\n",
    "    col_type = df_lgbm[c].dtype\n",
    "    if col_type == 'object' or col_type.name == 'category':\n",
    "        df_lgbm[c] = df_lgbm[c].astype('category')"
   ]
  },
  {
   "cell_type": "code",
   "execution_count": null,
   "metadata": {},
   "outputs": [],
   "source": [
    "df_train_lgbm = df_lgbm.loc[df_train.index]\n",
    "df_test_lgbm = df_lgbm.loc[df_test.index]"
   ]
  },
  {
   "cell_type": "code",
   "execution_count": null,
   "metadata": {},
   "outputs": [],
   "source": [
    "X_train_lgbm = df_train_lgbm[features]\n",
    "Y_train_lgbm = df_train_lgbm[target]\n",
    "\n",
    "X_test_lgbm = df_test_lgbm[features]\n",
    "Y_test_lgbm = df_test_lgbm[target]"
   ]
  },
  {
   "cell_type": "code",
   "execution_count": null,
   "metadata": {},
   "outputs": [],
   "source": [
    "model_lgbm = lgb.LGBMRegressor(\n",
    "    random_state=random_magic,\n",
    "    device=\"cpu\"\n",
    ")\n",
    "\n",
    "params = {\n",
    "    'max_depth': [3, 5, 7],\n",
    "    'learning_rate': [0.03, 0.05, 0.15],\n",
    "}\n",
    "\n",
    "if simple_param:\n",
    "    params = {\n",
    "        'max_depth': [7],\n",
    "        'learning_rate': [0.15],\n",
    "    }"
   ]
  },
  {
   "cell_type": "code",
   "execution_count": null,
   "metadata": {
    "scrolled": false
   },
   "outputs": [],
   "source": [
    "%%time\n",
    "# примерное время выполнения - 23 минуты\n",
    "start_time = datetime.datetime.now()\n",
    "\n",
    "grid_search = GridSearchCV(\n",
    "        estimator=model_lgbm,\n",
    "        param_grid=params, \n",
    "        cv=cv_folds, \n",
    "        scoring=scoring,\n",
    "        n_jobs=-1, \n",
    "        verbose=5\n",
    "    )\n",
    "fitted_model = grid_search.fit(X_train_lgbm, Y_train_lgbm)\n",
    "\n",
    "learning_time = (datetime.datetime.now()-start_time).seconds\n",
    "\n",
    "print_scores(grid_search, params)"
   ]
  },
  {
   "cell_type": "code",
   "execution_count": null,
   "metadata": {},
   "outputs": [],
   "source": [
    "rmse_score, grid_parameters = print_scores_on_test(grid_search, params, X_test_lgbm, Y_test_lgbm.values.ravel())\n",
    "\n",
    "ml_data.append(['LightGBM', learning_time, learning_time / get_param_count(params), rmse_score, grid_parameters])"
   ]
  },
  {
   "cell_type": "markdown",
   "metadata": {},
   "source": [
    "Модель LGBMRegressor библиотеки LightGBM позволила получить значение метрики RMSE на тестовых данных ~ 1690, что немного хуже CatBoost."
   ]
  },
  {
   "cell_type": "markdown",
   "metadata": {},
   "source": [
    "### Анализ моделей"
   ]
  },
  {
   "cell_type": "code",
   "execution_count": null,
   "metadata": {},
   "outputs": [],
   "source": [
    "df_ml_compare = pd.DataFrame(ml_data, columns=['model', 'learning_time', 'learning_time_per_param', 'rmse', 'params'])\n",
    "df_ml_compare"
   ]
  },
  {
   "cell_type": "markdown",
   "metadata": {},
   "source": [
    "Вот результаты на локальной машине:\n",
    "\n",
    "            0\tdummy\t0\t0.0\t    4470.000000\t\n",
    "    1\tЛинейная регрессия\t10\t2.5\t    3019.412830\t\n",
    "    2\tСлучайный лес\t24\t24.0\t2318.564228\t\n",
    "        3\tCatBoost\t68\t68.0\t1647.518595\t\n",
    "        4\tLightGBM\t5\t5.0\t    1705.419296"
   ]
  },
  {
   "cell_type": "markdown",
   "metadata": {},
   "source": [
    "Линейная регрессия позволила получить значение метрики равное ~ 3000, случайный лес ~ 2300, обе модели градиентного бустинга ~ 1650-1700. Все из перечисленных моделей значительно улучшили предсказание dummy-моделей (~ 4500), при этом качество моделей градиентного бустинга почти в 2 раза лучше линейной регрессии и на 25% лучше случайного леса.\n",
    "\n",
    "Время обучения модели градиентного бустинга LGBMRegressor незначительно превышает время обучения линейной регрессии. Вместе с тем следует отметить, что обе модели градиентного бустинга позволяют применять графический процессор для вычислений, что даже при локальном запуске (графический чипсет NVIDIA с поддержкой CUDA) позволяет еще снизить указанное время.\n",
    "\n",
    "Качество моделей градиентного бустинга на 25% выше случайного леса и существенного превосходят оценки dummy-модели (практически в 3 раза лучше). Время обучения CatBoost относительно LightGBM (в расчете на один набор гиперпараметров) на порядок хуже."
   ]
  },
  {
   "cell_type": "markdown",
   "metadata": {},
   "source": [
    "## Выводы"
   ]
  },
  {
   "cell_type": "markdown",
   "metadata": {},
   "source": [
    "В рамках исследования проведено построение моделей машинного обучения с целью предсказания на основе технических характеристик цены автомобилей. \n",
    "\n",
    "Проведена обработка исторических данных (порядка 355 тысяч записей об объявлениях о продаже автомобилей):\n",
    "- проведена оценка распределения значений признаков с целью выявления пропусков/аномалий в данных, которые целесообразно исключить или заменить.\n",
    "- по результатам оценки признаков, относящихся к самим объявлениям (дата создания, дата выгрузки), исключены аномалии - объявления с большим периодом экспозиции, которые вероятно содержат недостоверные ценовые характеристики. Также исключены аномальные значения года регистрации автомобилей, а также значения-выбросы, не дающие представления о текущем состоянии рынка автомобилей.\n",
    "- по результатам оценки числовых и категориальных признаков также устранены отдельные аномалии и выполнены замены пропусков значений.\n",
    "\n",
    "После выполнения указанных операций в таблице осталось порядка 330 тясяч записей. Указанная выборка разделена на обучающую и тестовую (с пропорциональным разбиением по производителю). На основе статистики обучающей выборки выполнена замена пропусков значений мощности, типа кузова и модели автомобилей.\n",
    "\n",
    "Проведено обучение 4 различных типов моделей:\n",
    "- линейная регрессия\n",
    "- случайный лес\n",
    "- градиентный бустинг CatBoost\n",
    "- градиентный бустинг LightGBM\n",
    "\n",
    "Линейная регрессия позволила получить значение метрики равное ~ 3000, случайный лес ~ 2300, обе модели градиентного бустинга ~ 1650-1700. Все из перечисленных моделей значительно улучшили предсказание dummy-моделей (~ 4500), при этом качество моделей градиентного бустинга почти в 2 раза лучше линейной регрессии и на 25% лучше случайного леса.\n",
    "\n",
    "Время обучения модели градиентного бустинга LGBMRegressor незначительно превышает время обучения линейной регрессии. Вместе с тем следует отметить, что обе модели градиентного бустинга позволяют применять графический процессор для вычислений, что даже при локальном запуске (графический чипсет NVIDIA с поддержкой CUDA) позволяет еще снизить указанное время.\n",
    "\n",
    "Качество моделей градиентного бустинга на 25% выше случайного леса и существенного превосходят оценки dummy-модели (практически в 3 раза лучше). Время обучения CatBoost относительно LightGBM (в расчете на один набор гиперпараметров) на порядок хуже."
   ]
  }
 ],
 "metadata": {
  "kernelspec": {
   "display_name": "Python 3",
   "language": "python",
   "name": "python3"
  },
  "language_info": {
   "codemirror_mode": {
    "name": "ipython",
    "version": 3
   },
   "file_extension": ".py",
   "mimetype": "text/x-python",
   "name": "python",
   "nbconvert_exporter": "python",
   "pygments_lexer": "ipython3",
   "version": "3.8.8"
  },
  "toc": {
   "base_numbering": 1,
   "nav_menu": {},
   "number_sections": true,
   "sideBar": true,
   "skip_h1_title": true,
   "title_cell": "Содержание",
   "title_sidebar": "Contents",
   "toc_cell": true,
   "toc_position": {
    "height": "calc(100% - 180px)",
    "left": "10px",
    "top": "150px",
    "width": "366.391px"
   },
   "toc_section_display": true,
   "toc_window_display": true
  }
 },
 "nbformat": 4,
 "nbformat_minor": 2
}
