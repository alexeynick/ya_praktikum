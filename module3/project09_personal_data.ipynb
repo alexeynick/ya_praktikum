{
 "cells": [
  {
   "cell_type": "markdown",
   "metadata": {
    "toc": true
   },
   "source": [
    "<h1>Содержание<span class=\"tocSkip\"></span></h1>\n",
    "<div class=\"toc\"><ul class=\"toc-item\"><li><span><a href=\"#Загрузка-и-анализ-данных\" data-toc-modified-id=\"Загрузка-и-анализ-данных-1\"><span class=\"toc-item-num\">1&nbsp;&nbsp;</span>Загрузка и анализ данных</a></span><ul class=\"toc-item\"><li><span><a href=\"#Загрузка-исходных-данных\" data-toc-modified-id=\"Загрузка-исходных-данных-1.1\"><span class=\"toc-item-num\">1.1&nbsp;&nbsp;</span>Загрузка исходных данных</a></span></li><li><span><a href=\"#Анализ-данных\" data-toc-modified-id=\"Анализ-данных-1.2\"><span class=\"toc-item-num\">1.2&nbsp;&nbsp;</span>Анализ данных</a></span><ul class=\"toc-item\"><li><span><a href=\"#Пол\" data-toc-modified-id=\"Пол-1.2.1\"><span class=\"toc-item-num\">1.2.1&nbsp;&nbsp;</span>Пол</a></span></li><li><span><a href=\"#Возраст\" data-toc-modified-id=\"Возраст-1.2.2\"><span class=\"toc-item-num\">1.2.2&nbsp;&nbsp;</span>Возраст</a></span></li><li><span><a href=\"#Заработная-плата\" data-toc-modified-id=\"Заработная-плата-1.2.3\"><span class=\"toc-item-num\">1.2.3&nbsp;&nbsp;</span>Заработная плата</a></span></li><li><span><a href=\"#Количество-членов-семьи\" data-toc-modified-id=\"Количество-членов-семьи-1.2.4\"><span class=\"toc-item-num\">1.2.4&nbsp;&nbsp;</span>Количество членов семьи</a></span></li><li><span><a href=\"#Проверка-корреляций\" data-toc-modified-id=\"Проверка-корреляций-1.2.5\"><span class=\"toc-item-num\">1.2.5&nbsp;&nbsp;</span>Проверка корреляций</a></span></li></ul></li><li><span><a href=\"#Выводы\" data-toc-modified-id=\"Выводы-1.3\"><span class=\"toc-item-num\">1.3&nbsp;&nbsp;</span>Выводы</a></span></li></ul></li><li><span><a href=\"#Применение-свойств-матриц-в-линейной-регрессии\" data-toc-modified-id=\"Применение-свойств-матриц-в-линейной-регрессии-2\"><span class=\"toc-item-num\">2&nbsp;&nbsp;</span>Применение свойств матриц в линейной регрессии</a></span><ul class=\"toc-item\"><li><span><a href=\"#Задача-проверки-качества-линейной-регрессии\" data-toc-modified-id=\"Задача-проверки-качества-линейной-регрессии-2.1\"><span class=\"toc-item-num\">2.1&nbsp;&nbsp;</span>Задача проверки качества линейной регрессии</a></span></li><li><span><a href=\"#Алгоритм-преобразования-матрицы-признаков\" data-toc-modified-id=\"Алгоритм-преобразования-матрицы-признаков-2.2\"><span class=\"toc-item-num\">2.2&nbsp;&nbsp;</span>Алгоритм преобразования матрицы признаков</a></span></li></ul></li><li><span><a href=\"#Проверка-алгоритма\" data-toc-modified-id=\"Проверка-алгоритма-3\"><span class=\"toc-item-num\">3&nbsp;&nbsp;</span>Проверка алгоритма</a></span><ul class=\"toc-item\"><li><span><a href=\"#Обучение-на-исходных-данных\" data-toc-modified-id=\"Обучение-на-исходных-данных-3.1\"><span class=\"toc-item-num\">3.1&nbsp;&nbsp;</span>Обучение на исходных данных</a></span></li><li><span><a href=\"#Обучение-на-преобразованных-данных\" data-toc-modified-id=\"Обучение-на-преобразованных-данных-3.2\"><span class=\"toc-item-num\">3.2&nbsp;&nbsp;</span>Обучение на преобразованных данных</a></span></li><li><span><a href=\"#Реализация-линейной-регрессии\" data-toc-modified-id=\"Реализация-линейной-регрессии-3.3\"><span class=\"toc-item-num\">3.3&nbsp;&nbsp;</span>Реализация линейной регрессии</a></span></li></ul></li><li><span><a href=\"#Выводы\" data-toc-modified-id=\"Выводы-4\"><span class=\"toc-item-num\">4&nbsp;&nbsp;</span>Выводы</a></span></li></ul></div>"
   ]
  },
  {
   "cell_type": "markdown",
   "metadata": {},
   "source": [
    "# Защита персональных данных клиентов"
   ]
  },
  {
   "cell_type": "markdown",
   "metadata": {},
   "source": [
    "Цель проекта - необходимо защитить данные клиентов страховой компании «Хоть потоп». Следует разработать такой метод преобразования данных, чтобы по ним было сложно восстановить персональную информацию, и обосновать корректность его работы.\n",
    "\n",
    "Нужно защитить данные, чтобы при преобразовании качество моделей машинного обучения не ухудшилось. Подбирать наилучшую модель не требуется."
   ]
  },
  {
   "cell_type": "markdown",
   "metadata": {},
   "source": [
    "## Загрузка и анализ данных"
   ]
  },
  {
   "cell_type": "code",
   "execution_count": null,
   "metadata": {},
   "outputs": [],
   "source": [
    "import pandas as pd\n",
    "import numpy as np\n",
    "\n",
    "from scipy.linalg import pascal\n",
    "\n",
    "import plotly.express as px\n",
    "import plotly.graph_objects as go\n",
    "import matplotlib.pyplot as plt \n",
    "import seaborn as sns\n",
    "\n",
    "from sklearn.linear_model import LinearRegression\n",
    "from sklearn.model_selection import train_test_split\n",
    "from sklearn.metrics import r2_score"
   ]
  },
  {
   "cell_type": "code",
   "execution_count": null,
   "metadata": {},
   "outputs": [],
   "source": [
    "random_magic = 1024"
   ]
  },
  {
   "cell_type": "markdown",
   "metadata": {},
   "source": [
    "### Загрузка исходных данных"
   ]
  },
  {
   "cell_type": "markdown",
   "metadata": {},
   "source": [
    "Исходные данные представлены в одном файле. Загрузим и проведем их предварительную оценку."
   ]
  },
  {
   "cell_type": "code",
   "execution_count": null,
   "metadata": {},
   "outputs": [],
   "source": [
    "df_data = pd.read_csv('datasets/insurance.csv')"
   ]
  },
  {
   "cell_type": "code",
   "execution_count": null,
   "metadata": {
    "scrolled": true
   },
   "outputs": [],
   "source": [
    "df_data.head(10)"
   ]
  },
  {
   "cell_type": "code",
   "execution_count": null,
   "metadata": {},
   "outputs": [],
   "source": [
    "df_data.info()"
   ]
  },
  {
   "cell_type": "markdown",
   "metadata": {},
   "source": [
    "В соответствии с предоставленным описанием в исходных данных следующий состав признаков:\n",
    "- Обучающие признаки:\n",
    "  - пол\n",
    "  - возраст \n",
    "  - зарплата застрахованного клиента\n",
    "  - количество членов его семьи\n",
    "- Целевой признак:\n",
    "  - количество страховых выплат клиенту за последние 5 лет (видимо без учета самого клиента)\n",
    "  \n",
    "Состав признаков совпадает с предоставленным описанием.\n",
    "\n",
    "В таблице представлено 5000 записей о клиентах страховой компании, пропуски данных отсутствуют.\n",
    "\n",
    "В таблице 2 вещественных и 3 целочисленных атрибута. \n",
    "\n",
    "К вещественным атрибутам относятся возраст и зарплата. Вместе с тем фактические значения в этих атрибутах позволяют без потери точности выполнить их преобразование к целочисленным типам.\n",
    "\n",
    "Также для удобства использования переведем названия признаков на английский язык.  "
   ]
  },
  {
   "cell_type": "code",
   "execution_count": null,
   "metadata": {},
   "outputs": [],
   "source": [
    "df_data.columns = ['gender', 'age', 'salary', 'family_members', 'pay_count']"
   ]
  },
  {
   "cell_type": "code",
   "execution_count": null,
   "metadata": {},
   "outputs": [],
   "source": [
    "df_data['age'] = df_data['age'].astype('int')\n",
    "df_data['salary'] = df_data['salary'].astype('int')"
   ]
  },
  {
   "cell_type": "code",
   "execution_count": null,
   "metadata": {},
   "outputs": [],
   "source": [
    "features = ['gender', 'age', 'salary', 'family_members']\n",
    "target = ['pay_count']"
   ]
  },
  {
   "cell_type": "markdown",
   "metadata": {},
   "source": [
    "### Анализ данных"
   ]
  },
  {
   "cell_type": "markdown",
   "metadata": {},
   "source": [
    "Подробнее рассмотрим предоставленные данные."
   ]
  },
  {
   "cell_type": "code",
   "execution_count": null,
   "metadata": {},
   "outputs": [],
   "source": [
    "df_data.describe()"
   ]
  },
  {
   "cell_type": "markdown",
   "metadata": {},
   "source": [
    "Среди клиентов страховой компании «Хоть потоп» мужчины и женщины представлены в равных пропорциях. \n",
    "\n",
    "По возрасту - клиенты в диапазоне от 18 до 65 лет, по уровню заработной платы - от 5300 до 79000 рублей, по количеству членов семьи - от 0 (т.е. несемейные) до 6.\n",
    "\n",
    "Число страховых выплат клиентам - от 0 (т.е. отсутствие страховых случаев за рассматриваемый период) до 5.\n",
    "\n",
    "Для оценки распределения исходных данных введем допонительный признак - наличия страховых выплат (pay_count > 0)."
   ]
  },
  {
   "cell_type": "code",
   "execution_count": null,
   "metadata": {},
   "outputs": [],
   "source": [
    "df_data['pay_any'] = (df_data['pay_count'] > 0).astype('int')"
   ]
  },
  {
   "cell_type": "code",
   "execution_count": null,
   "metadata": {},
   "outputs": [],
   "source": [
    "# функция отображения сводной информации о числовом признаке:\n",
    "# выводит в текстовом виде основные параметры распределения значений признака и график (гистограмму и \"ящик с усами\")\n",
    "# распределения по категориям:\n",
    "# действующие и ушедшие клиенты\n",
    "def describe_column_numeric(column, title, df=df_data):\n",
    "    print('Признак', column, ':')\n",
    "    \n",
    "    print(df[column].describe())\n",
    "    \n",
    "    fig = px.histogram(\n",
    "        df, \n",
    "        x = column, \n",
    "        marginal = 'box', \n",
    "        color = \"pay_any\",\n",
    "        color_discrete_map={\n",
    "                0: 'Green', 1: 'Red'\n",
    "            },\n",
    "        opacity = 0.7,\n",
    "        title = title\n",
    "    )\n",
    "\n",
    "    fig.update_layout(xaxis_title=title, yaxis_title='Число клиентов')\n",
    "    fig.show() "
   ]
  },
  {
   "cell_type": "code",
   "execution_count": null,
   "metadata": {},
   "outputs": [],
   "source": [
    "# функция отображения сводной информации о категориальном признаке:\n",
    "# выводит в текстовом виде униклаьные значения признака и график (гистограмму) распределения по категориям:\n",
    "# действующие и ушедшие клиенты\n",
    "def describe_column_category(column, title, df=df_data):\n",
    "    print('Признак', column, ':\\n')\n",
    "    print('Уникальные значения (процент):')\n",
    "    print(df[column].value_counts(normalize=True).mul(100).round(1).astype(str) + '%')\n",
    "    \n",
    "    print(\"\\nДоля по целевому признаку (наличие выплат/все клиенты):\")\n",
    "    print((\n",
    "            df.query('pay_any == 1')[column].value_counts() / \n",
    "            df[column].value_counts()\n",
    "        ).mul(100).round(1).astype(str) + '%'\n",
    "    )\n",
    "        \n",
    "    fig = px.histogram(\n",
    "        df, \n",
    "        x = column,  \n",
    "        color = \"pay_any\",\n",
    "        color_discrete_map={\n",
    "                0: 'Green', 1: 'Red'\n",
    "            },\n",
    "        opacity = 0.7,\n",
    "        title = title\n",
    "    )\n",
    "\n",
    "    fig.update_layout(xaxis_title=title, yaxis_title='Число клиентов')\n",
    "    fig.show() "
   ]
  },
  {
   "cell_type": "markdown",
   "metadata": {},
   "source": [
    "#### Пол"
   ]
  },
  {
   "cell_type": "code",
   "execution_count": null,
   "metadata": {},
   "outputs": [],
   "source": [
    "describe_column_category('gender', 'Пол')"
   ]
  },
  {
   "cell_type": "markdown",
   "metadata": {},
   "source": [
    "Снова отмечаем, что по полу клиенты представлены равномерно - в том числе и относительно наличия/отсутствия страховых выплат за рассматриваемый период."
   ]
  },
  {
   "cell_type": "markdown",
   "metadata": {},
   "source": [
    "#### Возраст"
   ]
  },
  {
   "cell_type": "code",
   "execution_count": null,
   "metadata": {},
   "outputs": [],
   "source": [
    "describe_column_numeric('age', 'Возраст')"
   ]
  },
  {
   "cell_type": "markdown",
   "metadata": {},
   "source": [
    "По возрасту клиенты распределены в диапазоне от 18 до 65 лет, форма распределения близка к распределению Пуассона, медианное значение - 30 лет. Вместе с тем необходимо отметить, что по наличию/отсутствию страховых выплат имеется выраженное разделение по возрасту: все клиенты старше 42 лет имели страховые выплаты, моложе 42 - нет. Только среди клиентов возраста 42 лет были как имевшие, так и не имевшие выплат по страховым случаям.\n",
    "\n",
    "С точки зрения обучения модели указанный признак явно имеет существенное значение. Кроме того, при формировании обучающей и тестовой выборок целесообразно сделать стратифицированное разделение по возрасту (по границе 42 лет). "
   ]
  },
  {
   "cell_type": "markdown",
   "metadata": {},
   "source": [
    "#### Заработная плата"
   ]
  },
  {
   "cell_type": "code",
   "execution_count": null,
   "metadata": {},
   "outputs": [],
   "source": [
    "describe_column_numeric('salary', 'Заработная плата')"
   ]
  },
  {
   "cell_type": "markdown",
   "metadata": {},
   "source": [
    "По уровню заработной платы распределение клиентов близко к нормальному, со средним в районе 42000. Распределение клиентов по наличию/отсутствию страховых выплат практически совпадает."
   ]
  },
  {
   "cell_type": "markdown",
   "metadata": {},
   "source": [
    "#### Количество членов семьи"
   ]
  },
  {
   "cell_type": "code",
   "execution_count": null,
   "metadata": {},
   "outputs": [],
   "source": [
    "describe_column_numeric('family_members', 'Количество членов семьи')"
   ]
  },
  {
   "cell_type": "markdown",
   "metadata": {},
   "source": [
    "По числу членов семьи клиенты распределены в диапазоне от 0 до 6 лет, форма распределения близка к распределению Пуассона, медианное значение - 1 член семьи (помимо клиента). Распределение клиентов по наличию/отсутствию страховых выплат практически совпадает."
   ]
  },
  {
   "cell_type": "markdown",
   "metadata": {},
   "source": [
    "#### Проверка корреляций"
   ]
  },
  {
   "cell_type": "markdown",
   "metadata": {},
   "source": [
    "Проведем оценку корреляций между обучающими и целевым признаком, а также оценим наличие возможной мультиколлинеарности между обучающими признаками."
   ]
  },
  {
   "cell_type": "code",
   "execution_count": null,
   "metadata": {},
   "outputs": [],
   "source": [
    "# функция печати диагональной тепловой карты со значениями коэффициентов корреляции\n",
    "# df_corr - dataframe с коэффициентами корреляции\n",
    "def print_corr_heatmap(df_corr):\n",
    "    df_corr = np.abs(df_corr).replace(1,0)\n",
    "\n",
    "    mask = np.zeros_like(df_corr, dtype=bool)\n",
    "    mask[np.triu_indices_from(mask)] = True\n",
    "\n",
    "    plt.figure(figsize=(18, 7))\n",
    "\n",
    "    sns.heatmap(df_corr, mask=mask, annot=True, fmt=\".5f\", linewidths=.1, cmap= 'coolwarm')\n",
    "    plt.title('Матрица модулей коэффициентов корреляции', fontsize=15)\n",
    "    plt.ylabel('Признак', fontsize=15)\n",
    "    plt.xlabel('Признак', fontsize=15)"
   ]
  },
  {
   "cell_type": "code",
   "execution_count": null,
   "metadata": {},
   "outputs": [],
   "source": [
    "# функция печати таблицы коэффициентов корреляции и тепловой карты с модулями коэффициентов\n",
    "# df_corr - dataframe с коэффициентами корреляции\n",
    "def print_corr_data(df_region, corr_matrix=True):\n",
    "    print('{0}  Таблица корреляции  {0}'.format('+' * 50))\n",
    "    df_corr = df_region.corr()\n",
    "    display(df_corr)\n",
    "    print_corr_heatmap(df_corr)\n",
    "    if corr_matrix:\n",
    "        #print('{0}  Таблица корреляции  {0}'.format('+' * 50))\n",
    "        pd.plotting.scatter_matrix(\n",
    "            df_region, \n",
    "            figsize=(12, 12)\n",
    "        )"
   ]
  },
  {
   "cell_type": "code",
   "execution_count": null,
   "metadata": {},
   "outputs": [],
   "source": [
    "print_corr_data(df_data[features + target])"
   ]
  },
  {
   "cell_type": "markdown",
   "metadata": {},
   "source": [
    "Сильных корреляций между обучающими признаками нет. Наибольшая корреляция между целевым и обучающим признаком - у признака возраста (что, в общем-то ожидаемо, учитывая рассмотренно выше распределение по возрасту и наличию/отсутствию страховых выплат)"
   ]
  },
  {
   "cell_type": "markdown",
   "metadata": {},
   "source": [
    "### Выводы"
   ]
  },
  {
   "cell_type": "markdown",
   "metadata": {},
   "source": [
    "Исходные данные о клиентах страховой компании «Хоть потоп» представлены в виде одной таблицы со следующим составом обучающих и целевого признака:\n",
    "- Обучающие признаки:\n",
    "  - пол\n",
    "  - возраст \n",
    "  - зарплата застрахованного клиента\n",
    "  - количество членов его семьи\n",
    "- Целевой признак:\n",
    "  - количество страховых выплат клиенту за последние 5 лет (видимо без учета самого клиента)\n",
    "  \n",
    "В таблице представлено 5000 записей о клиентах, пропуски данных отсутствуют.\n",
    "\n",
    "Все значения атрибутов приведенны к целочисленному типу. \n",
    "\n",
    "Проведена оценка корреляций между обучающими и целевым признаком, а также распределение значений обучающих признаков. Выявлен наиболее коррелирующий с целевым обучающий признак - возраст. С учетом того, что по наличию/отсутствию страховых выплат имеется выраженное разделение по возрасту: все клиенты старше 42 лет имели страховые выплаты, моложе 42 - нет, то целесообразно при формировании обучающей и тестовой выборок целесообразно сделать стратифицированное разделение по возрасту (по границе 42 лет)."
   ]
  },
  {
   "cell_type": "markdown",
   "metadata": {},
   "source": [
    "## Применение свойств матриц в линейной регрессии"
   ]
  },
  {
   "cell_type": "markdown",
   "metadata": {},
   "source": [
    "Рассмотрим задачу обучения модели линейной регрессии в терминах матричных операций."
   ]
  },
  {
   "cell_type": "markdown",
   "metadata": {},
   "source": [
    "### Задача проверки качества линейной регрессии"
   ]
  },
  {
   "cell_type": "markdown",
   "metadata": {},
   "source": [
    "Задача:\n",
    "**Матрицу признаков умножают на обратимую матрицу. Изменится ли качество линейной регрессии (повторное обучение возможно)?**\n",
    "\n",
    "Рассмотрим решение исходной задачи обучения линейной регрессии:\n",
    "\n",
    "Обозначения:\n",
    "\n",
    "- $X_{(n*k)}$ — матрица признаков (нулевой столбец состоит из единиц), $k$ - размерность признакового пространства\n",
    "\n",
    "- $y_{(n*1)}$ — вектор целевого признака\n",
    "\n",
    "- $w_{(k*1)}$ — вектор весов линейной регрессии (нулевой элемент равен сдвигу)\n",
    "\n",
    "- $y_{pred\\,(n*1)}$ — вектор предсказаний целевого признака, $y_{pred} = Xw$\n",
    "\n",
    "\n",
    "Задача обучения линейной регрессии формулируется следующим образом:\n",
    "\n",
    "$$\n",
    "w = \\arg\\min_w MSE(Xw, y)\n",
    "$$\n",
    "\n",
    ", т.е. поиск такого значения $w$ при котором функция $MSE(y_{pred}, y)$ достигает минимума, т.е. метрика ошибки MSE (среднеквадратическая ошибка) между векторами предсказанных и исходных значений целевого признака минимальна.\n",
    "\n",
    "Решением исходной задачи обучения линейной регрессии является такой вектор $w$:\n",
    "\n",
    "$$\n",
    "w = (X^T X)^{-1} X^T y\n",
    "$$\n",
    "\n",
    ", где:\n",
    "\n",
    "- $X^T$ - транспонированная матрица $X$\n",
    "- $(X^T X)^{-1}$ - матрица, обратная к произведению матриц $X^T X$"
   ]
  },
  {
   "cell_type": "markdown",
   "metadata": {},
   "source": [
    "**Сформулируем решаемую нами задачу**:\n",
    "\n",
    "**Дано**: матрица $P_{(k*k)}: \\exists P_{(k*k)}^{-1}, P*P^{-1} = E$\n",
    "\n",
    "Необходимо ответить на следующий вопрос: Изменится ли качество линейной регрессии при умножении матрицы $X$ на $P$.\n",
    "Возможные варианты ответа:\n",
    "1. Изменится - в этом случае необходимо привести примеры матриц.\n",
    "2. Не изменится - в этом случае необходимо указать, как связаны параметры линейной регрессии в исходной задаче и в преобразованной."
   ]
  },
  {
   "cell_type": "markdown",
   "metadata": {},
   "source": [
    "При решении воспользуемся следующими основными свойствами матриц:\n",
    "\n",
    "1. Произведение любой квадратной матрицы на единичную равно самой матрице\n",
    "$$\n",
    "E * A = A * E = A\n",
    "$$\n",
    "\n",
    "\n",
    "2. Обратная матрица транспонированной матрицы равна транспонированной от обратной\n",
    "$$\n",
    "(A^T)^{-1} = (A^{-1})^T\n",
    "$$\n",
    "\n",
    "\n",
    "3. Обратная матрица произведения матриц равна произведению обратных в обратном порядке\n",
    "$$\n",
    "(A * B)^{-1} = (B^{-1} * A^{-1})\n",
    "$$\n",
    "\n",
    "\n",
    "4. Транспонированная матрица произведения матриц равна произведению транспонированных матриц в обратном порядке\n",
    "$$\n",
    "(A*B)^T = B^T * A^T\n",
    "$$"
   ]
  },
  {
   "cell_type": "markdown",
   "metadata": {},
   "source": [
    "**Решение:**\n",
    "\n",
    "Обозначим $X^{*} = XP$, при этом очевидно, что размерность матрицы $X^{*}$ совпадает с размерностью матрицы $X$.\n",
    "\n",
    "Соответственно вектор весов линейной регрессии $w^{*}$ по приведенной выше формуле будет равен:\n",
    "\n",
    "$w^{*} = (X^{*T} X^{*})^{-1} X^{*T} y = ((XP)^T XP)^{-1} (XP)^T y = (P^T X^T X P)^{-1} P^T X^T y = $\n",
    "\n",
    "$= (P^{-1} (P^T X^T X)^{-1} P^T X^T y = P^{-1} (X^T X)^{-1} (P^T)^{-1} P^T X^T y = P^{-1} (X^T X)^{-1} E X^T y = $\n",
    "\n",
    "$= P^{-1} (X^T X)^{-1} X^T y = P^{-1} w$\n",
    "\n",
    "Итого получено соотношение:\n",
    "\n",
    "$w^{*} = P^{-1} w$\n",
    "\n",
    "Соответственно вектор предсказаний целевого признака будет равен:\n",
    "\n",
    "$y_{pred}^{*} = X^{*} w^{*} = X P P^{-1} w = X E w = Xw = y_{pred}$\n"
   ]
  },
  {
   "cell_type": "markdown",
   "metadata": {},
   "source": [
    "**Ответ:**\n",
    "\n",
    "При умножении матрицы признаков $X$ на обратимую матрицу $P$ качество линейной регрессии не изменяется. В этом случае вектор весов линейной регрессии $w^{*} = P^{-1} w$."
   ]
  },
  {
   "cell_type": "markdown",
   "metadata": {},
   "source": [
    "### Алгоритм преобразования матрицы признаков"
   ]
  },
  {
   "cell_type": "markdown",
   "metadata": {},
   "source": [
    "Отметим, что полученный выше результат справедлив для любой размерности признакового пространства. \n",
    "\n",
    "Рассмотрим частный случай - наша матрица исходных признаков с числом столбцов равным 5 (первый столбец - вектор единиц, далее - 4 обучающих признака: Пол, Возраст, Зарплата, Количество членов семьи)\n",
    "\n",
    "В соответствии с полученным выше свойством достаточно найти обратимую матрицу P размерности 5*5:\n",
    "\n",
    "$P_{5*5}: \\exists P_{5*5}^{-1}$"
   ]
  },
  {
   "cell_type": "markdown",
   "metadata": {},
   "source": [
    "Учитывая то, что критерием обратимости квадратной матрицы является ее невырожденность (определитель матрицы должен быть больше 0), для решения задачи преобразования исходных данных без потери качества линейной регрессии достаточно взять произвольную матрицу с отличным от нуля определителем. \n",
    "\n",
    "В качестве примеров таких матриц могут служить, в частности, любая верхне- или нижнетреугольная матрица, у которых элементы главной диагонали отличны от 0. Возьмем, например, нижнетреугольную матрицу Паскаля."
   ]
  },
  {
   "cell_type": "code",
   "execution_count": null,
   "metadata": {},
   "outputs": [],
   "source": [
    "p_matrix = pascal(5, kind='lower', exact=True)"
   ]
  },
  {
   "cell_type": "code",
   "execution_count": null,
   "metadata": {},
   "outputs": [],
   "source": [
    "p_matrix"
   ]
  },
  {
   "cell_type": "code",
   "execution_count": null,
   "metadata": {},
   "outputs": [],
   "source": [
    "np.linalg.inv(p_matrix)"
   ]
  },
  {
   "cell_type": "markdown",
   "metadata": {},
   "source": [
    "Матрица P получена, обратная к ней существует. В соответствии с полученным выше свойством вектор весов линейной регрессии будет $w^{*} = P^{-1} w$."
   ]
  },
  {
   "cell_type": "markdown",
   "metadata": {},
   "source": [
    "## Проверка алгоритма"
   ]
  },
  {
   "cell_type": "markdown",
   "metadata": {},
   "source": [
    "Проведем проверку невлияния нашего преобразования на качество линейной регрессии. \n",
    "\n",
    "роведем обучение модели линейной регрессии на исходных и преобразованных предложенным выше способом данных. Обучение модели будем проводить с помощью библиотеки sklearn, неизменность качества - с помощью метрики R2. "
   ]
  },
  {
   "cell_type": "markdown",
   "metadata": {},
   "source": [
    "### Обучение на исходных данных"
   ]
  },
  {
   "cell_type": "markdown",
   "metadata": {},
   "source": [
    "Определим дополнительный атрибут возрастной категории для стратифицированного разделения исходных данных."
   ]
  },
  {
   "cell_type": "code",
   "execution_count": null,
   "metadata": {},
   "outputs": [],
   "source": [
    "df_data['age_category'] = df_data['age'] < 42"
   ]
  },
  {
   "cell_type": "code",
   "execution_count": null,
   "metadata": {},
   "outputs": [],
   "source": [
    "df_train, df_test = train_test_split(\n",
    "        df_data, test_size=0.2, random_state=random_magic, stratify=df_data['age_category']\n",
    "    )"
   ]
  },
  {
   "cell_type": "markdown",
   "metadata": {},
   "source": [
    "Сформируем наборы обучающих и целевых признаков для обучающей и тестовой выборок. "
   ]
  },
  {
   "cell_type": "code",
   "execution_count": null,
   "metadata": {},
   "outputs": [],
   "source": [
    "df_train_X = df_train[features] \n",
    "df_train_Y = df_train[target]\n",
    "df_test_X = df_test[features] \n",
    "df_test_Y = df_test[target] "
   ]
  },
  {
   "cell_type": "markdown",
   "metadata": {},
   "source": [
    "Обучим модель и получим значение метрики R2."
   ]
  },
  {
   "cell_type": "code",
   "execution_count": null,
   "metadata": {},
   "outputs": [],
   "source": [
    "model = LinearRegression()\n",
    "model.fit(df_train_X, df_train_Y)\n",
    "predictions = model.predict(df_test_X)\n",
    "\n",
    "print(r2_score(df_test_Y, predictions))"
   ]
  },
  {
   "cell_type": "markdown",
   "metadata": {},
   "source": [
    "### Обучение на преобразованных данных"
   ]
  },
  {
   "cell_type": "markdown",
   "metadata": {},
   "source": [
    "Теперь выполним расмотренное выше преобразование исходных признаков путем умножения на обратимую матрицу.\n",
    "\n",
    "Поскольку обучение модели будем проводить с помощью модели библиотеки sklearn, то добавление столбца единиц к матрице обучающих признаков выполнять не будем, соответственно для преобразования нам понадобится матрица размерности 4x4.\n",
    "\n",
    "Возьмем для примера нижнетреугольную матрицу Паскаля."
   ]
  },
  {
   "cell_type": "code",
   "execution_count": null,
   "metadata": {},
   "outputs": [],
   "source": [
    "p_matrix = pascal(4, kind='lower', exact=True)"
   ]
  },
  {
   "cell_type": "markdown",
   "metadata": {},
   "source": [
    "Выполним преобразование обучающих признаков обучающей и тестовой выборок."
   ]
  },
  {
   "cell_type": "code",
   "execution_count": null,
   "metadata": {},
   "outputs": [],
   "source": [
    "df_train_X_p = df_train[features] @ p_matrix\n",
    "df_test_X_p = df_test[features] @ p_matrix"
   ]
  },
  {
   "cell_type": "markdown",
   "metadata": {},
   "source": [
    "Обучим модель и получим значение метрики R2."
   ]
  },
  {
   "cell_type": "code",
   "execution_count": null,
   "metadata": {},
   "outputs": [],
   "source": [
    "model = LinearRegression()\n",
    "model.fit(df_train_X_p, df_train_Y)\n",
    "predictions = model.predict(df_test_X_p)\n",
    "print(r2_score(df_test_Y, predictions))"
   ]
  },
  {
   "cell_type": "markdown",
   "metadata": {},
   "source": [
    "В качестве другого примера возьмем случайную матрицу, проверим ее обратимость."
   ]
  },
  {
   "cell_type": "code",
   "execution_count": null,
   "metadata": {},
   "outputs": [],
   "source": [
    "np.random.seed(random_magic)"
   ]
  },
  {
   "cell_type": "code",
   "execution_count": null,
   "metadata": {},
   "outputs": [],
   "source": [
    "random_matrix = np.random.random((4,4))\n",
    "random_matrix"
   ]
  },
  {
   "cell_type": "code",
   "execution_count": null,
   "metadata": {},
   "outputs": [],
   "source": [
    "matrix_inv = np.linalg.inv(p_matrix)\n",
    "matrix_inv"
   ]
  },
  {
   "cell_type": "markdown",
   "metadata": {},
   "source": [
    "Аналогичным образом обучим модель и проверим значение метрики R2."
   ]
  },
  {
   "cell_type": "code",
   "execution_count": null,
   "metadata": {},
   "outputs": [],
   "source": [
    "df_train_X_p = df_train[features] @ matrix_inv\n",
    "df_test_X_p = df_test[features] @ matrix_inv"
   ]
  },
  {
   "cell_type": "code",
   "execution_count": null,
   "metadata": {},
   "outputs": [],
   "source": [
    "model = LinearRegression()\n",
    "model.fit(df_train_X_p, df_train_Y)\n",
    "predictions = model.predict(df_test_X_p)\n",
    "print(r2_score(df_test_Y, predictions))"
   ]
  },
  {
   "cell_type": "markdown",
   "metadata": {},
   "source": [
    "Полученные значения метрик R2 для всех трех рассмотренных случаев совпадает, что говорит о невлиянии на качество линейной регрессии умножения матрицы обучающих признаков на обратимую матрицу."
   ]
  },
  {
   "cell_type": "markdown",
   "metadata": {},
   "source": [
    "### Реализация линейной регрессии"
   ]
  },
  {
   "cell_type": "markdown",
   "metadata": {},
   "source": [
    "Реализуем модель линейной регрессии в виде отдельного класса, в котором рассмотренное матричное преобразование будет встроено внутри модели."
   ]
  },
  {
   "cell_type": "code",
   "execution_count": null,
   "metadata": {},
   "outputs": [],
   "source": [
    "class LinearRegressionPascal:\n",
    "    def fit(self, train_features, train_target):\n",
    "        X = np.concatenate((np.ones((train_features.shape[0], 1)), train_features), axis=1)\n",
    "        \n",
    "        self.p_matrix = pascal(train_features.shape[1] + 1, kind='lower', exact=True)\n",
    "        X = X @ self.p_matrix\n",
    "        \n",
    "        y = train_target\n",
    "        w_matrix = (np.linalg.inv(X.T @ X) @ X.T) @ y\n",
    "\n",
    "        self.w = w_matrix\n",
    "\n",
    "    def predict(self, test_features):\n",
    "        X = np.concatenate((np.ones((test_features.shape[0], 1)), test_features), axis=1)\n",
    "        \n",
    "        return (X @ self.p_matrix) @ self.w"
   ]
  },
  {
   "cell_type": "code",
   "execution_count": null,
   "metadata": {},
   "outputs": [],
   "source": [
    "model = LinearRegressionPascal()\n",
    "model.fit(df_train_X, df_train_Y.values)\n",
    "predictions = model.predict(df_test_X)\n",
    "\n",
    "print(r2_score(df_test_Y, predictions))"
   ]
  },
  {
   "cell_type": "markdown",
   "metadata": {},
   "source": [
    "В этом случае значения метрики R2 также ожидаемо совпадает с полученными выше значениями."
   ]
  },
  {
   "cell_type": "markdown",
   "metadata": {},
   "source": [
    "## Выводы\n",
    "\n",
    "В рамках исследования изучены предоставленные исходные данные о клиентах страховой компании «Хоть потоп», определены обучающие и целевые признаки:\n",
    "- Обучающие признаки:\n",
    "  - пол\n",
    "  - возраст \n",
    "  - зарплата застрахованного клиента\n",
    "  - количество членов его семьи\n",
    "- Целевой признак:\n",
    "  - количество страховых выплат клиенту за последние 5 лет (видимо без учета самого клиента)\n",
    "\n",
    "Проведена оценка корреляций между обучающими и целевым признаком, а также распределение значений обучающих признаков. Выявлен наиболее коррелирующий с целевым обучающий признак - возраст. \n",
    "\n",
    "Приведено решение задачи обучения модели линейной регрессии в терминах матричных операций, а также проведено доказательство неизменности качества линейной регрессии при умножении матрицы обучающих признаков на произвольную обратимую матрицу. \n",
    "\n",
    "В рамках исследования на представленных данных рассмотрен частный случай данного преобразования - умножение представленной матрицы обучающих признаков на различные обратимые матрицы - и проведена проверка на практике неизменности метрики R2. \n",
    "\n",
    "Результат проверки ожидаемо подтвердил теоретическое доказательство.\n",
    "\n",
    "Указанное преобразорование матрицы обучающих признаков можно применять на практике при необходимости преобразования исходных данных (например, чтобы по ним было сложно восстановить персональную информацию). В зависимости от задачи преобразования можно варьировать вид используемой обратимой матрицы (например, выбирать вычислительно более простые матрицы, либо приводящие к выполнению конкретного вида преобразования). "
   ]
  },
  {
   "cell_type": "code",
   "execution_count": null,
   "metadata": {},
   "outputs": [],
   "source": []
  }
 ],
 "metadata": {
  "kernelspec": {
   "display_name": "Python 3",
   "language": "python",
   "name": "python3"
  },
  "language_info": {
   "codemirror_mode": {
    "name": "ipython",
    "version": 3
   },
   "file_extension": ".py",
   "mimetype": "text/x-python",
   "name": "python",
   "nbconvert_exporter": "python",
   "pygments_lexer": "ipython3",
   "version": "3.8.8"
  },
  "toc": {
   "base_numbering": 1,
   "nav_menu": {},
   "number_sections": true,
   "sideBar": true,
   "skip_h1_title": true,
   "title_cell": "Содержание",
   "title_sidebar": "Contents",
   "toc_cell": true,
   "toc_position": {
    "height": "calc(100% - 180px)",
    "left": "10px",
    "top": "150px",
    "width": "366.391px"
   },
   "toc_section_display": true,
   "toc_window_display": true
  }
 },
 "nbformat": 4,
 "nbformat_minor": 2
}
