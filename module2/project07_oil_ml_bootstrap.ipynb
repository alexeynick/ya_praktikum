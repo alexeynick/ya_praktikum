{
 "cells": [
  {
   "cell_type": "markdown",
   "metadata": {
    "toc": true
   },
   "source": [
    "<h1>Содержание<span class=\"tocSkip\"></span></h1>\n",
    "<div class=\"toc\"><ul class=\"toc-item\"><li><span><a href=\"#Загрузка-и-подготовка-данных\" data-toc-modified-id=\"Загрузка-и-подготовка-данных-1\"><span class=\"toc-item-num\">1&nbsp;&nbsp;</span>Загрузка и подготовка данных</a></span><ul class=\"toc-item\"><li><span><a href=\"#Загрузка-данных\" data-toc-modified-id=\"Загрузка-данных-1.1\"><span class=\"toc-item-num\">1.1&nbsp;&nbsp;</span>Загрузка данных</a></span></li><li><span><a href=\"#Оценка-распределения-значений-признаков\" data-toc-modified-id=\"Оценка-распределения-значений-признаков-1.2\"><span class=\"toc-item-num\">1.2&nbsp;&nbsp;</span>Оценка распределения значений признаков</a></span><ul class=\"toc-item\"><li><span><a href=\"#Регион-A\" data-toc-modified-id=\"Регион-A-1.2.1\"><span class=\"toc-item-num\">1.2.1&nbsp;&nbsp;</span>Регион A</a></span></li><li><span><a href=\"#Регион-B\" data-toc-modified-id=\"Регион-B-1.2.2\"><span class=\"toc-item-num\">1.2.2&nbsp;&nbsp;</span>Регион B</a></span></li><li><span><a href=\"#Регион-C\" data-toc-modified-id=\"Регион-C-1.2.3\"><span class=\"toc-item-num\">1.2.3&nbsp;&nbsp;</span>Регион C</a></span></li></ul></li><li><span><a href=\"#Проверка-корреляций\" data-toc-modified-id=\"Проверка-корреляций-1.3\"><span class=\"toc-item-num\">1.3&nbsp;&nbsp;</span>Проверка корреляций</a></span><ul class=\"toc-item\"><li><span><a href=\"#Регион-A\" data-toc-modified-id=\"Регион-A-1.3.1\"><span class=\"toc-item-num\">1.3.1&nbsp;&nbsp;</span>Регион A</a></span></li><li><span><a href=\"#Регион-B\" data-toc-modified-id=\"Регион-B-1.3.2\"><span class=\"toc-item-num\">1.3.2&nbsp;&nbsp;</span>Регион B</a></span></li><li><span><a href=\"#Регион-C\" data-toc-modified-id=\"Регион-C-1.3.3\"><span class=\"toc-item-num\">1.3.3&nbsp;&nbsp;</span>Регион C</a></span></li></ul></li><li><span><a href=\"#Выводы\" data-toc-modified-id=\"Выводы-1.4\"><span class=\"toc-item-num\">1.4&nbsp;&nbsp;</span>Выводы</a></span></li></ul></li><li><span><a href=\"#Обучение-и-проверка-модели\" data-toc-modified-id=\"Обучение-и-проверка-модели-2\"><span class=\"toc-item-num\">2&nbsp;&nbsp;</span>Обучение и проверка модели</a></span><ul class=\"toc-item\"><li><span><a href=\"#Разбиение-данных-на-обучающую-и-тестовую-выборки\" data-toc-modified-id=\"Разбиение-данных-на-обучающую-и-тестовую-выборки-2.1\"><span class=\"toc-item-num\">2.1&nbsp;&nbsp;</span>Разбиение данных на обучающую и тестовую выборки</a></span></li><li><span><a href=\"#Обучение-модели\" data-toc-modified-id=\"Обучение-модели-2.2\"><span class=\"toc-item-num\">2.2&nbsp;&nbsp;</span>Обучение модели</a></span><ul class=\"toc-item\"><li><span><a href=\"#Регион-A\" data-toc-modified-id=\"Регион-A-2.2.1\"><span class=\"toc-item-num\">2.2.1&nbsp;&nbsp;</span>Регион A</a></span><ul class=\"toc-item\"><li><span><a href=\"#Обучение-модели-на-исходных-признаках\" data-toc-modified-id=\"Обучение-модели-на-исходных-признаках-2.2.1.1\"><span class=\"toc-item-num\">2.2.1.1&nbsp;&nbsp;</span>Обучение модели на исходных признаках</a></span></li><li><span><a href=\"#Обучение-модели-на-признаках-после-стандартизации\" data-toc-modified-id=\"Обучение-модели-на-признаках-после-стандартизации-2.2.1.2\"><span class=\"toc-item-num\">2.2.1.2&nbsp;&nbsp;</span>Обучение модели на признаках после стандартизации</a></span></li></ul></li><li><span><a href=\"#Регион-B\" data-toc-modified-id=\"Регион-B-2.2.2\"><span class=\"toc-item-num\">2.2.2&nbsp;&nbsp;</span>Регион B</a></span><ul class=\"toc-item\"><li><span><a href=\"#Обучение-модели-на-исходных-признаках\" data-toc-modified-id=\"Обучение-модели-на-исходных-признаках-2.2.2.1\"><span class=\"toc-item-num\">2.2.2.1&nbsp;&nbsp;</span>Обучение модели на исходных признаках</a></span></li><li><span><a href=\"#Обучение-модели-на-признаках-после-стандартизации\" data-toc-modified-id=\"Обучение-модели-на-признаках-после-стандартизации-2.2.2.2\"><span class=\"toc-item-num\">2.2.2.2&nbsp;&nbsp;</span>Обучение модели на признаках после стандартизации</a></span></li></ul></li><li><span><a href=\"#Регион-C\" data-toc-modified-id=\"Регион-C-2.2.3\"><span class=\"toc-item-num\">2.2.3&nbsp;&nbsp;</span>Регион C</a></span><ul class=\"toc-item\"><li><span><a href=\"#Обучение-модели-на-исходных-признаках\" data-toc-modified-id=\"Обучение-модели-на-исходных-признаках-2.2.3.1\"><span class=\"toc-item-num\">2.2.3.1&nbsp;&nbsp;</span>Обучение модели на исходных признаках</a></span></li><li><span><a href=\"#Обучение-модели-на-признаках-после-стандартизации\" data-toc-modified-id=\"Обучение-модели-на-признаках-после-стандартизации-2.2.3.2\"><span class=\"toc-item-num\">2.2.3.2&nbsp;&nbsp;</span>Обучение модели на признаках после стандартизации</a></span></li></ul></li><li><span><a href=\"#Выводы\" data-toc-modified-id=\"Выводы-2.2.4\"><span class=\"toc-item-num\">2.2.4&nbsp;&nbsp;</span>Выводы</a></span></li></ul></li></ul></li><li><span><a href=\"#Расчёт-прибыли-и-рисков\" data-toc-modified-id=\"Расчёт-прибыли-и-рисков-3\"><span class=\"toc-item-num\">3&nbsp;&nbsp;</span>Расчёт прибыли и рисков</a></span><ul class=\"toc-item\"><li><span><a href=\"#Подготовка-к-расчёту-прибыли\" data-toc-modified-id=\"Подготовка-к-расчёту-прибыли-3.1\"><span class=\"toc-item-num\">3.1&nbsp;&nbsp;</span>Подготовка к расчёту прибыли</a></span></li><li><span><a href=\"#Расчет-рисков-и-прибыли-по-регионам\" data-toc-modified-id=\"Расчет-рисков-и-прибыли-по-регионам-3.2\"><span class=\"toc-item-num\">3.2&nbsp;&nbsp;</span>Расчет рисков и прибыли по регионам</a></span></li><li><span><a href=\"#Выводы\" data-toc-modified-id=\"Выводы-3.3\"><span class=\"toc-item-num\">3.3&nbsp;&nbsp;</span>Выводы</a></span></li></ul></li><li><span><a href=\"#Выводы\" data-toc-modified-id=\"Выводы-4\"><span class=\"toc-item-num\">4&nbsp;&nbsp;</span>Выводы</a></span></li></ul></div>"
   ]
  },
  {
   "cell_type": "markdown",
   "metadata": {},
   "source": [
    "# Выбор локации для скважины"
   ]
  },
  {
   "cell_type": "markdown",
   "metadata": {},
   "source": [
    "Исследование проводится в интересах добывающей компании «ГлавРосГосНефть» с целью определения перспективного региона добычи.\n",
    "\n",
    "На исследование предоставлены пробы нефти в трёх регионах: в каждом 10 000 месторождений, где измерили качество нефти и объём её запасов. Основная задача исследования - построение модели машинного обучения, которая поможет определить регион, где добыча принесёт наибольшую прибыль. Анализ возможной прибыли и рисков должен выполняться с применением техники *Bootstrap.*\n",
    "\n",
    "Типовые шаги для выбора локации:\n",
    "\n",
    "- В избранном регионе ищут месторождения, для каждого определяют значения признаков;\n",
    "- Строят модель и оценивают объём запасов;\n",
    "- Выбирают месторождения с самым высокими оценками значений. Количество месторождений зависит от бюджета компании и стоимости разработки одной скважины;\n",
    "- Прибыль равна суммарной прибыли отобранных месторождений.\n",
    "\n",
    "Задачи исследования:\n",
    "- обучение модели линейной регрессии для каждого из регионов\n",
    "- расчёт прибыли и рисков по выбранным скважинам и предсказаниям модели для каждого из регионов\n",
    "- обоснование выбора региона для разработки скважин (целевой порог - вероятность убытков меньше 2.5%)"
   ]
  },
  {
   "cell_type": "markdown",
   "metadata": {},
   "source": [
    "## Загрузка и подготовка данных"
   ]
  },
  {
   "cell_type": "code",
   "execution_count": null,
   "metadata": {},
   "outputs": [],
   "source": [
    "import pandas as pd\n",
    "import numpy as np\n",
    "\n",
    "import plotly.express as px\n",
    "import plotly.figure_factory as ff\n",
    "import seaborn as sns\n",
    "import matplotlib.pyplot as plt \n",
    "from IPython.display import display\n",
    "from termcolor import colored\n",
    "\n",
    "# обучение моделей\n",
    "from sklearn.model_selection import train_test_split\n",
    "from sklearn.utils import shuffle\n",
    "from sklearn.model_selection import GridSearchCV\n",
    "from sklearn.model_selection import cross_val_score\n",
    "\n",
    "from sklearn.linear_model import LinearRegression\n",
    "\n",
    "# метрики\n",
    "from sklearn.metrics import make_scorer\n",
    "from sklearn.metrics import mean_squared_error\n",
    "\n",
    "# pipeline\n",
    "#from sklearn import preprocessing\n",
    "from sklearn.pipeline import Pipeline\n",
    "from sklearn.compose import ColumnTransformer\n",
    "from sklearn.preprocessing import OneHotEncoder, StandardScaler, MinMaxScaler, RobustScaler, OrdinalEncoder\n",
    "from sklearn.preprocessing import PowerTransformer, QuantileTransformer"
   ]
  },
  {
   "cell_type": "code",
   "execution_count": null,
   "metadata": {},
   "outputs": [],
   "source": [
    "random_magic = 1024"
   ]
  },
  {
   "cell_type": "markdown",
   "metadata": {},
   "source": [
    "### Загрузка данных"
   ]
  },
  {
   "cell_type": "markdown",
   "metadata": {},
   "source": [
    "Исходные данные по трем регионам представлены в трех файлах:\n",
    "- geo_data_0.csv\n",
    "- geo_data_1.csv\n",
    "- geo_data_2.csv\n",
    "\n",
    "Для удобства обозначим указанные регионы буквенными кодами A, B и C соответственно."
   ]
  },
  {
   "cell_type": "code",
   "execution_count": null,
   "metadata": {},
   "outputs": [],
   "source": [
    "#Исходные данные проекта:\n",
    "#https://code.s3.yandex.net/datasets/geo_data_0.csv\n",
    "#https://code.s3.yandex.net/datasets/geo_data_1.csv\n",
    "#https://code.s3.yandex.net/datasets/geo_data_2.csv\n",
    "\n",
    "def read_data(df_index):\n",
    "    try:\n",
    "        df_region = pd.read_csv('/datasets/geo_data_{0}.csv'.format(df_index), index_col='id')\n",
    "    except:\n",
    "        df_region = pd.read_csv('datasets/geo_data_{0}.csv'.format(df_index), index_col='id')\n",
    "    \n",
    "    return df_region"
   ]
  },
  {
   "cell_type": "code",
   "execution_count": null,
   "metadata": {},
   "outputs": [],
   "source": [
    "#функция вывода основной информации о таблице региона\n",
    "def print_base_info(df_region):\n",
    "    display(df_region.head(5))\n",
    "    print('\\n')\n",
    "    print(df_region.info())"
   ]
  },
  {
   "cell_type": "code",
   "execution_count": null,
   "metadata": {},
   "outputs": [],
   "source": [
    "df_region_A = read_data(0)\n",
    "print_base_info(df_region_A)"
   ]
  },
  {
   "cell_type": "code",
   "execution_count": null,
   "metadata": {},
   "outputs": [],
   "source": [
    "df_region_B = read_data(1)\n",
    "print_base_info(df_region_B)"
   ]
  },
  {
   "cell_type": "code",
   "execution_count": null,
   "metadata": {},
   "outputs": [],
   "source": [
    "df_region_C = read_data(2)\n",
    "print_base_info(df_region_C)"
   ]
  },
  {
   "cell_type": "markdown",
   "metadata": {},
   "source": [
    "Данные по каждому из регионов представлены в виде таблицы со следующими атрибутами: \n",
    "\n",
    "- id — уникальный идентификатор скважины;\n",
    "- f0, f1, f2 — три признака точек (в описании исходных данных отмечено, что сами признаки значимы, но конкретное значение признаков не приводится);\n",
    "- product — объём запасов в скважине (тыс. баррелей).\n",
    "\n",
    "Целевым признаком является признак `product`.\n",
    "\n",
    "В каждой из таблиц представлено 100 тыс записей, пропусков нет. Все атрибуты - вещественные. Строковый идентификатор скважины используется в качестве индекса таблицы.\n",
    "\n",
    "По условиям исследования в качестве модели обучения рассматривается только линейная регрессия. С целью оценки распределения и корреляции признаков подробнее изучим данные по регионам. "
   ]
  },
  {
   "cell_type": "markdown",
   "metadata": {},
   "source": [
    "### Оценка распределения значений признаков"
   ]
  },
  {
   "cell_type": "code",
   "execution_count": null,
   "metadata": {},
   "outputs": [],
   "source": [
    "# функция отображения сводной информации о числовом признаке:\n",
    "# выводит в текстовом виде основные параметры распределения значений признака и график (гистограмму и \"ящик с усами\")\n",
    "# распределения по категориям:\n",
    "# действующие и ушедшие клиенты\n",
    "def describe_column_numeric(column, df):\n",
    "    print('Признак', column, ':')\n",
    "\n",
    "    print(df[column].describe())\n",
    "    \n",
    "    fig = px.histogram(\n",
    "        df, \n",
    "        x = column, \n",
    "        marginal = 'box', \n",
    "        opacity = 0.7,\n",
    "        title = 'Распределение значений признака {0}'.format(column)\n",
    "    )\n",
    "\n",
    "    fig.update_layout(xaxis_title='Значения признака {0}'.format(column), yaxis_title='Частота встречаемости')\n",
    "    fig.show() "
   ]
  },
  {
   "cell_type": "code",
   "execution_count": null,
   "metadata": {},
   "outputs": [],
   "source": [
    "# функция отображения сводной информации о категориальном признаке:\n",
    "# выводит в текстовом виде униклаьные значения признака и график (гистограмму) распределения по категориям:\n",
    "# действующие и ушедшие клиенты\n",
    "def describe_column_category(column, df, plot=False):\n",
    "    print('Признак', column, ':\\n')\n",
    "    print('Уникальные значения (процент):')\n",
    "    print(df[column].value_counts(normalize=True).mul(100).round(1).astype(str) + '%')\n",
    "        \n",
    "    if (plot):    \n",
    "        fig = px.histogram(\n",
    "            df, \n",
    "            x = column,  \n",
    "            opacity = 0.7,\n",
    "            title = 'Распределение значений признака {0}'.format(column)\n",
    "        )\n",
    "\n",
    "        fig.update_layout(xaxis_title='Значения признака {0}'.format(column), yaxis_title='Частота встречаемости')\n",
    "        fig.show() "
   ]
  },
  {
   "cell_type": "markdown",
   "metadata": {},
   "source": [
    "#### Регион A"
   ]
  },
  {
   "cell_type": "code",
   "execution_count": null,
   "metadata": {},
   "outputs": [],
   "source": [
    "describe_column_numeric('f0', df_region_A)"
   ]
  },
  {
   "cell_type": "code",
   "execution_count": null,
   "metadata": {
    "scrolled": false
   },
   "outputs": [],
   "source": [
    "describe_column_numeric('f1', df_region_A)"
   ]
  },
  {
   "cell_type": "code",
   "execution_count": null,
   "metadata": {},
   "outputs": [],
   "source": [
    "describe_column_numeric('f2', df_region_A)"
   ]
  },
  {
   "cell_type": "markdown",
   "metadata": {},
   "source": [
    "По региону A в отношении распределения признаков f0, f1, f2 отмечаем следующее:\n",
    "- значения признака f2 распределены нормально, в диапазоне (-12, 16) со средним в районе 2.5\n",
    "- распределение значений признаков f0 и f1 не является нормальным, практически является симметричным относительно медианного значения. f0 лежит в диапазоне (-1.4, 2.4), f1 - (-0.8, 1.3)"
   ]
  },
  {
   "cell_type": "markdown",
   "metadata": {},
   "source": [
    "#### Регион B"
   ]
  },
  {
   "cell_type": "code",
   "execution_count": null,
   "metadata": {},
   "outputs": [],
   "source": [
    "describe_column_numeric('f0', df_region_B)"
   ]
  },
  {
   "cell_type": "code",
   "execution_count": null,
   "metadata": {},
   "outputs": [],
   "source": [
    "describe_column_numeric('f1', df_region_B)"
   ]
  },
  {
   "cell_type": "code",
   "execution_count": null,
   "metadata": {},
   "outputs": [],
   "source": [
    "describe_column_numeric('f2', df_region_B)"
   ]
  },
  {
   "cell_type": "markdown",
   "metadata": {},
   "source": [
    "По региону B в отношении распределения признаков f0, f1, f2 отмечаем следующее:\n",
    "- значения признака f1 распределены нормально, в диапазоне (-26, 19) со средним в районе -4.8\n",
    "- распределение значений признака f0 не является нормальным, практически является симметричным относительно медианного значения 1.5, заданы в диапазоне (-32, 30)\n",
    "- все значения признака f2 лежат в пределах 0.05 от целых значений: 0, 1, 2, 3, 4, 5. Целесообразно рассмотреть возможность приведения указанного признака к целочисленному (фактически категориальному)"
   ]
  },
  {
   "cell_type": "code",
   "execution_count": null,
   "metadata": {},
   "outputs": [],
   "source": [
    "df_region_B['f3'] = df_region_B['f2'].round().astype(int)\n",
    "\n",
    "describe_column_category('f3', df_region_B)"
   ]
  },
  {
   "cell_type": "markdown",
   "metadata": {},
   "source": [
    "В рамках последующего обучения модели линейной регрессии возможность применения производного признака f3 будет рассмотрена подробно."
   ]
  },
  {
   "cell_type": "markdown",
   "metadata": {},
   "source": [
    "#### Регион C"
   ]
  },
  {
   "cell_type": "code",
   "execution_count": null,
   "metadata": {},
   "outputs": [],
   "source": [
    "describe_column_numeric('f0', df_region_C)"
   ]
  },
  {
   "cell_type": "code",
   "execution_count": null,
   "metadata": {},
   "outputs": [],
   "source": [
    "describe_column_numeric('f1', df_region_C)"
   ]
  },
  {
   "cell_type": "code",
   "execution_count": null,
   "metadata": {},
   "outputs": [],
   "source": [
    "describe_column_numeric('f2', df_region_C)"
   ]
  },
  {
   "cell_type": "markdown",
   "metadata": {},
   "source": [
    "По региону C в отношении распределения признаков f0, f1, f2 отмечаем следующее:\n",
    "- значения всех признаков распределены нормально, каждый в своем диапазоне: (-9, 7), (-7, 8), (-12, 17) соответственно"
   ]
  },
  {
   "cell_type": "markdown",
   "metadata": {},
   "source": [
    "В целом следует отметить, что распределения признаков по регионам существенно отличаются (характер распределения, область определения значений). Учитывая отсутствие дополнительной информации о значениях признаков, каждый набор признаков следует рассматривать исключительно в рамках региона (без наличия возможных связей с другими регионами). Соответственно, модели обучения также будут рассматриваться независимо, отдельно для каждого региона."
   ]
  },
  {
   "cell_type": "markdown",
   "metadata": {},
   "source": [
    "### Проверка корреляций"
   ]
  },
  {
   "cell_type": "markdown",
   "metadata": {},
   "source": [
    "Проведем оценку корреляций между обучающими и целевым признаком (`product`), а также оценим наличие возможной мультиколлинеарности между обучающими признаками."
   ]
  },
  {
   "cell_type": "code",
   "execution_count": null,
   "metadata": {},
   "outputs": [],
   "source": [
    "# функция печати диагональной тепловой карты со значениями коэффициентов корреляции\n",
    "# df_corr - dataframe с коэффициентами корреляции\n",
    "def print_corr_heatmap(df_corr):\n",
    "    df_corr = np.abs(df_corr).replace(1,0)\n",
    "\n",
    "    mask = np.zeros_like(df_corr, dtype=bool)\n",
    "    mask[np.triu_indices_from(mask)] = True\n",
    "\n",
    "    plt.figure(figsize=(18, 7))\n",
    "\n",
    "    sns.heatmap(df_corr, mask=mask, annot=True, fmt=\".5f\", linewidths=.1, cmap= 'coolwarm')\n",
    "    plt.title('Матрица модулей коэффициентов корреляции', fontsize=15)\n",
    "    plt.ylabel('Признак', fontsize=15)\n",
    "    plt.xlabel('Признак', fontsize=15)"
   ]
  },
  {
   "cell_type": "code",
   "execution_count": null,
   "metadata": {},
   "outputs": [],
   "source": [
    "# функция печати таблицы коэффициентов корреляции и тепловой карты с модулями коэффициентов\n",
    "# df_corr - dataframe с коэффициентами корреляции\n",
    "def print_corr_data(df_region, corr_matrix=True):\n",
    "    print('{0}  Таблица корреляции  {0}'.format('+' * 50))\n",
    "    df_corr = df_region.corr()\n",
    "    display(df_corr)\n",
    "    print_corr_heatmap(df_corr)\n",
    "    if corr_matrix:\n",
    "        #print('{0}  Таблица корреляции  {0}'.format('+' * 50))\n",
    "        pd.plotting.scatter_matrix(\n",
    "            df_region, \n",
    "            figsize=(12, 12)\n",
    "        )"
   ]
  },
  {
   "cell_type": "markdown",
   "metadata": {},
   "source": [
    "#### Регион A"
   ]
  },
  {
   "cell_type": "code",
   "execution_count": null,
   "metadata": {},
   "outputs": [],
   "source": [
    "print_corr_data(df_region_A)"
   ]
  },
  {
   "cell_type": "markdown",
   "metadata": {},
   "source": [
    "Наибольший коэффициент корреляции у целевого признака и признака f2. На графике видно наличие некоторой линейной зависимости между ними.\n",
    "Вероятнее всего в модели линейной регрессии признак f2 будет иметь наибольшее значение.\n",
    "\n",
    "Мультиколлинеарных признаков нет."
   ]
  },
  {
   "cell_type": "markdown",
   "metadata": {},
   "source": [
    "#### Регион B"
   ]
  },
  {
   "cell_type": "code",
   "execution_count": null,
   "metadata": {},
   "outputs": [],
   "source": [
    "print_corr_data(df_region_B)"
   ]
  },
  {
   "cell_type": "markdown",
   "metadata": {},
   "source": [
    "Наибольший коэффициент корреляции у целевого признака с признаком f2 и производным от него признаком f3. Коэффициент корреляции - 0.999. Поскольку дополнительных сведений о природе значений, содержащихся в указанном признаке, нет - провести оценку наличия утечки между обучающим и целевым признаком не представляется возможным. Будем считать, что утечки данных нет.\n",
    "\n",
    "В модели линейной регрессии невозможно применение одновременно признаков f2 и f3 ввиду их высокой корреляции. В процессе обучения модели рассмотрим два варианта наборов обучающих признаков: f0, f1, f2 и f0, f1, f3"
   ]
  },
  {
   "cell_type": "markdown",
   "metadata": {},
   "source": [
    "#### Регион C"
   ]
  },
  {
   "cell_type": "code",
   "execution_count": null,
   "metadata": {},
   "outputs": [],
   "source": [
    "print_corr_data(df_region_C)"
   ]
  },
  {
   "cell_type": "markdown",
   "metadata": {},
   "source": [
    "Наибольший коэффициент корреляции у целевого признака и признака f2. На графике видно наличие некоторой линейной зависимости между ними.\n",
    "Вероятнее всего в модели линейной регрессии признак f2 будет иметь наибольшее значение.\n",
    "\n",
    "Мультиколлинеарных признаков нет."
   ]
  },
  {
   "cell_type": "markdown",
   "metadata": {},
   "source": [
    "### Выводы"
   ]
  },
  {
   "cell_type": "markdown",
   "metadata": {},
   "source": [
    "В рамках предварительной обработки и оценки исходных данных выполнены следующие шаги:\n",
    "- выполнена загрузка данных и проверка их соответствия предоставленному метаописанию\n",
    "- определены обучающие и целевой признак\n",
    "- установлено, что пропуски в предоставленных данных отсутствуют, приведения типов не требуется\n",
    "- проведена оценка распределения значений обучающих атрибутов, в рамках которой установлено:\n",
    "  - распределения признаков по регионам существенно отличаются (характер распределения, область определения значений)\n",
    "  - каждый набор признаков следует рассматривать исключительно в рамках региона (без наличия возможных связей с другими регионами) -  в том числе ввиду отсутствия дополнительной подробной информации о значениях обучающих признаков  \n",
    "- проведена оценка корреляций признаков, по результатам которой определено:\n",
    "  - мультиколлинеарные признаки в исходных данных отсутствуют\n",
    "  - в регионе B высокое значения коэффициента корреляции между целевым признаком и одним из обучающих. Опять-таки ввиду отсутствия дополнительной информации о природе значений обучающих признаков принято решение не считать высокую корреляцию источником возможной утечки данных.\n",
    "  \n",
    "Данные в целом изучены и подготовлены к этапу обучения моделей. \n",
    "\n",
    "Модели обучения также будут рассматриваться независимо, отдельно для каждого региона.\n",
    "\n",
    "Вместе с тем, учитывая особенности распределения значений обучающих атрибутов (различия в типах и области определения), на этапе обучения моделей целесообразно рассмотреть способы стандартизации обучающих признаков."
   ]
  },
  {
   "cell_type": "markdown",
   "metadata": {},
   "source": [
    "## Обучение и проверка модели"
   ]
  },
  {
   "cell_type": "markdown",
   "metadata": {},
   "source": [
    "### Разбиение данных на обучающую и тестовую выборки "
   ]
  },
  {
   "cell_type": "markdown",
   "metadata": {},
   "source": [
    "Определим обучающие и целевой признаки"
   ]
  },
  {
   "cell_type": "code",
   "execution_count": null,
   "metadata": {},
   "outputs": [],
   "source": [
    "features = ['f0', 'f1', 'f2']\n",
    "target = ['product']"
   ]
  },
  {
   "cell_type": "code",
   "execution_count": null,
   "metadata": {},
   "outputs": [],
   "source": [
    "# функция разбиения данных на 2 выборки в пропорции 3:1\n",
    "# df_source - dataframe с исходными данными\n",
    "\n",
    "def split_data(df_source, test_size=0.25):\n",
    "    df_train, df_test = train_test_split(\n",
    "        df_source, test_size=test_size, random_state=random_magic\n",
    "    )\n",
    "\n",
    "    return df_train, df_test"
   ]
  },
  {
   "cell_type": "code",
   "execution_count": null,
   "metadata": {},
   "outputs": [],
   "source": [
    "# функция формирования совокупности наборов данных: обучающие и целевые признаки обучающего и тестового \n",
    "# наборов данных\n",
    "# features - перечень обучающих признаков\n",
    "# target - перечень целевых признаков\n",
    "# df_train - обучающий набор данных\n",
    "# df_test - тестовый набор данных\n",
    "def get_train_test_X_Y(features, target, df_train, df_test):\n",
    "    return df_train[features], df_train[target].values.ravel(), df_test[features], df_test[target]"
   ]
  },
  {
   "cell_type": "code",
   "execution_count": null,
   "metadata": {},
   "outputs": [],
   "source": [
    "# функция формирования трейн/тест выборок для региона\n",
    "def get_default_train_test(df_region_A):\n",
    "    df_train, df_test = split_data(df_region_A)\n",
    "\n",
    "    return get_train_test_X_Y(features, target, df_train, df_test)"
   ]
  },
  {
   "cell_type": "markdown",
   "metadata": {},
   "source": [
    "### Обучение модели"
   ]
  },
  {
   "cell_type": "markdown",
   "metadata": {},
   "source": [
    "Определим функции, необходимые в процессе обучения и расчета метрик моделей."
   ]
  },
  {
   "cell_type": "code",
   "execution_count": null,
   "metadata": {},
   "outputs": [],
   "source": [
    "# функция расчета метрики RMSE\n",
    "\n",
    "def rmse(Y_true, Y_predicted):\n",
    "    return mean_squared_error(Y_true, Y_predicted) ** 0.5\n",
    "    \n",
    "# в версии 0.24.1:    \n",
    "#    return mean_squared_error(Y_true, Y_predicted, squared=False)"
   ]
  },
  {
   "cell_type": "code",
   "execution_count": null,
   "metadata": {},
   "outputs": [],
   "source": [
    "# функция преобразования передаваемого dataframe с обучающими признаками\n",
    "# pipeline - pipeline преобразования (предобработки) обучающих признаков \n",
    "# выходной параметр - dataframe с преобразованным набором обучающих признаков \n",
    "# (фактически - исходные данные для последующего обучения модели)\n",
    "def get_transformed_data(pipeline, X_train):\n",
    "    X_transformed = pipeline.fit_transform(X_train)\n",
    "    X_transformed = pd.DataFrame(X_transformed, index=X_train.index)\n",
    "    X_transformed = X_transformed.add_prefix('Xt_')\n",
    "    \n",
    "    return X_transformed"
   ]
  },
  {
   "cell_type": "code",
   "execution_count": null,
   "metadata": {},
   "outputs": [],
   "source": [
    "# функция вывода общей информации о преобразованном наборе данных\n",
    "def transorm_train_data(pipeline, X_train):\n",
    "    X_transformed = get_transformed_data(pipeline, X_train)\n",
    "\n",
    "    display(X_transformed.head(5))\n",
    "    \n",
    "    for i in range(0, len(X_transformed.columns)):\n",
    "        print('\\n')\n",
    "        describe_column_numeric('Xt_{0}'.format(i), X_transformed)"
   ]
  },
  {
   "cell_type": "code",
   "execution_count": null,
   "metadata": {},
   "outputs": [],
   "source": [
    "# функция печати сводной информации о параметрах модели\n",
    "def print_scores(grid_search, params):\n",
    "    print ('Наилучшее значение метрики RMSE: %0.3f' % grid_search.best_score_)\n",
    "    print ('Наилучшие параметры:')\n",
    "    best_parameters = grid_search.best_estimator_.get_params()\n",
    "    \n",
    "    for param_name in sorted(params.keys()):\n",
    "        print ('\\t%s: %r' % (param_name, best_parameters[param_name]))"
   ]
  },
  {
   "cell_type": "code",
   "execution_count": null,
   "metadata": {},
   "outputs": [],
   "source": [
    "# функция печати сводной информации о параметрах модели\n",
    "def print_model_metric(Y_true, Y_predicted):\n",
    "    print('Средний запас предсказанного сырья:', Y_predicted.mean())\n",
    "    print('RMSE:', rmse(Y_true, Y_predicted))      "
   ]
  },
  {
   "cell_type": "code",
   "execution_count": null,
   "metadata": {},
   "outputs": [],
   "source": [
    "# функция печати графика относительной значимости обучающих признаков в полученной модели\n",
    "def print_feature_importance(arr_importance, column_names):\n",
    "    arr_importance = np.abs(arr_importance)\n",
    "    rel_feature_imp = 100 * (arr_importance / max(arr_importance))\n",
    "    \n",
    "    rel_feature_df = pd.DataFrame(\n",
    "        {\n",
    "            'features' : list(column_names),\n",
    "            'rel_importance' : rel_feature_imp\n",
    "        }\n",
    "    )\n",
    "\n",
    "    rel_feature_df = rel_feature_df.sort_values('rel_importance', ascending=False)\n",
    "    \n",
    "    plt.figure(figsize=(20, 6))\n",
    "    plt.yticks(fontsize=15)\n",
    "\n",
    "    ax = sns.barplot(\n",
    "        x = 'rel_importance', \n",
    "        y = 'features',\n",
    "        data = rel_feature_df,\n",
    "        palette = 'Accent_r'\n",
    "    )\n",
    "\n",
    "    plt.xlabel('Относительная значимость', fontsize=25)\n",
    "    plt.ylabel('Признаки', fontsize=25)\n",
    "    plt.show()"
   ]
  },
  {
   "cell_type": "code",
   "execution_count": null,
   "metadata": {},
   "outputs": [],
   "source": [
    "# мера, используемая при кросс-валидации - RMSE\n",
    "scoring = make_scorer(rmse, greater_is_better=False)\n",
    "\n",
    "# рассматриваемая модель - линейная регрессия (по условиям)\n",
    "model = LinearRegression()"
   ]
  },
  {
   "cell_type": "markdown",
   "metadata": {},
   "source": [
    "Последовательно проведем обучение моделей для каждого из регионов.\n",
    "\n",
    "В качестве baseline будем проводить обучение линейной регрессии на базовом наборе признаков (без стандартизации). \n",
    "\n",
    "Дополнительно проведем обучение на стандартизированном (способ стандартизации свой для каждого региона - в зависимости от фактических распределений значений признаков) наборе данных и сравним полученные значения метрики RMSE. При равенстве метрик будем выбирать модель со стандартизированными признаками (для потенциального дальнейшего использования, в т.ч. в моделях требующих стандартизированных признаков)."
   ]
  },
  {
   "cell_type": "markdown",
   "metadata": {},
   "source": [
    "#### Регион A"
   ]
  },
  {
   "cell_type": "markdown",
   "metadata": {},
   "source": [
    "Сформируем трейн и тест наборы данных с обучающими и целевыми признаками"
   ]
  },
  {
   "cell_type": "code",
   "execution_count": null,
   "metadata": {},
   "outputs": [],
   "source": [
    "X_train, Y_train, X_test, Y_test = get_default_train_test(df_region_A)"
   ]
  },
  {
   "cell_type": "markdown",
   "metadata": {},
   "source": [
    "##### Обучение модели на исходных признаках"
   ]
  },
  {
   "cell_type": "markdown",
   "metadata": {},
   "source": [
    "Выполним обучение модели на базовом наборе признаков"
   ]
  },
  {
   "cell_type": "code",
   "execution_count": null,
   "metadata": {},
   "outputs": [],
   "source": [
    "model.fit(X_train, Y_train) # обучение модели на трейне\n",
    "predictions = model.predict(X_test) # предсказания модели на тестовой выборке\n",
    "\n",
    "print_model_metric(Y_test, predictions) "
   ]
  },
  {
   "cell_type": "code",
   "execution_count": null,
   "metadata": {},
   "outputs": [],
   "source": [
    "print_feature_importance(model.coef_, features)"
   ]
  },
  {
   "cell_type": "markdown",
   "metadata": {},
   "source": [
    "На исходных признаках наиболее значимым признаком оказался f1 (поскольку признаки не стандартизированы, коэффициент признака f1 в линейной регрессии видимо оказался наивысшим). Вместе с тем, наибольшая корреляция у целевого признака была с признаком f2. Проведем обучение модели на стандартизированных признаках и оценим полученную относительную значимость обучающих признаков после этого."
   ]
  },
  {
   "cell_type": "markdown",
   "metadata": {},
   "source": [
    "##### Обучение модели на признаках после стандартизации"
   ]
  },
  {
   "cell_type": "markdown",
   "metadata": {},
   "source": [
    "Приведем стандартизацию признаков:\n",
    "- к признакам f0 и f1 применим QuantileTransformer для приведения к нормальному распределению\n",
    "- далее применим RobustScaler для отсечения \"выбросов\" (параметры отсечения будем перебирать с помощью GridSearchCV)\n",
    "- затем применим StandardScaler для приведения полученных нормальных распределений к одному масштабу (области определения)"
   ]
  },
  {
   "cell_type": "code",
   "execution_count": null,
   "metadata": {},
   "outputs": [],
   "source": [
    "transform_steps = [\n",
    "    (\n",
    "        'qtl', ColumnTransformer(\n",
    "            remainder='passthrough',\n",
    "            transformers=[ \n",
    "                ('qtl', QuantileTransformer(copy=False, output_distribution='normal'), ['f0', 'f1']), \n",
    "            ])\n",
    "    ),\n",
    "    ('rob', RobustScaler(copy=False)),\n",
    "    ('std', StandardScaler(copy=False, with_mean=True, with_std=True)),\n",
    "]"
   ]
  },
  {
   "cell_type": "code",
   "execution_count": null,
   "metadata": {
    "scrolled": false
   },
   "outputs": [],
   "source": [
    "transorm_train_data(Pipeline(transform_steps), X_train)"
   ]
  },
  {
   "cell_type": "markdown",
   "metadata": {},
   "source": [
    "Визуально проверяем, что после преобразований все признаки стандартизированы - приведены к нормально распределению, определенному в диапазоне (-4, 4) со средним 0."
   ]
  },
  {
   "cell_type": "markdown",
   "metadata": {},
   "source": [
    "В качестве параметров перебора GridSearchCV используем границы отсечения RobustScaler"
   ]
  },
  {
   "cell_type": "code",
   "execution_count": null,
   "metadata": {},
   "outputs": [],
   "source": [
    "params = {\n",
    "    'rob__quantile_range':[(25.0,75.0),(10.0,90.0),(1.0,99.0),(0,100)],\n",
    "}\n",
    "\n",
    "grid_search = GridSearchCV(\n",
    "        Pipeline(transform_steps + [('model', model)]), \n",
    "        param_grid=params, \n",
    "        cv=10, \n",
    "        scoring=scoring,\n",
    "    ) "
   ]
  },
  {
   "cell_type": "code",
   "execution_count": null,
   "metadata": {},
   "outputs": [],
   "source": [
    "grid_search.fit(X_train, Y_train)\n",
    "\n",
    "print_scores(grid_search, params)"
   ]
  },
  {
   "cell_type": "code",
   "execution_count": null,
   "metadata": {},
   "outputs": [],
   "source": [
    "predictions_A = grid_search.predict(X_test)\n",
    "target_A = Y_test.copy()\n",
    "\n",
    "print_model_metric(target_A, predictions_A)  "
   ]
  },
  {
   "cell_type": "markdown",
   "metadata": {},
   "source": [
    "Значения метрик RMSE рассмотренных моделей практически совпадают. Вместе с тем модель, обученная на стандартизованных признаках, является более удобной с точки зрения возможного последующего использования."
   ]
  },
  {
   "cell_type": "code",
   "execution_count": null,
   "metadata": {},
   "outputs": [],
   "source": [
    "print_feature_importance(grid_search.best_estimator_.get_params()['model'].coef_, features)"
   ]
  },
  {
   "cell_type": "markdown",
   "metadata": {},
   "source": [
    "Наиболее значимым признаком оказался f2, что в целом ожидаемо, учитывая что наибольший коэффициент корреляции у целевого признака именно с f2."
   ]
  },
  {
   "cell_type": "markdown",
   "metadata": {},
   "source": [
    "#### Регион B"
   ]
  },
  {
   "cell_type": "code",
   "execution_count": null,
   "metadata": {},
   "outputs": [],
   "source": [
    "X_train, Y_train, X_test, Y_test = get_default_train_test(df_region_B)"
   ]
  },
  {
   "cell_type": "markdown",
   "metadata": {},
   "source": [
    "##### Обучение модели на исходных признаках"
   ]
  },
  {
   "cell_type": "markdown",
   "metadata": {},
   "source": [
    "Выполним обучение модели на базовом наборе признаков"
   ]
  },
  {
   "cell_type": "code",
   "execution_count": null,
   "metadata": {},
   "outputs": [],
   "source": [
    "model.fit(X_train, Y_train) # обучение модели на трейне\n",
    "predictions = model.predict(X_test) # предсказания модели на валидационной выборке\n",
    "\n",
    "print_model_metric(Y_test, predictions) "
   ]
  },
  {
   "cell_type": "code",
   "execution_count": null,
   "metadata": {},
   "outputs": [],
   "source": [
    "print_feature_importance(model.coef_, features)"
   ]
  },
  {
   "cell_type": "markdown",
   "metadata": {},
   "source": [
    "На исходных признаках наиболее значимым признаком оказался f2, что в целом ожидаемо, учитывая значения коэффициента корреляции между f2 и целевым признаком - 0.999. \n",
    "\n",
    "В целом следует отметить, что для скважин в регионе B значения признака f2 являются определяющими с точки зрения оценки запасов."
   ]
  },
  {
   "cell_type": "markdown",
   "metadata": {},
   "source": [
    "##### Обучение модели на признаках после стандартизации"
   ]
  },
  {
   "cell_type": "markdown",
   "metadata": {},
   "source": [
    "Приведем стандартизацию признаков:\n",
    "- к признаку f0 применим QuantileTransformer для приведения к нормальному распределению\n",
    "- к признаку f1 применим StandardScaler для приведения полученных нормальных распределений к одному масштабу (области определения)\n",
    "- вместо признака f2 используем производный от него f3 (с фактически категориальными значениями) и к нему применим кодировщик OrdinalEncoder()"
   ]
  },
  {
   "cell_type": "code",
   "execution_count": null,
   "metadata": {},
   "outputs": [],
   "source": [
    "df_train, df_test = split_data(df_region_B)\n",
    "\n",
    "X_train, Y_train, X_test, Y_test = get_train_test_X_Y(['f0', 'f1', 'f3'], target, df_train, df_test)"
   ]
  },
  {
   "cell_type": "code",
   "execution_count": null,
   "metadata": {},
   "outputs": [],
   "source": [
    "transform_steps = [\n",
    "    (\n",
    "        'qtl', ColumnTransformer(\n",
    "            remainder='passthrough',\n",
    "            transformers=[ \n",
    "                ('qtl', QuantileTransformer(copy=False, output_distribution='normal'), ['f0']), \n",
    "                ('std', StandardScaler(copy=False, with_mean=True, with_std=True), ['f1']),\n",
    "                ('cat', OrdinalEncoder(), ['f3'])\n",
    "                #('cat', OneHotEncoder(handle_unknown='error', drop='first'), ['f3'])\n",
    "            ])\n",
    "    ),\n",
    "]"
   ]
  },
  {
   "cell_type": "code",
   "execution_count": null,
   "metadata": {
    "scrolled": false
   },
   "outputs": [],
   "source": [
    "transorm_train_data(Pipeline(transform_steps), X_train)"
   ]
  },
  {
   "cell_type": "markdown",
   "metadata": {},
   "source": [
    "Визуально проверяем, что после преобразований признаки f0 и f1 стандартизированы - приведены к нормально распределению, определенному в диапазоне (-4, 4) со средним 0.\n",
    "\n",
    "Категориальный признак f3 имеет равномерное распределение."
   ]
  },
  {
   "cell_type": "code",
   "execution_count": null,
   "metadata": {},
   "outputs": [],
   "source": [
    "pipeline = Pipeline(transform_steps + [('model', model)])\n",
    "\n",
    "score = cross_val_score(\n",
    "    pipeline, \n",
    "    X_train, \n",
    "    Y_train, \n",
    "    cv=10,\n",
    "    scoring=scoring, \n",
    ")\n",
    "\n",
    "model_fitted = pipeline.get_params()['model']"
   ]
  },
  {
   "cell_type": "code",
   "execution_count": null,
   "metadata": {},
   "outputs": [],
   "source": [
    "print('RMSE средняя:', score.mean())"
   ]
  },
  {
   "cell_type": "code",
   "execution_count": null,
   "metadata": {},
   "outputs": [],
   "source": [
    "predictions_B = model_fitted.predict(X_test)\n",
    "target_B = Y_test.copy()\n",
    "\n",
    "print_model_metric(target_B, predictions_B)  "
   ]
  },
  {
   "cell_type": "markdown",
   "metadata": {},
   "source": [
    "Значения метрик RMSE рассмотренных моделей практически совпадают. Вместе с тем модель, обученная на стандартизованных признаках, является более удобной с точки зрения возможного последующего использования."
   ]
  },
  {
   "cell_type": "code",
   "execution_count": null,
   "metadata": {},
   "outputs": [],
   "source": [
    "print_feature_importance(model_fitted.coef_, ['f0', 'f1', 'f3'])"
   ]
  },
  {
   "cell_type": "markdown",
   "metadata": {},
   "source": [
    "Аналогичным образом отмечаем, что наиболее значимым признаком оказался f3 (производный от f2), также имеющий высокое значения коэффициента корреляции с целевым признаком - 0.999. "
   ]
  },
  {
   "cell_type": "markdown",
   "metadata": {},
   "source": [
    "#### Регион C"
   ]
  },
  {
   "cell_type": "code",
   "execution_count": null,
   "metadata": {},
   "outputs": [],
   "source": [
    "X_train, Y_train, X_test, Y_test = get_default_train_test(df_region_C)"
   ]
  },
  {
   "cell_type": "markdown",
   "metadata": {},
   "source": [
    "##### Обучение модели на исходных признаках"
   ]
  },
  {
   "cell_type": "code",
   "execution_count": null,
   "metadata": {},
   "outputs": [],
   "source": [
    "model.fit(X_train, Y_train) # обучение модели на трейне\n",
    "predictions = model.predict(X_test) # предсказания модели на валидационной выборке\n",
    "\n",
    "print_model_metric(Y_test, predictions) "
   ]
  },
  {
   "cell_type": "code",
   "execution_count": null,
   "metadata": {
    "scrolled": true
   },
   "outputs": [],
   "source": [
    "print_feature_importance(model.coef_, features)"
   ]
  },
  {
   "cell_type": "markdown",
   "metadata": {},
   "source": [
    "На исходных признаках наиболее значимым признаком оказался f2, имеющий наибольшую корреляцию с целевым признаком. \n",
    "\n",
    "Проведем обучение модели на стандартизированных признаках и оценим полученную относительную значимость обучающих признаков после этого."
   ]
  },
  {
   "cell_type": "markdown",
   "metadata": {},
   "source": [
    "##### Обучение модели на признаках после стандартизации"
   ]
  },
  {
   "cell_type": "markdown",
   "metadata": {},
   "source": [
    "Приведем стандартизацию признаков:\n",
    "- ко всем признакам применим StandardScaler для приведения полученных нормальных распределений к одному масштабу (области определения)"
   ]
  },
  {
   "cell_type": "code",
   "execution_count": null,
   "metadata": {},
   "outputs": [],
   "source": [
    "transform_steps = [\n",
    "    ('std', StandardScaler(copy=False, with_mean=True, with_std=True)),\n",
    "]"
   ]
  },
  {
   "cell_type": "code",
   "execution_count": null,
   "metadata": {},
   "outputs": [],
   "source": [
    "transorm_train_data(Pipeline(transform_steps), X_train)"
   ]
  },
  {
   "cell_type": "code",
   "execution_count": null,
   "metadata": {},
   "outputs": [],
   "source": [
    "pipeline = Pipeline(transform_steps + [('model', model)])\n",
    "\n",
    "score = cross_val_score(\n",
    "    pipeline, \n",
    "    X_train, \n",
    "    Y_train, \n",
    "    cv=10,\n",
    "    scoring=scoring, \n",
    ")\n",
    "\n",
    "model_fitted = pipeline.get_params()['model']"
   ]
  },
  {
   "cell_type": "code",
   "execution_count": null,
   "metadata": {},
   "outputs": [],
   "source": [
    "print('RMSE средняя:', score.mean())"
   ]
  },
  {
   "cell_type": "code",
   "execution_count": null,
   "metadata": {},
   "outputs": [],
   "source": [
    "predictions_C = model_fitted.predict(X_test)\n",
    "target_C = Y_test.copy()\n",
    "\n",
    "print_model_metric(target_C, predictions_C)  "
   ]
  },
  {
   "cell_type": "markdown",
   "metadata": {},
   "source": [
    "Значения метрик RMSE рассмотренных моделей практически совпадают. Вместе с тем модель, обученная на стандартизованных признаках, является более удобной с точки зрения возможного последующего использования."
   ]
  },
  {
   "cell_type": "code",
   "execution_count": null,
   "metadata": {
    "scrolled": true
   },
   "outputs": [],
   "source": [
    "print_feature_importance(model_fitted.coef_, features)"
   ]
  },
  {
   "cell_type": "markdown",
   "metadata": {},
   "source": [
    "На стандартизованных признаках наиболее значимым признаком также ожидаемо оказался f2, имеющий наибольшую корреляцию с целевым признаком. \n",
    "\n",
    "В целом следует отметить аналогично региону B высокую степень влияния одного из признаков на оценку ресурсов скважины."
   ]
  },
  {
   "cell_type": "markdown",
   "metadata": {},
   "source": [
    "#### Выводы"
   ]
  },
  {
   "cell_type": "markdown",
   "metadata": {},
   "source": [
    "На этапе обучения модели линейной регрессии для каждого из рассматриваемого регионов выполнены следующие шаги:\n",
    "- проведено разделение исходных данных на обучающую и тестовую выборки в соотношении 3:1\n",
    "- проведено обучение моделей на базовом наборе исходных признаков и стандартизованном: в каждом регионе метрика RMSE построенных моделей совпали; для расчета предсказаний выбраны модели, построенные на стандартизованных признаков (для возможного использования в рамках дальнейших исследований)\n",
    "- по регионам получены следующие значения среднего запаса предсказанного сырья и метрики RMSE:\n",
    "  -  регион A: средний объем запасов - 92.4, RMSE - 37.7\n",
    "  -  регион B: средний объем запасов - 69.1, RMSE - 0.9\n",
    "  -  регион C: средний объем запасов - 95.0, RMSE - 40.0\n",
    "  \n",
    "Низкое значение RMSE в регионе B объясняется высокой степенью корреляции целевого признака с одним из обучающих признаков.\n",
    "\n",
    "Наиболее точная оценка среднего запаса сырья в скважине получена для региона B, вместе с тем абсолютные значения среднего объема запасов выше в регионах A и C (92.4 и 95.0 соответственно со значениями ошибки 37.7 и 40.0)\n",
    "\n",
    "Предсказания сохранены для последующего использования при расчете прибыли и рисков."
   ]
  },
  {
   "cell_type": "markdown",
   "metadata": {},
   "source": [
    "## Расчёт прибыли и рисков "
   ]
  },
  {
   "cell_type": "markdown",
   "metadata": {},
   "source": [
    "### Подготовка к расчёту прибыли"
   ]
  },
  {
   "cell_type": "markdown",
   "metadata": {},
   "source": [
    "В соответствии с исходными данными, бюджет на разработку скважин в регионе — 10 млрд рублей.\n",
    "\n",
    "При текущих ценах один баррель сырья приносит 450 рублей дохода. Доход с каждой единицы продукта составляет 450 тыс. рублей, поскольку объём скважины указан в тысячах баррелей.\n",
    "\n",
    "При разведке региона исследуют 500 точек, из которых с помощью машинного обучения выбирают 200 лучших для разработки."
   ]
  },
  {
   "cell_type": "code",
   "execution_count": null,
   "metadata": {},
   "outputs": [],
   "source": [
    "BUDGET = 10 * (10 ** 9)\n",
    "\n",
    "BARREL_PRICE = 450 * (10 ** 3)\n",
    "\n",
    "WELL_COUNT = 200"
   ]
  },
  {
   "cell_type": "markdown",
   "metadata": {},
   "source": [
    "В соответствии с исходными данными уровень безубыточности разработки в регионе достигается в том случае, если стоимость общего объема добываемого сырья из 200 отобранных скважин составляет 10 млрд рублей. \n",
    "\n",
    "Рассчитаем необходимый средний объем запасов в скважине для достижения уровня безубыточности."
   ]
  },
  {
   "cell_type": "code",
   "execution_count": null,
   "metadata": {},
   "outputs": [],
   "source": [
    "break_even_vol = round(BUDGET / (WELL_COUNT * BARREL_PRICE), 2)\n",
    "break_even_vol"
   ]
  },
  {
   "cell_type": "markdown",
   "metadata": {},
   "source": [
    "Средний объем сырья в разрабатываемой скважине для достижения уровня безубыточности должен быть не менее 111.11 тысяч баррелей. Указанное значение выше среднего значения сырья в скважинах вцелом по каждому из регионов A, B и C.\n",
    "\n",
    "Определим функцию расчета общей выручки и прибыли по скважинам с наиболее высоким значениям предсказанного объема сырья: \n",
    "- выбираем скважины с максимальными значениями предсказаний (число передается в качестве параметра)\n",
    "- просуммируем целевое значение объёма сырья, соответствующее этим предсказаниям\n",
    "- рассчитаем общую выручку и прибыль"
   ]
  },
  {
   "cell_type": "code",
   "execution_count": null,
   "metadata": {},
   "outputs": [],
   "source": [
    "# функция расчета выручки и прибыли по скважинам с наивысшим значением предсказанного объема сырья \n",
    "# возвращает пару значений: общая_выручка, прибыль\n",
    "def get_revenue_profit(target, predictions, count):\n",
    "    predictions_sorted = predictions.sort_values(by='predicted', ascending=False)\n",
    "    target_sorted = target.loc[predictions_sorted.index][:count]\n",
    "    \n",
    "    target_sum = target_sorted['product'].sum()\n",
    "    \n",
    "    return BARREL_PRICE * target_sum, BARREL_PRICE * target_sum - BUDGET"
   ]
  },
  {
   "cell_type": "markdown",
   "metadata": {},
   "source": [
    "### Расчет рисков и прибыли по регионам"
   ]
  },
  {
   "cell_type": "markdown",
   "metadata": {},
   "source": [
    "Выполним оценку прибыльности и рисков методом Bootstrap:\n",
    "- 1000 раз сделаем случайную выборку 500 скважин из пар (предсказанный объем, фактический объем) для каждого из регионов\n",
    "- в каждой выборке определим 200 наилучших скважин по предсказанному объему сырья и для них получим значения общей выручки и прибыли\n",
    "- по совокупности указанных значений (1000 измерений) - расчитаем: среднюю прибыль, 95%-й доверительный интервал и риск убытков"
   ]
  },
  {
   "cell_type": "code",
   "execution_count": null,
   "metadata": {},
   "outputs": [],
   "source": [
    "region_results = {\n",
    "    'A' : [predictions_A, target_A],\n",
    "    'B' : [predictions_B, target_B],\n",
    "    'C' : [predictions_C, target_C],\n",
    "}"
   ]
  },
  {
   "cell_type": "code",
   "execution_count": null,
   "metadata": {},
   "outputs": [],
   "source": [
    "def format_ruble(ruble):\n",
    "    return \"\\u20BD{:,.1f}\".format(ruble)"
   ]
  },
  {
   "cell_type": "code",
   "execution_count": null,
   "metadata": {},
   "outputs": [],
   "source": [
    "state = np.random.RandomState(random_magic)\n",
    "\n",
    "hist_revenue = []\n",
    "hist_profit = []\n",
    "\n",
    "for region in region_results:\n",
    "    [predictions, target] = region_results[region]\n",
    "    \n",
    "    df_predictions = pd.DataFrame(predictions, columns=['predicted'], index=target.index)\n",
    "\n",
    "    print('{0}  Расчет по региону {1}  {0}'.format('+' * 50, region))\n",
    "    \n",
    "    revenue = []\n",
    "    profit = []\n",
    "    \n",
    "    for i in range(1000):\n",
    "        target_subsample = target.sample(n=500, replace=True, random_state=state)\n",
    "\n",
    "        probs_subsample = df_predictions.loc[target_subsample.index]\n",
    "                \n",
    "        revenue_val, profit_val = get_revenue_profit(target_subsample, probs_subsample, WELL_COUNT)\n",
    "        \n",
    "        revenue.append(revenue_val)\n",
    "        profit.append(profit_val)\n",
    "        \n",
    "    revenue = pd.Series(revenue)\n",
    "    hist_revenue.append(revenue)\n",
    "    \n",
    "    profit = pd.Series(profit)\n",
    "    hist_profit.append(profit)\n",
    "    \n",
    "    lower = profit.quantile(0.025)\n",
    "    high = profit.quantile(0.975)\n",
    "\n",
    "    revenue_mean = revenue.mean()\n",
    "    profit_mean = profit.mean()\n",
    "    \n",
    "    print(\"Средняя прибыль: \", format_ruble(profit_mean))\n",
    "    print(\"2.5%-квантиль: \", format_ruble(lower))\n",
    "    print(\"95%-й доверительный интервал: ({0}, {1})\".format(format_ruble(lower), format_ruble(high)))\n",
    "    print(\"Вероятность убытка:\", (profit <= 0).mean() * 100)\n",
    "    print('\\n')"
   ]
  },
  {
   "cell_type": "markdown",
   "metadata": {},
   "source": [
    "Визуализируем полученные значения средней прибыли. Вертикальной красной чертой обозначим границу безубыточности (нулевая прибыль)"
   ]
  },
  {
   "cell_type": "code",
   "execution_count": null,
   "metadata": {},
   "outputs": [],
   "source": [
    "group_labels = ['Регион A', 'Регион B', 'Регион C']\n",
    "colors = ['cyan', 'green', 'magenta']\n",
    "\n",
    "fig = ff.create_distplot(hist_profit, group_labels, show_hist=False, colors=colors)\n",
    "\n",
    "# Add title\n",
    "fig.update_layout(title_text='Распределение средней прибыли (по регионам)')\n",
    "\n",
    "fig.update_layout(shapes=[\n",
    "    dict(\n",
    "        type= 'line',\n",
    "        yref= 'paper', y0= 0, y1= 1,\n",
    "        xref= 'x', x0= 0, x1= 0,\n",
    "        line=dict(\n",
    "                    color=\"Red\",\n",
    "                    width=4,\n",
    "                    dash=\"dashdot\",\n",
    "                )\n",
    "    )\n",
    "])\n",
    "\n",
    "fig.update_layout(xaxis_title='Прибыль (в рублях)', yaxis_title='Частота')\n",
    "fig.show()"
   ]
  },
  {
   "cell_type": "markdown",
   "metadata": {},
   "source": [
    "Распределение средней прибыли по региону B является наиболее компактным (наименьшее отклонение от среднего). Вероятность убытка по региону B составляет 0.8% (по регионам A и C значительно выше - 3.9 и 9.5 соответственно)."
   ]
  },
  {
   "cell_type": "markdown",
   "metadata": {},
   "source": [
    "### Выводы"
   ]
  },
  {
   "cell_type": "markdown",
   "metadata": {},
   "source": [
    "На этапе оценки рисков и прибыли выполнены следующие шаги:\n",
    "- определены основные параметры, необходимые для проведения расчетов (себестоимость добычи, цена барреля и количество скважин разработки)\n",
    "- определен средний объем сырья в разрабатываемой скважине для достижения уровня безубыточности - не менее 111.11 тысяч баррелей (указанное значение выше среднего значения сырья в скважинах в целом по каждому из регионов A, B и C)\n",
    "- подготовлена функция расчета выручки и прибыли по заранее подготовленным данным (предсказанный/фактический объем запасов)\n",
    "- проведена оценка прибыльности разработки техникой Bootstrap и определено следующее:\n",
    "    - единственным регионом, в котором вероятность убытков меньше 2.5%, является регион B\n",
    "    - региону B также соответствует наиболее высокое значение средней прибыли разработки скважин - более 513 млн рублей\n",
    "    - 95% доверительным интервалом средней прибыли в регионе B является: (97, 940) млн рублей \n",
    "\n",
    "Несмотря на наименьшее значение среднего запаса предсказанного сырья регион B является единственным подходящим по параметрам (вероятность убытков менее 2,5%) регионом для разработки скважин."
   ]
  },
  {
   "cell_type": "markdown",
   "metadata": {},
   "source": [
    "## Выводы"
   ]
  },
  {
   "cell_type": "markdown",
   "metadata": {},
   "source": [
    "В рамках исследования в интересах добывающей компании «ГлавРосГосНефть» проводилась оценка предоставленных данных о скважинах в трех регионах с целью определения перспективного региона добычи.\n",
    "\n",
    "На исследование были предоставлены данные о пробах нефти в трёх регионах: в каждом 10 000 месторождений, где измерили качество нефти и объём её запасов. Основная задача исследования - построение модели машинного обучения, которая поможет определить регион, где добыча принесёт наибольшую прибыль. \n",
    "\n",
    "В рамках предварительной обработки и оценки исходных данных выполнены следующие шаги:\n",
    "- выполнена загрузка данных и проверка их соответствия предоставленному метаописанию, определены обучающие и целевой признак\n",
    "- проведена оценка распределения значений обучающих атрибутов и корреляций между ними, определено:\n",
    "    - каждый набор признаков рассматривается исключительно в рамках региона (без наличия связей с другими регионами)\n",
    "    - мультиколлинеарные признаки в исходных данных отсутствуют\n",
    "\n",
    "Далее на этапе обучения модели линейной регрессии для каждого из рассматриваемого регионов выполнены следующие шаги:\n",
    "- проведено разделение исходных данных на обучающую и тестовую выборки в соотношении 3:1\n",
    "- проведено обучение моделей на базовом наборе исходных признаков и стандартизованном: в каждом регионе метрика RMSE построенных моделей совпали; для расчета предсказаний выбраны модели, построенные на стандартизованных признаков (для возможного использования в рамках дальнейших исследований)\n",
    "- по регионам получены следующие значения среднего запаса предсказанного сырья и метрики RMSE:\n",
    "  -  регион A: средний объем запасов - 92.4, RMSE - 37.7\n",
    "  -  регион B: средний объем запасов - 69.1, RMSE - 0.9\n",
    "  -  регион C: средний объем запасов - 95.0, RMSE - 40.0\n",
    "\n",
    "На основе исходных данных подготовлены параметры для последующей оценки рисков и прибыли добыли:\n",
    "- определены основные параметры, необходимые для проведения расчетов: себестоимость добычи, цена барреля, количество скважин разработки\n",
    "- определен средний объем сырья в разрабатываемой скважине для достижения уровня безубыточности - не менее 111.11 тысяч баррелей (указанное значение выше как среднего значения сырья в скважинах в целом по каждому из регионов A, B и C, так и полученных с помощью моделей обучения предсказанных средних запасов сырья)\n",
    "\n",
    "Далее проведена оценка прибыльности разработки техникой Bootstrap. Оценка проводилась по подготовленным данным предсказанного и фактического объема запасов, путем оценки 1000 случайных выборок размера 500 и отбора из них 200 скважин с наиболее высокими значениями предсказанного объема сырья. По результатам оценки определено следующее:\n",
    "- единственным регионом, в котором вероятность убытков меньше 2.5%, является регион B\n",
    "- региону B также соответствует наиболее высокое значение средней прибыли разработки скважин - более 513 млн рублей\n",
    "- 95% доверительным интервалом средней прибыли в регионе B является: (97, 940) млн рублей \n",
    "\n",
    "Несмотря на наименьшее значение среднего запаса предсказанного сырья регион B является единственным подходящим по параметрам для последующей разработки регионом (из рассмотренных регионов)."
   ]
  }
 ],
 "metadata": {
  "kernelspec": {
   "display_name": "Python 3",
   "language": "python",
   "name": "python3"
  },
  "language_info": {
   "codemirror_mode": {
    "name": "ipython",
    "version": 3
   },
   "file_extension": ".py",
   "mimetype": "text/x-python",
   "name": "python",
   "nbconvert_exporter": "python",
   "pygments_lexer": "ipython3",
   "version": "3.8.8"
  },
  "toc": {
   "base_numbering": 1,
   "nav_menu": {},
   "number_sections": true,
   "sideBar": true,
   "skip_h1_title": true,
   "title_cell": "Содержание",
   "title_sidebar": "Contents",
   "toc_cell": true,
   "toc_position": {
    "height": "calc(100% - 180px)",
    "left": "10px",
    "top": "150px",
    "width": "366.391px"
   },
   "toc_section_display": true,
   "toc_window_display": true
  }
 },
 "nbformat": 4,
 "nbformat_minor": 2
}
