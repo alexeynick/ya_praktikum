{
 "cells": [
  {
   "cell_type": "markdown",
   "metadata": {
    "toc": true
   },
   "source": [
    "<h1>Содержание<span class=\"tocSkip\"></span></h1>\n",
    "<div class=\"toc\"><ul class=\"toc-item\"><li><span><a href=\"#Описание-технологического-процесса\" data-toc-modified-id=\"Описание-технологического-процесса-1\"><span class=\"toc-item-num\">1&nbsp;&nbsp;</span>Описание технологического процесса</a></span><ul class=\"toc-item\"><li><span><a href=\"#Схема-технологического-процесса\" data-toc-modified-id=\"Схема-технологического-процесса-1.1\"><span class=\"toc-item-num\">1.1&nbsp;&nbsp;</span>Схема технологического процесса</a></span></li><li><span><a href=\"#Описание-данных\" data-toc-modified-id=\"Описание-данных-1.2\"><span class=\"toc-item-num\">1.2&nbsp;&nbsp;</span>Описание данных</a></span></li><li><span><a href=\"#Расчёт-эффективности\" data-toc-modified-id=\"Расчёт-эффективности-1.3\"><span class=\"toc-item-num\">1.3&nbsp;&nbsp;</span>Расчёт эффективности</a></span><ul class=\"toc-item\"><li><span><a href=\"#Метрика-качества\" data-toc-modified-id=\"Метрика-качества-1.3.1\"><span class=\"toc-item-num\">1.3.1&nbsp;&nbsp;</span>Метрика качества</a></span></li></ul></li></ul></li><li><span><a href=\"#Подготовка-данных\" data-toc-modified-id=\"Подготовка-данных-2\"><span class=\"toc-item-num\">2&nbsp;&nbsp;</span>Подготовка данных</a></span><ul class=\"toc-item\"><li><span><a href=\"#Загрузка-данных\" data-toc-modified-id=\"Загрузка-данных-2.1\"><span class=\"toc-item-num\">2.1&nbsp;&nbsp;</span>Загрузка данных</a></span></li><li><span><a href=\"#Сравнение-признаков-обучающей-и-тестовой-выборок\" data-toc-modified-id=\"Сравнение-признаков-обучающей-и-тестовой-выборок-2.2\"><span class=\"toc-item-num\">2.2&nbsp;&nbsp;</span>Сравнение признаков обучающей и тестовой выборок</a></span><ul class=\"toc-item\"><li><span><a href=\"#Признаки-обучающей-выборки\" data-toc-modified-id=\"Признаки-обучающей-выборки-2.2.1\"><span class=\"toc-item-num\">2.2.1&nbsp;&nbsp;</span>Признаки обучающей выборки</a></span></li><li><span><a href=\"#Признаки-тестовой-выборки\" data-toc-modified-id=\"Признаки-тестовой-выборки-2.2.2\"><span class=\"toc-item-num\">2.2.2&nbsp;&nbsp;</span>Признаки тестовой выборки</a></span></li><li><span><a href=\"#Расширенная-схема-технологического-процесса\" data-toc-modified-id=\"Расширенная-схема-технологического-процесса-2.2.3\"><span class=\"toc-item-num\">2.2.3&nbsp;&nbsp;</span>Расширенная схема технологического процесса</a></span></li></ul></li><li><span><a href=\"#Предварительная-обработка-данных\" data-toc-modified-id=\"Предварительная-обработка-данных-2.3\"><span class=\"toc-item-num\">2.3&nbsp;&nbsp;</span>Предварительная обработка данных</a></span><ul class=\"toc-item\"><li><span><a href=\"#Удаление-пропусков-в-целевых-признаках\" data-toc-modified-id=\"Удаление-пропусков-в-целевых-признаках-2.3.1\"><span class=\"toc-item-num\">2.3.1&nbsp;&nbsp;</span>Удаление пропусков в целевых признаках</a></span></li><li><span><a href=\"#Проверка-расчета-эффективности-обогащения\" data-toc-modified-id=\"Проверка-расчета-эффективности-обогащения-2.3.2\"><span class=\"toc-item-num\">2.3.2&nbsp;&nbsp;</span>Проверка расчета эффективности обогащения</a></span></li><li><span><a href=\"#Заполнение-пропусков\" data-toc-modified-id=\"Заполнение-пропусков-2.3.3\"><span class=\"toc-item-num\">2.3.3&nbsp;&nbsp;</span>Заполнение пропусков</a></span></li><li><span><a href=\"#Проверка-корреляций\" data-toc-modified-id=\"Проверка-корреляций-2.3.4\"><span class=\"toc-item-num\">2.3.4&nbsp;&nbsp;</span>Проверка корреляций</a></span></li></ul></li><li><span><a href=\"#Выводы\" data-toc-modified-id=\"Выводы-2.4\"><span class=\"toc-item-num\">2.4&nbsp;&nbsp;</span>Выводы</a></span></li></ul></li><li><span><a href=\"#Анализ-данных\" data-toc-modified-id=\"Анализ-данных-3\"><span class=\"toc-item-num\">3&nbsp;&nbsp;</span>Анализ данных</a></span><ul class=\"toc-item\"><li><span><a href=\"#Анализ-динамики-концентрации-металлов\" data-toc-modified-id=\"Анализ-динамики-концентрации-металлов-3.1\"><span class=\"toc-item-num\">3.1&nbsp;&nbsp;</span>Анализ динамики концентрации металлов</a></span></li><li><span><a href=\"#Исследование-суммарной-концентрации-всех-веществ-на-разных-стадиях\" data-toc-modified-id=\"Исследование-суммарной-концентрации-всех-веществ-на-разных-стадиях-3.2\"><span class=\"toc-item-num\">3.2&nbsp;&nbsp;</span>Исследование суммарной концентрации всех веществ на разных стадиях</a></span></li><li><span><a href=\"#Сравнение-распределения-размеров-гранул-сырья\" data-toc-modified-id=\"Сравнение-распределения-размеров-гранул-сырья-3.3\"><span class=\"toc-item-num\">3.3&nbsp;&nbsp;</span>Сравнение распределения размеров гранул сырья</a></span></li><li><span><a href=\"#Выводы\" data-toc-modified-id=\"Выводы-3.4\"><span class=\"toc-item-num\">3.4&nbsp;&nbsp;</span>Выводы</a></span></li></ul></li><li><span><a href=\"#Модель\" data-toc-modified-id=\"Модель-4\"><span class=\"toc-item-num\">4&nbsp;&nbsp;</span>Модель</a></span><ul class=\"toc-item\"><li><span><a href=\"#Подготовка-тестового-датасета\" data-toc-modified-id=\"Подготовка-тестового-датасета-4.1\"><span class=\"toc-item-num\">4.1&nbsp;&nbsp;</span>Подготовка тестового датасета</a></span></li><li><span><a href=\"#Модель-этапа-флотации\" data-toc-modified-id=\"Модель-этапа-флотации-4.2\"><span class=\"toc-item-num\">4.2&nbsp;&nbsp;</span>Модель этапа флотации</a></span><ul class=\"toc-item\"><li><span><a href=\"#Линейная-регрессия\" data-toc-modified-id=\"Линейная-регрессия-4.2.1\"><span class=\"toc-item-num\">4.2.1&nbsp;&nbsp;</span>Линейная регрессия</a></span></li><li><span><a href=\"#Случайный-лес\" data-toc-modified-id=\"Случайный-лес-4.2.2\"><span class=\"toc-item-num\">4.2.2&nbsp;&nbsp;</span>Случайный лес</a></span></li><li><span><a href=\"#Решающее-дерево\" data-toc-modified-id=\"Решающее-дерево-4.2.3\"><span class=\"toc-item-num\">4.2.3&nbsp;&nbsp;</span>Решающее дерево</a></span></li><li><span><a href=\"#CatBoost\" data-toc-modified-id=\"CatBoost-4.2.4\"><span class=\"toc-item-num\">4.2.4&nbsp;&nbsp;</span>CatBoost</a></span></li><li><span><a href=\"#Проверка-на-адекватность\" data-toc-modified-id=\"Проверка-на-адекватность-4.2.5\"><span class=\"toc-item-num\">4.2.5&nbsp;&nbsp;</span>Проверка на адекватность</a></span></li><li><span><a href=\"#Выводы\" data-toc-modified-id=\"Выводы-4.2.6\"><span class=\"toc-item-num\">4.2.6&nbsp;&nbsp;</span>Выводы</a></span></li></ul></li><li><span><a href=\"#Модель-финальных-характеристик\" data-toc-modified-id=\"Модель-финальных-характеристик-4.3\"><span class=\"toc-item-num\">4.3&nbsp;&nbsp;</span>Модель финальных характеристик</a></span><ul class=\"toc-item\"><li><span><a href=\"#Линейная-регрессия\" data-toc-modified-id=\"Линейная-регрессия-4.3.1\"><span class=\"toc-item-num\">4.3.1&nbsp;&nbsp;</span>Линейная регрессия</a></span></li><li><span><a href=\"#Случайный-лес\" data-toc-modified-id=\"Случайный-лес-4.3.2\"><span class=\"toc-item-num\">4.3.2&nbsp;&nbsp;</span>Случайный лес</a></span></li><li><span><a href=\"#Решающее-дерево\" data-toc-modified-id=\"Решающее-дерево-4.3.3\"><span class=\"toc-item-num\">4.3.3&nbsp;&nbsp;</span>Решающее дерево</a></span></li><li><span><a href=\"#CatBoost\" data-toc-modified-id=\"CatBoost-4.3.4\"><span class=\"toc-item-num\">4.3.4&nbsp;&nbsp;</span>CatBoost</a></span></li><li><span><a href=\"#Проверка-на-адекватность\" data-toc-modified-id=\"Проверка-на-адекватность-4.3.5\"><span class=\"toc-item-num\">4.3.5&nbsp;&nbsp;</span>Проверка на адекватность</a></span></li><li><span><a href=\"#Выводы\" data-toc-modified-id=\"Выводы-4.3.6\"><span class=\"toc-item-num\">4.3.6&nbsp;&nbsp;</span>Выводы</a></span></li></ul></li><li><span><a href=\"#Выводы\" data-toc-modified-id=\"Выводы-4.4\"><span class=\"toc-item-num\">4.4&nbsp;&nbsp;</span>Выводы</a></span></li></ul></li><li><span><a href=\"#Выводы\" data-toc-modified-id=\"Выводы-5\"><span class=\"toc-item-num\">5&nbsp;&nbsp;</span>Выводы</a></span></li></ul></div>"
   ]
  },
  {
   "cell_type": "markdown",
   "metadata": {},
   "source": [
    "# Исследование процесса восстановления золота из золотосодержащей руды \n",
    "\n",
    "Исследование проводится в интересах компании «Цифры», разрабатывающей решения для эффективной работы промышленных предприятий.\n",
    "В рамках исследования необходимо изучить технологический процесс восстановления золота из золотосодержащей руды и подготовить  прототип модели машинного обучения.\n",
    "\n",
    "Исходные данные - параметры добычи и очистки на различных этапах технологический процесс восстановления золота. \n",
    "\n",
    "Цель построения модели - помощь в оптимизации производства (для последующей оценки прибыльности предприятий).\n",
    "\n",
    "Задачи исследования:\n",
    "\n",
    "1. Подготовка исходных данных\n",
    "2. Проведение исследовательского анализа данных\n",
    "3. Построение и оценка моделей машинного обучения"
   ]
  },
  {
   "cell_type": "markdown",
   "metadata": {},
   "source": [
    "## Описание технологического процесса"
   ]
  },
  {
   "cell_type": "markdown",
   "metadata": {},
   "source": [
    " Дополнительные пакеты и зависимости"
   ]
  },
  {
   "cell_type": "code",
   "execution_count": null,
   "metadata": {},
   "outputs": [],
   "source": [
    "# установка дополнительных пакетов\n",
    "# blockdiag - пакет создания диаграм\n",
    "\n",
    "!pip install blockdiag"
   ]
  },
  {
   "cell_type": "code",
   "execution_count": null,
   "metadata": {},
   "outputs": [],
   "source": [
    "import pandas as pd\n",
    "import numpy as np\n",
    "\n",
    "import plotly.express as px\n",
    "import plotly.graph_objects as go\n",
    "import plotly.figure_factory as ff\n",
    "from plotly.subplots import make_subplots\n",
    "import seaborn as sns\n",
    "import matplotlib.pyplot as plt \n",
    "from IPython.display import display, Image\n",
    "from termcolor import colored\n",
    "\n",
    "# обучение моделей\n",
    "from sklearn.model_selection import train_test_split\n",
    "from sklearn.utils import shuffle\n",
    "from sklearn.model_selection import GridSearchCV\n",
    "from sklearn.model_selection import cross_val_score\n",
    "\n",
    "from sklearn.linear_model import LinearRegression\n",
    "from sklearn.tree import DecisionTreeRegressor\n",
    "from sklearn.ensemble import RandomForestRegressor\n",
    "from sklearn.dummy import DummyClassifier\n",
    "\n",
    "from catboost import Pool, CatBoostClassifier, CatBoostRegressor\n",
    "\n",
    "# метрики\n",
    "from sklearn.metrics import make_scorer\n",
    "from sklearn.metrics import mean_squared_error, mean_absolute_error\n",
    "\n",
    "# pipeline\n",
    "#from sklearn import preprocessing\n",
    "from sklearn.pipeline import Pipeline\n",
    "from sklearn.compose import ColumnTransformer\n",
    "from sklearn.preprocessing import StandardScaler, MinMaxScaler, RobustScaler\n",
    "from sklearn.preprocessing import PowerTransformer, QuantileTransformer\n",
    "\n",
    "from sklearn.experimental import enable_iterative_imputer\n",
    "from sklearn.impute import SimpleImputer, IterativeImputer\n",
    "\n",
    "import blockdiag"
   ]
  },
  {
   "cell_type": "code",
   "execution_count": null,
   "metadata": {},
   "outputs": [],
   "source": [
    "random_magic = 1024"
   ]
  },
  {
   "cell_type": "markdown",
   "metadata": {},
   "source": [
    "### Схема технологического процесса"
   ]
  },
  {
   "cell_type": "markdown",
   "metadata": {},
   "source": [
    "Процесс получения золота из руды состоит из следующих основных этапов:\n",
    "- добытая руда проходит первичную обработку, из нее получается дроблёная смесь\n",
    "- полученную смесь отправляют на флотацию (обогащение) и двухэтапную очистку\n",
    "\n",
    "Рассмотрим стадии процесса получения золота подробнее."
   ]
  },
  {
   "cell_type": "code",
   "execution_count": null,
   "metadata": {},
   "outputs": [],
   "source": [
    "%%file diagrams/diagram_gold1\n",
    "blockdiag {\n",
    "    // orientation = portrait\n",
    "    node_width = 250;  // default value is 128\n",
    "    node_height = 50;  // default value is 40\n",
    "    \n",
    "    class block_process [shape = roundedbox, color = lightblue, style = dashed];\n",
    "    class redline [color = red, style = dotted];\n",
    "    \n",
    "    \"Флотация\" [class = \"block_process\"];\n",
    "    \"Первый этап очистки\" [class = \"block_process\"];\n",
    "    \"Второй этап очистки\" [class = \"block_process\"];\n",
    "    \n",
    "    \"Смесь золотоносной руды\" [shape = flowchart.input];\n",
    "    \n",
    "    \"Черновой концентрат\" [shape = flowchart.terminator];\n",
    "    \"Финальный концентрат\" [shape = flowchart.terminator];\n",
    "    \"Отвальные хвосты\" [shape = endpoint];\n",
    "    \n",
    "    \"Смесь золотоносной руды\" -> \"Флотация\";\n",
    "    \n",
    "                                    // \"Флотация\" -> \"Отвальные хвосты\";\n",
    "                                    // \"Первый этап очистки\" -> \"Отвальные хвосты\";\n",
    "                                    // \"Второй этап очистки\" -> \"Отвальные хвосты\";\n",
    " \n",
    "    \n",
    "    group {\n",
    "        orientation = portrait\n",
    "        \n",
    "        color = \"#D3D3D3\";\n",
    "\n",
    "        \"Флотация\" -> \"Черновой концентрат\" -> \"Первый этап очистки\";\n",
    "        \"Первый этап очистки\" -> \"Второй этап очистки\" -> \"Финальный концентрат\";\n",
    "      }\n",
    "    \n",
    "    \"Флотация\" -> \"Отвальные хвосты\" [class = \"redline\"];\n",
    "    \"Первый этап очистки\" -> \"Отвальные хвосты\" [class = \"redline\"];\n",
    "    \"Второй этап очистки\" -> \"Отвальные хвосты\" [class = \"redline\"];\n",
    "}"
   ]
  },
  {
   "cell_type": "code",
   "execution_count": null,
   "metadata": {},
   "outputs": [],
   "source": [
    "!blockdiag -f DejaVuSerif.ttf diagrams/diagram_gold1"
   ]
  },
  {
   "cell_type": "code",
   "execution_count": null,
   "metadata": {},
   "outputs": [],
   "source": [
    "Image(\"diagrams/diagram_gold1.png\")"
   ]
  },
  {
   "cell_type": "markdown",
   "metadata": {},
   "source": [
    "Опишем каждую стадию:\n",
    "- Флотация:\n",
    "\n",
    "    Во флотационную установку подаётся смесь золотосодержащей руды. После обогащения получается черновой концентрат и «отвальные хвосты», то есть остатки продукта с низкой концентрацией ценных металлов.\n",
    "    На стабильность этого процесса влияет непостоянное и неоптимальное физико-химическое состояние флотационной пульпы (смеси твёрдых частиц и жидкости).\n",
    "    \n",
    "    \n",
    "- Очистка:\n",
    "\n",
    "    Черновой концентрат проходит две очистки. На выходе получается финальный концентрат и новые отвальные хвосты."
   ]
  },
  {
   "cell_type": "markdown",
   "metadata": {},
   "source": [
    "### Описание данных\n",
    "Технологический процесс:\n",
    "\n",
    "- Rougher feed — исходное сырье\n",
    "- Rougher additions (или reagent additions) — флотационные реагенты: Xanthate, Sulfate, Depressant\n",
    "    - Xanthate — ксантогенат (промотер, или активатор флотации);\n",
    "    - Sulfate — сульфат (на данном производстве сульфид натрия);\n",
    "    - Depressant — депрессант (силикат натрия).\n",
    "- Rougher process (англ. «грубый процесс») — флотация\n",
    "- Rougher tails — отвальные хвосты\n",
    "- Float banks — флотационная установка\n",
    "- Cleaner process — очистка\n",
    "- Rougher Au — черновой концентрат золота\n",
    "- Final Au — финальный концентрат золота\n",
    "\n",
    "Параметры этапов:\n",
    "- air amount — объём воздуха\n",
    "- fluid levels — уровень жидкости\n",
    "- feed size — размер гранул сырья\n",
    "- feed rate — скорость подачи\n",
    "\n",
    "Наименование признаков:\n",
    "\n",
    "    Наименование признаков должно быть такое:\n",
    "    [этап].[тип_параметра].[название_параметра]\n",
    "\n",
    "    Пример: rougher.input.feed_ag\n",
    "\n",
    "    Возможные значения для блока [этап]:\n",
    "    - rougher — флотация\n",
    "    - primary_cleaner — первичная очистка\n",
    "    - secondary_cleaner — вторичная очистка\n",
    "    - final — финальные характеристики\n",
    "\n",
    "    Возможные значения для блока [тип_параметра]:\n",
    "    - input — параметры сырья\n",
    "    - state — параметры, характеризующие текущее состояние этапа\n",
    "    - output — параметры продукта\n",
    "    - calculation — расчётные характеристики"
   ]
  },
  {
   "cell_type": "code",
   "execution_count": null,
   "metadata": {},
   "outputs": [],
   "source": [
    "stages = {\n",
    "    'rougher' : \"Флотация\", \n",
    "    'primary_cleaner' : \"Первичная очистка\", \n",
    "    'secondary_cleaner' : \"Вторичная очистка\", \n",
    "    'final' : \"Финальные характеристики\"\n",
    "}"
   ]
  },
  {
   "cell_type": "code",
   "execution_count": null,
   "metadata": {},
   "outputs": [],
   "source": [
    "parameters = {\n",
    "    'input' : \"Параметры сырья\", \n",
    "    'state' : \"Параметры этапа\",     \n",
    "    'output' : \"Параметры продукта\", \n",
    "    'calculation' : \"Расчётные характеристики\"\n",
    "}"
   ]
  },
  {
   "cell_type": "markdown",
   "metadata": {},
   "source": [
    "### Расчёт эффективности"
   ]
  },
  {
   "cell_type": "markdown",
   "metadata": {},
   "source": [
    "Необходимо смоделировать процесс восстановления золота из золотосодержащей руды.\n",
    "Эффективность обогащения рассчитывается по формуле\n",
    "\n",
    "$$Recovery = \\cfrac{C * (F - T)}{F * (C - T)} * 100\\% $$\n",
    "\n",
    "\n",
    "где:\n",
    "- C — доля золота в концентрате после флотации/очистки;\n",
    "- F — доля золота в сырье/концентрате до флотации/очистки;\n",
    "- T — доля золота в отвальных хвостах после флотации/очистки.\n",
    "\n",
    "Для прогноза коэффициента нужно найти долю золота в концентратах и хвостах. Причём важен не только финальный продукт, но и черновой концентрат."
   ]
  },
  {
   "cell_type": "code",
   "execution_count": null,
   "metadata": {},
   "outputs": [],
   "source": [
    "# функция расчета эффективности обогащения\n",
    "\n",
    "def calculate_recovery(C, F, T):\n",
    "    if abs(C - T) > 0:\n",
    "        return (C / F) * ((F - T) / (C - T)) * 100"
   ]
  },
  {
   "cell_type": "markdown",
   "metadata": {},
   "source": [
    "#### Метрика качества\n",
    "\n",
    "Для решения задачи введём метрику качества — **sMAPE** (англ. Symmetric Mean Absolute Percentage Error, «симметричное среднее абсолютное процентное отклонение»).\n",
    "\n",
    "Она похожа на MAE, но выражается не в абсолютных величинах, а в относительных. Она одинаково учитывает масштаб и целевого признака, и предсказания.\n",
    "Метрика **sMAPE** вычисляется так:\n",
    "\n",
    "$$sMAPE = \\cfrac{1}{N} * \\sum \\limits _{i=1}^{N} \\cfrac{|y_{i} - \\hat y_{i}|}{(|y_{i}| + |\\hat y_{i}|) / 2} * 100\\% $$\n",
    "\n",
    "\n",
    "где:\n",
    "- $y_{i}$ - значение целевого признака для объекта с порядковым номером i в выборке, на которой измеряется качество\n",
    "- $\\hat y_{i}$ - значение предсказания для объекта с порядковым номером i, например, в тестовой выборке\n",
    "- $N$ - количество объектов в выборке\n",
    "- $\\sum \\limits _{i=1}^{N}$ - cуммирование по всем объектам выборки (i от 1 до N)\n",
    "\n"
   ]
  },
  {
   "cell_type": "code",
   "execution_count": null,
   "metadata": {},
   "outputs": [],
   "source": [
    "# функция расчета метрики sMAPE\n",
    "\n",
    "def smape(Y_true, Y_predicted):\n",
    "    return (\n",
    "        1 / len(Y_true) \n",
    "        * np.sum( 2 * np.abs(Y_true - Y_predicted) / ( np.abs(Y_true) + np.abs(Y_predicted) ) \n",
    "                 * 100 )\n",
    "    )"
   ]
  },
  {
   "cell_type": "markdown",
   "metadata": {},
   "source": [
    "Нужно спрогнозировать сразу две величины:\n",
    "- эффективность обогащения чернового концентрата `rougher.output.recovery`\n",
    "- эффективность обогащения финального концентрата `final.output.recovery`\n",
    "\n",
    "Итоговая метрика складывается из двух величин:\n",
    "\n",
    "$$Итоговое \\space sMAPE = 25\\% * sMAPE(rougher) + 75\\% * sMAPE(final) $$"
   ]
  },
  {
   "cell_type": "code",
   "execution_count": null,
   "metadata": {},
   "outputs": [],
   "source": [
    "# функция расчета итоговой метрики sMAPE\n",
    "\n",
    "def smape_total(smape_rougher, smape_final):\n",
    "    return 0.25 * smape_rougher + 0.75 * smape_final"
   ]
  },
  {
   "cell_type": "markdown",
   "metadata": {},
   "source": [
    "##  Подготовка данных"
   ]
  },
  {
   "cell_type": "markdown",
   "metadata": {},
   "source": [
    "### Загрузка данных"
   ]
  },
  {
   "cell_type": "code",
   "execution_count": null,
   "metadata": {},
   "outputs": [],
   "source": [
    "pd.set_option('display.max_rows', 100)\n",
    "pd.set_option('display.max_colwidth', 100)"
   ]
  },
  {
   "cell_type": "markdown",
   "metadata": {},
   "source": [
    "Исходные данные представлены в трех файлах:\n",
    "- gold_recovery_train.csv — обучающая выборка\n",
    "- gold_recovery_test.csv — тестовая выборка\n",
    "- gold_recovery_full.csv — исходные данные (полный объем)\n",
    "\n",
    "В соответствии с предоставленным описанием исходных данных:\n",
    "- данные индексируются датой и временем получения информации (признак date), соседние по времени параметры часто похожи\n",
    "- некоторые параметры недоступны, потому что замеряются и/или рассчитываются значительно позже (из-за этого в тестовой выборке отсутствуют некоторые признаки, которые могут быть в обучающей) \n",
    "- в тестовом наборе нет целевых признаков\n",
    "- исходный датасет содержит обучающую и тестовую выборки со всеми признаками"
   ]
  },
  {
   "cell_type": "markdown",
   "metadata": {},
   "source": [
    "Выполним загрузку данных и оценим состав признаков в обучающей и тестовой выборках"
   ]
  },
  {
   "cell_type": "code",
   "execution_count": null,
   "metadata": {},
   "outputs": [],
   "source": [
    "df_train = pd.read_csv('datasets/gold_recovery_train.csv', index_col='date')\n",
    "df_test = pd.read_csv('datasets/gold_recovery_test.csv', index_col='date')\n",
    "df_full = pd.read_csv('datasets/gold_recovery_full.csv', index_col='date')"
   ]
  },
  {
   "cell_type": "code",
   "execution_count": null,
   "metadata": {},
   "outputs": [],
   "source": [
    "df_train.shape"
   ]
  },
  {
   "cell_type": "code",
   "execution_count": null,
   "metadata": {},
   "outputs": [],
   "source": [
    "df_train.info()"
   ]
  },
  {
   "cell_type": "code",
   "execution_count": null,
   "metadata": {},
   "outputs": [],
   "source": [
    "df_test.shape"
   ]
  },
  {
   "cell_type": "code",
   "execution_count": null,
   "metadata": {},
   "outputs": [],
   "source": [
    "df_test.info()"
   ]
  },
  {
   "cell_type": "code",
   "execution_count": null,
   "metadata": {},
   "outputs": [],
   "source": [
    "print('Доля тестовой выборки относительно обучающей: {0:.1%}'.format(df_test.shape[0] / df_train.shape[0]))"
   ]
  },
  {
   "cell_type": "code",
   "execution_count": null,
   "metadata": {},
   "outputs": [],
   "source": [
    "def print_total_null(df):\n",
    "    print ('Доля пропусков данных: {0:.1%}'.format(df.isna().sum().sum() / (df.shape[0] * df.shape[1])))"
   ]
  },
  {
   "cell_type": "code",
   "execution_count": null,
   "metadata": {},
   "outputs": [],
   "source": [
    "print_total_null(df_test)"
   ]
  },
  {
   "cell_type": "code",
   "execution_count": null,
   "metadata": {},
   "outputs": [],
   "source": [
    "print_total_null(df_train)"
   ]
  },
  {
   "cell_type": "markdown",
   "metadata": {},
   "source": [
    "В обучающей и тестовой выборках достаточно большое количество признаков - 86 и 52 соответственно. Все признаки вещественные.\n",
    "\n",
    "Имеются пропуски в данных (в большинстве признаков), в обучающей выборке - доля пропусков 2.1% относительно всего объема, в тестовой - 0.8%.\n",
    "\n",
    "Соотношение тестовой к обучающей выборке - примерно 1/3."
   ]
  },
  {
   "cell_type": "markdown",
   "metadata": {},
   "source": [
    "### Сравнение признаков обучающей и тестовой выборок"
   ]
  },
  {
   "cell_type": "markdown",
   "metadata": {},
   "source": [
    "Рассмотрим состав признаков обучающей и тестовой выборок. Последовательно выведем перечень признаков по стадиям технологического процесса.\n",
    "\n",
    "Для удобства восприятия перечень признаков будем выводить в транспонированном виде"
   ]
  },
  {
   "cell_type": "code",
   "execution_count": null,
   "metadata": {},
   "outputs": [],
   "source": [
    "# функция вывода признаков по наименованию стадии обработки\n",
    "# внутри каждой стадии признаки выводятся по типу:\n",
    "# - параметры сырья\n",
    "# - параметры этапа\n",
    "# - параметры продукта\n",
    "# - расчетные характеристики\n",
    "\n",
    "def print_data_by_stages(df_data):\n",
    "    df_T = df_data.head(5).T.head(100).reset_index()\n",
    "    df_T.columns = ['param', 'data_1', 'data_2', 'data_3', 'data_4', 'data_5']\n",
    "    \n",
    "    for stage in stages:\n",
    "        print('{0}  Стадия: {1}  {0}'.format('*' * 20, stages[stage]))\n",
    "        \n",
    "        df_stage = df_T.query('param.str.contains(@stage)', engine='python')\n",
    "        \n",
    "        for param in parameters:\n",
    "            df_param = (\n",
    "                df_stage\n",
    "                .query('param.str.contains(@param)', engine='python')\n",
    "                .sort_values(by='param')\n",
    "                .reset_index()[df_T.columns]\n",
    "            )\n",
    "            \n",
    "            if df_param.shape[0] > 0:\n",
    "                print('{0}  Параметр: {1}  {0}'.format('-' * 20, parameters[param]))\n",
    "                display(df_param)\n",
    "\n",
    "                print('\\n')"
   ]
  },
  {
   "cell_type": "markdown",
   "metadata": {},
   "source": [
    "#### Признаки обучающей выборки"
   ]
  },
  {
   "cell_type": "code",
   "execution_count": null,
   "metadata": {
    "scrolled": false
   },
   "outputs": [],
   "source": [
    "print_data_by_stages(df_train)"
   ]
  },
  {
   "cell_type": "markdown",
   "metadata": {},
   "source": [
    "В обучающей выборке представлены признаки следующих стадий и типов:\n",
    "- Флотация:\n",
    "    - параметры сырья\n",
    "    - параметры этапа\n",
    "    - параметры продукта\n",
    "    - расчетные характеристики\n",
    "- Первичная очистка:\n",
    "    - параметры сырья\n",
    "    - параметры этапа\n",
    "    - параметры продукта\n",
    "- Вторичная очистка:\n",
    "    - параметры этапа\n",
    "    - параметры продукта\n",
    "- Финальные характеристики:\n",
    "    - параметры этапа\n",
    "    - параметры продукта"
   ]
  },
  {
   "cell_type": "markdown",
   "metadata": {},
   "source": [
    "#### Признаки тестовой выборки"
   ]
  },
  {
   "cell_type": "markdown",
   "metadata": {},
   "source": [
    "Для сравнения состава признаков в обучающей и тестовой выборках выведем аналогичным образом (с разбиением по стадиям и типам параметров) признаки тестовой выборки."
   ]
  },
  {
   "cell_type": "code",
   "execution_count": null,
   "metadata": {
    "scrolled": false
   },
   "outputs": [],
   "source": [
    "print_data_by_stages(df_test)"
   ]
  },
  {
   "cell_type": "markdown",
   "metadata": {},
   "source": [
    "В тестовой выборке представлены признаки следующих стадий и типов:\n",
    "- Флотация:\n",
    "    - параметры сырья\n",
    "    - параметры этапа\n",
    "- Первичная очистка:\n",
    "    - параметры сырья\n",
    "    - параметры этапа\n",
    "- Вторичная очистка:\n",
    "    - параметры этапа"
   ]
  },
  {
   "cell_type": "markdown",
   "metadata": {},
   "source": [
    "Проверим, что в обучающей выборке относительно тестовой только признаки, соответствующие выходам этапа и финальные харкетристики (output, calculation). "
   ]
  },
  {
   "cell_type": "code",
   "execution_count": null,
   "metadata": {},
   "outputs": [],
   "source": [
    "sorted(list(set(df_train.columns) - set(df_test.columns)))"
   ]
  },
  {
   "cell_type": "markdown",
   "metadata": {},
   "source": [
    "#### Расширенная схема технологического процесса"
   ]
  },
  {
   "cell_type": "markdown",
   "metadata": {},
   "source": [
    "На основе сведений о признаках в обучающей и тестовой выборках восстановим схему технологического процесса по стадиям (этапам) обработки:\n",
    "- слева - параметры сырья\n",
    "- по центру - параметры этапа\n",
    "- справа - параметры продукта (выходные параметры этапа)"
   ]
  },
  {
   "cell_type": "code",
   "execution_count": null,
   "metadata": {},
   "outputs": [],
   "source": [
    "%%file diagrams/diagram_param\n",
    "blockdiag {\n",
    "    // orientation = landscape / portrait\n",
    "    node_width = 220;  // default value is 128\n",
    "    node_height = 50;  // default value is 40\n",
    "    \n",
    "    // ++++++++++++++++  Стадия флотации ++++++++++++++++++++\n",
    "    r_feed [shape = flowchart.input, stacked, label = 'feed (Au, Ag, Pb, sol, rate, size)'];\n",
    "    r_floatbank10 [shape = flowchart.input, stacked, label = 'floatbank10 (sulfate, xanthate)'];\n",
    "    r_floatbank11 [shape = flowchart.input, stacked, label = 'floatbank11 (sulfate, xanthate)'];\n",
    "\n",
    "    \n",
    "    r_floatbank10_a [shape = roundedbox, stacked, label = 'floatbank10 A (air, level)']\n",
    "    r_floatbank10_dots [shape = dots];\n",
    "    r_floatbank10_f [shape = roundedbox, stacked, label = 'floatbank10 F (air, level)']\n",
    "    \n",
    "    r_ag [shape = flowchart.terminator, stacked, label = 'Ag (concentrate, tail)'];\n",
    "    r_au [shape = flowchart.terminator, stacked, label = 'Au (concentrate, tail)'];\n",
    "    r_pb [shape = flowchart.terminator, stacked, label = 'Pb (concentrate, tail)'];\n",
    "    r_sol [shape = flowchart.terminator, stacked, label = 'Sol (concentrate, tail)'];\n",
    "    r_recovery [shape = flowchart.terminator, label = 'Recovery'];\n",
    "    r_calc [shape = flowchart.terminator, stacked, label = 'Calc (Au/Pb, Sulfate/Au)'];\n",
    "    \n",
    "    \n",
    "    group {\n",
    "        color = \"#dcb3dc\";\n",
    "        r_feed, r_floatbank10, r_floatbank11;\n",
    "    }\n",
    "    \n",
    "    group {\n",
    "        color = \"#dcb3dc\";\n",
    "        r_floatbank10_a, r_floatbank10_dots, r_floatbank10_f;\n",
    "    }\n",
    "    \n",
    "    group {\n",
    "        color = \"#c5e1a5\";\n",
    "        r_ag, r_au, r_pb, r_sol, r_recovery, r_calc;\n",
    "    }\n",
    "    \n",
    "    r_feed, r_floatbank10, r_floatbank11 -> r_floatbank10_a;   \n",
    "    r_floatbank10_a, r_floatbank10_f -> r_ag;\n",
    "\n",
    "    \n",
    "    // ++++++++++++++++  Стадия первичной очистки ++++++++++++++++++++\n",
    "    \n",
    "    pc_depressant [shape = flowchart.input, label = 'Depressant'];\n",
    "    pc_feed_size [shape = flowchart.input, label = 'Feed size'];\n",
    "    pc_sulfate [shape = flowchart.input, label = 'Sulfate'];\n",
    "    pc_xanthate [shape = flowchart.input, label = 'Xanthate'];\n",
    "\n",
    "    pc_floatbank8_a [shape = roundedbox, stacked, label = 'floatbank8 A (air, level)']\n",
    "    pc_floatbank8_dots [shape = dots];\n",
    "    pc_floatbank8_d [shape = roundedbox, stacked, label = 'floatbank8 D (air, level)']\n",
    "\n",
    "    pc_ag [shape = flowchart.terminator, stacked, label = 'Ag (concentrate, tail)'];\n",
    "    pc_au [shape = flowchart.terminator, stacked, label = 'Au (concentrate, tail)'];\n",
    "    pc_pb [shape = flowchart.terminator, stacked, label = 'Pb (concentrate, tail)'];\n",
    "    pc_sol [shape = flowchart.terminator, stacked, label = 'Sol (concentrate, tail)'];\n",
    "    \n",
    "    group {\n",
    "        color = \"#dcb3dc\";\n",
    "        pc_depressant, pc_feed_size, pc_sulfate, pc_xanthate;\n",
    "    }\n",
    "    \n",
    "    group {\n",
    "        color = \"#dcb3dc\";\n",
    "        pc_floatbank8_a, pc_floatbank8_dots, pc_floatbank8_d;\n",
    "    }\n",
    "    \n",
    "    group {\n",
    "        color = \"#c5e1a5\";\n",
    "        pc_ag, pc_au, pc_pb, pc_sol;\n",
    "    }\n",
    "    \n",
    "    r_ag -> pc_depressant [folded, thick];\n",
    "    \n",
    "    pc_depressant, pc_feed_size, pc_sulfate, pc_xanthate -> pc_floatbank8_a;\n",
    "    pc_floatbank8_a, pc_floatbank8_d -> pc_ag;\n",
    "    \n",
    "    // ++++++++++++++++  Стадия вторичной очистки ++++++++++++++++++++\n",
    "    \n",
    "    sc_empty [shape = circle, color = \"#FFFFFF\", style = \"1,100\", label = '']\n",
    "    \n",
    "    sc_floatbank2_a [shape = roundedbox, stacked, label = 'floatbank2 A, B (air, level)']\n",
    "    sc_floatbank3_a [shape = roundedbox, stacked, label = 'floatbank3 A, B (air, level)']\n",
    "    sc_floatbank4_a [shape = roundedbox, stacked, label = 'floatbank4 A, B (air, level)']\n",
    "    sc_floatbank5_a [shape = roundedbox, stacked, label = 'floatbank5 A, B (air, level)']\n",
    "    sc_floatbank6_a [shape = roundedbox, stacked, label = 'floatbank6 A (air, level)']\n",
    "\n",
    "    sc_ag [shape = flowchart.terminator, label = 'Ag (tail)'];\n",
    "    sc_au [shape = flowchart.terminator, label = 'Au (tail)'];\n",
    "    sc_pb [shape = flowchart.terminator, label = 'Pb (tail)'];\n",
    "    sc_sol [shape = flowchart.terminator, label = 'Sol (tail)'];\n",
    "    \n",
    "    group {\n",
    "        color = \"#dcb3dc\";\n",
    "        sc_floatbank2_a, sc_floatbank3_a, sc_floatbank4_a, sc_floatbank5_a, sc_floatbank6_a;\n",
    "    }  \n",
    "    \n",
    "    group {\n",
    "        color = \"#c5e1a5\";\n",
    "        sc_ag, sc_au, sc_pb, sc_sol;\n",
    "    }\n",
    "    \n",
    "    pc_ag -> sc_empty [folded, thick];\n",
    "    \n",
    "    sc_empty -> sc_floatbank2_a [thick];\n",
    "    \n",
    "    sc_floatbank2_a, sc_floatbank3_a, sc_floatbank4_a, sc_floatbank5_a, sc_floatbank6_a -> sc_ag;\n",
    "\n",
    "    // ++++++++++++++++  Финальные характеристики ++++++++++++++++++++\n",
    "    \n",
    "    f_ag [shape = flowchart.terminator, stacked, label = 'Ag (concentrate, tail)'];\n",
    "    f_au [shape = flowchart.terminator, stacked, label = 'Au (concentrate, tail)'];\n",
    "    f_pb [shape = flowchart.terminator, stacked, label = 'Pb (concentrate, tail)'];\n",
    "    f_sol [shape = flowchart.terminator, stacked, label = 'Sol (concentrate, tail)'];\n",
    "    f_recovery [shape = flowchart.terminator, label = 'Recovery'];\n",
    "    \n",
    "    group {\n",
    "        color = \"#81d4fa\";\n",
    "        f_ag, f_au, f_pb, f_sol, f_recovery;\n",
    "    }\n",
    "    \n",
    "    sc_ag -> f_ag [folded, thick];\n",
    "}"
   ]
  },
  {
   "cell_type": "code",
   "execution_count": null,
   "metadata": {},
   "outputs": [],
   "source": [
    "!blockdiag -f DejaVuSerif.ttf diagrams/diagram_param"
   ]
  },
  {
   "cell_type": "code",
   "execution_count": null,
   "metadata": {
    "scrolled": false
   },
   "outputs": [],
   "source": [
    "Image(\"diagrams/diagram_param.png\")"
   ]
  },
  {
   "cell_type": "markdown",
   "metadata": {},
   "source": [
    "Градация цветов на схеме:\n",
    "- пурпурным цветом отображены параметры, присутствующие одновременно в обучающей и тестовой выборках\n",
    "- зеленым цветом - выходные параметры этапа\n",
    "- голубым цветом - финальные характеристики"
   ]
  },
  {
   "cell_type": "markdown",
   "metadata": {},
   "source": [
    "###### Выводы\n",
    "\n",
    "В целом технологический процесс можно описать следующим образом:\n",
    "- этап флотации: \n",
    "  - во флотационную установку подаётся смесь золотосодержащей руды (входные параметры - объем элементов Au (золото), Ag (серебро), Pb (свинец), Sol (в описании не приведено, возможно, Solids - твердые вещества (также возможен перевод - золь - коллоидный раствор)), скорость подачи и объем гранул сырья, а также объемы ксантогената (промотер, или активатор флотации) и сульфата (на данном производстве сульфид натрия) в составных элементах установки (цехах, чашах и т.д.) floatbank10 и floatbank11);\n",
    "  - к параметрам этапа также относятся объём воздуха и уровень жидкости в составных элементах установки floatbank10 (обозначены A, B, C, D, E, F)\n",
    "  - на выходе после обогащения получается черновой концентрат и «отвальные хвосты», то есть остатки продукта с низкой концентрацией ценных металлов (выходные параметры: для каждого из элементов (Au, Ag, Pb и Sol) доля в концентрате и объем «отвального хвоста», расчетное значение эффективности обогащения, а также дополнительные расчетные параметры: au_pb_ratio, floatbank10_sulfate_to_au_feed, loatbank11_sulfate_to_au_feed, sulfate_to_au_concentrate)\n",
    "  \n",
    "- этап первичной обработки:\n",
    "  - к концентрату после флотации подаются дополнительно флотационные реагенты (ксантогенат, сульфат и депрессант (силикат натрия), входные параметры - соответственно объемы реагентов, размер гранул\n",
    "  - к параметрам этапа также относятся объём воздуха и уровень жидкости в составных элементах установки floatbank8 (обозначены A, B, C, D)\n",
    "  - на выходе после первичной очистки получается очищенный концентрат и «отвальные хвосты» (выходные параметры: для каждого из элементов (Au, Ag, Pb и Sol) доля в концентрате и объем «отвального хвоста»)\n",
    "  \n",
    "- этап вторичной обработки:\n",
    "  - дополнительное сырье к концентрату после первичной очистки не добавляется\n",
    "  - к параметрам этапа относятся объём воздуха и уровень жидкости в составных элементах установок floatbank2, floatbank3, floatbank4, floatbank5, floatbank6 (обозначены A, B)\n",
    "  - на выходе после вторичной очистки получается очищенный концентрат и «отвальные хвосты» (выходные параметры: для каждого из элементов (Au, Ag, Pb и Sol) объем «отвального хвоста»)  \n",
    "  \n",
    "- финальный этап:\n",
    "  - очищенный концентрат второго этапа является финальной продукцией, вместе с тем на выходе появляются дополнительный объем «отвальных хвостов» (возможно связано с наличием дополнительного этапа очистки без химического воздействия - сложно сказать однозначно, исходных данных недостаточно; можно отметить только то, что это дополнительные \"хвосты\", их объем не равен сумме объемов хвостов трех предыдущих этапов)\n",
    "  - выполняет расчет значения эффективности обогащения финального концентрата\n",
    "  \n",
    "Соответственно, в тестовой выборке присутствуют только параметры сырья и этапов, в обучающей - весь набор признаков. \n",
    "\n",
    "Для каждого из этапов технологического процесса можно выделить входные (обучающие для соответствующей модели) и выходные (целевые) признаки. Вместе с тем однозначно сделать вывод о независимости этапов на основе имеющихся данных не представляется возможном.\n",
    "\n",
    "В соответствии с задачей исследования необходимо спрогнозировать две величины:\n",
    "\n",
    "- эффективность обогащения чернового концентрата `rougher.output.recovery`\n",
    "- эффективность обогащения финального концентрата `final.output.recovery`\n",
    "\n",
    "Для построения моделей необходимо в первую очередь оценить корректность имеющихся значений эффективности обогащения (что позволит сделать вывод о возможных связях между параметрами этапов)."
   ]
  },
  {
   "cell_type": "markdown",
   "metadata": {},
   "source": [
    "### Предварительная обработка данных"
   ]
  },
  {
   "cell_type": "markdown",
   "metadata": {},
   "source": [
    "#### Удаление пропусков в целевых признаках"
   ]
  },
  {
   "cell_type": "markdown",
   "metadata": {},
   "source": [
    "Удалим пропуски в обучающей выборке в целевых признаках:\n",
    "- `rougher.output.recovery`\n",
    "- `final.output.recovery`"
   ]
  },
  {
   "cell_type": "code",
   "execution_count": null,
   "metadata": {},
   "outputs": [],
   "source": [
    "df_train = df_train.loc[df_train['rougher.output.recovery'].notnull()]"
   ]
  },
  {
   "cell_type": "code",
   "execution_count": null,
   "metadata": {},
   "outputs": [],
   "source": [
    "df_train = df_train.loc[df_train['final.output.recovery'].notnull()]"
   ]
  },
  {
   "cell_type": "markdown",
   "metadata": {},
   "source": [
    "#### Проверка расчета эффективности обогащения"
   ]
  },
  {
   "cell_type": "markdown",
   "metadata": {},
   "source": [
    "Выполним расчет эффективности обогращения этапа флотации и финального этапа на обучающей выборке."
   ]
  },
  {
   "cell_type": "code",
   "execution_count": null,
   "metadata": {},
   "outputs": [],
   "source": [
    "def row_calculate_recovery(row, stage):\n",
    "    C = row[stage + '.output.concentrate_au']\n",
    "    F = row['rougher.input.feed_au']\n",
    "    T = row[stage + '.output.tail_au']\n",
    "\n",
    "    if not (pd.isna(C) and pd.isna(F) and pd.isna(T)):\n",
    "        return calculate_recovery(C, F, T)"
   ]
  },
  {
   "cell_type": "code",
   "execution_count": null,
   "metadata": {},
   "outputs": [],
   "source": [
    "df_train['rougher.output.recovery_calc'] = df_train.apply(\n",
    "        lambda row: row_calculate_recovery(row, 'rougher'),\n",
    "        axis=1\n",
    "    )"
   ]
  },
  {
   "cell_type": "code",
   "execution_count": null,
   "metadata": {},
   "outputs": [],
   "source": [
    "df_train['final.output.recovery_calc'] = df_train.apply(\n",
    "        lambda row: row_calculate_recovery(row, 'final'),\n",
    "        axis=1\n",
    "    )"
   ]
  },
  {
   "cell_type": "markdown",
   "metadata": {},
   "source": [
    "Определим значение метрики MAE между расчётами и исходными значениями признака."
   ]
  },
  {
   "cell_type": "code",
   "execution_count": null,
   "metadata": {},
   "outputs": [],
   "source": [
    "df_train_rec = df_train.loc[df_train['rougher.output.recovery'].notnull()]\n",
    "                            \n",
    "mean_absolute_error(\n",
    "    df_train_rec['rougher.output.recovery'], \n",
    "    df_train_rec['rougher.output.recovery_calc']\n",
    ")"
   ]
  },
  {
   "cell_type": "code",
   "execution_count": null,
   "metadata": {},
   "outputs": [],
   "source": [
    "df_train_rec = df_train.loc[df_train['final.output.recovery'].notnull()]\n",
    "                            \n",
    "mean_absolute_error(\n",
    "    df_train_rec['final.output.recovery'], \n",
    "    df_train_rec['final.output.recovery_calc']\n",
    ")"
   ]
  },
  {
   "cell_type": "markdown",
   "metadata": {},
   "source": [
    "Расчет эффективности обогращения на обучающей выборке выполнен правильно - значение метрики MAE между исходным и повторно вычисленным значением практически равно 0."
   ]
  },
  {
   "cell_type": "markdown",
   "metadata": {},
   "source": [
    "###### Выводы\n",
    "Полученные результаты позволяют сделать следующие выводы:\n",
    "\n",
    "1. Для расчета эффективности обогащения чернового концентрата `rougher.output.recovery` необходимы и достаточны следующие признаки:\n",
    "  - `rougher.output.concentrate_au`\n",
    "  - `rougher.input.feed_au`\n",
    "  - `rougher.output.tail_au`\n",
    "\n",
    "\n",
    "2. Для расчета эффективности обогащения финального концентрата `final.output.recovery` необходимы и достаточны следующие признаки:\n",
    "  - `final.output.concentrate_au`\n",
    "  - `rougher.input.feed_au`\n",
    "  - `final.output.tail_au`\n",
    "\n",
    "\n",
    "3. С учетом имеющегося описания технологического процесса можно считать:\n",
    "  - этап флотации является независимым, модель оценки эффективности обогащения чернового концентрата `rougher.output.recovery` можно построить только на параметрах этапа флотации\n",
    "  - финальный этап вероятно зависит от всех предыдущих, модель оценки эффективности обогащения финального концентрата `final.output.recovery` следует строить на всех входных параметрах (параметров сырья и этапов) предыдущих этапов - это следует как минимум из того, что параметр `rougher.input.feed_au` применяется при расчете оценки эффективности обогащения финального концентрата (дополнительных сведений, позволяющих сделать вывод о зависимости/независимости  финального этапа от исходных параметров (этапа флотации) не представлено) "
   ]
  },
  {
   "cell_type": "markdown",
   "metadata": {},
   "source": [
    "#### Заполнение пропусков"
   ]
  },
  {
   "cell_type": "markdown",
   "metadata": {},
   "source": [
    "Учитывая то, что в исходной обучающей выборке имеется достаточно много пропусков значений (~2%), следует выполнить заполнение пропусков.\n",
    "\n",
    "Заполнение пропусков будем делать с помощью модуля `impute` библиотеки `sklearn`. Применение объектов указанного модуля позволит в последующем строить процесс заполнения пропусков в единую цепочку (pipeline) преобразования, обучения и валидации модели.\n",
    "\n",
    "Из описания исходных данных следует, что соседние по времени параметры часто похожи. Соответственно вставку пропусков целесообразно делать методом замены на среднее значение по соседям с помощью объекта `IterativeImputer` (целесообразно  использовать `KNNImputer`, но он доступен только с версии 0.22, у нас - 0.21.2). "
   ]
  },
  {
   "cell_type": "code",
   "execution_count": null,
   "metadata": {},
   "outputs": [],
   "source": [
    "imputer_nn_mean = IterativeImputer(\n",
    "        max_iter=5, random_state=random_magic, \n",
    "        initial_strategy='mean', n_nearest_features=20)\n",
    "\n",
    "imputer_nn_mean"
   ]
  },
  {
   "cell_type": "code",
   "execution_count": null,
   "metadata": {},
   "outputs": [],
   "source": [
    "imputed_df = imputer_nn_mean.fit_transform(df_train)\n",
    "\n",
    "df_train = pd.DataFrame(imputed_df, columns=df_train.columns, index=df_train.index)\n",
    "\n",
    "print_total_null(df_train)"
   ]
  },
  {
   "cell_type": "markdown",
   "metadata": {},
   "source": [
    "#### Проверка корреляций"
   ]
  },
  {
   "cell_type": "markdown",
   "metadata": {},
   "source": [
    "Построим тепловую карту коэффициентов корреляции обучающих признаков."
   ]
  },
  {
   "cell_type": "code",
   "execution_count": null,
   "metadata": {},
   "outputs": [],
   "source": [
    "# функция печати диагональной тепловой карты со значениями коэффициентов корреляции\n",
    "# df_corr - dataframe с коэффициентами корреляции\n",
    "def print_corr_heatmap(df_corr, figsize=(20, 20)):\n",
    "    df_corr = np.abs(df_corr).replace(1,0)\n",
    "\n",
    "    mask = np.zeros_like(df_corr, dtype=bool)\n",
    "    mask[np.triu_indices_from(mask)] = True\n",
    "\n",
    "    plt.figure(figsize=figsize)\n",
    "\n",
    "    sns.heatmap(df_corr, mask=mask, annot=True, fmt=\".1f\", linewidths=.1, cmap= 'coolwarm')\n",
    "    plt.title('Матрица модулей коэффициентов корреляции', fontsize=15)\n",
    "    plt.ylabel('Признак', fontsize=15)\n",
    "    plt.xlabel('Признак', fontsize=15)"
   ]
  },
  {
   "cell_type": "code",
   "execution_count": null,
   "metadata": {},
   "outputs": [],
   "source": [
    "print_corr_heatmap(df_train[df_test.columns].corr())"
   ]
  },
  {
   "cell_type": "markdown",
   "metadata": {},
   "source": [
    "Следует отметить, что в таблице присутствуют сильно коррелирующие признаки - в основном это признаки, относящиеся к параметрам этапа, например:\n",
    "- primary_cleaner.state.floatbank8_b_air и primary_cleaner.state.floatbank8_a_air\n",
    "- rougher.state.floatbank10_c_air и rougher.state.floatbank10_b_air\n",
    "\n",
    "Вероятнее всего это говорит о имеющейся зависимости между элементами одного и того же этапа обработки (например, объеме подаваемого воздуха). При наличии принаков с высокой корреляцией применение линейных моделей нецелесообразно без существенного преобразования обучающих признаков (удаления, усреднения и т.д. с целью исключения сильных взаимных корреляций)."
   ]
  },
  {
   "cell_type": "markdown",
   "metadata": {},
   "source": [
    "### Выводы"
   ]
  },
  {
   "cell_type": "markdown",
   "metadata": {},
   "source": [
    "Исходные данные представлены в трех файлах:\n",
    "- обучающая выборка\n",
    "- тестовая выборка\n",
    "- исходные данные (полный объем)\n",
    "\n",
    "В обучающей и тестовой выборках достаточно большое количество признаков - 86 и 52 соответственно. Все признаки вещественные.\n",
    "\n",
    "Имеются пропуски в данных (в большинстве признаков), в обучающей выборке - доля пропусков 2.1% относительно всего объема, в тестовой - 0.8%.\n",
    "\n",
    "Соотношение тестовой к обучающей выборке - примерно 1/3.\n",
    "\n",
    "По результатам оценки состава признаков обучающей и тестовой выборки восстановлена расширенная схема технологического процесса, а также определены целевые и возможные наборы обучающих признаков.\n",
    "\n",
    "В соответствии с задачей исследования необходимо спрогнозировать две величины:\n",
    "\n",
    "- эффективность обогащения чернового концентрата `rougher.output.recovery`\n",
    "- эффективность обогащения финального концентрата `final.output.recovery`\n",
    "\n",
    "На этапе подготовки и предварительной обработки данных выполнен расчет указанных величин с целью проверки. С учетом имеющегося описания технологического процесса, а также по результатам выполненной проверки можно считать:\n",
    "  - этап флотации является независимым, модель оценки эффективности обогащения чернового концентрата `rougher.output.recovery` можно построить только на параметрах этапа флотации\n",
    "  - финальный этап вероятно зависит от всех предыдущих, модель оценки эффективности обогащения финального концентрата `final.output.recovery` следует строить на всех входных параметрах (параметров сырья и этапов) предыдущих этапов - это следует как минимум из того, что параметр `rougher.input.feed_au` применяется при расчете оценки эффективности обогащения финального концентрата (дополнительных сведений, позволяющих сделать вывод о зависимости/независимости  финального этапа от исходных параметров (этапа флотации) не представлено) \n",
    "  \n",
    "Кроме того на этапе подготовки и предварительной обработки данных выполнена процедура заполнения пропусков в данных на основе средних значений ближайших данных, а также выполнена оценка корреляции обучающих признаков. Оценки корреляции следует учитывать при подготовке моделей линейной регрессии.    "
   ]
  },
  {
   "cell_type": "markdown",
   "metadata": {},
   "source": [
    "## Анализ данных"
   ]
  },
  {
   "cell_type": "markdown",
   "metadata": {},
   "source": [
    "### Анализ динамики концентрации металлов"
   ]
  },
  {
   "cell_type": "markdown",
   "metadata": {},
   "source": [
    "Проведем оценку изменения концентрации металлов (Au, Ag, Pb) на различных этапах очистки.\n",
    "\n",
    "Определим перечень этапов, выходными или входными параметров которых являются концентрации веществ."
   ]
  },
  {
   "cell_type": "code",
   "execution_count": null,
   "metadata": {},
   "outputs": [],
   "source": [
    "stages_concentrate = {\n",
    "    'rougher.input.feed' : \"Флотация (сырье)\", \n",
    "    'rougher.output.concentrate' : \"Флотация \", \n",
    "    'primary_cleaner.output.concentrate' : \"Первичная очистка\", \n",
    "    'final.output.concentrate' : \"Финальные характеристики\"\n",
    "}"
   ]
  },
  {
   "cell_type": "code",
   "execution_count": null,
   "metadata": {},
   "outputs": [],
   "source": [
    "metals = {\n",
    "    'au' : 'Золото',\n",
    "    'ag' : 'Cеребро', \n",
    "    'pb' : 'Свинец' \n",
    "}"
   ]
  },
  {
   "cell_type": "code",
   "execution_count": null,
   "metadata": {},
   "outputs": [],
   "source": [
    "stage_colors = {\n",
    "    'Флотация (сырье)' :  '#7CCD7C',\n",
    "    'Флотация' :  '#7DC5C1',\n",
    "    'Первичная очистка' : '#84B6EA',\n",
    "    'Финальные характеристики' : '#AF149A'\n",
    "}"
   ]
  },
  {
   "cell_type": "code",
   "execution_count": null,
   "metadata": {},
   "outputs": [],
   "source": [
    "def get_metal_concentrate(df):\n",
    "    metal_concentrate = {}\n",
    "\n",
    "    for metal in metals:\n",
    "        metal_concentrate[metal] = df_train[[stage + '_' + metal for stage in stages_concentrate]]   \n",
    "        \n",
    "    return metal_concentrate"
   ]
  },
  {
   "cell_type": "code",
   "execution_count": null,
   "metadata": {},
   "outputs": [],
   "source": [
    "def show_metal_hist(df_stacked, title, x_title):\n",
    "    df_stacked.columns = ['date', 'stage', 'concentrate']\n",
    "\n",
    "    fig = px.histogram(\n",
    "            df_stacked, \n",
    "            x = 'concentrate', \n",
    "            marginal = 'box', \n",
    "            color = \"stage\",\n",
    "            color_discrete_map=stage_colors,\n",
    "            opacity = 0.7,\n",
    "            title = title\n",
    "    )\n",
    "\n",
    "    fig.update_layout(barmode='overlay')\n",
    "    fig.update_layout(xaxis_title=x_title, yaxis_title='Частота')\n",
    "    fig.show()     "
   ]
  },
  {
   "cell_type": "code",
   "execution_count": null,
   "metadata": {},
   "outputs": [],
   "source": [
    "def show_metal_concentrate(metal_concentrate):\n",
    "    for metal in metals:\n",
    "        df_metal = metal_concentrate[metal]\n",
    "\n",
    "        df_metal.columns = stages_concentrate.values()\n",
    "        \n",
    "        show_metal_hist(\n",
    "            df_metal.stack().reset_index(), \n",
    "            'Распределение по этапам концентрации металла: {0}'.format(metals[metal]),\n",
    "            metals[metal]\n",
    "        )   "
   ]
  },
  {
   "cell_type": "code",
   "execution_count": null,
   "metadata": {
    "scrolled": false
   },
   "outputs": [],
   "source": [
    "metal_concentrate = get_metal_concentrate(df_train)\n",
    "\n",
    "show_metal_concentrate(metal_concentrate)"
   ]
  },
  {
   "cell_type": "markdown",
   "metadata": {},
   "source": [
    "По динамике концентраций металлов по этапам обработки следует отметить следующее:\n",
    "- концентрация золота последовательно увеличивается от этапа к этапу (что ожидаемо, учитывая конечную цель технологического процесса - восстановления золота из золотосодержащей руды)\n",
    "- концентрация серебра от этапа к этапу уменьшается, что говорит о том, что значительную долю примесей в исходной руде составляет именно серебро (по факту - сопутствующий металл)\n",
    "- концентрация свинца является наименьшей на этапе флотации, на этапах первичной и финальной очистки концентрация практически одинакова (на финальном этапе распределение концентрации свинца становится более компактным)\n",
    "\n",
    "Вместе с тем, в исходных данных существуют значительные выбросы (аномалии в районе нулевой концентрации), которые следует исключить из процесса обучения, поскольку их доля в общем объеме данных существенна.\n",
    "\n",
    "Удалим указанные аномалии, а также часть выбросов (за пределами межквартильных размахов распределений)"
   ]
  },
  {
   "cell_type": "code",
   "execution_count": null,
   "metadata": {},
   "outputs": [],
   "source": [
    "df_train = df_train[\n",
    "    (df_train['rougher.output.concentrate_au'] > 10) \n",
    "    & (df_train['primary_cleaner.output.concentrate_au'] > 18)\n",
    "    & (df_train['final.output.concentrate_au'] > 30)\n",
    "    & (df_train['rougher.output.concentrate_ag'] > 0.01) \n",
    "    & (df_train['rougher.output.concentrate_ag'] < 20) \n",
    "    & (df_train['primary_cleaner.output.concentrate_ag'] > 0.01)\n",
    "    & (df_train['final.output.concentrate_ag'] > 0.01)\n",
    "    & (df_train['final.output.concentrate_ag'] < 13)\n",
    "    & (df_train['rougher.output.concentrate_pb'] > 2) \n",
    "    & (df_train['rougher.output.concentrate_pb'] < 14) \n",
    "    & (df_train['primary_cleaner.output.concentrate_pb'] > 0.01)\n",
    "    & (df_train['final.output.concentrate_pb'] > 3)\n",
    "    & (df_train['final.output.concentrate_pb'] < 15)\n",
    "]"
   ]
  },
  {
   "cell_type": "markdown",
   "metadata": {},
   "source": [
    "Еще раз оценим распределение концентрации металлов по этапам"
   ]
  },
  {
   "cell_type": "code",
   "execution_count": null,
   "metadata": {
    "scrolled": false
   },
   "outputs": [],
   "source": [
    "metal_concentrate = get_metal_concentrate(df_train)\n",
    "\n",
    "show_metal_concentrate(metal_concentrate)"
   ]
  },
  {
   "cell_type": "markdown",
   "metadata": {},
   "source": [
    "###### Выводы\n",
    "\n",
    "По результатам оценки концентрации металлов на различных этапах получены следующие выводы:\n",
    "- доля золота от этапа к этапу увеличивается\n",
    "- доля сопутствующих металлов уменьшается\n",
    "- распределение всех металлов близко к нормальному\n",
    "- имеющиеся аномалии в распределении удалены с целью последующего обучения моделей"
   ]
  },
  {
   "cell_type": "markdown",
   "metadata": {},
   "source": [
    "### Исследование суммарной концентрации всех веществ на разных стадиях"
   ]
  },
  {
   "cell_type": "markdown",
   "metadata": {},
   "source": [
    "Выполним расчет суммарных концентраций веществ на всех стадиях технологического процесса"
   ]
  },
  {
   "cell_type": "code",
   "execution_count": null,
   "metadata": {},
   "outputs": [],
   "source": [
    "for stage in stages_concentrate:\n",
    "    df_train[stage + '_sum'] = (\n",
    "        df_train[stage + '_au'] \n",
    "        + df_train[stage + '_ag'] \n",
    "        + df_train[stage + '_pb'] \n",
    "        + df_train[stage + '_sol'] \n",
    "    )"
   ]
  },
  {
   "cell_type": "code",
   "execution_count": null,
   "metadata": {},
   "outputs": [],
   "source": [
    "df_sum_concentrate = df_train[[stage + '_sum' for stage in stages_concentrate]]"
   ]
  },
  {
   "cell_type": "code",
   "execution_count": null,
   "metadata": {},
   "outputs": [],
   "source": [
    "df_sum_concentrate.columns = stages_concentrate.values()\n",
    "\n",
    "show_metal_hist(\n",
    "            df_sum_concentrate.stack().reset_index(), \n",
    "            'Распределение суммарной концентрации веществ (на выходе)',\n",
    "            'Суммарная концентрация'\n",
    "        )  "
   ]
  },
  {
   "cell_type": "markdown",
   "metadata": {},
   "source": [
    "По результатам оценки суммарной концентрации веществ на различных этапах можно отметить следующее:\n",
    "- от этапа к этапу распределение суммарной концентрации веществ становится более компактным \n",
    "- аномалии в распределениях не выявлены (имевшиеся аномалии вероятно удалены за счет устранения аномалий на предыдущем этапе)"
   ]
  },
  {
   "cell_type": "markdown",
   "metadata": {},
   "source": [
    "### Сравнение распределения размеров гранул сырья"
   ]
  },
  {
   "cell_type": "markdown",
   "metadata": {},
   "source": [
    "Сравним распределение размеров гранул сырья на обучающей и тестовой выборках. По условиям, если распределения сильно отличаются друг от друга, оценка модели будет неправильной.\n",
    "\n",
    "Размеры гранул сырья являются параметрами сырья на этапах флотации и первичной очистки. "
   ]
  },
  {
   "cell_type": "code",
   "execution_count": null,
   "metadata": {},
   "outputs": [],
   "source": [
    "df_feed_train = df_train[['rougher.input.feed_size', 'primary_cleaner.input.feed_size']].dropna()"
   ]
  },
  {
   "cell_type": "code",
   "execution_count": null,
   "metadata": {},
   "outputs": [],
   "source": [
    "df_feed_test = df_test[['rougher.input.feed_size', 'primary_cleaner.input.feed_size']].dropna()"
   ]
  },
  {
   "cell_type": "code",
   "execution_count": null,
   "metadata": {},
   "outputs": [],
   "source": [
    "def show_feed_rate(stage_name, stage_title):\n",
    "    fig = make_subplots(\n",
    "        rows=2, cols=1,\n",
    "        row_heights=[0.3, 0.7],\n",
    "        specs=[[{\"type\": \"box\"}],\n",
    "               [{\"type\": \"box\"}]],\n",
    "        shared_xaxes = True\n",
    "    )\n",
    "\n",
    "    fig.add_trace(\n",
    "        go.Box(\n",
    "            x=df_feed_train[stage_name + '.input.feed_size'],\n",
    "            line=dict(color='Orange'),\n",
    "            name='train'\n",
    "        ),\n",
    "        row=1, col=1\n",
    "    )\n",
    "\n",
    "    fig.add_trace(\n",
    "        go.Box(\n",
    "            x=df_feed_test[stage_name + '.input.feed_size'],\n",
    "            line=dict(color='Blue'),\n",
    "            name='test'\n",
    "        ),\n",
    "        row=1, col=1\n",
    "    )\n",
    "\n",
    "    fig2 = ff.create_distplot(\n",
    "            [df_feed_train[stage_name + '.input.feed_size'], df_feed_test[stage_name + '.input.feed_size']], \n",
    "            ['train', 'test'], \n",
    "            show_hist=False\n",
    "        )\n",
    "\n",
    "    fig.add_trace(go.Scatter(fig2['data'][0],\n",
    "                               marker_color='Orange'\n",
    "                              ), row=2, col=1)\n",
    "\n",
    "    fig.add_trace(go.Scatter(fig2['data'][1],\n",
    "                               marker_color='Blue'\n",
    "                              ), row=2, col=1)\n",
    "\n",
    "    fig.update_layout(\n",
    "        height=800, \n",
    "        title_text='Распределение размера гранул сырья на этапе {0}'.format(stage_title),\n",
    "        xaxis2_title='Размер гранул'\n",
    "    )\n",
    "\n",
    "    fig.show()    "
   ]
  },
  {
   "cell_type": "code",
   "execution_count": null,
   "metadata": {},
   "outputs": [],
   "source": [
    "show_feed_rate('rougher', 'флотации')"
   ]
  },
  {
   "cell_type": "markdown",
   "metadata": {},
   "source": [
    "Вид распределений размеров гранул сырья на этапе флотации на обучающей и тестовой выборках в целом похожи, при этом медианное значение на тестовой выборке меньше (50.0 в сравнении с 55.2).\n",
    "\n",
    "Проведем оценку распределения средних значений размеров гранул методом бутстрепа. Размер случайной выборки определим равным 5000  (сравним с размером обучающей выборки).\n",
    "\n",
    "Отобразим полученные распределения с 99% - доверительным интервалом."
   ]
  },
  {
   "cell_type": "code",
   "execution_count": null,
   "metadata": {},
   "outputs": [],
   "source": [
    "def get_vertical_line(position, color):\n",
    "    return dict(\n",
    "        type= 'line',\n",
    "        yref= 'paper', y0= 0, y1= 1,\n",
    "        xref= 'x', x0= position, x1= position,\n",
    "        line=dict(color=color, width=3, dash=\"dashdot\")\n",
    "    )"
   ]
  },
  {
   "cell_type": "code",
   "execution_count": null,
   "metadata": {},
   "outputs": [],
   "source": [
    "def make_bootstrap(feature_name):\n",
    "    state = np.random.RandomState(random_magic)\n",
    "\n",
    "    target_train = df_feed_train[feature_name]\n",
    "    target_test = df_feed_test[feature_name]\n",
    "\n",
    "    means_train = []\n",
    "    means_test = []\n",
    "\n",
    "    for i in range(10000):\n",
    "        means_train.append(target_train.sample(n=5000, replace=True, random_state=state).mean())    \n",
    "        means_test.append(target_test.sample(n=5000, replace=True, random_state=state).mean())  \n",
    "\n",
    "\n",
    "    means_train = pd.Series(means_train)\n",
    "    means_test = pd.Series(means_test)   \n",
    "    \n",
    "    train_low = means_train.quantile(0.005)\n",
    "    train_high = means_train.quantile(0.995)\n",
    "\n",
    "    test_low = means_test.quantile(0.005)\n",
    "    test_high = means_test.quantile(0.995)  \n",
    "    \n",
    "    fig = ff.create_distplot([means_train, means_test], ['train', 'test'], colors=['Orange', 'Blue'], show_hist=False)\n",
    "\n",
    "    fig.update_layout(title_text='Распределение среднего размера гранул')\n",
    "\n",
    "    fig.update_layout(shapes=[\n",
    "        get_vertical_line(train_low, \"Orange\"),\n",
    "        get_vertical_line(train_high, \"Orange\"),\n",
    "        get_vertical_line(test_low, \"Blue\"),\n",
    "        get_vertical_line(test_high, \"Blue\"),\n",
    "    ])\n",
    "    \n",
    "    fig.show() "
   ]
  },
  {
   "cell_type": "code",
   "execution_count": null,
   "metadata": {},
   "outputs": [],
   "source": [
    "make_bootstrap('rougher.input.feed_size')"
   ]
  },
  {
   "cell_type": "markdown",
   "metadata": {},
   "source": [
    "Вид и форма распределений одинаковы, численные харакетристики отличаются (среднее, дисперсия). Целесообразно к указанным признакам применить стандартизацию, поскольку по условиям признак является значимым, а область определения на тестовой выборке не пересекается с обучающей.\n",
    "\n",
    "Рассмотрим распределение размеров гранул сырья на этапе вторичной обработки."
   ]
  },
  {
   "cell_type": "code",
   "execution_count": null,
   "metadata": {},
   "outputs": [],
   "source": [
    "show_feed_rate('primary_cleaner', 'первичной очистки')"
   ]
  },
  {
   "cell_type": "code",
   "execution_count": null,
   "metadata": {},
   "outputs": [],
   "source": [
    "make_bootstrap('primary_cleaner.input.feed_size')"
   ]
  },
  {
   "cell_type": "markdown",
   "metadata": {},
   "source": [
    "Вид и форма распределений одинаковы, численные харакетристики отличаются (среднее, дисперсия). Аналогичным образом целесообразно к указанным признакам применить стандартизацию, поскольку по условиям признак является значимым, а область определения на тестовой выборке не пересекается с обучающей.\n",
    "\n",
    "Кроме того, целесообразно исключить из обучающей выборки зоны выбросов в распределении размеров гранул сырья на этапах флотации и первичной обработки."
   ]
  },
  {
   "cell_type": "code",
   "execution_count": null,
   "metadata": {},
   "outputs": [],
   "source": [
    "df_train = df_train[\n",
    "    (df_train['rougher.input.feed_size'] < 150) \n",
    "    & (df_train['primary_cleaner.input.feed_size'] > 5)\n",
    "    & (df_train['primary_cleaner.input.feed_size'] < 9) \n",
    "]"
   ]
  },
  {
   "cell_type": "markdown",
   "metadata": {},
   "source": [
    "### Выводы"
   ]
  },
  {
   "cell_type": "markdown",
   "metadata": {},
   "source": [
    "По результатам анализа данных следует отметить следующее:\n",
    "- по динамике концентраций металлов:\n",
    "    - концентрация золота ожидаемо последовательно увеличивается от этапа к этапу \n",
    "    - концентрация серебра от этапа к этапу уменьшается, что говорит о том, что значительную долю примесей в исходной руде составляет именно серебро (по факту - сопутствующий металл)\n",
    "    - концентрация свинца является наименьшей на этапе флотации, на этапах первичной и финальной очистки концентрация практически одинакова (на финальном этапе распределение концентрации свинца становится более компактным)\n",
    "    - имеющиеся аномалии в распределении удалены с целью последующего обучения моделей\n",
    "\n",
    "- по суммарной концентрации веществ:\n",
    "    - от этапа к этапу распределение суммарной концентрации веществ становится более компактным \n",
    "\n",
    "- по размерам гранул:\n",
    "    - вид и форма распределений одинаковы, численные харакетристики отличаются (среднее, дисперсия). Целесообразно к признакам размеров гранул сырья применить стандартизацию, поскольку по условиям признак является значимым, а область определения на тестовой выборке не пересекается с обучающей\n",
    "    - имеющиеся аномалии в распределении удалены с целью последующего обучения моделей"
   ]
  },
  {
   "cell_type": "markdown",
   "metadata": {},
   "source": [
    "## Модель"
   ]
  },
  {
   "cell_type": "markdown",
   "metadata": {},
   "source": [
    "### Подготовка тестового датасета"
   ]
  },
  {
   "cell_type": "markdown",
   "metadata": {},
   "source": [
    "С учетом полученных ранее результатов обучение моделей для оценки параметров эффективности обогащения чернового и финального концентрата (`rougher.output.recovery` и `final.output.recovery` соответственно) будем проводить независимо.\n",
    "\n",
    "В качестве эталоных значений целевых признаков возьмем значения из исходного (полного) набора данных по соответствующим индексам."
   ]
  },
  {
   "cell_type": "code",
   "execution_count": null,
   "metadata": {},
   "outputs": [],
   "source": [
    "df_test = pd.concat(\n",
    "    [df_test, df_full.loc[df_test.index][['rougher.output.recovery', 'final.output.recovery']]]\n",
    "    , axis=1\n",
    ")"
   ]
  },
  {
   "cell_type": "markdown",
   "metadata": {},
   "source": [
    "Оставим только записи с заполненным значением целевых признаков."
   ]
  },
  {
   "cell_type": "code",
   "execution_count": null,
   "metadata": {},
   "outputs": [],
   "source": [
    "df_test = df_test[df_test['rougher.output.recovery'].notnull() & df_test['final.output.recovery'].notnull()]"
   ]
  },
  {
   "cell_type": "code",
   "execution_count": null,
   "metadata": {},
   "outputs": [],
   "source": [
    "# мера, используемая при кросс-валидации - sMAPE\n",
    "scoring = make_scorer(smape, greater_is_better=False)"
   ]
  },
  {
   "cell_type": "code",
   "execution_count": null,
   "metadata": {},
   "outputs": [],
   "source": [
    "# функция печати сводной информации о параметрах модели\n",
    "def print_scores(grid_search, params):\n",
    "    print ('Наилучшее значение метрики SMAPE: %0.3f' % np.abs(grid_search.best_score_))\n",
    "    print ('Наилучшие параметры:')\n",
    "    best_parameters = grid_search.best_estimator_.get_params()\n",
    "    \n",
    "    for param_name in sorted(params.keys()):\n",
    "        print ('\\t%s: %r' % (param_name, best_parameters[param_name]))"
   ]
  },
  {
   "cell_type": "code",
   "execution_count": null,
   "metadata": {},
   "outputs": [],
   "source": [
    "def print_scores_on_test(grid_search, params, X_test, Y_test):\n",
    "    print ('Параметры модели:')\n",
    "    best_parameters = grid_search.best_estimator_.get_params()\n",
    "    \n",
    "    for param_name in sorted(params.keys()):\n",
    "        print ('\\t%s: %r' % (param_name, best_parameters[param_name]))\n",
    "    \n",
    "    print('Значение метрики sMAPE на тестовых данных:', np.abs(grid_search.score(X_test, Y_test)))"
   ]
  },
  {
   "cell_type": "code",
   "execution_count": null,
   "metadata": {},
   "outputs": [],
   "source": [
    "transform_steps = [\n",
    "    ('imp', imputer_nn_mean),\n",
    "    ('imp2', SimpleImputer(missing_values=np.nan, strategy='mean', copy=False)),\n",
    "    ('std', StandardScaler(copy=False, with_mean=True, with_std=True)),\n",
    "]"
   ]
  },
  {
   "cell_type": "markdown",
   "metadata": {},
   "source": [
    "### Модель этапа флотации"
   ]
  },
  {
   "cell_type": "markdown",
   "metadata": {},
   "source": [
    "Определим обучающие и целевые признаки.\n",
    "\n",
    "Для модели этапа флотации обучающими являются только признаки этапа флотации (с префиксом `rougher` - параметры сырья и параметры этапа), целевым - `rougher.output.recovery`"
   ]
  },
  {
   "cell_type": "code",
   "execution_count": null,
   "metadata": {},
   "outputs": [],
   "source": [
    "target_rougher = ['rougher.output.recovery']\n",
    "\n",
    "features_rougher = [col for col in df_test.columns if 'rougher' in col and 'output' not in col]\n",
    "#features_rougher = ['rougher.input.feed_ag', 'rougher.input.feed_au', 'rougher.input.feed_pb', 'rougher.input.feed_rate', \n",
    "#            'rougher.input.feed_size','rougher.input.feed_sol','rougher.input.floatbank10_sulfate',\n",
    "#            'rougher.input.floatbank10_xanthate','rougher.input.floatbank11_sulfate','rougher.input.floatbank11_xanthate',\n",
    "#            'rougher.state.floatbank10_a_air','rougher.state.floatbank10_a_level','rougher.state.floatbank10_b_air',\n",
    "#            'rougher.state.floatbank10_b_level','rougher.state.floatbank10_c_air','rougher.state.floatbank10_c_level',\n",
    "#            'rougher.state.floatbank10_d_air','rougher.state.floatbank10_d_level','rougher.state.floatbank10_e_air',\n",
    "#            'rougher.state.floatbank10_e_level','rougher.state.floatbank10_f_air','rougher.state.floatbank10_f_level',       \n",
    "#            ]\n",
    "\n",
    "features_rougher_lr = ['rougher.input.feed_au', 'rougher.input.feed_size','rougher.input.feed_sol',\n",
    "                       'rougher.input.floatbank10_sulfate', 'rougher.input.floatbank10_xanthate',\n",
    "                       'rougher.state.floatbank10_a_air','rougher.state.floatbank10_a_level',\n",
    "                       'rougher.state.floatbank10_b_air', 'rougher.state.floatbank10_b_level',\n",
    "            ]"
   ]
  },
  {
   "cell_type": "markdown",
   "metadata": {},
   "source": [
    "#### Линейная регрессия"
   ]
  },
  {
   "cell_type": "code",
   "execution_count": null,
   "metadata": {},
   "outputs": [],
   "source": [
    "X_train = df_train[features_rougher_lr]\n",
    "Y_train = df_train[target_rougher]\n",
    "\n",
    "X_test = df_test[features_rougher_lr]\n",
    "Y_test = df_test[target_rougher]"
   ]
  },
  {
   "cell_type": "markdown",
   "metadata": {},
   "source": [
    "Проверим, что мультиколлинеарных признаков нет."
   ]
  },
  {
   "cell_type": "code",
   "execution_count": null,
   "metadata": {},
   "outputs": [],
   "source": [
    "print_corr_heatmap(X_train.corr(), (6,6))"
   ]
  },
  {
   "cell_type": "code",
   "execution_count": null,
   "metadata": {},
   "outputs": [],
   "source": [
    "# рассматриваемая модель - линейная регрессия (по условиям)\n",
    "model = LinearRegression()\n",
    "\n",
    "params = {\n",
    "    'model__fit_intercept': [True, False],\n",
    "    'model__normalize': [True, False]\n",
    "}"
   ]
  },
  {
   "cell_type": "code",
   "execution_count": null,
   "metadata": {},
   "outputs": [],
   "source": [
    "grid_search = GridSearchCV(\n",
    "        Pipeline(transform_steps + [('model', model)]), \n",
    "        param_grid=params, \n",
    "        cv=8, \n",
    "        scoring=scoring,\n",
    "    ) "
   ]
  },
  {
   "cell_type": "code",
   "execution_count": null,
   "metadata": {},
   "outputs": [],
   "source": [
    "grid_search.fit(X_train, Y_train.values.ravel())\n",
    "\n",
    "print_scores(grid_search, params)"
   ]
  },
  {
   "cell_type": "code",
   "execution_count": null,
   "metadata": {},
   "outputs": [],
   "source": [
    "print_scores_on_test(grid_search, params, X_test, Y_test.values.ravel())"
   ]
  },
  {
   "cell_type": "markdown",
   "metadata": {},
   "source": [
    "**Наилучшим значением метрики sMAPE линейной регрессии на тестовых данных является значение 8.20 (на этапе обучения - 5.73)**"
   ]
  },
  {
   "cell_type": "code",
   "execution_count": null,
   "metadata": {},
   "outputs": [],
   "source": [
    "sMAPE_lr = 8.20"
   ]
  },
  {
   "cell_type": "markdown",
   "metadata": {},
   "source": [
    "#### Случайный лес"
   ]
  },
  {
   "cell_type": "code",
   "execution_count": null,
   "metadata": {},
   "outputs": [],
   "source": [
    "X_train = df_train[features_rougher]\n",
    "Y_train = df_train[target_rougher]\n",
    "\n",
    "X_test = df_test[features_rougher]\n",
    "Y_test = df_test[target_rougher]"
   ]
  },
  {
   "cell_type": "code",
   "execution_count": null,
   "metadata": {},
   "outputs": [],
   "source": [
    "model_rfr = RandomForestRegressor(random_state=random_magic)\n",
    "\n",
    "params = {\n",
    "    'model__n_estimators': [20, 30],\n",
    "    'model__max_depth': [5, 7, 10],\n",
    "    'model__min_samples_split': [2, 3]\n",
    "}"
   ]
  },
  {
   "cell_type": "code",
   "execution_count": null,
   "metadata": {},
   "outputs": [],
   "source": [
    "grid_search = GridSearchCV(\n",
    "        Pipeline(transform_steps + [('model', model_rfr)]), \n",
    "        param_grid=params, \n",
    "        cv=8, \n",
    "        scoring=scoring,\n",
    "    ) "
   ]
  },
  {
   "cell_type": "code",
   "execution_count": null,
   "metadata": {
    "scrolled": false
   },
   "outputs": [],
   "source": [
    "# считается долго\n",
    "# grid_search.fit(X_train, Y_train.values.ravel())\n",
    "\n",
    "# print_scores(grid_search, params)"
   ]
  },
  {
   "cell_type": "code",
   "execution_count": null,
   "metadata": {},
   "outputs": [],
   "source": [
    "# print_scores_on_test(grid_search, params, X_test, Y_test.values.ravel())"
   ]
  },
  {
   "cell_type": "code",
   "execution_count": null,
   "metadata": {},
   "outputs": [],
   "source": [
    "#Наилучшее значение метрики SMAPE: 6.551\n",
    "#Наилучшие параметры:\n",
    "#\tmodel__max_depth: 5\n",
    "#\tmodel__min_samples_split: 2\n",
    "#\tmodel__n_estimators: 30\n",
    "#Значение метрики sMAPE на тестовых данных: 8.068771519153131"
   ]
  },
  {
   "cell_type": "markdown",
   "metadata": {},
   "source": [
    "**Наилучшим значением метрики sMAPE модели случайного леса на тестовых данных является значение 8.07 (на этапе обучения - 6.55)**"
   ]
  },
  {
   "cell_type": "markdown",
   "metadata": {},
   "source": [
    "#### Решающее дерево"
   ]
  },
  {
   "cell_type": "code",
   "execution_count": null,
   "metadata": {},
   "outputs": [],
   "source": [
    "model_dtr = DecisionTreeRegressor(random_state=random_magic)\n",
    "\n",
    "params = {\n",
    "    'model__max_depth': [5, 7, 10, 15],\n",
    "    'model__min_samples_split': [2, 3]\n",
    "}"
   ]
  },
  {
   "cell_type": "code",
   "execution_count": null,
   "metadata": {},
   "outputs": [],
   "source": [
    "grid_search = GridSearchCV(\n",
    "        Pipeline(transform_steps + [('model', model_dtr)]), \n",
    "        param_grid=params, \n",
    "        cv=8, \n",
    "        scoring=scoring,\n",
    "        #verbose = 1\n",
    "    )"
   ]
  },
  {
   "cell_type": "code",
   "execution_count": null,
   "metadata": {},
   "outputs": [],
   "source": [
    "grid_search.fit(X_train, Y_train.values.ravel())\n",
    "\n",
    "print_scores(grid_search, params)"
   ]
  },
  {
   "cell_type": "code",
   "execution_count": null,
   "metadata": {
    "scrolled": true
   },
   "outputs": [],
   "source": [
    "print_scores_on_test(grid_search, params, X_test, Y_test.values.ravel())"
   ]
  },
  {
   "cell_type": "markdown",
   "metadata": {},
   "source": [
    "**Наилучшим значением метрики sMAPE модели решающего дерева на тестовых данных является значение 8.33 (на этапе обучения - 6.80)**"
   ]
  },
  {
   "cell_type": "markdown",
   "metadata": {},
   "source": [
    "#### CatBoost"
   ]
  },
  {
   "cell_type": "markdown",
   "metadata": {},
   "source": [
    "Воспользуемся библиотекой CatBoost, реализующую схему градиентного бустинга. \n",
    "\n",
    "Поскольку метрика sMAPE не поддерживается на уровне ядра библиотеки, реализуем ее в виде пользовательской метрики (по аналогии с реализацией метрики RMSE в описании CatBoost)"
   ]
  },
  {
   "cell_type": "markdown",
   "metadata": {},
   "source": [
    "Формула для расчета RMSE [(catboost.ai)](https://catboost.ai/docs/concepts/loss-functions-regression.html):\n",
    "\n",
    "$$RMSE = \\sqrt{ \\cfrac{ \\sum \\limits _{i=1}^{N} (y_{i} - \\hat y_{i})^2 * w_{i}} { \\sum \\limits _{i=1}^{N}  w_{i} }   }  $$\n",
    "\n",
    "\n",
    "где:\n",
    "- $y_{i}$ - значение целевого признака для объекта с порядковым номером i в выборке, на которой измеряется качество\n",
    "- $\\hat y_{i}$ - значение предсказания для объекта с порядковым номером i, например, в тестовой выборке\n",
    "- $w_{i}$ - весовая харакетристика с порядковым номером i в выборке\n",
    "- $N$ - количество объектов в выборке\n",
    "- $\\sum \\limits _{i=1}^{N}$ - cуммирование по всем объектам выборки (i от 1 до N)"
   ]
  },
  {
   "cell_type": "markdown",
   "metadata": {},
   "source": [
    "Пример реализации [(catboost.ai)](https://catboost.ai/docs/concepts/python-usages-examples.html#custom-loss-function-eval-metric):"
   ]
  },
  {
   "cell_type": "code",
   "execution_count": null,
   "metadata": {},
   "outputs": [],
   "source": [
    "class RmseMetric(object):\n",
    "    def get_final_error(self, error, weight):\n",
    "        return np.sqrt(error / (weight + 1e-38))\n",
    "\n",
    "    def is_max_optimal(self):\n",
    "        return False\n",
    "\n",
    "    def evaluate(self, approxes, target, weight):\n",
    "        assert len(approxes) == 1\n",
    "        assert len(target) == len(approxes[0])\n",
    "\n",
    "        approx = approxes[0]\n",
    "\n",
    "        error_sum = 0.0\n",
    "        weight_sum = 0.0\n",
    "\n",
    "        for i in range(len(approx)):\n",
    "            w = 1.0 if weight is None else weight[i]\n",
    "            weight_sum += w\n",
    "            error_sum += w * ((approx[i] - target[i])**2)\n",
    "\n",
    "        return error_sum, weight_sum"
   ]
  },
  {
   "cell_type": "markdown",
   "metadata": {},
   "source": [
    "Формула для расчета sMAPE [(catboost.ai)](https://catboost.ai/docs/concepts/loss-functions-regression.html):\n",
    "\n",
    "$$sMAPE = \\cfrac{ 100 * \\sum \\limits _{i=1}^{N} \\cfrac{|y_{i} - \\hat y_{i}| * w_{i}}{(|y_{i}| + |\\hat y_{i}|) / 2} } { \\sum \\limits _{i=1}^{N}  w_{i} }    $$\n",
    "\n",
    "\n",
    "где:\n",
    "- $y_{i}$ - значение целевого признака для объекта с порядковым номером i в выборке, на которой измеряется качество\n",
    "- $\\hat y_{i}$ - значение предсказания для объекта с порядковым номером i, например, в тестовой выборке\n",
    "- $w_{i}$ - весовая харакетристика с порядковым номером i в выборке\n",
    "- $N$ - количество объектов в выборке\n",
    "- $\\sum \\limits _{i=1}^{N}$ - cуммирование по всем объектам выборки (i от 1 до N)"
   ]
  },
  {
   "cell_type": "code",
   "execution_count": null,
   "metadata": {},
   "outputs": [],
   "source": [
    "class SMAPEMetric(object):\n",
    "    def get_final_error(self, error, weight):\n",
    "        return 100 * error / (weight + 1e-38)\n",
    "\n",
    "    def is_max_optimal(self):\n",
    "        return False\n",
    "\n",
    "    def evaluate(self, approxes, target, weight):\n",
    "        assert len(approxes) == 1\n",
    "        assert len(target) == len(approxes[0])\n",
    "\n",
    "        approx = approxes[0]\n",
    "\n",
    "        error_sum = 0.0\n",
    "        weight_sum = 0.0\n",
    "\n",
    "        for i in range(len(approx)):\n",
    "            w = 1.0 if weight is None else weight[i]\n",
    "            weight_sum += w\n",
    "            error_sum += w * ( 2 * np.abs(approx[i] - target[i]) / (np.abs(approx[i]) + np.abs(target[i])) )\n",
    "\n",
    "        return error_sum, weight_sum"
   ]
  },
  {
   "cell_type": "markdown",
   "metadata": {},
   "source": [
    "Определим параметры модели CatBoostRegressor"
   ]
  },
  {
   "cell_type": "code",
   "execution_count": null,
   "metadata": {},
   "outputs": [],
   "source": [
    "model = CatBoostRegressor(\n",
    "    verbose=100,\n",
    "    eval_metric=SMAPEMetric(),\n",
    "    task_type=\"CPU\",\n",
    "    iterations=800,  \n",
    ")"
   ]
  },
  {
   "cell_type": "code",
   "execution_count": null,
   "metadata": {},
   "outputs": [],
   "source": [
    "model.fit(\n",
    "    df_train[features_rougher], df_train[target_rougher],\n",
    "    plot=True\n",
    ")"
   ]
  },
  {
   "cell_type": "code",
   "execution_count": null,
   "metadata": {},
   "outputs": [],
   "source": [
    "print('Значение метрики sMAPE на кросс-валидации:', \n",
    "      cross_val_score(\n",
    "          model, \n",
    "          df_train[features_rougher], \n",
    "          df_train[target_rougher].values.ravel(), \n",
    "          cv=8, \n",
    "          scoring=scoring).mean()\n",
    "     )"
   ]
  },
  {
   "cell_type": "code",
   "execution_count": null,
   "metadata": {},
   "outputs": [],
   "source": [
    "Y_predicted = model.predict(X_test)\n",
    "\n",
    "print('Значение метрики sMAPE на тестовых данных:', smape(Y_test.values.ravel(), Y_predicted))"
   ]
  },
  {
   "cell_type": "markdown",
   "metadata": {},
   "source": [
    "**Наилучшим значением метрики sMAPE градиентного бустинга на тестовых данных является значение 7.55 (на этапе обучения - 5.81)**"
   ]
  },
  {
   "cell_type": "markdown",
   "metadata": {},
   "source": [
    "#### Проверка на адекватность"
   ]
  },
  {
   "cell_type": "markdown",
   "metadata": {},
   "source": [
    "Для проверки моделей на адекватность в качестве базовой (dummy-модели) возьмем модель, заполняющая целевой признак медианой целевого признака обучающей выборки."
   ]
  },
  {
   "cell_type": "code",
   "execution_count": null,
   "metadata": {},
   "outputs": [],
   "source": [
    "dummy_classifier = DummyClassifier(strategy=\"constant\", constant = Y_train.median())\n",
    "dummy_classifier.fit(X_train, Y_train)\n",
    "\n",
    "print(\n",
    "    'Значение dummy метрики sMAPE на тестовых данных:', \n",
    "    smape(Y_test.values.ravel(), dummy_classifier.predict(X_test)) \n",
    ")"
   ]
  },
  {
   "cell_type": "markdown",
   "metadata": {},
   "source": [
    "Полученное значение хуже значений метрики sMAPE рассмотренных выше моделей."
   ]
  },
  {
   "cell_type": "markdown",
   "metadata": {},
   "source": [
    "#### Выводы\n",
    "\n",
    "Наилучшее значение метрики sMAPE (7.56) на тестовых данных получено с помощью градиентного бустинга.\n",
    "\n",
    "Модели линейной регрессии, решающего дерева и случайного леса показали практически одинаковое значение метрики sMAPE ~8.1.\n",
    "\n",
    "Полученные значения лучше значения метрики dummy-модели (8.51)"
   ]
  },
  {
   "cell_type": "code",
   "execution_count": null,
   "metadata": {},
   "outputs": [],
   "source": [
    "sMAPE_rougher = 7.74"
   ]
  },
  {
   "cell_type": "markdown",
   "metadata": {},
   "source": [
    "### Модель финальных характеристик"
   ]
  },
  {
   "cell_type": "markdown",
   "metadata": {},
   "source": [
    "Определим обучающие и целевые признаки.\n",
    "\n",
    "Для модели предсказания финальных характеристик процесса золотообработки обучающими являются все признаки параметров сырья и параметров этапа, целевым - `final.output.recovery`"
   ]
  },
  {
   "cell_type": "code",
   "execution_count": null,
   "metadata": {},
   "outputs": [],
   "source": [
    "target_final = ['final.output.recovery']\n",
    "\n",
    "features_final = [col for col in df_test.columns if 'output' not in col]\n",
    "#features_final = ['rougher.input.feed_ag', 'rougher.input.feed_au', 'rougher.input.feed_pb', 'rougher.input.feed_rate', \n",
    "#            'rougher.input.feed_size','rougher.input.feed_sol','rougher.input.floatbank10_sulfate',\n",
    "#            'rougher.input.floatbank10_xanthate','rougher.input.floatbank11_sulfate','rougher.input.floatbank11_xanthate',\n",
    "#            'rougher.state.floatbank10_a_air','rougher.state.floatbank10_a_level','rougher.state.floatbank10_b_air',\n",
    "#            'rougher.state.floatbank10_b_level','rougher.state.floatbank10_c_air','rougher.state.floatbank10_c_level',\n",
    "#            'rougher.state.floatbank10_d_air','rougher.state.floatbank10_d_level','rougher.state.floatbank10_e_air',\n",
    "#            'rougher.state.floatbank10_e_level','rougher.state.floatbank10_f_air','rougher.state.floatbank10_f_level',  \n",
    "#            'primary_cleaner.input.depressant','primary_cleaner.input.feed_size','primary_cleaner.input.sulfate',\n",
    "#            'primary_cleaner.input.xanthate', 'primary_cleaner.state.floatbank8_a_air',\n",
    "#            'primary_cleaner.state.floatbank8_a_level', 'primary_cleaner.state.floatbank8_b_air',\n",
    "#            'primary_cleaner.state.floatbank8_b_level','primary_cleaner.state.floatbank8_c_air',\n",
    "#            'primary_cleaner.state.floatbank8_c_level','primary_cleaner.state.floatbank8_d_air',\n",
    "#            'primary_cleaner.state.floatbank8_d_level', 'secondary_cleaner.state.floatbank2_a_air',\n",
    "#            'secondary_cleaner.state.floatbank2_a_level','secondary_cleaner.state.floatbank2_b_air',\n",
    "#            'secondary_cleaner.state.floatbank2_b_level','secondary_cleaner.state.floatbank3_a_air',\n",
    "#            'secondary_cleaner.state.floatbank3_a_level','secondary_cleaner.state.floatbank3_b_air',\n",
    "#            'secondary_cleaner.state.floatbank3_b_level','secondary_cleaner.state.floatbank4_a_air',\n",
    "#            'secondary_cleaner.state.floatbank4_a_level','secondary_cleaner.state.floatbank4_b_air',\n",
    "#            'secondary_cleaner.state.floatbank4_b_level','secondary_cleaner.state.floatbank5_a_air',\n",
    "#            'secondary_cleaner.state.floatbank5_a_level','secondary_cleaner.state.floatbank5_b_air',\n",
    "#            'secondary_cleaner.state.floatbank5_b_level','secondary_cleaner.state.floatbank6_a_air',\n",
    "#            'secondary_cleaner.state.floatbank6_a_level',\n",
    "#            ]\n",
    "\n",
    "features_final_lr = ['rougher.input.feed_au', 'rougher.input.feed_size','rougher.input.feed_sol',\n",
    "                       'rougher.input.floatbank10_sulfate', 'rougher.input.floatbank10_xanthate',\n",
    "                       'rougher.state.floatbank10_a_air','rougher.state.floatbank10_a_level',\n",
    "                       'rougher.state.floatbank10_b_air', 'rougher.state.floatbank10_b_level',\n",
    "                       'primary_cleaner.input.depressant','primary_cleaner.input.feed_size',\n",
    "                       'primary_cleaner.input.sulfate', 'primary_cleaner.input.xanthate',\n",
    "                       'primary_cleaner.state.floatbank8_a_air', 'primary_cleaner.state.floatbank8_a_level', \n",
    "                       'primary_cleaner.state.floatbank8_d_air', 'primary_cleaner.state.floatbank8_d_level',\n",
    "                       'secondary_cleaner.state.floatbank2_a_air', 'secondary_cleaner.state.floatbank2_a_level',\n",
    "                       'secondary_cleaner.state.floatbank3_a_air', 'secondary_cleaner.state.floatbank3_a_level',\n",
    "                       'secondary_cleaner.state.floatbank3_b_air', 'secondary_cleaner.state.floatbank3_b_level',\n",
    "                       'secondary_cleaner.state.floatbank4_a_air', 'secondary_cleaner.state.floatbank4_a_level',\n",
    "                       'secondary_cleaner.state.floatbank4_b_air', 'secondary_cleaner.state.floatbank4_b_level',\n",
    "                       'secondary_cleaner.state.floatbank5_a_air', 'secondary_cleaner.state.floatbank5_a_level',\n",
    "                       'secondary_cleaner.state.floatbank5_b_air', 'secondary_cleaner.state.floatbank5_b_level',\n",
    "                       'secondary_cleaner.state.floatbank6_a_air', 'secondary_cleaner.state.floatbank6_a_level',\n",
    "            ]"
   ]
  },
  {
   "cell_type": "markdown",
   "metadata": {},
   "source": [
    "#### Линейная регрессия"
   ]
  },
  {
   "cell_type": "code",
   "execution_count": null,
   "metadata": {},
   "outputs": [],
   "source": [
    "X_train = df_train[features_final_lr]\n",
    "Y_train = df_train[target_final]\n",
    "\n",
    "X_test = df_test[features_final_lr]\n",
    "Y_test = df_test[target_final]"
   ]
  },
  {
   "cell_type": "markdown",
   "metadata": {},
   "source": [
    "Проверим, что мультиколлинеарных признаков нет."
   ]
  },
  {
   "cell_type": "code",
   "execution_count": null,
   "metadata": {},
   "outputs": [],
   "source": [
    "print_corr_heatmap(X_train.corr(), (12,12))"
   ]
  },
  {
   "cell_type": "code",
   "execution_count": null,
   "metadata": {},
   "outputs": [],
   "source": [
    "# рассматриваемая модель - линейная регрессия (по условиям)\n",
    "model = LinearRegression()\n",
    "\n",
    "params = {\n",
    "    'model__fit_intercept': [True, False],\n",
    "    'model__normalize': [True, False]\n",
    "}"
   ]
  },
  {
   "cell_type": "code",
   "execution_count": null,
   "metadata": {},
   "outputs": [],
   "source": [
    "grid_search = GridSearchCV(\n",
    "        Pipeline(transform_steps + [('model', model)]), \n",
    "        param_grid=params, \n",
    "        cv=8, \n",
    "        scoring=scoring,\n",
    "    ) "
   ]
  },
  {
   "cell_type": "code",
   "execution_count": null,
   "metadata": {},
   "outputs": [],
   "source": [
    "grid_search.fit(X_train, Y_train.values.ravel())\n",
    "\n",
    "print_scores(grid_search, params)"
   ]
  },
  {
   "cell_type": "code",
   "execution_count": null,
   "metadata": {},
   "outputs": [],
   "source": [
    "print_scores_on_test(grid_search, params, X_test, Y_test.values.ravel())"
   ]
  },
  {
   "cell_type": "markdown",
   "metadata": {},
   "source": [
    "**Наилучшим значением метрики sMAPE линейной регрессии на тестовых данных является значение 9.57 (на этапе обучения - 9.42)**"
   ]
  },
  {
   "cell_type": "code",
   "execution_count": null,
   "metadata": {},
   "outputs": [],
   "source": [
    "sMAPE_lr_final = 9.57"
   ]
  },
  {
   "cell_type": "markdown",
   "metadata": {},
   "source": [
    "#### Случайный лес"
   ]
  },
  {
   "cell_type": "code",
   "execution_count": null,
   "metadata": {},
   "outputs": [],
   "source": [
    "X_train = df_train[features_final]\n",
    "Y_train = df_train[target_final]\n",
    "\n",
    "X_test = df_test[features_final]\n",
    "Y_test = df_test[target_final]"
   ]
  },
  {
   "cell_type": "code",
   "execution_count": null,
   "metadata": {},
   "outputs": [],
   "source": [
    "model_rfr = RandomForestRegressor(random_state=random_magic)\n",
    "\n",
    "params = {\n",
    "    'model__n_estimators': [20, 30, 40],\n",
    "    'model__max_depth': [5, 10, 20],\n",
    "    'model__min_samples_split': [2, 3]\n",
    "}"
   ]
  },
  {
   "cell_type": "code",
   "execution_count": null,
   "metadata": {},
   "outputs": [],
   "source": [
    "grid_search = GridSearchCV(\n",
    "        Pipeline(transform_steps + [('model', model_rfr)]), \n",
    "        param_grid=params, \n",
    "        cv=8, \n",
    "        scoring=scoring,\n",
    "    ) "
   ]
  },
  {
   "cell_type": "code",
   "execution_count": null,
   "metadata": {
    "scrolled": false
   },
   "outputs": [],
   "source": [
    "# считается долго\n",
    "# grid_search.fit(X_train, Y_train.values.ravel())\n",
    "\n",
    "# print_scores(grid_search, params)"
   ]
  },
  {
   "cell_type": "code",
   "execution_count": null,
   "metadata": {},
   "outputs": [],
   "source": [
    "# print_scores_on_test(grid_search, params, X_test, Y_test.values.ravel())"
   ]
  },
  {
   "cell_type": "code",
   "execution_count": null,
   "metadata": {},
   "outputs": [],
   "source": [
    "#Наилучшее значение метрики SMAPE: 8.573\n",
    "#Наилучшие параметры:\n",
    "#\tmodel__max_depth: 5\n",
    "#\tmodel__min_samples_split: 2\n",
    "#\tmodel__n_estimators: 40\n",
    "#Значение метрики sMAPE на тестовых данных: 10.434770374503485"
   ]
  },
  {
   "cell_type": "markdown",
   "metadata": {},
   "source": [
    "**Наилучшим значением метрики sMAPE модели случайного леса на тестовых данных является значение 10.43 (на этапе обучения - 8.57)**"
   ]
  },
  {
   "cell_type": "markdown",
   "metadata": {},
   "source": [
    "#### Решающее дерево"
   ]
  },
  {
   "cell_type": "code",
   "execution_count": null,
   "metadata": {},
   "outputs": [],
   "source": [
    "model_dtr = DecisionTreeRegressor(random_state=random_magic)\n",
    "\n",
    "params = {\n",
    "    'model__max_depth': [5, 10, 15, 20, 25],\n",
    "    'model__min_samples_split': [2, 3]\n",
    "}"
   ]
  },
  {
   "cell_type": "code",
   "execution_count": null,
   "metadata": {},
   "outputs": [],
   "source": [
    "grid_search = GridSearchCV(\n",
    "        Pipeline(transform_steps + [('model', model_dtr)]), \n",
    "        param_grid=params, \n",
    "        cv=8, \n",
    "        scoring=scoring,\n",
    "        #verbose = 1\n",
    "    )"
   ]
  },
  {
   "cell_type": "code",
   "execution_count": null,
   "metadata": {},
   "outputs": [],
   "source": [
    "grid_search.fit(X_train, Y_train.values.ravel())\n",
    "\n",
    "print_scores(grid_search, params)"
   ]
  },
  {
   "cell_type": "code",
   "execution_count": null,
   "metadata": {
    "scrolled": true
   },
   "outputs": [],
   "source": [
    "print_scores_on_test(grid_search, params, X_test, Y_test.values.ravel())"
   ]
  },
  {
   "cell_type": "markdown",
   "metadata": {},
   "source": [
    "**Наилучшим значением метрики sMAPE модели решающего дерева на тестовых данных является значение 10.20 (на этапе обучения - 9.20)**"
   ]
  },
  {
   "cell_type": "markdown",
   "metadata": {},
   "source": [
    "#### CatBoost"
   ]
  },
  {
   "cell_type": "markdown",
   "metadata": {},
   "source": [
    "Определим параметры модели CatBoostRegressor"
   ]
  },
  {
   "cell_type": "code",
   "execution_count": null,
   "metadata": {},
   "outputs": [],
   "source": [
    "model = CatBoostRegressor(\n",
    "    verbose=100,\n",
    "    eval_metric=SMAPEMetric(),\n",
    "    task_type=\"CPU\",\n",
    "    iterations=800,  \n",
    ")"
   ]
  },
  {
   "cell_type": "code",
   "execution_count": null,
   "metadata": {},
   "outputs": [],
   "source": [
    "model.fit(\n",
    "    df_train[features_final], df_train[target_final],\n",
    "    #eval_set=(df_model_valid[features_final], df_model_valid[target_final]),\n",
    "    plot=True\n",
    ")"
   ]
  },
  {
   "cell_type": "code",
   "execution_count": null,
   "metadata": {},
   "outputs": [],
   "source": [
    "print('Значение метрики sMAPE на кросс-валидации:', \n",
    "      cross_val_score(\n",
    "          model, \n",
    "          df_train[features_final], \n",
    "          df_train[target_final].values.ravel(), \n",
    "          cv=8, \n",
    "          scoring=scoring).mean()\n",
    "     )"
   ]
  },
  {
   "cell_type": "code",
   "execution_count": null,
   "metadata": {},
   "outputs": [],
   "source": [
    "Y_predicted = model.predict(X_test)\n",
    "\n",
    "print('Значение метрики sMAPE на тестовых данных:', smape(Y_test.values.ravel(), Y_predicted))"
   ]
  },
  {
   "cell_type": "markdown",
   "metadata": {},
   "source": [
    "**Наилучшим значением метрики sMAPE градиентного бустинга на тестовых данных является значение 9.28 (на этапе обучения - 8.81)**"
   ]
  },
  {
   "cell_type": "markdown",
   "metadata": {},
   "source": [
    "#### Проверка на адекватность"
   ]
  },
  {
   "cell_type": "markdown",
   "metadata": {},
   "source": [
    "Для проверки моделей на адекватность в качестве базовой (dummy-модели) возьмем модель, заполняющая целевой признак медианой целевого признака обучающей выборки."
   ]
  },
  {
   "cell_type": "code",
   "execution_count": null,
   "metadata": {},
   "outputs": [],
   "source": [
    "dummy_classifier = DummyClassifier(strategy=\"constant\", constant = Y_train.median())\n",
    "dummy_classifier.fit(X_train, Y_train)\n",
    "\n",
    "print(\n",
    "    'Значение dummy метрики sMAPE на тестовых данных:', \n",
    "    smape(Y_test.values.ravel(), dummy_classifier.predict(X_test)) \n",
    ")"
   ]
  },
  {
   "cell_type": "markdown",
   "metadata": {},
   "source": [
    "Полученное значение хуже значений метрики sMAPE моделей линейной регрессии и градиентного бустинга."
   ]
  },
  {
   "cell_type": "markdown",
   "metadata": {},
   "source": [
    "#### Выводы\n",
    "\n",
    "Наилучшие значения метрики sMAPE (9.28 и 9.57 соответственно) на тестовых данных получено с помощью градиентного бустинга и линейной регрессии.\n",
    "\n",
    "Модель решающего дерева оказалась сильно переобученной (расхождение метрики - более чем на 20% хуже на тестовых данных чем при обучении)"
   ]
  },
  {
   "cell_type": "code",
   "execution_count": null,
   "metadata": {},
   "outputs": [],
   "source": [
    "sMAPE_final = 9.46"
   ]
  },
  {
   "cell_type": "code",
   "execution_count": null,
   "metadata": {},
   "outputs": [],
   "source": [
    "print('Итоговое значение метрики sMAPE на тестовых данных:', smape_total(sMAPE_rougher, sMAPE_final))"
   ]
  },
  {
   "cell_type": "code",
   "execution_count": null,
   "metadata": {},
   "outputs": [],
   "source": [
    "print('Итоговое значение метрики sMAPE линейной регрессии на тестовых данных:', smape_total(sMAPE_lr, sMAPE_lr_final))"
   ]
  },
  {
   "cell_type": "code",
   "execution_count": null,
   "metadata": {
    "scrolled": true
   },
   "outputs": [],
   "source": [
    "print('Итоговое значение dummy метрики sMAPE на тестовых данных:', smape_total(8.51, 9.76))"
   ]
  },
  {
   "cell_type": "markdown",
   "metadata": {},
   "source": [
    "### Выводы"
   ]
  },
  {
   "cell_type": "markdown",
   "metadata": {},
   "source": [
    "На этапе обучения и проверки моделей выполнены следующие шаги:\n",
    "- подготовлен тестовый набор данных\n",
    "- подготовлены функции расчета метрики sMAPE\n",
    "- проведено независимое обучение моделей предсказания эффективности обогащения чернового и финального концентратов\n",
    "\n",
    "По результатам проверки моделей на тестовой выборке получены следующие результаты:\n",
    "- для модели предсказания эффективности обогащения чернового концентрата:\n",
    "    - наилучшее значение метрики sMAPE (7.69) получено с помощью градиентного бустинга\n",
    "    - модели линейной регрессии, решающего дерева и случайного леса показали практически одинаковое значение метрики sMAPE ~8.1\n",
    "\n",
    "- для модели предсказания эффективности обогащения чернового концентрата:\n",
    "    - наилучшие значения метрики sMAPE (9.28 и 9.57 соответственно) на тестовых данных получено с помощью градиентного бустинга и линейной регрессии\n",
    "    - модели решающего дерева и случайного леса оказались сильно переобученными и показали значения метрики хуже dummy-модели \n",
    "\n",
    "Итоговое значение метрики sMAPE на тестовых данных - 8.85 (для dummy-модели 9.45)\n",
    "\n",
    "В целом следует отметить, что применение модели линейной регрессии представляется также достаточно эффективным, поскольку:\n",
    "- значения целевой метрики на тестовой выборке близко к наилучшему \n",
    "- время обучения минимальное\n",
    "- возможна простая интерпретация значимости обучающих признаков "
   ]
  },
  {
   "cell_type": "markdown",
   "metadata": {},
   "source": [
    "## Выводы"
   ]
  },
  {
   "cell_type": "markdown",
   "metadata": {},
   "source": [
    "Исследование проводилось в интересах компании «Цифры», разрабатывающей решения для эффективной работы промышленных предприятий. В рамках исследования изучен технологический процесс восстановления золота из золотосодержащей руды и подготовлены прототипы моделей машинного обучения для оценки эффективности обогащения чернового и финального концентратов.\n",
    "\n",
    "Исходные данные исследования представлены в трех файлах:\n",
    "- обучающая выборка\n",
    "- тестовая выборка\n",
    "- исходные данные (полный объем)\n",
    "\n",
    "По результатам оценки состава признаков обучающей и тестовой выборки восстановлена расширенная схема технологического процесса, а также определены целевые и возможные наборы обучающих признаков.\n",
    "\n",
    "Задачей исследования являлось построение прогноза двух величин:\n",
    "\n",
    "- эффективность обогащения чернового концентрата `rougher.output.recovery`\n",
    "- эффективность обогащения финального концентрата `final.output.recovery`\n",
    "\n",
    "1. На этапе подготовки и предварительной обработки данных выполнен расчет указанных величин с целью проверки. С учетом имеющегося описания технологического процесса, а также по результатам выполненной проверки сделаны следующие выводы:\n",
    "  - этап флотации является независимым, модель оценки эффективности обогащения чернового концентрата `rougher.output.recovery` можно построить только на параметрах этапа флотации\n",
    "  - финальный этап вероятно зависит от всех предыдущих, модель оценки эффективности обогащения финального концентрата `final.output.recovery` следует строить на всех входных параметрах (параметров сырья и этапов) предыдущих этапов - это следует как минимум из того, что параметр `rougher.input.feed_au` применяется при расчете оценки эффективности обогащения финального концентрата  \n",
    "  \n",
    "Также на этапе подготовки и предварительной обработки данных выполнена процедура заполнения пропусков в данных на основе средних значений ближайших данных, а также выполнена оценка корреляции обучающих признаков (учитывалась при формировании обучающих признаков моделей линейной регрессии).   \n",
    "\n",
    "2. На этапе анализа данных получены следующие результаты:\n",
    "- по динамике концентраций металлов:\n",
    "    - концентрация золота ожидаемо последовательно увеличивается от этапа к этапу \n",
    "    - концентрация серебра от этапа к этапу уменьшается, что говорит о том, что значительную долю примесей в исходной руде составляет именно серебро (по факту - сопутствующий металл)\n",
    "    - концентрация свинца является наименьшей на этапе флотации, на этапах первичной и финальной очистки концентрация практически одинакова (на финальном этапе распределение концентрации свинца становится более компактным)\n",
    "\n",
    "- по суммарной концентрации веществ:\n",
    "    - от этапа к этапу распределение суммарной концентрации веществ становится более компактным \n",
    "\n",
    "- по размерам гранул:\n",
    "    - вид и форма распределений одинаковы, численные харакетристики отличаются (среднее, дисперсия). Целесообразно к признакам размеров гранул сырья применить стандартизацию, поскольку по условиям признак является значимым, а область определения на тестовой выборке не пересекается с обучающей\n",
    "\n",
    "Имевшиеся в данных аномалии в распределениях концентрации металлов и размеров гранул удалены с целью последующего обучения моделей.\n",
    "    \n",
    "3. На этапе обучения и проверки моделей проведено независимое обучение моделей предсказания эффективности обогащения чернового и финального концентратов\n",
    "\n",
    "По результатам проверки моделей на тестовой выборке получены следующие результаты:\n",
    "- для модели предсказания эффективности обогащения чернового концентрата:\n",
    "    - наилучшее значение метрики sMAPE (7.69) получено с помощью градиентного бустинга\n",
    "    - модели линейной регрессии, решающего дерева и случайного леса показали практически одинаковое значение метрики sMAPE ~8.1\n",
    "\n",
    "- для модели предсказания эффективности обогащения чернового концентрата:\n",
    "    - наилучшие значения метрики sMAPE (9.28 и 9.57 соответственно) на тестовых данных получено с помощью градиентного бустинга и линейной регрессии\n",
    "    - модели решающего дерева и случайного леса оказались сильно переобученными и показали значения метрики хуже dummy-модели \n",
    "\n",
    "Итоговое значение метрики sMAPE на тестовых данных - 8.85 (для dummy-модели 9.45)\n",
    "\n",
    "В целом следует отметить, что применение модели линейной регрессии представляется наиболее эффективным, поскольку:\n",
    "- значения целевой метрики на тестовой выборке является наилучшим \n",
    "- время обучения минимальное\n",
    "- возможна простая интерпретация значимости обучающих признаков \n",
    "\n",
    "Вместе с тем близость результатов к значениям метрики dummy-модели может свидетельствовать о недостаточности предоставленных сведений относительно особенностей технологического процесса."
   ]
  },
  {
   "cell_type": "code",
   "execution_count": null,
   "metadata": {},
   "outputs": [],
   "source": []
  }
 ],
 "metadata": {
  "kernelspec": {
   "display_name": "Python 3",
   "language": "python",
   "name": "python3"
  },
  "language_info": {
   "codemirror_mode": {
    "name": "ipython",
    "version": 3
   },
   "file_extension": ".py",
   "mimetype": "text/x-python",
   "name": "python",
   "nbconvert_exporter": "python",
   "pygments_lexer": "ipython3",
   "version": "3.8.8"
  },
  "toc": {
   "base_numbering": 1,
   "nav_menu": {},
   "number_sections": true,
   "sideBar": true,
   "skip_h1_title": true,
   "title_cell": "Содержание",
   "title_sidebar": "Contents",
   "toc_cell": true,
   "toc_position": {
    "height": "calc(100% - 180px)",
    "left": "10px",
    "top": "150px",
    "width": "366.391px"
   },
   "toc_section_display": true,
   "toc_window_display": true
  }
 },
 "nbformat": 4,
 "nbformat_minor": 2
}
